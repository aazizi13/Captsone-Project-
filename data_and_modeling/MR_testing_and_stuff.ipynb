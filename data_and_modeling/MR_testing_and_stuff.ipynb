{
 "cells": [
  {
   "cell_type": "markdown",
   "id": "ba788b1a-3a8f-451f-aa63-0a89b4f96f04",
   "metadata": {},
   "source": [
    "### Generate endpoint"
   ]
  },
  {
   "cell_type": "code",
   "execution_count": null,
   "id": "fa9d5c89-6019-44b8-8e55-f952635f82c0",
   "metadata": {},
   "outputs": [],
   "source": [
    "import boto3"
   ]
  },
  {
   "cell_type": "code",
   "execution_count": 1,
   "id": "d7478a16-eaa0-411b-be83-a6ecdfc72a4f",
   "metadata": {
    "tags": []
   },
   "outputs": [
    {
     "name": "stderr",
     "output_type": "stream",
     "text": [
      "/home/ec2-user/anaconda3/lib/python3.9/site-packages/scipy/__init__.py:146: UserWarning: A NumPy version >=1.16.5 and <1.23.0 is required for this version of SciPy (detected version 1.23.5\n",
      "  warnings.warn(f\"A NumPy version >={np_minversion} and <{np_maxversion}\"\n"
     ]
    }
   ],
   "source": [
    "# !pip install sagemaker\n",
    "import sagemaker"
   ]
  },
  {
   "cell_type": "code",
   "execution_count": 8,
   "id": "a575aba3-8006-44e5-8647-a92e60bd6c2f",
   "metadata": {},
   "outputs": [],
   "source": [
    "model = sagemaker.Model(\"s3://w210-bucket/models/rf_model.tar.gz\",\n",
    "                        role=None)"
   ]
  },
  {
   "cell_type": "code",
   "execution_count": 12,
   "id": "389b8ae7-6194-4aea-8fff-784be9a3907b",
   "metadata": {},
   "outputs": [
    {
     "ename": "TypeError",
     "evalue": "'NoneType' object is not callable",
     "output_type": "error",
     "traceback": [
      "\u001b[0;31m---------------------------------------------------------------------------\u001b[0m",
      "\u001b[0;31mTypeError\u001b[0m                                 Traceback (most recent call last)",
      "Cell \u001b[0;32mIn[12], line 1\u001b[0m\n\u001b[0;32m----> 1\u001b[0m \u001b[43mmodel\u001b[49m\u001b[38;5;241;43m.\u001b[39;49m\u001b[43mrole\u001b[49m\u001b[43m(\u001b[49m\u001b[43m)\u001b[49m\n",
      "\u001b[0;31mTypeError\u001b[0m: 'NoneType' object is not callable"
     ]
    }
   ],
   "source": [
    "model"
   ]
  },
  {
   "cell_type": "code",
   "execution_count": null,
   "id": "7619cccc-3d76-45c0-929d-e03fa7360dfc",
   "metadata": {},
   "outputs": [],
   "source": [
    "sm = sagemaker.Session()"
   ]
  },
  {
   "cell_type": "markdown",
   "id": "8e052f8c-cbde-4a3a-891c-0fe7dfdd1513",
   "metadata": {},
   "source": [
    "### Old work to build/fit model below"
   ]
  },
  {
   "cell_type": "code",
   "execution_count": null,
   "id": "4f077ef6-93a9-4395-8c22-ede732adf130",
   "metadata": {
    "tags": []
   },
   "outputs": [],
   "source": [
    "import boto3\n",
    "import sagemaker_pyspark\n",
    "from pyspark.sql import SparkSession\n",
    "from pyspark import SparkContext, SparkConf\n",
    "from sagemaker_pyspark import IAMRole, classpath_jars\n",
    "from sagemaker_pyspark.algorithms import LinearLearnerRegressor\n",
    "from pyspark.sql.functions import col, log10 \n",
    "#from pyspark.ml.regression import LinearRegression\n",
    "#from sagemaker_pyspark.algorithms import KMeansSageMakerEstimator"
   ]
  },
  {
   "cell_type": "code",
   "execution_count": null,
   "id": "7afa92ee-3156-44e8-8341-292c925ee697",
   "metadata": {},
   "outputs": [],
   "source": [
    "session = boto3.Session(profile_name='default')\n",
    "credentials = session.get_credentials()\n",
    "ACCESS_KEY = credentials.access_key\n",
    "SECRET_KEY = credentials.secret_key\n",
    "role = 'arn:aws:iam::752600073001:role/service-role/AmazonSageMaker-ExecutionRole-20230319T095240'\n",
    "region = \"us-east-1\""
   ]
  },
  {
   "cell_type": "code",
   "execution_count": null,
   "id": "29c2bb2e-add8-4634-995b-9364ad921f46",
   "metadata": {
    "tags": []
   },
   "outputs": [],
   "source": [
    "conf = (SparkConf()\n",
    "        .set(\"spark.driver.extraClassPath\", \":\".join(classpath_jars())))\n",
    "SparkContext(conf=conf)"
   ]
  },
  {
   "cell_type": "code",
   "execution_count": null,
   "id": "b3499671-dfa4-4589-8bda-781b2e50c13d",
   "metadata": {},
   "outputs": [],
   "source": [
    "classpath = \":\".join(sagemaker_pyspark.classpath_jars())\n",
    "spark = SparkSession.builder.config(\"spark.driver.extraClassPath\", classpath).getOrCreate()"
   ]
  },
  {
   "cell_type": "code",
   "execution_count": null,
   "id": "424d0c27-f7f0-4783-8523-37872a43baf1",
   "metadata": {
    "tags": []
   },
   "outputs": [],
   "source": [
    "processed_train_df = spark.read.parquet(\"s3a://w210-bucket/data_wrangling/processed_train_df.parquet\")\n",
    "processed_test_df = spark.read.parquet(\"s3a://w210-bucket/data_wrangling/processed_test_df.parquet\")\n",
    "processed_train_df = processed_train_df.withColumn(\"log_ridership_number\",log10(col('ridership_number'))).drop(\"ridership_number\")\n",
    "processed_test_df  = processed_test_df.withColumn(\"log_ridership_number\",log10(col('ridership_number'))).drop(\"ridership_number\")"
   ]
  },
  {
   "cell_type": "code",
   "execution_count": null,
   "id": "725f108f-3764-4a5b-8713-168b75b095aa",
   "metadata": {},
   "outputs": [],
   "source": [
    "processed_train_df.columns\n",
    "processed_train_df.dtypes"
   ]
  },
  {
   "cell_type": "code",
   "execution_count": null,
   "id": "2279fd1c-d131-49d3-9b6c-fe3f5468e40b",
   "metadata": {},
   "outputs": [],
   "source": [
    "new_df_train = processed_train_df.toDF('features','label')"
   ]
  },
  {
   "cell_type": "code",
   "execution_count": null,
   "id": "3a5f0c2d-20b2-4cf8-94b7-58654fc9b3f2",
   "metadata": {},
   "outputs": [],
   "source": [
    "new_df_train.columns\n",
    "new_df_train.dtypes"
   ]
  },
  {
   "cell_type": "code",
   "execution_count": null,
   "id": "493be812-23c8-48b3-b6bf-1e9297b47bd4",
   "metadata": {},
   "outputs": [],
   "source": [
    "llr_estimator = LinearLearnerRegressor(\n",
    "    trainingInstanceType=\"ml.g4dn.xlarge\",\n",
    "    trainingInstanceCount=1,\n",
    "    endpointInstanceType=\"ml.m4.xlarge\",\n",
    "    endpointInitialInstanceCount=1,\n",
    "    sagemakerRole=IAMRole(role),\n",
    "    trainingSparkDataFormatOptions={'featuresColumnName':'features','labelColumnName':'log_ridership_number'})"
   ]
  },
  {
   "cell_type": "code",
   "execution_count": null,
   "id": "8bf337ee-4c3e-447f-92aa-f25cb91167f3",
   "metadata": {},
   "outputs": [],
   "source": [
    "llr_estimator.getParam('feature_dim')"
   ]
  },
  {
   "cell_type": "code",
   "execution_count": null,
   "id": "3bc6b57e-bccf-44b3-b7ce-795b1aa69aab",
   "metadata": {},
   "outputs": [],
   "source": [
    "llr_model = llr_estimator.fit(processed_train_df)"
   ]
  },
  {
   "cell_type": "code",
   "execution_count": null,
   "id": "ed3297fe-52a0-4162-bf94-49dc6e420a1b",
   "metadata": {},
   "outputs": [],
   "source": [
    "lr = LinearRegression(featuresCol = 'features', labelCol='log_ridership_number')\n",
    "lr_model = lr.fit(processed_train_df)"
   ]
  },
  {
   "cell_type": "code",
   "execution_count": null,
   "id": "b07eda49-db7e-402a-82a2-f559dddfd977",
   "metadata": {},
   "outputs": [],
   "source": [
    "train_results = lr_model.evaluate(processed_train_df)\n",
    "print(f\"Intercept: {lr_model.intercept}\")\n",
    "print(f\"R2 : {train_results.r2}\")\n",
    "print(f\"RMSE : {train_results.rootMeanSquaredError}\")\n",
    "print(f\"MAE : {train_results.meanAbsoluteError}\")"
   ]
  }
 ],
 "metadata": {
  "kernelspec": {
   "display_name": "Python 3 (ipykernel)",
   "language": "python",
   "name": "python3"
  },
  "language_info": {
   "codemirror_mode": {
    "name": "ipython",
    "version": 3
   },
   "file_extension": ".py",
   "mimetype": "text/x-python",
   "name": "python",
   "nbconvert_exporter": "python",
   "pygments_lexer": "ipython3",
   "version": "3.9.13"
  }
 },
 "nbformat": 4,
 "nbformat_minor": 5
}
