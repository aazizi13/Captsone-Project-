{
 "cells": [
  {
   "cell_type": "markdown",
   "id": "b139ce3b-891f-41c4-b945-93b1ef99beb0",
   "metadata": {},
   "source": [
    "# Preparing Data For Mahine Learning Models"
   ]
  },
  {
   "cell_type": "markdown",
   "id": "d3860a42-ed86-4637-9a2e-f252aafa6d8b",
   "metadata": {
    "jp-MarkdownHeadingCollapsed": true,
    "tags": []
   },
   "source": [
    "## In this Notebook, we will process the train and the test data in different ways to prepare for modeling"
   ]
  },
  {
   "cell_type": "code",
   "execution_count": null,
   "id": "ec3a7968-2829-443a-8ce9-c2fab2b27534",
   "metadata": {},
   "outputs": [],
   "source": [
    "# Importing relevant libraries\n",
    "from bs4 import BeautifulSoup as soup\n",
    "import requests\n",
    "import re\n",
    "import boto3\n",
    "import sys\n",
    "import os\n",
    "import pandas as pd\n",
    "import csv\n",
    "import s3fs\n",
    "from math import pi\n",
    "\n",
    "from pyspark.sql import SparkSession\n",
    "from pyspark.sql.functions import broadcast, StructType\n",
    "from pyspark.sql.types import *\n",
    "from pyspark.sql.functions import col, split, slice, count, when, expr, isnan, isnull, min, max, avg, sin, log10, cos \n",
    "from pyspark.sql.functions import date_format, to_timestamp, concat, unix_timestamp, substring, lit\n",
    "from pyspark.sql.functions import col, month, quarter, dayofweek,dayofmonth, year, dayofyear\n",
    "from pyspark.sql import functions as f\n",
    "from pyspark.sql.types import StringType,BooleanType,DateType,IntegerType\n",
    "from pyspark.sql.functions import monotonically_increasing_id \n",
    "from pyspark.sql.window import Window\n",
    "\n",
    "\n",
    "#model\n",
    "from pyspark.ml.regression import RandomForestRegressor, LinearRegression\n",
    "from pyspark.ml.linalg import Vector\n",
    "from pyspark.ml.feature import VectorAssembler, StandardScaler, StringIndexer, OneHotEncoder\n",
    "from pyspark.ml.evaluation import RegressionEvaluator\n",
    "from pyspark.ml.stat import Correlation\n",
    "from pyspark_dist_explore import hist\n",
    "\n",
    "import configparser\n",
    "import findspark\n",
    "import lxml\n",
    "from datetime import timedelta\n",
    "from pandas.tseries.offsets import BDay\n",
    "import itertools\n",
    "import warnings\n",
    "import numpy as np\n",
    "import matplotlib\n",
    "import matplotlib.pyplot as plt\n",
    "import seaborn as sns\n",
    "import warnings\n",
    "warnings.filterwarnings('ignore')\n",
    "%matplotlib inline"
   ]
  },
  {
   "cell_type": "code",
   "execution_count": 3,
   "id": "04a179a3-5bd2-4807-96fe-f6c45d42c50c",
   "metadata": {},
   "outputs": [],
   "source": [
    "### Starting Pyspark Session\n",
    "\n",
    "\n",
    "spark = SparkSession.builder\\\n",
    "                    .config('spark.master','local[*]')\\\n",
    "                    .config('spark.add.name','S3app')\\\n",
    "                    .config('spark.jars.packages','org.apache.hadoop:hadoop-aws:3.3.4,org.apache.hadoop:hadoop-common:3.3.4')\\\n",
    "                    .config(\"spark.driver.memory\", \"16g\") \\\n",
    "                    .getOrCreate()\n"
   ]
  },
  {
   "cell_type": "code",
   "execution_count": 4,
   "id": "0738a03f-013f-4ffb-a4ae-5f1652683ec1",
   "metadata": {},
   "outputs": [],
   "source": [
    "### Configuring Pyspark to read data from S3 Bucket. \n",
    "\n",
    "findspark.init()\n",
    "config = configparser.ConfigParser()\n",
    "# AWS_ACCESS_KEY_ID = os.getenv(\"AWS_ACCESS_KEY_ID\")\n",
    "# AWS_SECRET_ACCESS_KEY = os.getenv(\"AWS_SECRET_ACCESS_KEY\")\n",
    "\n",
    "aws_profile = 'default'\n",
    "config.read(os.path.expanduser(\"~/.aws/credentials\"))\n",
    "access_id = config.get(aws_profile, \"aws_access_key_id\") \n",
    "access_key = config.get(aws_profile, \"aws_secret_access_key\")\n",
    "# spark.conf.set(\"spark.sql.autoBroadcastJoinThreshold\", -1)\n",
    "# spark.conf.set(\"spark.network.io.preferDirectBufs\", \"false\")\n",
    "\n",
    "# spark.conf.set(\"spark.sql.adaptive.enabled\", \"true\")\n",
    "# spark.conf.set(\"spark.sql.adaptive.skewJoin.enabled\", \"true\")\n",
    "\n",
    "sc=spark.sparkContext\n",
    "hadoop_conf=sc._jsc.hadoopConfiguration()\n",
    "hadoop_conf.set(\"fs.s3a.committer.name\",\"magic\")\n",
    "hadoop_conf.set(\"fs.s3a.impl\", \"org.apache.hadoop.fs.s3a.S3AFileSystem\")\n",
    "hadoop_conf.set(\"fs.s3a.awsAccessKeyId\", access_id)\n",
    "hadoop_conf.set(\"fs.s3a.awsSecretAccessKey\", access_key)\n",
    "# hadoop_conf.set('spark.sql.files.maxPartitionBytes','134217728')\n",
    "# hadoop_conf.set(\"spark.sql.execution.arrow.pyspark.enabled\", \"true\")\n",
    "# hadoop_conf.set(\"spark.sql.autoBroadcastJoinThreshold\", '104857600')\n",
    "# hadoop_conf.set(\"spark.sql.autoBroadcastJoinThreshold\", '-1')"
   ]
  },
  {
   "cell_type": "markdown",
   "id": "c28b9661-c756-4374-b531-82c5140c97d2",
   "metadata": {
    "tags": []
   },
   "source": [
    "# Processing the train and the test data"
   ]
  },
  {
   "cell_type": "markdown",
   "id": "cb6cdc66-f640-4567-bb97-5a8a827cc959",
   "metadata": {
    "jp-MarkdownHeadingCollapsed": true,
    "tags": []
   },
   "source": [
    "## Processing data with no conversion to unit circle for the cyclical columns "
   ]
  },
  {
   "cell_type": "code",
   "execution_count": 214,
   "id": "0ad67020-602b-429f-a1e2-c01b2c576d11",
   "metadata": {},
   "outputs": [],
   "source": [
    "# Reading the data\n",
    "df = spark.read.parquet(\"s3a://w210-bucket/data_wrangling/final_df_prior_hr.parquet\")\n",
    "\n",
    "\n",
    "# casting certain columns to integer\n",
    "df = df.withColumn('day_of_month', dayofmonth(df.date)) \\\n",
    "       .withColumn('day_of_year', dayofyear(df.date)) \n",
    "# df = df.withColumn('number_of_searches',col('number_of_searches').cast('integer'))\n",
    "df= df.withColumn(\"year\",col(\"year\").cast('integer'))  \n",
    "      # .withColumn(\"year\",col(\"year\").cast('integer')) \n",
    "#       .withColumn(\"month\",col(\"month\").cast('integer')) \\\n",
    "#       .withColumn(\"quarter\",col(\"quarter\").cast('integer')) \\\n",
    "#       .withColumn(\"day_of_week\",col(\"day_of_week\").cast('integer')) \\\n",
    "#       .withColumn(\"day_of_month\",col(\"day_of_month\").cast('integer')) \\\n",
    "      # .withColumn(\"holiday_period\",col(\"holiday_period\").cast('integer')) \\\n",
    "      # .withColumn(\"event_origin\",col(\"event_origin\").cast('integer')) \\\n",
    "      # .withColumn(\"event_dest\",col(\"event_dest\").cast('integer'))\n",
    "    \n",
    "\n",
    "# mapping numbers to weather types for origin\n",
    "df = df.withColumn(\"wth_type_origin_cat\", when(df.wth_type_origin == \"no_precipitation\",0)\n",
    "                                 .when(df.wth_type_origin == 'Rain',1)\n",
    "                                 .when(df.wth_type_origin == 'hail',2)\n",
    "                                 .when(df.wth_type_origin == 'Drizzle',3)\n",
    "                                 .when(df.wth_type_origin == 'Snow',4))\\\n",
    "        .withColumn(\"wth_type_origin_cat\",col(\"wth_type_origin_cat\").cast('string'))\n",
    "\n",
    "# mapping numbers to weather types for destination\n",
    "df = df.withColumn(\"wth_type_dest_cat\", when(df.wth_type_dest == \"no_precipitation\",0)\n",
    "                                 .when(df.wth_type_dest == 'Rain',1)\n",
    "                                 .when(df.wth_type_dest == 'hail',2)\n",
    "                                 .when(df.wth_type_dest == 'Drizzle',3)\n",
    "                                 .when(df.wth_type_dest == 'Snow',4))  \\\n",
    "       .withColumn(\"wth_type_dest_cat\",col(\"wth_type_dest_cat\").cast('string'))"
   ]
  },
  {
   "cell_type": "code",
   "execution_count": 215,
   "id": "1725ac2c-9e07-4b0a-8856-661a3461cf9a",
   "metadata": {},
   "outputs": [],
   "source": [
    "# zeroing out the null rows for average_route_crowd and prior_hr_route_crowd columns\n",
    "df = df.withColumn('average_route_crowd',f.when(f.col(\"average_route_crowd\").isNull(),f.lit(0)).otherwise(df.average_route_crowd))\n",
    "df = df.withColumn('prior_hr_route_crowd',f.when(f.col(\"prior_hr_route_crowd\").isNull(),f.lit(0)).otherwise(df.prior_hr_route_crowd))"
   ]
  },
  {
   "cell_type": "code",
   "execution_count": 218,
   "id": "d029ff88-f214-44eb-b427-1b08c6c6ecb8",
   "metadata": {},
   "outputs": [
    {
     "name": "stderr",
     "output_type": "stream",
     "text": [
      "                                                                                \r"
     ]
    }
   ],
   "source": [
    "# categorical feature list\n",
    "columns_categorical = ['hour','day_of_week','month','day_of_month','quarter','day_of_year','origin','destination','event_origin','event_dest',\n",
    "                       'wth_type_origin_cat','wth_type_dest_cat','holiday_period']\n",
    "\n",
    "# continous feature list\n",
    "columns_continues = ['year','wind_speed_origin','air_temp_origin','precipitation_origin',\n",
    "                     'wind_speed_dest','air_temp_dest','precipitation_dest','number_of_searches','average_route_crowd','prior_hr_route_crowd']\n",
    "\n",
    "##### indexing and one hot encoding categorical features\n",
    "\n",
    "indexer = StringIndexer(inputCol=\"hour\", outputCol=\"hour_index\")\n",
    "df_final = indexer.fit(df).transform(df)\n",
    "ohe = OneHotEncoder(inputCol=\"hour_index\", outputCol=\"hour_index_ohe\")\n",
    "df_final = ohe.fit(df_final).transform(df_final)\n",
    "\n",
    "indexer = StringIndexer(inputCol=\"day_of_week\", outputCol=\"day_of_week_index\")\n",
    "df_final = indexer.fit(df_final).transform(df_final)\n",
    "ohe = OneHotEncoder(inputCol=\"day_of_week_index\", outputCol=\"day_of_week_index_ohe\")\n",
    "df_final = ohe.fit(df_final).transform(df_final)\n",
    "\n",
    "indexer = StringIndexer(inputCol=\"month\", outputCol=\"month_index\")\n",
    "df_final = indexer.fit(df_final).transform(df_final)\n",
    "ohe = OneHotEncoder(inputCol=\"month_index\", outputCol=\"month_index_ohe\")\n",
    "df_final = ohe.fit(df_final).transform(df_final)\n",
    "\n",
    "indexer = StringIndexer(inputCol=\"day_of_month\", outputCol=\"day_of_month_index\")\n",
    "df_final = indexer.fit(df_final).transform(df_final)\n",
    "ohe = OneHotEncoder(inputCol=\"day_of_month_index\", outputCol=\"day_of_month_index_ohe\")\n",
    "df_final = ohe.fit(df_final).transform(df_final)\n",
    "\n",
    "indexer = StringIndexer(inputCol=\"quarter\", outputCol=\"quarter_index\")\n",
    "df_final = indexer.fit(df_final).transform(df_final)\n",
    "ohe = OneHotEncoder(inputCol=\"quarter_index\", outputCol=\"quarter_index_ohe\")\n",
    "df_final = ohe.fit(df_final).transform(df_final)\n",
    "\n",
    "indexer = StringIndexer(inputCol=\"day_of_year\", outputCol=\"day_of_year_index\")\n",
    "df_final = indexer.fit(df_final).transform(df_final)\n",
    "ohe = OneHotEncoder(inputCol=\"day_of_year_index\", outputCol=\"day_of_year_index_ohe\")\n",
    "df_final = ohe.fit(df_final).transform(df_final)\n",
    "\n",
    "indexer = StringIndexer(inputCol=\"origin\", outputCol=\"origin_index\")\n",
    "df_final = indexer.fit(df_final).transform(df_final)\n",
    "ohe = OneHotEncoder(inputCol=\"origin_index\", outputCol=\"origin_index_ohe\")\n",
    "df_final = ohe.fit(df_final).transform(df_final)\n",
    "\n",
    "indexer = StringIndexer(inputCol=\"destination\", outputCol=\"destination_index\")\n",
    "df_final = indexer.fit(df_final).transform(df_final)\n",
    "ohe = OneHotEncoder(inputCol=\"destination_index\", outputCol=\"destination_index_ohe\")\n",
    "df_final = ohe.fit(df_final).transform(df_final)\n",
    "\n",
    "indexer = StringIndexer(inputCol=\"event_origin\", outputCol=\"event_origin_index\")\n",
    "df_final = indexer.fit(df_final).transform(df_final)\n",
    "ohe = OneHotEncoder(inputCol=\"event_origin_index\", outputCol=\"event_origin_index_ohe\")\n",
    "df_final = ohe.fit(df_final).transform(df_final)\n",
    "\n",
    "indexer = StringIndexer(inputCol=\"event_dest\", outputCol=\"event_dest_index\")\n",
    "df_final = indexer.fit(df_final).transform(df_final)\n",
    "ohe = OneHotEncoder(inputCol=\"event_dest_index\", outputCol=\"event_dest_index_ohe\")\n",
    "df_final = ohe.fit(df_final).transform(df_final)\n",
    "\n",
    "indexer = StringIndexer(inputCol=\"wth_type_origin_cat\", outputCol=\"wth_type_origin_cat_index\")\n",
    "df_final = indexer.fit(df_final).transform(df_final)\n",
    "ohe = OneHotEncoder(inputCol=\"wth_type_origin_cat_index\", outputCol=\"wth_type_origin_cat_index_ohe\")\n",
    "df_final = ohe.fit(df_final).transform(df_final)\n",
    "\n",
    "indexer = StringIndexer(inputCol=\"wth_type_dest_cat\", outputCol=\"wth_type_dest_cat_index\")\n",
    "df_final = indexer.fit(df_final).transform(df_final)\n",
    "ohe = OneHotEncoder(inputCol=\"wth_type_dest_cat_index\", outputCol=\"wth_type_dest_cat_index_ohe\")\n",
    "df_final = ohe.fit(df_final).transform(df_final)\n",
    "\n",
    "indexer = StringIndexer(inputCol=\"holiday_period\", outputCol=\"holiday_period_index\")\n",
    "df_final = indexer.fit(df_final).transform(df_final)\n",
    "ohe = OneHotEncoder(inputCol=\"holiday_period_index\", outputCol=\"holiday_period_index_ohe\")\n",
    "df_final = ohe.fit(df_final).transform(df_final)\n",
    "\n",
    "\n",
    "# Vectore assembling categorical features\n",
    "assembler_categ = VectorAssembler(inputCols= ['hour_index_ohe','day_of_week_index_ohe','month_index_ohe',\n",
    "                                              'day_of_month_index_ohe','quarter_index_ohe','day_of_year_index_ohe',\n",
    "                                              'origin_index_ohe','destination_index_ohe','event_origin_index_ohe',\n",
    "                                              'event_dest_index_ohe','wth_type_origin_cat_index_ohe','wth_type_dest_cat_index_ohe',\n",
    "                                              'holiday_period_index_ohe'],\n",
    "                           outputCol=\"cat_features\")\n",
    "\n",
    "\n",
    "# Vector assembling continues features\n",
    "assembler_cont = VectorAssembler(inputCols=columns_continues,\n",
    "                                   outputCol=\"cont_features\")\n",
    "\n",
    "# transforming the data\n",
    "df_final = assembler_categ.transform(df_final)\n",
    "df_final = assembler_cont.transform(df_final)\n",
    "assembler = VectorAssembler(inputCols= [\"cont_features\",\"cat_features\"],\n",
    "                               outputCol=\"features\")\n",
    "\n",
    "df_final = assembler.transform(df_final)\n",
    " "
   ]
  },
  {
   "cell_type": "code",
   "execution_count": 219,
   "id": "db9fd56c-0e93-461e-999c-386e49bd9f9c",
   "metadata": {},
   "outputs": [],
   "source": [
    "# filtering out 2011 data. Using 2012-2021 as train data and 2022 as a test data\n",
    "df_final_1 = df_final.filter(col('year') != 2011)\n",
    "processed_train_df = df_final_1.filter(col('year') != 2022).select('ridership_number','features')\n",
    "processed_test_df =  df_final_1.filter(col('year') == 2022).select('ridership_number','features')"
   ]
  },
  {
   "cell_type": "code",
   "execution_count": 220,
   "id": "b4dd64a6-078a-4240-aad0-98b3f1f6f855",
   "metadata": {},
   "outputs": [
    {
     "name": "stderr",
     "output_type": "stream",
     "text": [
      "                                                                                \r"
     ]
    }
   ],
   "source": [
    "# # saving as parquet in S3 bucket\n",
    "# processed_train_df.write.parquet('s3a://w210-bucket/data_wrangling/processed_train_df_1.parquet',mode='overwrite')\n",
    "# processed_test_df.write.parquet('s3a://w210-bucket/data_wrangling/processed_test_df_1.parquet',mode='overwrite')"
   ]
  },
  {
   "cell_type": "markdown",
   "id": "b80e097f-7ea1-40d9-9df5-2fbbb58a1535",
   "metadata": {
    "jp-MarkdownHeadingCollapsed": true,
    "tags": []
   },
   "source": [
    "## Processing data with conversion to unit circle for the cyclical columns "
   ]
  },
  {
   "cell_type": "code",
   "execution_count": 51,
   "id": "5937c813-a84a-4090-b159-a0be5af19641",
   "metadata": {},
   "outputs": [],
   "source": [
    "# reading the data and extracting new time feature from existing column\n",
    "df = spark.read.parquet(\"s3a://w210-bucket/data_wrangling/final_df_prior_hr.parquet\")\n",
    "df = df.withColumn('day_of_month', dayofmonth(df.date)) \\\n",
    "       .withColumn('day_of_year', dayofyear(df.date)) "
   ]
  },
  {
   "cell_type": "code",
   "execution_count": 52,
   "id": "09f0aa6c-2f3f-40b3-8def-b3acda32a13b",
   "metadata": {},
   "outputs": [],
   "source": [
    "# converting cyclical features to unit circles\n",
    "\n",
    "df = df.withColumn('month_sine', sin((col('month')-1)*2.*pi/12))\\\n",
    "         .withColumn('month_cosine', cos((col('month')-1)*2.*pi/12)) \\\n",
    "         .withColumn('hr_sine', sin(col('hour')*2.*pi/24))\\\n",
    "         .withColumn('hr_cosine', cos(col('hour')*2.*pi/24)) \\\n",
    "         .withColumn('day_of_week_sine', sin((col('day_of_week')-1)*2.*pi/7))\\\n",
    "         .withColumn('day_of_week_cosine', cos((col('day_of_week')-1)*2.*pi/7)) \\\n",
    "         .withColumn('quarter_sine', sin((col('quarter')-1)*2.*pi/4))\\\n",
    "         .withColumn('quarter_cosine', cos((col('quarter')-1)*2.*pi/4)) \\\n",
    "         .withColumn(\"year\",col(\"year\").cast('integer')) \n",
    "        "
   ]
  },
  {
   "cell_type": "code",
   "execution_count": 53,
   "id": "18893485-eccd-4205-b6f2-630f2e217a97",
   "metadata": {},
   "outputs": [],
   "source": [
    "# mapping numbers to weather types for origin\n",
    "df = df.withColumn(\"wth_type_origin_cat\", when(df.wth_type_origin == \"no_precipitation\",0)\n",
    "                                 .when(df.wth_type_origin == 'Rain',1)\n",
    "                                 .when(df.wth_type_origin == 'hail',2)\n",
    "                                 .when(df.wth_type_origin == 'Drizzle',3)\n",
    "                                 .when(df.wth_type_origin == 'Snow',4))\\\n",
    "        .withColumn(\"wth_type_origin_cat\",col(\"wth_type_origin_cat\").cast('string'))\n",
    "\n",
    "# mapping numbers to weather types for destination\n",
    "df = df.withColumn(\"wth_type_dest_cat\", when(df.wth_type_dest == \"no_precipitation\",0)\n",
    "                                 .when(df.wth_type_dest == 'Rain',1)\n",
    "                                 .when(df.wth_type_dest == 'hail',2)\n",
    "                                 .when(df.wth_type_dest == 'Drizzle',3)\n",
    "                                 .when(df.wth_type_dest == 'Snow',4))  \\\n",
    "       .withColumn(\"wth_type_dest_cat\",col(\"wth_type_dest_cat\").cast('string'))"
   ]
  },
  {
   "cell_type": "code",
   "execution_count": 54,
   "id": "2794df58-a266-4205-b09b-8b9b343ab8ed",
   "metadata": {},
   "outputs": [],
   "source": [
    "# zeroing out the null rows for average_route_crowd and prior_hr_route_crowd columns\n",
    "df = df.withColumn('average_route_crowd',f.when(f.col(\"average_route_crowd\").isNull(),f.lit(0)).otherwise(df.average_route_crowd))\n",
    "df = df.withColumn('prior_hr_route_crowd',f.when(f.col(\"prior_hr_route_crowd\").isNull(),f.lit(0)).otherwise(df.prior_hr_route_crowd))"
   ]
  },
  {
   "cell_type": "code",
   "execution_count": 47,
   "id": "338c67bc-7f97-4572-a7fb-7971de568dc9",
   "metadata": {},
   "outputs": [],
   "source": [
    "# np.sin(2*(2.*np.pi/4))\n",
    "# np.cos(2*(2.*np.pi/4))"
   ]
  },
  {
   "cell_type": "code",
   "execution_count": 56,
   "id": "6a91d169-8548-40ff-841a-92625e44fb6f",
   "metadata": {},
   "outputs": [
    {
     "name": "stderr",
     "output_type": "stream",
     "text": [
      "                                                                                \r"
     ]
    }
   ],
   "source": [
    "# list of categorical features\n",
    "columns_categorical = ['day_of_month','day_of_year','origin','destination','event_origin','event_dest',\n",
    "                       'wth_type_origin_cat','wth_type_dest_cat','holiday_period']\n",
    "\n",
    "\n",
    "# list of continous features\n",
    "columns_continues = ['month_sine','month_cosine','hr_sine','hr_cosine','day_of_week_sine','day_of_week_cosine','quarter_sine','quarter_cosine',\n",
    "                     'wind_speed_origin','air_temp_origin','precipitation_origin',\n",
    "                     'wind_speed_dest','air_temp_dest','precipitation_dest','number_of_searches','average_route_crowd','prior_hr_route_crowd']\n",
    "\n",
    "#### indexing and one encoding the categorical features\n",
    "indexer = StringIndexer(inputCol=\"day_of_month\", outputCol=\"day_of_month_index\")\n",
    "df_final = indexer.fit(df).transform(df)\n",
    "ohe = OneHotEncoder(inputCol=\"day_of_month_index\", outputCol=\"day_of_month_index_ohe\")\n",
    "df_final = ohe.fit(df_final).transform(df_final)\n",
    "\n",
    "indexer = StringIndexer(inputCol=\"day_of_year\", outputCol=\"day_of_year_index\")\n",
    "df_final = indexer.fit(df_final).transform(df_final)\n",
    "ohe = OneHotEncoder(inputCol=\"day_of_year_index\", outputCol=\"day_of_year_index_ohe\")\n",
    "df_final = ohe.fit(df_final).transform(df_final)\n",
    "\n",
    "indexer = StringIndexer(inputCol=\"origin\", outputCol=\"origin_index\")\n",
    "df_final = indexer.fit(df_final).transform(df_final)\n",
    "ohe = OneHotEncoder(inputCol=\"origin_index\", outputCol=\"origin_index_ohe\")\n",
    "df_final = ohe.fit(df_final).transform(df_final)\n",
    "\n",
    "indexer = StringIndexer(inputCol=\"destination\", outputCol=\"destination_index\")\n",
    "df_final = indexer.fit(df_final).transform(df_final)\n",
    "ohe = OneHotEncoder(inputCol=\"destination_index\", outputCol=\"destination_index_ohe\")\n",
    "df_final = ohe.fit(df_final).transform(df_final)\n",
    "\n",
    "indexer = StringIndexer(inputCol=\"event_origin\", outputCol=\"event_origin_index\")\n",
    "df_final = indexer.fit(df_final).transform(df_final)\n",
    "ohe = OneHotEncoder(inputCol=\"event_origin_index\", outputCol=\"event_origin_index_ohe\")\n",
    "df_final = ohe.fit(df_final).transform(df_final)\n",
    "\n",
    "indexer = StringIndexer(inputCol=\"event_dest\", outputCol=\"event_dest_index\")\n",
    "df_final = indexer.fit(df_final).transform(df_final)\n",
    "ohe = OneHotEncoder(inputCol=\"event_dest_index\", outputCol=\"event_dest_index_ohe\")\n",
    "df_final = ohe.fit(df_final).transform(df_final)\n",
    "\n",
    "indexer = StringIndexer(inputCol=\"wth_type_origin_cat\", outputCol=\"wth_type_origin_cat_index\")\n",
    "df_final = indexer.fit(df_final).transform(df_final)\n",
    "ohe = OneHotEncoder(inputCol=\"wth_type_origin_cat_index\", outputCol=\"wth_type_origin_cat_index_ohe\")\n",
    "df_final = ohe.fit(df_final).transform(df_final)\n",
    "\n",
    "indexer = StringIndexer(inputCol=\"wth_type_dest_cat\", outputCol=\"wth_type_dest_cat_index\")\n",
    "df_final = indexer.fit(df_final).transform(df_final)\n",
    "ohe = OneHotEncoder(inputCol=\"wth_type_dest_cat_index\", outputCol=\"wth_type_dest_cat_index_ohe\")\n",
    "df_final = ohe.fit(df_final).transform(df_final)\n",
    "\n",
    "indexer = StringIndexer(inputCol=\"holiday_period\", outputCol=\"holiday_period_index\")\n",
    "df_final = indexer.fit(df_final).transform(df_final)\n",
    "ohe = OneHotEncoder(inputCol=\"holiday_period_index\", outputCol=\"holiday_period_index_ohe\")\n",
    "df_final = ohe.fit(df_final).transform(df_final)\n",
    "\n",
    "\n",
    "# Vector assembling the categorical features\n",
    "assembler_categ = VectorAssembler(inputCols= ['day_of_month_index_ohe','day_of_year_index_ohe',\n",
    "                                              'origin_index_ohe','destination_index_ohe','event_origin_index_ohe',\n",
    "                                              'event_dest_index_ohe','wth_type_origin_cat_index_ohe','wth_type_dest_cat_index_ohe',\n",
    "                                              'holiday_period_index_ohe'],\n",
    "                           outputCol=\"cat_features\")\n",
    "\n",
    "\n",
    "# vector assembling continues variables\n",
    "assembler_cont = VectorAssembler(inputCols=columns_continues,\n",
    "                                   outputCol=\"cont_features\")\n",
    "\n",
    "\n",
    "# transforming the data\n",
    "df_final = assembler_categ.transform(df_final)\n",
    "df_final = assembler_cont.transform(df_final)\n",
    "assembler = VectorAssembler(inputCols= [\"cont_features\",\"cat_features\"],\n",
    "                               outputCol=\"features\")\n",
    "\n",
    "df_final = assembler.transform(df_final)\n",
    "\n",
    "\n",
    "\n",
    " "
   ]
  },
  {
   "cell_type": "code",
   "execution_count": 57,
   "id": "e1f67f07-093f-4fca-bf98-16a72747aae9",
   "metadata": {},
   "outputs": [],
   "source": [
    "# filtering out 2011 data. Using 2012-2021 as train data and 2022 as a test data\n",
    "df_final_1 = df_final.filter(col('year') != 2011)\n",
    "processed_train_df = df_final_1.filter(col('year') != 2022).select('ridership_number','features')\n",
    "processed_test_df =  df_final_1.filter(col('year') == 2022).select('ridership_number','features')"
   ]
  },
  {
   "cell_type": "code",
   "execution_count": 58,
   "id": "7fcb03b1-0004-450b-b207-f9f03ef24260",
   "metadata": {},
   "outputs": [
    {
     "name": "stderr",
     "output_type": "stream",
     "text": [
      "                                                                                \r"
     ]
    }
   ],
   "source": [
    "# # saving as parquet in S3 bucket\n",
    "# processed_train_df.write.parquet('s3a://w210-bucket/data_wrangling/processed_train_take_6.parquet',mode='overwrite')\n",
    "# processed_test_df.write.parquet('s3a://w210-bucket/data_wrangling/processed_test_take_6.parquet',mode='overwrite')"
   ]
  },
  {
   "cell_type": "code",
   "execution_count": 65,
   "id": "c8c68387-2092-4491-bf9f-e429cbaa93aa",
   "metadata": {},
   "outputs": [
    {
     "name": "stderr",
     "output_type": "stream",
     "text": [
      "[Stage 89:>                                                        (0 + 8) / 20]\r"
     ]
    },
    {
     "name": "stdout",
     "output_type": "stream",
     "text": [
      "23/03/26 00:34:07 WARN MemoryStore: Not enough space to cache rdd_254_6 in memory! (computed 923.4 MiB so far)\n",
      "23/03/26 00:34:07 WARN BlockManager: Persisting block rdd_254_6 to disk instead.\n",
      "23/03/26 00:34:08 WARN MemoryStore: Not enough space to cache rdd_254_4 in memory! (computed 923.4 MiB so far)\n",
      "23/03/26 00:34:08 WARN BlockManager: Persisting block rdd_254_4 to disk instead.\n",
      "23/03/26 00:34:08 WARN MemoryStore: Not enough space to cache rdd_254_3 in memory! (computed 923.4 MiB so far)\n",
      "23/03/26 00:34:08 WARN BlockManager: Persisting block rdd_254_3 to disk instead.\n",
      "23/03/26 00:34:13 WARN MemoryStore: Not enough space to cache rdd_254_7 in memory! (computed 1385.1 MiB so far)\n",
      "23/03/26 00:34:13 WARN BlockManager: Persisting block rdd_254_7 to disk instead.\n",
      "23/03/26 00:34:13 WARN MemoryStore: Not enough space to cache rdd_254_1 in memory! (computed 1385.1 MiB so far)\n",
      "23/03/26 00:34:13 WARN BlockManager: Persisting block rdd_254_1 to disk instead.\n",
      "23/03/26 00:34:32 WARN MemoryStore: Not enough space to cache rdd_254_0 in memory! (computed 3.0 GiB so far)\n",
      "23/03/26 00:34:32 WARN BlockManager: Persisting block rdd_254_0 to disk instead.\n",
      "23/03/26 00:34:34 WARN MemoryStore: Not enough space to cache rdd_254_2 in memory! (computed 3.0 GiB so far)\n",
      "23/03/26 00:34:34 WARN BlockManager: Persisting block rdd_254_2 to disk instead.\n",
      "23/03/26 00:34:34 WARN MemoryStore: Not enough space to cache rdd_254_5 in memory! (computed 3.0 GiB so far)\n",
      "23/03/26 00:34:34 WARN BlockManager: Persisting block rdd_254_5 to disk instead.\n"
     ]
    },
    {
     "name": "stderr",
     "output_type": "stream",
     "text": [
      "[Stage 89:>                                                        (0 + 8) / 20]\r"
     ]
    },
    {
     "name": "stdout",
     "output_type": "stream",
     "text": [
      "23/03/26 00:36:45 WARN MemoryStore: Not enough space to cache rdd_254_7 in memory! (computed 2.1 GiB so far)\n",
      "23/03/26 00:36:45 WARN MemoryStore: Not enough space to cache rdd_254_2 in memory! (computed 115.2 MiB so far)\n",
      "23/03/26 00:36:45 WARN MemoryStore: Not enough space to cache rdd_254_6 in memory! (computed 933.5 MiB so far)\n",
      "23/03/26 00:36:46 WARN MemoryStore: Not enough space to cache rdd_254_1 in memory! (computed 1400.3 MiB so far)\n",
      "23/03/26 00:36:46 WARN MemoryStore: Not enough space to cache rdd_254_3 in memory! (computed 115.2 MiB so far)\n",
      "23/03/26 00:36:47 WARN MemoryStore: Not enough space to cache rdd_254_4 in memory! (computed 2.1 GiB so far)\n",
      "23/03/26 00:36:48 WARN MemoryStore: Not enough space to cache rdd_254_0 in memory! (computed 2.1 GiB so far)\n"
     ]
    },
    {
     "name": "stderr",
     "output_type": "stream",
     "text": [
      "[Stage 89:>                                                        (0 + 8) / 20]\r"
     ]
    },
    {
     "name": "stdout",
     "output_type": "stream",
     "text": [
      "23/03/26 00:37:15 WARN MemoryStore: Not enough space to cache rdd_254_5 in memory! (computed 7.1 GiB so far)\n"
     ]
    },
    {
     "name": "stderr",
     "output_type": "stream",
     "text": [
      "[Stage 89:======================>                                  (8 + 8) / 20]\r"
     ]
    },
    {
     "name": "stdout",
     "output_type": "stream",
     "text": [
      "23/03/26 00:37:55 WARN MemoryStore: Not enough space to cache rdd_254_8 in memory! (computed 1385.1 MiB so far)\n",
      "23/03/26 00:37:55 WARN BlockManager: Persisting block rdd_254_8 to disk instead.\n",
      "23/03/26 00:37:56 WARN MemoryStore: Not enough space to cache rdd_254_13 in memory! (computed 923.4 MiB so far)\n",
      "23/03/26 00:37:56 WARN BlockManager: Persisting block rdd_254_13 to disk instead.\n",
      "23/03/26 00:37:57 WARN MemoryStore: Not enough space to cache rdd_254_9 in memory! (computed 1385.1 MiB so far)\n",
      "23/03/26 00:37:57 WARN BlockManager: Persisting block rdd_254_9 to disk instead.\n",
      "23/03/26 00:37:59 WARN MemoryStore: Not enough space to cache rdd_254_10 in memory! (computed 1385.1 MiB so far)\n",
      "23/03/26 00:37:59 WARN BlockManager: Persisting block rdd_254_10 to disk instead.\n",
      "23/03/26 00:37:59 WARN MemoryStore: Not enough space to cache rdd_254_15 in memory! (computed 923.4 MiB so far)\n",
      "23/03/26 00:37:59 WARN BlockManager: Persisting block rdd_254_15 to disk instead.\n",
      "23/03/26 00:37:59 WARN MemoryStore: Not enough space to cache rdd_254_14 in memory! (computed 923.4 MiB so far)\n",
      "23/03/26 00:37:59 WARN BlockManager: Persisting block rdd_254_14 to disk instead.\n",
      "23/03/26 00:38:01 WARN MemoryStore: Not enough space to cache rdd_254_11 in memory! (computed 1385.1 MiB so far)\n",
      "23/03/26 00:38:01 WARN BlockManager: Persisting block rdd_254_11 to disk instead.\n"
     ]
    },
    {
     "name": "stderr",
     "output_type": "stream",
     "text": [
      "[Stage 89:=========================>                               (9 + 8) / 20]\r"
     ]
    },
    {
     "name": "stdout",
     "output_type": "stream",
     "text": [
      "23/03/26 00:39:19 WARN MemoryStore: Not enough space to cache rdd_254_14 in memory! (computed 3.6 MiB so far)\n",
      "23/03/26 00:39:20 WARN MemoryStore: Not enough space to cache rdd_254_13 in memory! (computed 1400.3 MiB so far)\n",
      "23/03/26 00:39:37 WARN MemoryStore: Not enough space to cache rdd_254_16 in memory! (computed 3.0 GiB so far)\n",
      "23/03/26 00:39:37 WARN BlockManager: Persisting block rdd_254_16 to disk instead.\n"
     ]
    },
    {
     "name": "stderr",
     "output_type": "stream",
     "text": [
      "[Stage 89:==============================>                         (11 + 8) / 20]\r"
     ]
    },
    {
     "name": "stdout",
     "output_type": "stream",
     "text": [
      "23/03/26 00:40:09 WARN MemoryStore: Not enough space to cache rdd_254_18 in memory! (computed 1385.1 MiB so far)\n",
      "23/03/26 00:40:09 WARN BlockManager: Persisting block rdd_254_18 to disk instead.\n",
      "23/03/26 00:40:11 WARN MemoryStore: Not enough space to cache rdd_254_17 in memory! (computed 2.0 GiB so far)\n",
      "23/03/26 00:40:11 WARN BlockManager: Persisting block rdd_254_17 to disk instead.\n",
      "23/03/26 00:40:27 WARN MemoryStore: Not enough space to cache rdd_254_8 in memory! (computed 933.5 MiB so far)\n",
      "23/03/26 00:40:28 WARN MemoryStore: Not enough space to cache rdd_254_10 in memory! (computed 933.5 MiB so far)\n",
      "23/03/26 00:40:28 WARN MemoryStore: Not enough space to cache rdd_254_11 in memory! (computed 259.2 MiB so far)\n",
      "23/03/26 00:40:29 WARN MemoryStore: Not enough space to cache rdd_254_9 in memory! (computed 1400.3 MiB so far)\n",
      "23/03/26 00:40:47 WARN MemoryStore: Not enough space to cache rdd_254_15 in memory! (computed 3.1 GiB so far)\n"
     ]
    },
    {
     "name": "stderr",
     "output_type": "stream",
     "text": [
      "[Stage 89:==========================================>             (15 + 5) / 20]\r"
     ]
    },
    {
     "name": "stdout",
     "output_type": "stream",
     "text": [
      "23/03/26 00:41:27 WARN MemoryStore: Not enough space to cache rdd_254_16 in memory! (computed 2.1 GiB so far)\n"
     ]
    },
    {
     "name": "stderr",
     "output_type": "stream",
     "text": [
      "[Stage 89:============================================>           (16 + 4) / 20]\r"
     ]
    },
    {
     "name": "stdout",
     "output_type": "stream",
     "text": [
      "23/03/26 00:41:44 WARN MemoryStore: Not enough space to cache rdd_254_18 in memory! (computed 259.2 MiB so far)\n",
      "23/03/26 00:41:45 WARN MemoryStore: Not enough space to cache rdd_254_19 in memory! (computed 3.0 GiB so far)\n",
      "23/03/26 00:41:45 WARN BlockManager: Persisting block rdd_254_19 to disk instead.\n",
      "23/03/26 00:41:46 WARN MemoryStore: Not enough space to cache rdd_254_17 in memory! (computed 259.2 MiB so far)\n"
     ]
    },
    {
     "name": "stderr",
     "output_type": "stream",
     "text": [
      "[Stage 89:=====================================================>  (19 + 1) / 20]\r"
     ]
    },
    {
     "name": "stdout",
     "output_type": "stream",
     "text": [
      "23/03/26 00:42:36 WARN MemoryStore: Not enough space to cache rdd_254_19 in memory! (computed 3.1 GiB so far)\n"
     ]
    },
    {
     "name": "stderr",
     "output_type": "stream",
     "text": [
      "[Stage 91:>                                                        (0 + 8) / 20]\r"
     ]
    },
    {
     "name": "stdout",
     "output_type": "stream",
     "text": [
      "23/03/26 00:42:52 WARN MemoryStore: Not enough space to cache rdd_254_2 in memory! (computed 390.0 MiB so far)\n",
      "23/03/26 00:42:52 WARN MemoryStore: Not enough space to cache rdd_254_7 in memory! (computed 390.0 MiB so far)\n",
      "23/03/26 00:42:52 WARN MemoryStore: Not enough space to cache rdd_254_4 in memory! (computed 390.0 MiB so far)\n",
      "23/03/26 00:42:52 WARN MemoryStore: Not enough space to cache rdd_254_0 in memory! (computed 390.0 MiB so far)\n",
      "23/03/26 00:42:52 WARN MemoryStore: Not enough space to cache rdd_254_5 in memory! (computed 390.0 MiB so far)\n",
      "23/03/26 00:42:52 WARN MemoryStore: Not enough space to cache rdd_254_3 in memory! (computed 390.0 MiB so far)\n",
      "23/03/26 00:42:52 WARN MemoryStore: Not enough space to cache rdd_254_1 in memory! (computed 390.0 MiB so far)\n",
      "23/03/26 00:43:05 WARN MemoryStore: Not enough space to cache rdd_254_6 in memory! (computed 3.1 GiB so far)\n"
     ]
    },
    {
     "name": "stderr",
     "output_type": "stream",
     "text": [
      "[Stage 91:===================>                                     (7 + 8) / 20]\r"
     ]
    },
    {
     "name": "stdout",
     "output_type": "stream",
     "text": [
      "23/03/26 00:43:52 WARN MemoryStore: Not enough space to cache rdd_254_13 in memory! (computed 75.3 MiB so far)\n",
      "23/03/26 00:43:52 WARN MemoryStore: Not enough space to cache rdd_254_11 in memory! (computed 604.7 MiB so far)\n",
      "23/03/26 00:43:52 WARN MemoryStore: Not enough space to cache rdd_254_14 in memory! (computed 75.3 MiB so far)\n"
     ]
    },
    {
     "name": "stderr",
     "output_type": "stream",
     "text": [
      "[Stage 91:======================>                                  (8 + 8) / 20]\r"
     ]
    },
    {
     "name": "stdout",
     "output_type": "stream",
     "text": [
      "23/03/26 00:43:53 WARN MemoryStore: Not enough space to cache rdd_254_9 in memory! (computed 933.5 MiB so far)\n",
      "23/03/26 00:43:53 WARN MemoryStore: Not enough space to cache rdd_254_10 in memory! (computed 933.5 MiB so far)\n",
      "23/03/26 00:43:53 WARN MemoryStore: Not enough space to cache rdd_254_15 in memory! (computed 259.2 MiB so far)\n"
     ]
    },
    {
     "name": "stderr",
     "output_type": "stream",
     "text": [
      "[Stage 91:=========================>                               (9 + 8) / 20]\r"
     ]
    },
    {
     "name": "stdout",
     "output_type": "stream",
     "text": [
      "23/03/26 00:44:03 WARN MemoryStore: Not enough space to cache rdd_254_16 in memory! (computed 259.2 MiB so far)\n",
      "23/03/26 00:44:03 WARN MemoryStore: Not enough space to cache rdd_254_8 in memory! (computed 3.1 GiB so far)\n"
     ]
    },
    {
     "name": "stderr",
     "output_type": "stream",
     "text": [
      "[Stage 91:==============================>                         (11 + 8) / 20]\r"
     ]
    },
    {
     "name": "stdout",
     "output_type": "stream",
     "text": [
      "23/03/26 00:44:31 WARN MemoryStore: Not enough space to cache rdd_254_17 in memory! (computed 1400.3 MiB so far)\n",
      "23/03/26 00:44:32 WARN MemoryStore: Not enough space to cache rdd_254_18 in memory! (computed 1400.3 MiB so far)\n"
     ]
    },
    {
     "name": "stderr",
     "output_type": "stream",
     "text": [
      "[Stage 91:===============================================>        (17 + 3) / 20]\r"
     ]
    },
    {
     "name": "stdout",
     "output_type": "stream",
     "text": [
      "23/03/26 00:44:57 WARN MemoryStore: Not enough space to cache rdd_254_19 in memory! (computed 3.1 GiB so far)\n"
     ]
    },
    {
     "name": "stderr",
     "output_type": "stream",
     "text": [
      "[Stage 93:>                                                        (0 + 8) / 20]\r"
     ]
    },
    {
     "name": "stdout",
     "output_type": "stream",
     "text": [
      "23/03/26 00:45:14 WARN MemoryStore: Not enough space to cache rdd_254_1 in memory! (computed 390.0 MiB so far)\n",
      "23/03/26 00:45:14 WARN MemoryStore: Not enough space to cache rdd_254_6 in memory! (computed 390.0 MiB so far)\n",
      "23/03/26 00:45:14 WARN MemoryStore: Not enough space to cache rdd_254_2 in memory! (computed 390.0 MiB so far)\n",
      "23/03/26 00:45:14 WARN MemoryStore: Not enough space to cache rdd_254_5 in memory! (computed 390.0 MiB so far)\n",
      "23/03/26 00:45:14 WARN MemoryStore: Not enough space to cache rdd_254_3 in memory! (computed 390.0 MiB so far)\n",
      "23/03/26 00:45:14 WARN MemoryStore: Not enough space to cache rdd_254_4 in memory! (computed 390.0 MiB so far)\n",
      "23/03/26 00:45:14 WARN MemoryStore: Not enough space to cache rdd_254_0 in memory! (computed 390.0 MiB so far)\n",
      "23/03/26 00:45:14 WARN MemoryStore: Not enough space to cache rdd_254_7 in memory! (computed 604.7 MiB so far)\n"
     ]
    },
    {
     "name": "stderr",
     "output_type": "stream",
     "text": [
      "[Stage 93:===================>                                     (7 + 8) / 20]\r"
     ]
    },
    {
     "name": "stdout",
     "output_type": "stream",
     "text": [
      "23/03/26 00:46:14 WARN MemoryStore: Not enough space to cache rdd_254_10 in memory! (computed 604.7 MiB so far)\n",
      "23/03/26 00:46:14 WARN MemoryStore: Not enough space to cache rdd_254_8 in memory! (computed 933.5 MiB so far)\n",
      "23/03/26 00:46:14 WARN MemoryStore: Not enough space to cache rdd_254_11 in memory! (computed 604.7 MiB so far)\n",
      "23/03/26 00:46:14 WARN MemoryStore: Not enough space to cache rdd_254_13 in memory! (computed 259.2 MiB so far)\n",
      "23/03/26 00:46:14 WARN MemoryStore: Not enough space to cache rdd_254_14 in memory! (computed 172.8 MiB so far)\n"
     ]
    },
    {
     "name": "stderr",
     "output_type": "stream",
     "text": [
      "[Stage 93:======================>                                  (8 + 8) / 20]\r"
     ]
    },
    {
     "name": "stdout",
     "output_type": "stream",
     "text": [
      "23/03/26 00:46:14 WARN MemoryStore: Not enough space to cache rdd_254_15 in memory! (computed 48.6 MiB so far)\n"
     ]
    },
    {
     "name": "stderr",
     "output_type": "stream",
     "text": [
      "[Stage 93:=========================>                               (9 + 8) / 20]\r"
     ]
    },
    {
     "name": "stdout",
     "output_type": "stream",
     "text": [
      "23/03/26 00:46:23 WARN MemoryStore: Not enough space to cache rdd_254_16 in memory! (computed 259.2 MiB so far)\n",
      "23/03/26 00:46:25 WARN MemoryStore: Not enough space to cache rdd_254_9 in memory! (computed 3.1 GiB so far)\n"
     ]
    },
    {
     "name": "stderr",
     "output_type": "stream",
     "text": [
      "[Stage 93:==============================>                         (11 + 8) / 20]\r"
     ]
    },
    {
     "name": "stdout",
     "output_type": "stream",
     "text": [
      "23/03/26 00:46:52 WARN MemoryStore: Not enough space to cache rdd_254_17 in memory! (computed 1400.3 MiB so far)\n",
      "23/03/26 00:46:53 WARN MemoryStore: Not enough space to cache rdd_254_18 in memory! (computed 1400.3 MiB so far)\n"
     ]
    },
    {
     "name": "stderr",
     "output_type": "stream",
     "text": [
      "[Stage 93:===============================================>        (17 + 3) / 20]\r"
     ]
    },
    {
     "name": "stdout",
     "output_type": "stream",
     "text": [
      "23/03/26 00:47:18 WARN MemoryStore: Not enough space to cache rdd_254_19 in memory! (computed 3.1 GiB so far)\n"
     ]
    },
    {
     "name": "stderr",
     "output_type": "stream",
     "text": [
      "[Stage 95:>                                                        (0 + 8) / 20]\r"
     ]
    },
    {
     "name": "stdout",
     "output_type": "stream",
     "text": [
      "23/03/26 00:47:35 WARN MemoryStore: Not enough space to cache rdd_254_7 in memory! (computed 390.0 MiB so far)\n",
      "23/03/26 00:47:35 WARN MemoryStore: Not enough space to cache rdd_254_1 in memory! (computed 390.0 MiB so far)\n",
      "23/03/26 00:47:35 WARN MemoryStore: Not enough space to cache rdd_254_4 in memory! (computed 390.0 MiB so far)\n",
      "23/03/26 00:47:35 WARN MemoryStore: Not enough space to cache rdd_254_6 in memory! (computed 390.0 MiB so far)\n",
      "23/03/26 00:47:35 WARN MemoryStore: Not enough space to cache rdd_254_0 in memory! (computed 390.0 MiB so far)\n",
      "23/03/26 00:47:35 WARN MemoryStore: Not enough space to cache rdd_254_3 in memory! (computed 390.0 MiB so far)\n",
      "23/03/26 00:47:35 WARN MemoryStore: Not enough space to cache rdd_254_5 in memory! (computed 390.0 MiB so far)\n",
      "23/03/26 00:47:47 WARN MemoryStore: Not enough space to cache rdd_254_2 in memory! (computed 3.1 GiB so far)\n"
     ]
    },
    {
     "name": "stderr",
     "output_type": "stream",
     "text": [
      "[Stage 95:=================>                                       (6 + 8) / 20]\r"
     ]
    },
    {
     "name": "stdout",
     "output_type": "stream",
     "text": [
      "23/03/26 00:48:35 WARN MemoryStore: Not enough space to cache rdd_254_13 in memory! (computed 172.8 MiB so far)\n",
      "23/03/26 00:48:35 WARN MemoryStore: Not enough space to cache rdd_254_11 in memory! (computed 390.0 MiB so far)\n"
     ]
    },
    {
     "name": "stderr",
     "output_type": "stream",
     "text": [
      "[Stage 95:======================>                                  (8 + 8) / 20]\r"
     ]
    },
    {
     "name": "stdout",
     "output_type": "stream",
     "text": [
      "23/03/26 00:48:36 WARN MemoryStore: Not enough space to cache rdd_254_9 in memory! (computed 933.5 MiB so far)\n",
      "23/03/26 00:48:36 WARN MemoryStore: Not enough space to cache rdd_254_15 in memory! (computed 75.3 MiB so far)\n",
      "23/03/26 00:48:37 WARN MemoryStore: Not enough space to cache rdd_254_14 in memory! (computed 259.2 MiB so far)\n",
      "23/03/26 00:48:37 WARN MemoryStore: Not enough space to cache rdd_254_10 in memory! (computed 933.5 MiB so far)\n",
      "23/03/26 00:48:37 WARN MemoryStore: Not enough space to cache rdd_254_8 in memory! (computed 1400.3 MiB so far)\n"
     ]
    },
    {
     "name": "stderr",
     "output_type": "stream",
     "text": [
      "[Stage 95:=========================>                               (9 + 8) / 20]\r"
     ]
    },
    {
     "name": "stdout",
     "output_type": "stream",
     "text": [
      "23/03/26 00:48:57 WARN MemoryStore: Not enough space to cache rdd_254_16 in memory! (computed 3.1 GiB so far)\n"
     ]
    },
    {
     "name": "stderr",
     "output_type": "stream",
     "text": [
      "[Stage 95:==============================>                         (11 + 8) / 20]\r"
     ]
    },
    {
     "name": "stdout",
     "output_type": "stream",
     "text": [
      "23/03/26 00:49:13 WARN MemoryStore: Not enough space to cache rdd_254_17 in memory! (computed 1400.3 MiB so far)\n",
      "23/03/26 00:49:15 WARN MemoryStore: Not enough space to cache rdd_254_18 in memory! (computed 1400.3 MiB so far)\n"
     ]
    },
    {
     "name": "stderr",
     "output_type": "stream",
     "text": [
      "[Stage 95:===============================================>        (17 + 3) / 20]\r"
     ]
    },
    {
     "name": "stdout",
     "output_type": "stream",
     "text": [
      "23/03/26 00:49:40 WARN MemoryStore: Not enough space to cache rdd_254_19 in memory! (computed 3.1 GiB so far)\n"
     ]
    },
    {
     "name": "stderr",
     "output_type": "stream",
     "text": [
      "[Stage 97:>                                                        (0 + 8) / 20]\r"
     ]
    },
    {
     "name": "stdout",
     "output_type": "stream",
     "text": [
      "23/03/26 00:49:56 WARN MemoryStore: Not enough space to cache rdd_254_5 in memory! (computed 390.0 MiB so far)\n",
      "23/03/26 00:49:56 WARN MemoryStore: Not enough space to cache rdd_254_2 in memory! (computed 390.0 MiB so far)\n",
      "23/03/26 00:49:56 WARN MemoryStore: Not enough space to cache rdd_254_7 in memory! (computed 390.0 MiB so far)\n",
      "23/03/26 00:49:56 WARN MemoryStore: Not enough space to cache rdd_254_4 in memory! (computed 390.0 MiB so far)\n",
      "23/03/26 00:49:56 WARN MemoryStore: Not enough space to cache rdd_254_3 in memory! (computed 390.0 MiB so far)\n",
      "23/03/26 00:49:57 WARN MemoryStore: Not enough space to cache rdd_254_6 in memory! (computed 390.0 MiB so far)\n",
      "23/03/26 00:49:57 WARN MemoryStore: Not enough space to cache rdd_254_1 in memory! (computed 390.0 MiB so far)\n",
      "23/03/26 00:50:08 WARN MemoryStore: Not enough space to cache rdd_254_0 in memory! (computed 3.1 GiB so far)\n"
     ]
    },
    {
     "name": "stderr",
     "output_type": "stream",
     "text": [
      "[Stage 97:===================>                                     (7 + 8) / 20]\r"
     ]
    },
    {
     "name": "stdout",
     "output_type": "stream",
     "text": [
      "23/03/26 00:50:58 WARN MemoryStore: Not enough space to cache rdd_254_8 in memory! (computed 933.5 MiB so far)\n",
      "23/03/26 00:50:58 WARN MemoryStore: Not enough space to cache rdd_254_10 in memory! (computed 604.7 MiB so far)\n",
      "23/03/26 00:50:58 WARN MemoryStore: Not enough space to cache rdd_254_11 in memory! (computed 604.7 MiB so far)\n",
      "23/03/26 00:50:58 WARN MemoryStore: Not enough space to cache rdd_254_14 in memory! (computed 75.3 MiB so far)\n",
      "23/03/26 00:50:58 WARN MemoryStore: Not enough space to cache rdd_254_13 in memory! (computed 390.0 MiB so far)\n"
     ]
    },
    {
     "name": "stderr",
     "output_type": "stream",
     "text": [
      "[Stage 97:======================>                                  (8 + 8) / 20]\r"
     ]
    },
    {
     "name": "stdout",
     "output_type": "stream",
     "text": [
      "23/03/26 00:51:03 WARN MemoryStore: Not enough space to cache rdd_254_15 in memory! (computed 933.5 MiB so far)\n",
      "23/03/26 00:51:04 WARN MemoryStore: Not enough space to cache rdd_254_9 in memory! (computed 2.1 GiB so far)\n"
     ]
    },
    {
     "name": "stderr",
     "output_type": "stream",
     "text": [
      "[Stage 97:=========================>                               (9 + 8) / 20]\r"
     ]
    },
    {
     "name": "stdout",
     "output_type": "stream",
     "text": [
      "23/03/26 00:51:19 WARN MemoryStore: Not enough space to cache rdd_254_16 in memory! (computed 3.1 GiB so far)\n"
     ]
    },
    {
     "name": "stderr",
     "output_type": "stream",
     "text": [
      "[Stage 97:==============================>                         (11 + 8) / 20]\r"
     ]
    },
    {
     "name": "stdout",
     "output_type": "stream",
     "text": [
      "23/03/26 00:51:36 WARN MemoryStore: Not enough space to cache rdd_254_17 in memory! (computed 1400.3 MiB so far)\n",
      "23/03/26 00:51:37 WARN MemoryStore: Not enough space to cache rdd_254_18 in memory! (computed 1400.3 MiB so far)\n"
     ]
    },
    {
     "name": "stderr",
     "output_type": "stream",
     "text": [
      "[Stage 97:===============================================>        (17 + 3) / 20]\r"
     ]
    },
    {
     "name": "stdout",
     "output_type": "stream",
     "text": [
      "23/03/26 00:52:02 WARN MemoryStore: Not enough space to cache rdd_254_19 in memory! (computed 3.1 GiB so far)\n"
     ]
    },
    {
     "name": "stderr",
     "output_type": "stream",
     "text": [
      "                                                                                \r"
     ]
    }
   ],
   "source": [
    "from pyspark.ml.regression import DecisionTreeRegressor\n",
    "dt = DecisionTreeRegressor(featuresCol ='features', labelCol = 'log_ridership_number')\n",
    "dt_model = dt.fit(processed_train_df)\n",
    "dt_predictions = dt_model.transform(processed_test_df)\n"
   ]
  },
  {
   "cell_type": "code",
   "execution_count": 66,
   "id": "edf97be5-d223-4273-b710-5df4d9814fe6",
   "metadata": {},
   "outputs": [
    {
     "name": "stderr",
     "output_type": "stream",
     "text": [
      "                                                                                \r"
     ]
    }
   ],
   "source": [
    "dt_evaluator = RegressionEvaluator(\n",
    "    labelCol=\"log_ridership_number\", predictionCol=\"prediction\", metricName=\"rmse\")\n",
    "rmse = dt_evaluator.evaluate(dt_predictions)"
   ]
  },
  {
   "cell_type": "code",
   "execution_count": 67,
   "id": "bd9ea7da-4975-465a-a3c1-31d1df5477f8",
   "metadata": {},
   "outputs": [
    {
     "name": "stderr",
     "output_type": "stream",
     "text": [
      "                                                                                \r"
     ]
    }
   ],
   "source": [
    "dt_evaluator = RegressionEvaluator(\n",
    "    labelCol=\"log_ridership_number\", predictionCol=\"prediction\", metricName=\"r2\")\n",
    "r2 = dt_evaluator.evaluate(dt_predictions)"
   ]
  },
  {
   "cell_type": "code",
   "execution_count": 68,
   "id": "0caed28e-3659-4667-a24e-0e6572b377a1",
   "metadata": {},
   "outputs": [
    {
     "name": "stderr",
     "output_type": "stream",
     "text": [
      "                                                                                \r"
     ]
    }
   ],
   "source": [
    "dt_evaluator = RegressionEvaluator(\n",
    "    labelCol=\"log_ridership_number\", predictionCol=\"prediction\", metricName=\"mae\")\n",
    "mae = dt_evaluator.evaluate(dt_predictions)"
   ]
  },
  {
   "cell_type": "code",
   "execution_count": 69,
   "id": "dad86060-a4a6-4980-a832-ae6117352e89",
   "metadata": {},
   "outputs": [
    {
     "name": "stdout",
     "output_type": "stream",
     "text": [
      "RMSE: 0.2912823031642777\n",
      "R2: 0.552367140270025\n",
      "R2: 0.2379800132350321\n"
     ]
    }
   ],
   "source": [
    "print(f\"RMSE: {rmse}\")\n",
    "print(f\"R2: {r2}\")\n",
    "print(f\"R2: {mae}\")"
   ]
  },
  {
   "cell_type": "code",
   "execution_count": 70,
   "id": "7872caab-29f2-4fd0-bc8c-7b15e3c44b5e",
   "metadata": {},
   "outputs": [
    {
     "data": {
      "text/plain": [
       "SparseVector(521, {2: 0.0216, 3: 0.0246, 15: 0.008, 16: 0.9436, 424: 0.0003, 462: 0.0019})"
      ]
     },
     "execution_count": 70,
     "metadata": {},
     "output_type": "execute_result"
    }
   ],
   "source": [
    "dt_model.featureImportances"
   ]
  },
  {
   "cell_type": "code",
   "execution_count": null,
   "id": "72c808d5-8343-4921-a151-2eb46354a99a",
   "metadata": {},
   "outputs": [],
   "source": []
  },
  {
   "cell_type": "code",
   "execution_count": null,
   "id": "7cacf31e-219c-4763-b05f-0b00be0b70b5",
   "metadata": {},
   "outputs": [
    {
     "name": "stderr",
     "output_type": "stream",
     "text": [
      "[Stage 6:>                                                         (0 + 8) / 20]\r"
     ]
    },
    {
     "name": "stdout",
     "output_type": "stream",
     "text": [
      "23/03/26 06:31:18 WARN MemoryStore: Not enough space to cache rdd_23_6 in memory! (computed 909.7 MiB so far)\n",
      "23/03/26 06:31:18 WARN BlockManager: Persisting block rdd_23_6 to disk instead.\n",
      "23/03/26 06:31:19 WARN MemoryStore: Not enough space to cache rdd_23_2 in memory! (computed 909.7 MiB so far)\n",
      "23/03/26 06:31:19 WARN BlockManager: Persisting block rdd_23_2 to disk instead.\n",
      "23/03/26 06:31:19 WARN MemoryStore: Not enough space to cache rdd_23_3 in memory! (computed 909.7 MiB so far)\n",
      "23/03/26 06:31:19 WARN BlockManager: Persisting block rdd_23_3 to disk instead.\n",
      "23/03/26 06:31:24 WARN MemoryStore: Not enough space to cache rdd_23_1 in memory! (computed 1364.5 MiB so far)\n",
      "23/03/26 06:31:24 WARN BlockManager: Persisting block rdd_23_1 to disk instead.\n",
      "23/03/26 06:31:31 WARN MemoryStore: Not enough space to cache rdd_23_4 in memory! (computed 2046.8 MiB so far)\n",
      "23/03/26 06:31:31 WARN BlockManager: Persisting block rdd_23_4 to disk instead.\n",
      "23/03/26 06:31:31 WARN MemoryStore: Not enough space to cache rdd_23_5 in memory! (computed 2046.8 MiB so far)\n",
      "23/03/26 06:31:31 WARN BlockManager: Persisting block rdd_23_5 to disk instead.\n",
      "23/03/26 06:31:31 WARN MemoryStore: Not enough space to cache rdd_23_7 in memory! (computed 2046.8 MiB so far)\n",
      "23/03/26 06:31:31 WARN BlockManager: Persisting block rdd_23_7 to disk instead.\n"
     ]
    },
    {
     "name": "stderr",
     "output_type": "stream",
     "text": [
      "[Stage 6:>                                                         (0 + 8) / 20]\r"
     ]
    },
    {
     "name": "stdout",
     "output_type": "stream",
     "text": [
      "23/03/26 06:32:23 WARN MemoryStore: Not enough space to cache rdd_23_0 in memory! (computed 6.9 GiB so far)\n",
      "23/03/26 06:32:23 WARN BlockManager: Persisting block rdd_23_0 to disk instead.\n"
     ]
    },
    {
     "name": "stderr",
     "output_type": "stream",
     "text": [
      "[Stage 6:>                                                         (0 + 8) / 20]\r"
     ]
    },
    {
     "name": "stdout",
     "output_type": "stream",
     "text": [
      "23/03/26 06:33:33 WARN MemoryStore: Not enough space to cache rdd_23_5 in memory! (computed 252.9 MiB so far)\n",
      "23/03/26 06:33:33 WARN MemoryStore: Not enough space to cache rdd_23_4 in memory! (computed 2046.8 MiB so far)\n",
      "23/03/26 06:33:33 WARN MemoryStore: Not enough space to cache rdd_23_5 in memory! (computed 13.9 MiB so far)\n",
      "23/03/26 06:33:33 WARN MemoryStore: Not enough space to cache rdd_23_6 in memory! (computed 168.6 MiB so far)\n",
      "23/03/26 06:33:33 WARN MemoryStore: Not enough space to cache rdd_23_1 in memory! (computed 2046.8 MiB so far)\n",
      "23/03/26 06:33:33 WARN MemoryStore: Not enough space to cache rdd_23_4 in memory! (computed 9.1 MiB so far)\n",
      "23/03/26 06:33:33 WARN MemoryStore: Not enough space to cache rdd_23_0 in memory! (computed 2046.8 MiB so far)\n",
      "23/03/26 06:33:33 WARN MemoryStore: Not enough space to cache rdd_23_1 in memory! (computed 5.3 MiB so far)\n",
      "23/03/26 06:33:33 WARN MemoryStore: Not enough space to cache rdd_23_6 in memory! (computed 9.1 MiB so far)\n",
      "23/03/26 06:33:33 WARN MemoryStore: Not enough space to cache rdd_23_0 in memory! (computed 1557.2 KiB so far)\n",
      "23/03/26 06:33:35 WARN MemoryStore: Not enough space to cache rdd_23_7 in memory! (computed 3.0 GiB so far)\n",
      "23/03/26 06:33:35 WARN MemoryStore: Not enough space to cache rdd_23_7 in memory! (computed 2.3 MiB so far)\n",
      "23/03/26 06:33:35 WARN MemoryStore: Failed to reserve initial memory threshold of 1024.0 KiB for computing block rdd_25_7 in memory.\n",
      "23/03/26 06:33:35 WARN MemoryStore: Not enough space to cache rdd_25_7 in memory! (computed 384.0 B so far)\n",
      "23/03/26 06:33:35 WARN BlockManager: Persisting block rdd_25_7 to disk instead.\n",
      "23/03/26 06:33:35 WARN MemoryStore: Not enough space to cache rdd_25_0 in memory! (computed 4.0 MiB so far)\n",
      "23/03/26 06:33:35 WARN BlockManager: Persisting block rdd_25_0 to disk instead.\n",
      "23/03/26 06:33:36 WARN MemoryStore: Not enough space to cache rdd_25_4 in memory! (computed 4.0 MiB so far)\n",
      "23/03/26 06:33:36 WARN BlockManager: Persisting block rdd_25_4 to disk instead.\n",
      "23/03/26 06:33:36 WARN MemoryStore: Not enough space to cache rdd_25_1 in memory! (computed 4.0 MiB so far)\n",
      "23/03/26 06:33:36 WARN BlockManager: Persisting block rdd_25_1 to disk instead.\n",
      "23/03/26 06:33:36 WARN MemoryStore: Not enough space to cache rdd_23_2 in memory! (computed 5.3 MiB so far)\n",
      "23/03/26 06:33:36 WARN MemoryStore: Failed to reserve initial memory threshold of 1024.0 KiB for computing block rdd_23_2 in memory.\n",
      "23/03/26 06:33:36 WARN MemoryStore: Not enough space to cache rdd_23_2 in memory! (computed 384.0 B so far)\n",
      "23/03/26 06:33:36 WARN MemoryStore: Failed to reserve initial memory threshold of 1024.0 KiB for computing block rdd_25_2 in memory.\n",
      "23/03/26 06:33:36 WARN MemoryStore: Not enough space to cache rdd_25_2 in memory! (computed 384.0 B so far)\n",
      "23/03/26 06:33:36 WARN BlockManager: Persisting block rdd_25_2 to disk instead.\n",
      "23/03/26 06:33:37 WARN MemoryStore: Failed to reserve initial memory threshold of 1024.0 KiB for computing block rdd_23_3 in memory.\n",
      "23/03/26 06:33:37 WARN MemoryStore: Not enough space to cache rdd_23_3 in memory! (computed 384.0 B so far)\n",
      "23/03/26 06:33:37 WARN MemoryStore: Failed to reserve initial memory threshold of 1024.0 KiB for computing block rdd_23_3 in memory.\n",
      "23/03/26 06:33:37 WARN MemoryStore: Not enough space to cache rdd_23_3 in memory! (computed 384.0 B so far)\n",
      "23/03/26 06:33:37 WARN MemoryStore: Failed to reserve initial memory threshold of 1024.0 KiB for computing block rdd_25_3 in memory.\n",
      "23/03/26 06:33:37 WARN MemoryStore: Not enough space to cache rdd_25_3 in memory! (computed 384.0 B so far)\n",
      "23/03/26 06:33:37 WARN BlockManager: Persisting block rdd_25_3 to disk instead.\n",
      "23/03/26 06:33:38 WARN MemoryStore: Not enough space to cache rdd_25_5 in memory! (computed 8.0 MiB so far)\n",
      "23/03/26 06:33:38 WARN BlockManager: Persisting block rdd_25_5 to disk instead.\n",
      "23/03/26 06:33:38 WARN MemoryStore: Not enough space to cache rdd_25_6 in memory! (computed 8.0 MiB so far)\n",
      "23/03/26 06:33:38 WARN BlockManager: Persisting block rdd_25_6 to disk instead.\n",
      "23/03/26 06:33:55 WARN MemoryStore: Failed to reserve initial memory threshold of 1024.0 KiB for computing block rdd_25_1 in memory.\n",
      "23/03/26 06:33:55 WARN MemoryStore: Not enough space to cache rdd_25_1 in memory! (computed 384.0 B so far)\n",
      "23/03/26 06:33:55 WARN MemoryStore: Not enough space to cache rdd_25_0 in memory! (computed 16.0 MiB so far)\n",
      "23/03/26 06:33:55 WARN MemoryStore: Failed to reserve initial memory threshold of 1024.0 KiB for computing block rdd_25_6 in memory.\n",
      "23/03/26 06:33:55 WARN MemoryStore: Not enough space to cache rdd_25_6 in memory! (computed 384.0 B so far)\n",
      "23/03/26 06:33:55 WARN MemoryStore: Failed to reserve initial memory threshold of 1024.0 KiB for computing block rdd_25_4 in memory.\n",
      "23/03/26 06:33:55 WARN MemoryStore: Not enough space to cache rdd_25_4 in memory! (computed 384.0 B so far)\n",
      "23/03/26 06:33:56 WARN MemoryStore: Failed to reserve initial memory threshold of 1024.0 KiB for computing block rdd_25_5 in memory.\n",
      "23/03/26 06:33:56 WARN MemoryStore: Not enough space to cache rdd_25_5 in memory! (computed 384.0 B so far)\n"
     ]
    },
    {
     "name": "stderr",
     "output_type": "stream",
     "text": [
      "[Stage 6:=======================>                                  (8 + 8) / 20]\r"
     ]
    },
    {
     "name": "stdout",
     "output_type": "stream",
     "text": [
      "23/03/26 06:34:47 WARN MemoryStore: Not enough space to cache rdd_23_9 in memory! (computed 1364.5 MiB so far)\n",
      "23/03/26 06:34:47 WARN MemoryStore: Not enough space to cache rdd_23_8 in memory! (computed 1364.5 MiB so far)\n",
      "23/03/26 06:34:47 WARN MemoryStore: Not enough space to cache rdd_23_15 in memory! (computed 589.3 MiB so far)\n",
      "23/03/26 06:34:47 WARN BlockManager: Persisting block rdd_23_9 to disk instead.\n",
      "23/03/26 06:34:47 WARN BlockManager: Persisting block rdd_23_15 to disk instead.\n",
      "23/03/26 06:34:47 WARN MemoryStore: Not enough space to cache rdd_23_10 in memory! (computed 1364.5 MiB so far)\n",
      "23/03/26 06:34:47 WARN BlockManager: Persisting block rdd_23_10 to disk instead.\n",
      "23/03/26 06:34:47 WARN BlockManager: Persisting block rdd_23_8 to disk instead.\n",
      "23/03/26 06:34:47 WARN MemoryStore: Not enough space to cache rdd_23_11 in memory! (computed 1364.5 MiB so far)\n",
      "23/03/26 06:34:47 WARN BlockManager: Persisting block rdd_23_11 to disk instead.\n",
      "23/03/26 06:34:48 WARN MemoryStore: Not enough space to cache rdd_23_12 in memory! (computed 1364.5 MiB so far)\n",
      "23/03/26 06:34:48 WARN BlockManager: Persisting block rdd_23_12 to disk instead.\n",
      "23/03/26 06:34:49 WARN MemoryStore: Not enough space to cache rdd_23_13 in memory! (computed 1364.5 MiB so far)\n",
      "23/03/26 06:34:49 WARN BlockManager: Persisting block rdd_23_13 to disk instead.\n"
     ]
    },
    {
     "name": "stderr",
     "output_type": "stream",
     "text": [
      "[Stage 6:==========================>                               (9 + 8) / 20]\r"
     ]
    },
    {
     "name": "stdout",
     "output_type": "stream",
     "text": [
      "23/03/26 06:35:54 WARN MemoryStore: Not enough space to cache rdd_23_13 in memory! (computed 3.0 GiB so far)\n",
      "23/03/26 06:35:55 WARN MemoryStore: Not enough space to cache rdd_23_16 in memory! (computed 252.9 MiB so far)\n",
      "23/03/26 06:35:55 WARN BlockManager: Persisting block rdd_23_16 to disk instead.\n",
      "23/03/26 06:35:55 WARN MemoryStore: Not enough space to cache rdd_23_12 in memory! (computed 252.9 MiB so far)\n",
      "23/03/26 06:35:56 WARN MemoryStore: Not enough space to cache rdd_23_12 in memory! (computed 112.4 MiB so far)\n",
      "23/03/26 06:35:56 WARN MemoryStore: Not enough space to cache rdd_23_13 in memory! (computed 380.1 MiB so far)\n"
     ]
    },
    {
     "name": "stderr",
     "output_type": "stream",
     "text": [
      "[Stage 6:===============================>                         (11 + 8) / 20]\r"
     ]
    },
    {
     "name": "stdout",
     "output_type": "stream",
     "text": [
      "23/03/26 06:36:43 WARN MemoryStore: Not enough space to cache rdd_23_18 in memory! (computed 1364.5 MiB so far)\n",
      "23/03/26 06:36:43 WARN BlockManager: Persisting block rdd_23_18 to disk instead.\n",
      "23/03/26 06:36:43 WARN MemoryStore: Not enough space to cache rdd_23_17 in memory! (computed 2046.8 MiB so far)\n",
      "23/03/26 06:36:43 WARN BlockManager: Persisting block rdd_23_17 to disk instead.\n",
      "23/03/26 06:36:52 WARN MemoryStore: Not enough space to cache rdd_23_11 in memory! (computed 909.7 MiB so far)\n",
      "23/03/26 06:36:52 WARN MemoryStore: Not enough space to cache rdd_23_10 in memory! (computed 909.7 MiB so far)\n",
      "23/03/26 06:36:53 WARN MemoryStore: Not enough space to cache rdd_23_11 in memory! (computed 31.4 MiB so far)\n",
      "23/03/26 06:36:53 WARN MemoryStore: Not enough space to cache rdd_23_10 in memory! (computed 20.9 MiB so far)\n",
      "23/03/26 06:36:53 WARN MemoryStore: Not enough space to cache rdd_23_9 in memory! (computed 2046.8 MiB so far)\n",
      "23/03/26 06:36:53 WARN MemoryStore: Not enough space to cache rdd_23_8 in memory! (computed 31.4 MiB so far)\n",
      "23/03/26 06:36:53 WARN MemoryStore: Not enough space to cache rdd_23_8 in memory! (computed 5.3 MiB so far)\n",
      "23/03/26 06:37:07 WARN MemoryStore: Not enough space to cache rdd_23_15 in memory! (computed 2046.8 MiB so far)\n",
      "23/03/26 06:37:08 WARN MemoryStore: Not enough space to cache rdd_23_15 in memory! (computed 589.3 MiB so far)\n",
      "23/03/26 06:37:09 WARN MemoryStore: Not enough space to cache rdd_23_9 in memory! (computed 3.0 GiB so far)\n"
     ]
    },
    {
     "name": "stderr",
     "output_type": "stream",
     "text": [
      "[Stage 6:=======================================>                 (14 + 6) / 20]\r"
     ]
    },
    {
     "name": "stdout",
     "output_type": "stream",
     "text": [
      "23/03/26 06:38:02 WARN MemoryStore: Not enough space to cache rdd_23_16 in memory! (computed 6.9 GiB so far)\n"
     ]
    },
    {
     "name": "stderr",
     "output_type": "stream",
     "text": [
      "[Stage 6:=============================================>           (16 + 4) / 20]\r"
     ]
    },
    {
     "name": "stdout",
     "output_type": "stream",
     "text": [
      "23/03/26 06:38:04 WARN MemoryStore: Not enough space to cache rdd_23_16 in memory! (computed 1364.5 MiB so far)\n",
      "23/03/26 06:38:08 WARN MemoryStore: Not enough space to cache rdd_23_19 in memory! (computed 909.7 MiB so far)\n",
      "23/03/26 06:38:08 WARN MemoryStore: Not enough space to cache rdd_23_18 in memory! (computed 1364.5 MiB so far)\n",
      "23/03/26 06:38:08 WARN BlockManager: Persisting block rdd_23_19 to disk instead.\n",
      "23/03/26 06:38:08 WARN MemoryStore: Not enough space to cache rdd_23_17 in memory! (computed 252.9 MiB so far)\n",
      "23/03/26 06:38:10 WARN MemoryStore: Not enough space to cache rdd_23_18 in memory! (computed 380.1 MiB so far)\n",
      "23/03/26 06:38:10 WARN MemoryStore: Not enough space to cache rdd_23_17 in memory! (computed 380.1 MiB so far)\n"
     ]
    },
    {
     "name": "stderr",
     "output_type": "stream",
     "text": [
      "[Stage 6:======================================================>  (19 + 1) / 20]\r"
     ]
    },
    {
     "name": "stdout",
     "output_type": "stream",
     "text": [
      "23/03/26 06:39:09 WARN MemoryStore: Not enough space to cache rdd_23_19 in memory! (computed 6.9 GiB so far)\n",
      "23/03/26 06:39:11 WARN MemoryStore: Not enough space to cache rdd_23_19 in memory! (computed 2046.8 MiB so far)\n"
     ]
    },
    {
     "name": "stderr",
     "output_type": "stream",
     "text": [
      "[Stage 8:>                                                         (0 + 8) / 20]\r"
     ]
    },
    {
     "name": "stdout",
     "output_type": "stream",
     "text": [
      "23/03/26 06:39:27 WARN MemoryStore: Not enough space to cache rdd_23_4 in memory! (computed 909.7 MiB so far)\n",
      "23/03/26 06:39:27 WARN MemoryStore: Not enough space to cache rdd_23_6 in memory! (computed 909.7 MiB so far)\n",
      "23/03/26 06:39:27 WARN MemoryStore: Not enough space to cache rdd_23_2 in memory! (computed 909.7 MiB so far)\n",
      "23/03/26 06:39:28 WARN MemoryStore: Not enough space to cache rdd_23_1 in memory! (computed 1364.5 MiB so far)\n",
      "23/03/26 06:39:28 WARN MemoryStore: Not enough space to cache rdd_23_5 in memory! (computed 1364.5 MiB so far)\n",
      "23/03/26 06:39:28 WARN MemoryStore: Not enough space to cache rdd_23_3 in memory! (computed 1364.5 MiB so far)\n",
      "23/03/26 06:39:28 WARN MemoryStore: Not enough space to cache rdd_25_3 in memory! (computed 4.0 MiB so far)\n",
      "23/03/26 06:39:28 WARN MemoryStore: Not enough space to cache rdd_25_2 in memory! (computed 32.0 MiB so far)\n",
      "23/03/26 06:39:28 WARN MemoryStore: Not enough space to cache rdd_25_1 in memory! (computed 16.0 MiB so far)\n",
      "23/03/26 06:39:28 WARN MemoryStore: Not enough space to cache rdd_25_5 in memory! (computed 8.0 MiB so far)\n",
      "23/03/26 06:39:29 WARN MemoryStore: Not enough space to cache rdd_25_6 in memory! (computed 32.0 MiB so far)\n",
      "23/03/26 06:39:29 WARN MemoryStore: Not enough space to cache rdd_25_4 in memory! (computed 32.0 MiB so far)\n",
      "23/03/26 06:39:29 WARN MemoryStore: Not enough space to cache rdd_23_7 in memory! (computed 1364.5 MiB so far)\n",
      "23/03/26 06:39:29 WARN MemoryStore: Not enough space to cache rdd_23_0 in memory! (computed 1364.5 MiB so far)\n",
      "23/03/26 06:39:29 WARN MemoryStore: Failed to reserve initial memory threshold of 1024.0 KiB for computing block rdd_25_0 in memory.\n",
      "23/03/26 06:39:29 WARN MemoryStore: Not enough space to cache rdd_25_0 in memory! (computed 384.0 B so far)\n",
      "23/03/26 06:39:29 WARN MemoryStore: Not enough space to cache rdd_25_7 in memory! (computed 2.0 MiB so far)\n"
     ]
    },
    {
     "name": "stderr",
     "output_type": "stream",
     "text": [
      "[Stage 8:=======================>                                  (8 + 8) / 20]\r"
     ]
    },
    {
     "name": "stdout",
     "output_type": "stream",
     "text": [
      "23/03/26 06:40:09 WARN MemoryStore: Not enough space to cache rdd_23_14 in memory! (computed 589.3 MiB so far)\n",
      "23/03/26 06:40:09 WARN MemoryStore: Not enough space to cache rdd_23_9 in memory! (computed 1364.5 MiB so far)\n",
      "23/03/26 06:40:09 WARN MemoryStore: Not enough space to cache rdd_23_15 in memory! (computed 589.3 MiB so far)\n",
      "23/03/26 06:40:09 WARN MemoryStore: Not enough space to cache rdd_23_11 in memory! (computed 1364.5 MiB so far)\n",
      "23/03/26 06:40:09 WARN MemoryStore: Not enough space to cache rdd_23_10 in memory! (computed 1364.5 MiB so far)\n",
      "23/03/26 06:40:09 WARN MemoryStore: Not enough space to cache rdd_23_13 in memory! (computed 909.7 MiB so far)\n",
      "23/03/26 06:40:09 WARN MemoryStore: Not enough space to cache rdd_25_14 in memory! (computed 16.0 MiB so far)\n",
      "23/03/26 06:40:09 WARN MemoryStore: Not enough space to cache rdd_25_9 in memory! (computed 16.0 MiB so far)\n",
      "23/03/26 06:40:09 WARN MemoryStore: Not enough space to cache rdd_25_10 in memory! (computed 8.0 MiB so far)\n",
      "23/03/26 06:40:09 WARN MemoryStore: Not enough space to cache rdd_25_13 in memory! (computed 4.0 MiB so far)\n",
      "23/03/26 06:40:10 WARN MemoryStore: Not enough space to cache rdd_25_11 in memory! (computed 8.0 MiB so far)\n",
      "23/03/26 06:40:10 WARN MemoryStore: Not enough space to cache rdd_23_12 in memory! (computed 1364.5 MiB so far)\n",
      "23/03/26 06:40:10 WARN MemoryStore: Not enough space to cache rdd_25_12 in memory! (computed 2.0 MiB so far)\n",
      "23/03/26 06:40:21 WARN MemoryStore: Not enough space to cache rdd_23_8 in memory! (computed 6.9 GiB so far)\n"
     ]
    },
    {
     "name": "stderr",
     "output_type": "stream",
     "text": [
      "[Stage 8:===============================>                         (11 + 8) / 20]\r"
     ]
    },
    {
     "name": "stdout",
     "output_type": "stream",
     "text": [
      "23/03/26 06:40:33 WARN MemoryStore: Not enough space to cache rdd_23_16 in memory! (computed 1364.5 MiB so far)\n",
      "23/03/26 06:40:33 WARN MemoryStore: Not enough space to cache rdd_23_17 in memory! (computed 589.3 MiB so far)\n",
      "23/03/26 06:40:33 WARN MemoryStore: Not enough space to cache rdd_25_16 in memory! (computed 4.0 MiB so far)\n",
      "23/03/26 06:40:33 WARN MemoryStore: Not enough space to cache rdd_23_18 in memory! (computed 589.3 MiB so far)\n",
      "23/03/26 06:40:33 WARN MemoryStore: Failed to reserve initial memory threshold of 1024.0 KiB for computing block rdd_25_18 in memory.\n",
      "23/03/26 06:40:33 WARN MemoryStore: Not enough space to cache rdd_25_18 in memory! (computed 384.0 B so far)\n"
     ]
    },
    {
     "name": "stderr",
     "output_type": "stream",
     "text": [
      "[Stage 8:=============================================>           (16 + 4) / 20]\r"
     ]
    },
    {
     "name": "stdout",
     "output_type": "stream",
     "text": [
      "23/03/26 06:40:55 WARN MemoryStore: Not enough space to cache rdd_23_19 in memory! (computed 6.9 GiB so far)\n"
     ]
    },
    {
     "name": "stderr",
     "output_type": "stream",
     "text": [
      "[Stage 10:>                                                        (0 + 8) / 20]\r"
     ]
    },
    {
     "name": "stdout",
     "output_type": "stream",
     "text": [
      "23/03/26 06:41:05 WARN MemoryStore: Not enough space to cache rdd_23_4 in memory! (computed 909.7 MiB so far)\n",
      "23/03/26 06:41:05 WARN MemoryStore: Not enough space to cache rdd_23_2 in memory! (computed 909.7 MiB so far)\n",
      "23/03/26 06:41:05 WARN MemoryStore: Not enough space to cache rdd_23_0 in memory! (computed 909.7 MiB so far)\n",
      "23/03/26 06:41:06 WARN MemoryStore: Not enough space to cache rdd_23_7 in memory! (computed 1364.5 MiB so far)\n",
      "23/03/26 06:41:06 WARN MemoryStore: Not enough space to cache rdd_23_6 in memory! (computed 1364.5 MiB so far)\n",
      "23/03/26 06:41:06 WARN MemoryStore: Not enough space to cache rdd_23_1 in memory! (computed 1364.5 MiB so far)\n",
      "23/03/26 06:41:06 WARN MemoryStore: Not enough space to cache rdd_25_7 in memory! (computed 8.0 MiB so far)\n",
      "23/03/26 06:41:07 WARN MemoryStore: Not enough space to cache rdd_23_5 in memory! (computed 1364.5 MiB so far)\n",
      "23/03/26 06:41:07 WARN MemoryStore: Failed to reserve initial memory threshold of 1024.0 KiB for computing block rdd_25_5 in memory.\n",
      "23/03/26 06:41:07 WARN MemoryStore: Not enough space to cache rdd_25_5 in memory! (computed 384.0 B so far)\n",
      "23/03/26 06:41:07 WARN MemoryStore: Not enough space to cache rdd_25_1 in memory! (computed 2.0 MiB so far)\n",
      "23/03/26 06:41:07 WARN MemoryStore: Not enough space to cache rdd_25_6 in memory! (computed 4.0 MiB so far)\n",
      "23/03/26 06:41:07 WARN MemoryStore: Not enough space to cache rdd_25_2 in memory! (computed 32.0 MiB so far)\n",
      "23/03/26 06:41:07 WARN MemoryStore: Not enough space to cache rdd_23_3 in memory! (computed 1364.5 MiB so far)\n",
      "23/03/26 06:41:07 WARN MemoryStore: Not enough space to cache rdd_25_3 in memory! (computed 4.0 MiB so far)\n"
     ]
    },
    {
     "name": "stderr",
     "output_type": "stream",
     "text": [
      "[Stage 10:======================>                                  (8 + 8) / 20]\r"
     ]
    },
    {
     "name": "stdout",
     "output_type": "stream",
     "text": [
      "23/03/26 06:41:47 WARN MemoryStore: Not enough space to cache rdd_23_14 in memory! (computed 589.3 MiB so far)\n",
      "23/03/26 06:41:47 WARN MemoryStore: Not enough space to cache rdd_23_15 in memory! (computed 589.3 MiB so far)\n",
      "23/03/26 06:41:47 WARN MemoryStore: Not enough space to cache rdd_23_13 in memory! (computed 909.7 MiB so far)\n",
      "23/03/26 06:41:47 WARN MemoryStore: Failed to reserve initial memory threshold of 1024.0 KiB for computing block rdd_25_13 in memory.\n",
      "23/03/26 06:41:47 WARN MemoryStore: Not enough space to cache rdd_25_13 in memory! (computed 384.0 B so far)\n",
      "23/03/26 06:41:48 WARN MemoryStore: Not enough space to cache rdd_23_9 in memory! (computed 1364.5 MiB so far)\n",
      "23/03/26 06:41:48 WARN MemoryStore: Failed to reserve initial memory threshold of 1024.0 KiB for computing block rdd_25_9 in memory.\n",
      "23/03/26 06:41:48 WARN MemoryStore: Not enough space to cache rdd_25_9 in memory! (computed 384.0 B so far)\n",
      "23/03/26 06:41:48 WARN MemoryStore: Not enough space to cache rdd_25_14 in memory! (computed 16.0 MiB so far)\n",
      "23/03/26 06:41:48 WARN MemoryStore: Not enough space to cache rdd_23_10 in memory! (computed 1364.5 MiB so far)\n",
      "23/03/26 06:41:48 WARN MemoryStore: Failed to reserve initial memory threshold of 1024.0 KiB for computing block rdd_25_10 in memory.\n",
      "23/03/26 06:41:48 WARN MemoryStore: Not enough space to cache rdd_25_10 in memory! (computed 384.0 B so far)\n",
      "23/03/26 06:41:48 WARN MemoryStore: Not enough space to cache rdd_23_11 in memory! (computed 1364.5 MiB so far)\n",
      "23/03/26 06:41:48 WARN MemoryStore: Failed to reserve initial memory threshold of 1024.0 KiB for computing block rdd_25_11 in memory.\n",
      "23/03/26 06:41:48 WARN MemoryStore: Not enough space to cache rdd_25_11 in memory! (computed 384.0 B so far)\n",
      "23/03/26 06:41:48 WARN MemoryStore: Not enough space to cache rdd_23_12 in memory! (computed 1364.5 MiB so far)\n",
      "23/03/26 06:41:48 WARN MemoryStore: Failed to reserve initial memory threshold of 1024.0 KiB for computing block rdd_25_12 in memory.\n",
      "23/03/26 06:41:48 WARN MemoryStore: Not enough space to cache rdd_25_12 in memory! (computed 384.0 B so far)\n",
      "23/03/26 06:41:48 WARN MemoryStore: Not enough space to cache rdd_23_8 in memory! (computed 2046.8 MiB so far)\n"
     ]
    },
    {
     "name": "stderr",
     "output_type": "stream",
     "text": [
      "[Stage 10:==============================>                         (11 + 8) / 20]\r"
     ]
    },
    {
     "name": "stdout",
     "output_type": "stream",
     "text": [
      "23/03/26 06:42:16 WARN MemoryStore: Not enough space to cache rdd_23_16 in memory! (computed 3.0 GiB so far)\n",
      "23/03/26 06:42:16 WARN MemoryStore: Not enough space to cache rdd_23_17 in memory! (computed 3.0 GiB so far)\n",
      "23/03/26 06:42:17 WARN MemoryStore: Not enough space to cache rdd_23_18 in memory! (computed 3.0 GiB so far)\n"
     ]
    },
    {
     "name": "stderr",
     "output_type": "stream",
     "text": [
      "[Stage 10:===============================================>        (17 + 3) / 20]\r"
     ]
    },
    {
     "name": "stdout",
     "output_type": "stream",
     "text": [
      "23/03/26 06:42:36 WARN MemoryStore: Not enough space to cache rdd_23_19 in memory! (computed 6.9 GiB so far)\n"
     ]
    },
    {
     "name": "stderr",
     "output_type": "stream",
     "text": [
      "[Stage 12:>                                                        (0 + 8) / 20]\r"
     ]
    },
    {
     "name": "stdout",
     "output_type": "stream",
     "text": [
      "23/03/26 06:42:46 WARN MemoryStore: Not enough space to cache rdd_23_1 in memory! (computed 909.7 MiB so far)\n",
      "23/03/26 06:42:46 WARN MemoryStore: Not enough space to cache rdd_23_2 in memory! (computed 909.7 MiB so far)\n",
      "23/03/26 06:42:46 WARN MemoryStore: Not enough space to cache rdd_23_5 in memory! (computed 909.7 MiB so far)\n",
      "23/03/26 06:42:47 WARN MemoryStore: Not enough space to cache rdd_25_1 in memory! (computed 16.0 MiB so far)\n",
      "23/03/26 06:42:47 WARN MemoryStore: Not enough space to cache rdd_25_5 in memory! (computed 16.0 MiB so far)\n",
      "23/03/26 06:42:47 WARN MemoryStore: Not enough space to cache rdd_25_2 in memory! (computed 16.0 MiB so far)\n",
      "23/03/26 06:42:47 WARN MemoryStore: Not enough space to cache rdd_23_6 in memory! (computed 1364.5 MiB so far)\n",
      "23/03/26 06:42:47 WARN MemoryStore: Failed to reserve initial memory threshold of 1024.0 KiB for computing block rdd_25_6 in memory.\n",
      "23/03/26 06:42:47 WARN MemoryStore: Not enough space to cache rdd_25_6 in memory! (computed 384.0 B so far)\n",
      "23/03/26 06:42:47 WARN MemoryStore: Not enough space to cache rdd_23_3 in memory! (computed 1364.5 MiB so far)\n",
      "23/03/26 06:42:47 WARN MemoryStore: Failed to reserve initial memory threshold of 1024.0 KiB for computing block rdd_25_3 in memory.\n",
      "23/03/26 06:42:47 WARN MemoryStore: Not enough space to cache rdd_25_3 in memory! (computed 384.0 B so far)\n",
      "23/03/26 06:42:47 WARN MemoryStore: Not enough space to cache rdd_23_0 in memory! (computed 1364.5 MiB so far)\n",
      "23/03/26 06:42:47 WARN MemoryStore: Not enough space to cache rdd_23_4 in memory! (computed 1364.5 MiB so far)\n",
      "23/03/26 06:42:47 WARN MemoryStore: Not enough space to cache rdd_23_7 in memory! (computed 1364.5 MiB so far)\n",
      "23/03/26 06:42:47 WARN MemoryStore: Failed to reserve initial memory threshold of 1024.0 KiB for computing block rdd_25_7 in memory.\n",
      "23/03/26 06:42:47 WARN MemoryStore: Not enough space to cache rdd_25_7 in memory! (computed 384.0 B so far)\n"
     ]
    },
    {
     "name": "stderr",
     "output_type": "stream",
     "text": [
      "[Stage 12:======================>                                  (8 + 8) / 20]\r"
     ]
    },
    {
     "name": "stdout",
     "output_type": "stream",
     "text": [
      "23/03/26 06:43:28 WARN MemoryStore: Not enough space to cache rdd_23_9 in memory! (computed 1364.5 MiB so far)\n",
      "23/03/26 06:43:30 WARN MemoryStore: Not enough space to cache rdd_23_10 in memory! (computed 2046.8 MiB so far)\n",
      "23/03/26 06:43:30 WARN MemoryStore: Not enough space to cache rdd_23_8 in memory! (computed 2046.8 MiB so far)\n",
      "23/03/26 06:43:30 WARN MemoryStore: Not enough space to cache rdd_23_13 in memory! (computed 909.7 MiB so far)\n",
      "23/03/26 06:43:30 WARN MemoryStore: Not enough space to cache rdd_23_11 in memory! (computed 1364.5 MiB so far)\n",
      "23/03/26 06:43:30 WARN MemoryStore: Not enough space to cache rdd_23_12 in memory! (computed 909.7 MiB so far)\n",
      "23/03/26 06:43:30 WARN MemoryStore: Not enough space to cache rdd_23_14 in memory! (computed 589.3 MiB so far)\n",
      "23/03/26 06:43:30 WARN MemoryStore: Failed to reserve initial memory threshold of 1024.0 KiB for computing block rdd_25_14 in memory.\n",
      "23/03/26 06:43:30 WARN MemoryStore: Not enough space to cache rdd_25_14 in memory! (computed 384.0 B so far)\n",
      "23/03/26 06:43:30 WARN MemoryStore: Failed to reserve initial memory threshold of 1024.0 KiB for computing block rdd_25_10 in memory.\n",
      "23/03/26 06:43:30 WARN MemoryStore: Not enough space to cache rdd_25_10 in memory! (computed 384.0 B so far)\n",
      "23/03/26 06:43:30 WARN MemoryStore: Not enough space to cache rdd_25_13 in memory! (computed 1024.2 KiB so far)\n",
      "23/03/26 06:43:30 WARN MemoryStore: Not enough space to cache rdd_25_12 in memory! (computed 1024.2 KiB so far)\n",
      "23/03/26 06:43:30 WARN MemoryStore: Not enough space to cache rdd_25_11 in memory! (computed 1024.2 KiB so far)\n",
      "23/03/26 06:43:30 WARN MemoryStore: Not enough space to cache rdd_25_8 in memory! (computed 2.0 MiB so far)\n",
      "23/03/26 06:43:30 WARN MemoryStore: Not enough space to cache rdd_25_9 in memory! (computed 8.0 MiB so far)\n",
      "23/03/26 06:43:30 WARN MemoryStore: Not enough space to cache rdd_23_15 in memory! (computed 380.1 MiB so far)\n",
      "23/03/26 06:43:30 WARN MemoryStore: Failed to reserve initial memory threshold of 1024.0 KiB for computing block rdd_25_15 in memory.\n",
      "23/03/26 06:43:30 WARN MemoryStore: Not enough space to cache rdd_25_15 in memory! (computed 384.0 B so far)\n"
     ]
    },
    {
     "name": "stderr",
     "output_type": "stream",
     "text": [
      "[Stage 12:==============================>                         (11 + 8) / 20]\r"
     ]
    },
    {
     "name": "stdout",
     "output_type": "stream",
     "text": [
      "23/03/26 06:43:58 WARN MemoryStore: Not enough space to cache rdd_23_16 in memory! (computed 3.0 GiB so far)\n",
      "23/03/26 06:43:59 WARN MemoryStore: Not enough space to cache rdd_23_17 in memory! (computed 3.0 GiB so far)\n",
      "23/03/26 06:44:00 WARN MemoryStore: Not enough space to cache rdd_23_18 in memory! (computed 3.0 GiB so far)\n"
     ]
    },
    {
     "name": "stderr",
     "output_type": "stream",
     "text": [
      "[Stage 12:===============================================>        (17 + 3) / 20]\r"
     ]
    },
    {
     "name": "stdout",
     "output_type": "stream",
     "text": [
      "23/03/26 06:44:19 WARN MemoryStore: Not enough space to cache rdd_23_19 in memory! (computed 6.9 GiB so far)\n"
     ]
    },
    {
     "name": "stderr",
     "output_type": "stream",
     "text": [
      "[Stage 14:>                                                        (0 + 8) / 20]\r"
     ]
    },
    {
     "name": "stdout",
     "output_type": "stream",
     "text": [
      "23/03/26 06:44:29 WARN MemoryStore: Not enough space to cache rdd_23_5 in memory! (computed 909.7 MiB so far)\n",
      "23/03/26 06:44:29 WARN MemoryStore: Not enough space to cache rdd_23_2 in memory! (computed 909.7 MiB so far)\n",
      "23/03/26 06:44:29 WARN MemoryStore: Not enough space to cache rdd_23_6 in memory! (computed 909.7 MiB so far)\n",
      "23/03/26 06:44:30 WARN MemoryStore: Not enough space to cache rdd_23_3 in memory! (computed 1364.5 MiB so far)\n",
      "23/03/26 06:44:30 WARN MemoryStore: Not enough space to cache rdd_23_1 in memory! (computed 1364.5 MiB so far)\n",
      "23/03/26 06:44:30 WARN MemoryStore: Not enough space to cache rdd_23_4 in memory! (computed 1364.5 MiB so far)\n",
      "23/03/26 06:44:30 WARN MemoryStore: Not enough space to cache rdd_25_3 in memory! (computed 2.0 MiB so far)\n",
      "23/03/26 06:44:30 WARN MemoryStore: Not enough space to cache rdd_25_1 in memory! (computed 2.0 MiB so far)\n",
      "23/03/26 06:44:30 WARN MemoryStore: Not enough space to cache rdd_25_5 in memory! (computed 32.0 MiB so far)\n",
      "23/03/26 06:44:30 WARN MemoryStore: Not enough space to cache rdd_23_7 in memory! (computed 1364.5 MiB so far)\n",
      "23/03/26 06:44:30 WARN MemoryStore: Not enough space to cache rdd_23_0 in memory! (computed 1364.5 MiB so far)\n",
      "23/03/26 06:44:30 WARN MemoryStore: Not enough space to cache rdd_25_2 in memory! (computed 32.0 MiB so far)\n",
      "23/03/26 06:44:30 WARN MemoryStore: Not enough space to cache rdd_25_7 in memory! (computed 1024.2 KiB so far)\n",
      "23/03/26 06:44:30 WARN MemoryStore: Not enough space to cache rdd_25_6 in memory! (computed 32.0 MiB so far)\n"
     ]
    },
    {
     "name": "stderr",
     "output_type": "stream",
     "text": [
      "[Stage 14:======================>                                  (8 + 8) / 20]\r"
     ]
    },
    {
     "name": "stdout",
     "output_type": "stream",
     "text": [
      "23/03/26 06:45:11 WARN MemoryStore: Not enough space to cache rdd_23_10 in memory! (computed 1364.5 MiB so far)\n",
      "23/03/26 06:45:12 WARN MemoryStore: Not enough space to cache rdd_25_10 in memory! (computed 8.0 MiB so far)\n",
      "23/03/26 06:45:12 WARN MemoryStore: Not enough space to cache rdd_23_15 in memory! (computed 380.1 MiB so far)\n",
      "23/03/26 06:45:12 WARN MemoryStore: Not enough space to cache rdd_23_12 in memory! (computed 909.7 MiB so far)\n",
      "23/03/26 06:45:12 WARN MemoryStore: Not enough space to cache rdd_25_15 in memory! (computed 4.0 MiB so far)\n",
      "23/03/26 06:45:12 WARN MemoryStore: Not enough space to cache rdd_25_12 in memory! (computed 2.0 MiB so far)\n",
      "23/03/26 06:45:12 WARN MemoryStore: Not enough space to cache rdd_23_14 in memory! (computed 589.3 MiB so far)\n",
      "23/03/26 06:45:12 WARN MemoryStore: Failed to reserve initial memory threshold of 1024.0 KiB for computing block rdd_25_14 in memory.\n",
      "23/03/26 06:45:12 WARN MemoryStore: Not enough space to cache rdd_25_14 in memory! (computed 384.0 B so far)\n",
      "23/03/26 06:45:13 WARN MemoryStore: Not enough space to cache rdd_23_13 in memory! (computed 909.7 MiB so far)\n",
      "23/03/26 06:45:13 WARN MemoryStore: Failed to reserve initial memory threshold of 1024.0 KiB for computing block rdd_25_13 in memory.\n",
      "23/03/26 06:45:13 WARN MemoryStore: Not enough space to cache rdd_25_13 in memory! (computed 384.0 B so far)\n",
      "23/03/26 06:45:13 WARN MemoryStore: Not enough space to cache rdd_23_8 in memory! (computed 2046.8 MiB so far)\n",
      "23/03/26 06:45:13 WARN MemoryStore: Not enough space to cache rdd_23_9 in memory! (computed 2046.8 MiB so far)\n",
      "23/03/26 06:45:13 WARN MemoryStore: Failed to reserve initial memory threshold of 1024.0 KiB for computing block rdd_25_9 in memory.\n",
      "23/03/26 06:45:13 WARN MemoryStore: Not enough space to cache rdd_25_9 in memory! (computed 384.0 B so far)\n",
      "23/03/26 06:45:13 WARN MemoryStore: Failed to reserve initial memory threshold of 1024.0 KiB for computing block rdd_25_8 in memory.\n",
      "23/03/26 06:45:13 WARN MemoryStore: Not enough space to cache rdd_25_8 in memory! (computed 384.0 B so far)\n",
      "23/03/26 06:45:13 WARN MemoryStore: Not enough space to cache rdd_23_11 in memory! (computed 1364.5 MiB so far)\n",
      "23/03/26 06:45:13 WARN MemoryStore: Failed to reserve initial memory threshold of 1024.0 KiB for computing block rdd_25_11 in memory.\n",
      "23/03/26 06:45:13 WARN MemoryStore: Not enough space to cache rdd_25_11 in memory! (computed 384.0 B so far)\n"
     ]
    },
    {
     "name": "stderr",
     "output_type": "stream",
     "text": [
      "[Stage 14:==============================>                         (11 + 8) / 20]\r"
     ]
    },
    {
     "name": "stdout",
     "output_type": "stream",
     "text": [
      "23/03/26 06:45:41 WARN MemoryStore: Not enough space to cache rdd_23_16 in memory! (computed 3.0 GiB so far)\n",
      "23/03/26 06:45:42 WARN MemoryStore: Not enough space to cache rdd_23_17 in memory! (computed 3.0 GiB so far)\n",
      "23/03/26 06:45:43 WARN MemoryStore: Not enough space to cache rdd_23_18 in memory! (computed 3.0 GiB so far)\n"
     ]
    },
    {
     "name": "stderr",
     "output_type": "stream",
     "text": [
      "[Stage 14:===============================================>        (17 + 3) / 20]\r"
     ]
    },
    {
     "name": "stdout",
     "output_type": "stream",
     "text": [
      "23/03/26 06:46:02 WARN MemoryStore: Not enough space to cache rdd_23_19 in memory! (computed 6.9 GiB so far)\n"
     ]
    },
    {
     "name": "stderr",
     "output_type": "stream",
     "text": [
      "[Stage 16:>                                                        (0 + 8) / 20]\r"
     ]
    },
    {
     "name": "stdout",
     "output_type": "stream",
     "text": [
      "23/03/26 06:46:14 WARN MemoryStore: Not enough space to cache rdd_23_0 in memory! (computed 909.7 MiB so far)\n",
      "23/03/26 06:46:14 WARN MemoryStore: Not enough space to cache rdd_23_1 in memory! (computed 909.7 MiB so far)\n",
      "23/03/26 06:46:14 WARN MemoryStore: Not enough space to cache rdd_23_2 in memory! (computed 909.7 MiB so far)\n",
      "23/03/26 06:46:14 WARN MemoryStore: Not enough space to cache rdd_23_1 in memory! (computed 47.4 MiB so far)\n",
      "23/03/26 06:46:14 WARN MemoryStore: Not enough space to cache rdd_23_0 in memory! (computed 73.6 MiB so far)\n",
      "23/03/26 06:46:14 WARN MemoryStore: Not enough space to cache rdd_23_2 in memory! (computed 47.4 MiB so far)\n",
      "23/03/26 06:46:14 WARN MemoryStore: Not enough space to cache rdd_23_1 in memory! (computed 5.3 MiB so far)\n",
      "23/03/26 06:46:14 WARN MemoryStore: Not enough space to cache rdd_23_0 in memory! (computed 2.3 MiB so far)\n",
      "23/03/26 06:46:14 WARN MemoryStore: Failed to reserve initial memory threshold of 1024.0 KiB for computing block rdd_43_0 in memory.\n",
      "23/03/26 06:46:14 WARN MemoryStore: Not enough space to cache rdd_43_0 in memory! (computed 384.0 B so far)\n",
      "23/03/26 06:46:14 WARN BlockManager: Persisting block rdd_43_0 to disk instead.\n",
      "23/03/26 06:46:14 WARN MemoryStore: Not enough space to cache rdd_23_2 in memory! (computed 1557.2 KiB so far)\n",
      "23/03/26 06:46:14 WARN MemoryStore: Not enough space to cache rdd_43_1 in memory! (computed 3.7 MiB so far)\n",
      "23/03/26 06:46:14 WARN BlockManager: Persisting block rdd_43_1 to disk instead.\n",
      "23/03/26 06:46:15 WARN MemoryStore: Not enough space to cache rdd_23_4 in memory! (computed 1364.5 MiB so far)\n",
      "23/03/26 06:46:15 WARN MemoryStore: Not enough space to cache rdd_23_4 in memory! (computed 1557.2 KiB so far)\n",
      "23/03/26 06:46:15 WARN MemoryStore: Failed to reserve initial memory threshold of 1024.0 KiB for computing block rdd_23_4 in memory.\n",
      "23/03/26 06:46:15 WARN MemoryStore: Not enough space to cache rdd_23_4 in memory! (computed 384.0 B so far)\n",
      "23/03/26 06:46:15 WARN MemoryStore: Failed to reserve initial memory threshold of 1024.0 KiB for computing block rdd_43_4 in memory.\n",
      "23/03/26 06:46:15 WARN MemoryStore: Not enough space to cache rdd_43_4 in memory! (computed 384.0 B so far)\n",
      "23/03/26 06:46:15 WARN BlockManager: Persisting block rdd_43_4 to disk instead.\n",
      "23/03/26 06:46:15 WARN MemoryStore: Not enough space to cache rdd_23_3 in memory! (computed 1364.5 MiB so far)\n",
      "23/03/26 06:46:15 WARN MemoryStore: Failed to reserve initial memory threshold of 1024.0 KiB for computing block rdd_23_3 in memory.\n",
      "23/03/26 06:46:15 WARN MemoryStore: Not enough space to cache rdd_23_3 in memory! (computed 384.0 B so far)\n",
      "23/03/26 06:46:15 WARN MemoryStore: Failed to reserve initial memory threshold of 1024.0 KiB for computing block rdd_23_3 in memory.\n",
      "23/03/26 06:46:15 WARN MemoryStore: Not enough space to cache rdd_23_3 in memory! (computed 384.0 B so far)\n",
      "23/03/26 06:46:15 WARN MemoryStore: Failed to reserve initial memory threshold of 1024.0 KiB for computing block rdd_43_3 in memory.\n",
      "23/03/26 06:46:15 WARN MemoryStore: Not enough space to cache rdd_43_3 in memory! (computed 384.0 B so far)\n",
      "23/03/26 06:46:15 WARN BlockManager: Persisting block rdd_43_3 to disk instead.\n",
      "23/03/26 06:46:15 WARN MemoryStore: Not enough space to cache rdd_43_2 in memory! (computed 8.2 MiB so far)\n",
      "23/03/26 06:46:15 WARN BlockManager: Persisting block rdd_43_2 to disk instead.\n",
      "23/03/26 06:46:15 WARN MemoryStore: Not enough space to cache rdd_23_5 in memory! (computed 1364.5 MiB so far)\n",
      "23/03/26 06:46:15 WARN MemoryStore: Failed to reserve initial memory threshold of 1024.0 KiB for computing block rdd_23_5 in memory.\n",
      "23/03/26 06:46:15 WARN MemoryStore: Not enough space to cache rdd_23_5 in memory! (computed 384.0 B so far)\n",
      "23/03/26 06:46:15 WARN MemoryStore: Failed to reserve initial memory threshold of 1024.0 KiB for computing block rdd_23_5 in memory.\n",
      "23/03/26 06:46:15 WARN MemoryStore: Not enough space to cache rdd_23_5 in memory! (computed 384.0 B so far)\n",
      "23/03/26 06:46:15 WARN MemoryStore: Failed to reserve initial memory threshold of 1024.0 KiB for computing block rdd_43_5 in memory.\n",
      "23/03/26 06:46:15 WARN MemoryStore: Not enough space to cache rdd_43_5 in memory! (computed 384.0 B so far)\n",
      "23/03/26 06:46:15 WARN BlockManager: Persisting block rdd_43_5 to disk instead.\n",
      "23/03/26 06:46:15 WARN MemoryStore: Not enough space to cache rdd_23_7 in memory! (computed 1364.5 MiB so far)\n",
      "23/03/26 06:46:15 WARN MemoryStore: Not enough space to cache rdd_23_7 in memory! (computed 9.1 MiB so far)\n",
      "23/03/26 06:46:15 WARN MemoryStore: Not enough space to cache rdd_23_7 in memory! (computed 1025.7 KiB so far)\n",
      "23/03/26 06:46:15 WARN MemoryStore: Failed to reserve initial memory threshold of 1024.0 KiB for computing block rdd_43_7 in memory.\n",
      "23/03/26 06:46:15 WARN MemoryStore: Not enough space to cache rdd_43_7 in memory! (computed 384.0 B so far)\n",
      "23/03/26 06:46:15 WARN BlockManager: Persisting block rdd_43_7 to disk instead.\n",
      "23/03/26 06:46:15 WARN MemoryStore: Not enough space to cache rdd_23_6 in memory! (computed 1364.5 MiB so far)\n",
      "23/03/26 06:46:15 WARN MemoryStore: Not enough space to cache rdd_23_6 in memory! (computed 1025.7 KiB so far)\n",
      "23/03/26 06:46:15 WARN MemoryStore: Failed to reserve initial memory threshold of 1024.0 KiB for computing block rdd_23_6 in memory.\n",
      "23/03/26 06:46:15 WARN MemoryStore: Not enough space to cache rdd_23_6 in memory! (computed 384.0 B so far)\n",
      "23/03/26 06:46:15 WARN MemoryStore: Failed to reserve initial memory threshold of 1024.0 KiB for computing block rdd_43_6 in memory.\n",
      "23/03/26 06:46:15 WARN MemoryStore: Not enough space to cache rdd_43_6 in memory! (computed 384.0 B so far)\n",
      "23/03/26 06:46:15 WARN BlockManager: Persisting block rdd_43_6 to disk instead.\n",
      "23/03/26 06:46:39 WARN MemoryStore: Failed to reserve initial memory threshold of 1024.0 KiB for computing block rdd_43_4 in memory.\n",
      "23/03/26 06:46:39 WARN MemoryStore: Not enough space to cache rdd_43_4 in memory! (computed 384.0 B so far)\n",
      "23/03/26 06:46:39 WARN MemoryStore: Failed to reserve initial memory threshold of 1024.0 KiB for computing block rdd_46_4 in memory.\n",
      "23/03/26 06:46:39 WARN MemoryStore: Not enough space to cache rdd_46_4 in memory! (computed 384.0 B so far)\n",
      "23/03/26 06:46:39 WARN BlockManager: Persisting block rdd_46_4 to disk instead.\n",
      "23/03/26 06:46:39 WARN MemoryStore: Not enough space to cache rdd_43_0 in memory! (computed 1663.4 KiB so far)\n",
      "23/03/26 06:46:39 WARN MemoryStore: Failed to reserve initial memory threshold of 1024.0 KiB for computing block rdd_46_0 in memory.\n",
      "23/03/26 06:46:39 WARN MemoryStore: Not enough space to cache rdd_46_0 in memory! (computed 384.0 B so far)\n",
      "23/03/26 06:46:39 WARN BlockManager: Persisting block rdd_46_0 to disk instead.\n",
      "23/03/26 06:46:40 WARN MemoryStore: Not enough space to cache rdd_43_2 in memory! (computed 19.5 MiB so far)\n",
      "23/03/26 06:46:40 WARN MemoryStore: Not enough space to cache rdd_43_1 in memory! (computed 19.5 MiB so far)\n",
      "23/03/26 06:46:40 WARN MemoryStore: Not enough space to cache rdd_43_6 in memory! (computed 5.5 MiB so far)\n",
      "23/03/26 06:46:40 WARN MemoryStore: Failed to reserve initial memory threshold of 1024.0 KiB for computing block rdd_46_6 in memory.\n",
      "23/03/26 06:46:40 WARN MemoryStore: Not enough space to cache rdd_46_6 in memory! (computed 384.0 B so far)\n",
      "23/03/26 06:46:40 WARN BlockManager: Persisting block rdd_46_6 to disk instead.\n",
      "23/03/26 06:46:41 WARN MemoryStore: Not enough space to cache rdd_46_2 in memory! (computed 6.2 MiB so far)\n",
      "23/03/26 06:46:41 WARN BlockManager: Persisting block rdd_46_2 to disk instead.\n",
      "23/03/26 06:46:41 WARN MemoryStore: Not enough space to cache rdd_46_1 in memory! (computed 6.2 MiB so far)\n",
      "23/03/26 06:46:41 WARN BlockManager: Persisting block rdd_46_1 to disk instead.\n",
      "23/03/26 06:46:41 WARN MemoryStore: Not enough space to cache rdd_43_7 in memory! (computed 65.8 MiB so far)\n",
      "23/03/26 06:46:41 WARN MemoryStore: Not enough space to cache rdd_43_5 in memory! (computed 43.9 MiB so far)\n",
      "23/03/26 06:46:41 WARN MemoryStore: Not enough space to cache rdd_43_3 in memory! (computed 8.2 MiB so far)\n",
      "23/03/26 06:46:42 WARN MemoryStore: Not enough space to cache rdd_46_3 in memory! (computed 2.7 MiB so far)\n",
      "23/03/26 06:46:42 WARN BlockManager: Persisting block rdd_46_3 to disk instead.\n",
      "23/03/26 06:46:42 WARN MemoryStore: Not enough space to cache rdd_46_7 in memory! (computed 10.8 MiB so far)\n",
      "23/03/26 06:46:42 WARN BlockManager: Persisting block rdd_46_7 to disk instead.\n",
      "23/03/26 06:47:01 WARN MemoryStore: Not enough space to cache rdd_46_5 in memory! (computed 172.8 MiB so far)\n",
      "23/03/26 06:47:01 WARN BlockManager: Persisting block rdd_46_5 to disk instead.\n",
      "23/03/26 06:47:10 WARN MemoryStore: Not enough space to cache rdd_46_4 in memory! (computed 43.2 MiB so far)\n",
      "23/03/26 06:47:10 WARN MemoryStore: Not enough space to cache rdd_46_5 in memory! (computed 10.8 MiB so far)\n",
      "23/03/26 06:47:10 WARN MemoryStore: Not enough space to cache rdd_46_0 in memory! (computed 24.3 MiB so far)\n",
      "23/03/26 06:47:10 WARN MemoryStore: Not enough space to cache rdd_46_1 in memory! (computed 43.2 MiB so far)\n",
      "23/03/26 06:47:10 WARN MemoryStore: Not enough space to cache rdd_46_7 in memory! (computed 64.8 MiB so far)\n",
      "23/03/26 06:47:10 WARN MemoryStore: Not enough space to cache rdd_46_2 in memory! (computed 2.7 MiB so far)\n",
      "23/03/26 06:47:10 WARN MemoryStore: Not enough space to cache rdd_46_6 in memory! (computed 2.7 MiB so far)\n"
     ]
    },
    {
     "name": "stderr",
     "output_type": "stream",
     "text": [
      "[Stage 16:=================>                                       (6 + 8) / 20]\r"
     ]
    },
    {
     "name": "stdout",
     "output_type": "stream",
     "text": [
      "23/03/26 06:47:53 WARN MemoryStore: Not enough space to cache rdd_23_12 in memory! (computed 909.7 MiB so far)\n",
      "23/03/26 06:47:53 WARN MemoryStore: Not enough space to cache rdd_23_11 in memory! (computed 909.7 MiB so far)\n",
      "23/03/26 06:47:53 WARN MemoryStore: Not enough space to cache rdd_23_13 in memory! (computed 909.7 MiB so far)\n",
      "23/03/26 06:47:53 WARN MemoryStore: Not enough space to cache rdd_23_9 in memory! (computed 2046.8 MiB so far)\n",
      "23/03/26 06:47:53 WARN MemoryStore: Not enough space to cache rdd_23_11 in memory! (computed 47.4 MiB so far)\n",
      "23/03/26 06:47:53 WARN MemoryStore: Not enough space to cache rdd_23_9 in memory! (computed 5.3 MiB so far)\n",
      "23/03/26 06:47:53 WARN MemoryStore: Not enough space to cache rdd_23_9 in memory! (computed 1025.7 KiB so far)\n",
      "23/03/26 06:47:53 WARN MemoryStore: Not enough space to cache rdd_23_11 in memory! (computed 2.3 MiB so far)\n",
      "23/03/26 06:47:53 WARN MemoryStore: Failed to reserve initial memory threshold of 1024.0 KiB for computing block rdd_43_11 in memory.\n",
      "23/03/26 06:47:53 WARN MemoryStore: Not enough space to cache rdd_43_11 in memory! (computed 384.0 B so far)\n",
      "23/03/26 06:47:53 WARN BlockManager: Persisting block rdd_43_11 to disk instead.\n",
      "23/03/26 06:47:53 WARN MemoryStore: Not enough space to cache rdd_23_13 in memory! (computed 112.4 MiB so far)\n",
      "23/03/26 06:47:53 WARN MemoryStore: Not enough space to cache rdd_23_13 in memory! (computed 2.3 MiB so far)\n",
      "23/03/26 06:47:53 WARN MemoryStore: Failed to reserve initial memory threshold of 1024.0 KiB for computing block rdd_43_13 in memory.\n",
      "23/03/26 06:47:53 WARN MemoryStore: Not enough space to cache rdd_43_13 in memory! (computed 384.0 B so far)\n",
      "23/03/26 06:47:53 WARN BlockManager: Persisting block rdd_43_13 to disk instead.\n",
      "23/03/26 06:47:53 WARN MemoryStore: Not enough space to cache rdd_23_12 in memory! (computed 168.6 MiB so far)\n",
      "23/03/26 06:47:53 WARN MemoryStore: Not enough space to cache rdd_23_12 in memory! (computed 2.3 MiB so far)\n",
      "23/03/26 06:47:53 WARN MemoryStore: Failed to reserve initial memory threshold of 1024.0 KiB for computing block rdd_43_12 in memory.\n",
      "23/03/26 06:47:53 WARN MemoryStore: Not enough space to cache rdd_43_12 in memory! (computed 384.0 B so far)\n",
      "23/03/26 06:47:53 WARN BlockManager: Persisting block rdd_43_12 to disk instead.\n",
      "23/03/26 06:47:54 WARN MemoryStore: Not enough space to cache rdd_23_14 in memory! (computed 2.3 MiB so far)\n",
      "23/03/26 06:47:54 WARN MemoryStore: Failed to reserve initial memory threshold of 1024.0 KiB for computing block rdd_23_14 in memory.\n",
      "23/03/26 06:47:54 WARN MemoryStore: Not enough space to cache rdd_23_14 in memory! (computed 384.0 B so far)\n",
      "23/03/26 06:47:54 WARN MemoryStore: Failed to reserve initial memory threshold of 1024.0 KiB for computing block rdd_23_14 in memory.\n",
      "23/03/26 06:47:54 WARN MemoryStore: Not enough space to cache rdd_23_14 in memory! (computed 384.0 B so far)\n",
      "23/03/26 06:47:54 WARN MemoryStore: Failed to reserve initial memory threshold of 1024.0 KiB for computing block rdd_43_14 in memory.\n",
      "23/03/26 06:47:54 WARN MemoryStore: Not enough space to cache rdd_43_14 in memory! (computed 384.0 B so far)\n",
      "23/03/26 06:47:54 WARN BlockManager: Persisting block rdd_43_14 to disk instead.\n",
      "23/03/26 06:47:54 WARN MemoryStore: Not enough space to cache rdd_43_9 in memory! (computed 1035.4 KiB so far)\n",
      "23/03/26 06:47:54 WARN BlockManager: Persisting block rdd_43_9 to disk instead.\n"
     ]
    },
    {
     "name": "stderr",
     "output_type": "stream",
     "text": [
      "[Stage 16:===================>                                     (7 + 8) / 20]\r"
     ]
    },
    {
     "name": "stdout",
     "output_type": "stream",
     "text": [
      "23/03/26 06:47:54 WARN MemoryStore: Not enough space to cache rdd_23_10 in memory! (computed 1364.5 MiB so far)\n",
      "23/03/26 06:47:54 WARN MemoryStore: Not enough space to cache rdd_23_10 in memory! (computed 1025.7 KiB so far)\n",
      "23/03/26 06:47:54 WARN MemoryStore: Failed to reserve initial memory threshold of 1024.0 KiB for computing block rdd_23_10 in memory.\n",
      "23/03/26 06:47:54 WARN MemoryStore: Not enough space to cache rdd_23_10 in memory! (computed 384.0 B so far)\n",
      "23/03/26 06:47:54 WARN MemoryStore: Failed to reserve initial memory threshold of 1024.0 KiB for computing block rdd_43_10 in memory.\n",
      "23/03/26 06:47:54 WARN MemoryStore: Not enough space to cache rdd_43_10 in memory! (computed 384.0 B so far)\n",
      "23/03/26 06:47:54 WARN BlockManager: Persisting block rdd_43_10 to disk instead.\n"
     ]
    },
    {
     "name": "stderr",
     "output_type": "stream",
     "text": [
      "[Stage 16:======================>                                  (8 + 8) / 20]\r"
     ]
    },
    {
     "name": "stdout",
     "output_type": "stream",
     "text": [
      "23/03/26 06:47:55 WARN MemoryStore: Not enough space to cache rdd_23_8 in memory! (computed 3.0 GiB so far)\n",
      "23/03/26 06:47:55 WARN MemoryStore: Not enough space to cache rdd_23_15 in memory! (computed 112.4 MiB so far)\n",
      "23/03/26 06:47:55 WARN MemoryStore: Not enough space to cache rdd_23_8 in memory! (computed 47.4 MiB so far)\n",
      "23/03/26 06:47:55 WARN MemoryStore: Not enough space to cache rdd_23_8 in memory! (computed 3.5 MiB so far)\n",
      "23/03/26 06:47:55 WARN MemoryStore: Failed to reserve initial memory threshold of 1024.0 KiB for computing block rdd_43_8 in memory.\n",
      "23/03/26 06:47:55 WARN MemoryStore: Not enough space to cache rdd_43_8 in memory! (computed 384.0 B so far)\n",
      "23/03/26 06:47:55 WARN BlockManager: Persisting block rdd_43_8 to disk instead.\n",
      "23/03/26 06:47:55 WARN MemoryStore: Not enough space to cache rdd_23_15 in memory! (computed 20.9 MiB so far)\n",
      "23/03/26 06:47:55 WARN MemoryStore: Not enough space to cache rdd_23_15 in memory! (computed 3.5 MiB so far)\n",
      "23/03/26 06:47:55 WARN MemoryStore: Failed to reserve initial memory threshold of 1024.0 KiB for computing block rdd_43_15 in memory.\n",
      "23/03/26 06:47:55 WARN MemoryStore: Not enough space to cache rdd_43_15 in memory! (computed 384.0 B so far)\n",
      "23/03/26 06:47:55 WARN BlockManager: Persisting block rdd_43_15 to disk instead.\n",
      "23/03/26 06:48:07 WARN MemoryStore: Not enough space to cache rdd_43_13 in memory! (computed 3.7 MiB so far)\n",
      "23/03/26 06:48:07 WARN MemoryStore: Failed to reserve initial memory threshold of 1024.0 KiB for computing block rdd_46_13 in memory.\n",
      "23/03/26 06:48:07 WARN MemoryStore: Not enough space to cache rdd_46_13 in memory! (computed 384.0 B so far)\n",
      "23/03/26 06:48:07 WARN BlockManager: Persisting block rdd_46_13 to disk instead.\n",
      "23/03/26 06:48:10 WARN MemoryStore: Not enough space to cache rdd_43_12 in memory! (computed 43.9 MiB so far)\n",
      "23/03/26 06:48:18 WARN MemoryStore: Not enough space to cache rdd_43_11 in memory! (computed 1663.4 KiB so far)\n",
      "23/03/26 06:48:18 WARN MemoryStore: Failed to reserve initial memory threshold of 1024.0 KiB for computing block rdd_46_11 in memory.\n",
      "23/03/26 06:48:18 WARN MemoryStore: Not enough space to cache rdd_46_11 in memory! (computed 384.0 B so far)\n",
      "23/03/26 06:48:18 WARN BlockManager: Persisting block rdd_46_11 to disk instead.\n",
      "23/03/26 06:48:19 WARN MemoryStore: Not enough space to cache rdd_43_10 in memory! (computed 13.0 MiB so far)\n",
      "23/03/26 06:48:20 WARN MemoryStore: Not enough space to cache rdd_46_10 in memory! (computed 4.0 MiB so far)\n",
      "23/03/26 06:48:20 WARN BlockManager: Persisting block rdd_46_10 to disk instead.\n",
      "23/03/26 06:48:21 WARN MemoryStore: Not enough space to cache rdd_43_9 in memory! (computed 3.7 MiB so far)\n",
      "23/03/26 06:48:21 WARN MemoryStore: Failed to reserve initial memory threshold of 1024.0 KiB for computing block rdd_43_15 in memory.\n",
      "23/03/26 06:48:21 WARN MemoryStore: Not enough space to cache rdd_43_15 in memory! (computed 384.0 B so far)\n",
      "23/03/26 06:48:21 WARN MemoryStore: Failed to reserve initial memory threshold of 1024.0 KiB for computing block rdd_46_15 in memory.\n",
      "23/03/26 06:48:21 WARN MemoryStore: Not enough space to cache rdd_46_15 in memory! (computed 384.0 B so far)\n",
      "23/03/26 06:48:21 WARN BlockManager: Persisting block rdd_46_15 to disk instead.\n",
      "23/03/26 06:48:22 WARN MemoryStore: Not enough space to cache rdd_43_8 in memory! (computed 29.2 MiB so far)\n",
      "23/03/26 06:48:23 WARN MemoryStore: Not enough space to cache rdd_46_12 in memory! (computed 99.2 MiB so far)\n",
      "23/03/26 06:48:23 WARN BlockManager: Persisting block rdd_46_12 to disk instead.\n",
      "23/03/26 06:48:23 WARN MemoryStore: Not enough space to cache rdd_46_14 in memory! (computed 99.2 MiB so far)\n",
      "23/03/26 06:48:23 WARN BlockManager: Persisting block rdd_46_14 to disk instead.\n",
      "23/03/26 06:48:24 WARN MemoryStore: Not enough space to cache rdd_46_9 in memory! (computed 24.3 MiB so far)\n",
      "23/03/26 06:48:24 WARN BlockManager: Persisting block rdd_46_9 to disk instead.\n",
      "23/03/26 06:48:29 WARN MemoryStore: Not enough space to cache rdd_46_12 in memory! (computed 64.8 MiB so far)\n"
     ]
    },
    {
     "name": "stderr",
     "output_type": "stream",
     "text": [
      "[Stage 16:=========================>                               (9 + 8) / 20]\r"
     ]
    },
    {
     "name": "stdout",
     "output_type": "stream",
     "text": [
      "23/03/26 06:48:50 WARN MemoryStore: Not enough space to cache rdd_23_16 in memory! (computed 1364.5 MiB so far)\n",
      "23/03/26 06:48:52 WARN MemoryStore: Not enough space to cache rdd_46_10 in memory! (computed 4.0 MiB so far)\n",
      "23/03/26 06:48:52 WARN MemoryStore: Not enough space to cache rdd_23_16 in memory! (computed 380.1 MiB so far)\n",
      "23/03/26 06:48:52 WARN MemoryStore: Not enough space to cache rdd_23_16 in memory! (computed 1557.2 KiB so far)\n",
      "23/03/26 06:48:52 WARN MemoryStore: Failed to reserve initial memory threshold of 1024.0 KiB for computing block rdd_43_16 in memory.\n",
      "23/03/26 06:48:52 WARN MemoryStore: Not enough space to cache rdd_43_16 in memory! (computed 384.0 B so far)\n",
      "23/03/26 06:48:52 WARN BlockManager: Persisting block rdd_43_16 to disk instead.\n"
     ]
    },
    {
     "name": "stderr",
     "output_type": "stream",
     "text": [
      "[Stage 16:==============================>                         (11 + 8) / 20]\r"
     ]
    },
    {
     "name": "stdout",
     "output_type": "stream",
     "text": [
      "23/03/26 06:48:52 WARN MemoryStore: Not enough space to cache rdd_46_11 in memory! (computed 172.8 MiB so far)\n",
      "23/03/26 06:48:52 WARN MemoryStore: Not enough space to cache rdd_23_17 in memory! (computed 47.4 MiB so far)\n",
      "23/03/26 06:48:52 WARN MemoryStore: Not enough space to cache rdd_23_18 in memory! (computed 47.4 MiB so far)\n",
      "23/03/26 06:48:52 WARN MemoryStore: Not enough space to cache rdd_23_18 in memory! (computed 1557.2 KiB so far)\n",
      "23/03/26 06:48:52 WARN MemoryStore: Failed to reserve initial memory threshold of 1024.0 KiB for computing block rdd_23_18 in memory.\n",
      "23/03/26 06:48:52 WARN MemoryStore: Not enough space to cache rdd_23_17 in memory! (computed 1025.7 KiB so far)\n",
      "23/03/26 06:48:52 WARN MemoryStore: Not enough space to cache rdd_23_18 in memory! (computed 384.0 B so far)\n",
      "23/03/26 06:48:52 WARN MemoryStore: Failed to reserve initial memory threshold of 1024.0 KiB for computing block rdd_43_18 in memory.\n",
      "23/03/26 06:48:52 WARN MemoryStore: Failed to reserve initial memory threshold of 1024.0 KiB for computing block rdd_23_17 in memory.\n",
      "23/03/26 06:48:52 WARN MemoryStore: Not enough space to cache rdd_43_18 in memory! (computed 384.0 B so far)\n",
      "23/03/26 06:48:52 WARN MemoryStore: Not enough space to cache rdd_23_17 in memory! (computed 384.0 B so far)\n",
      "23/03/26 06:48:52 WARN BlockManager: Persisting block rdd_43_18 to disk instead.\n",
      "23/03/26 06:48:52 WARN MemoryStore: Failed to reserve initial memory threshold of 1024.0 KiB for computing block rdd_43_17 in memory.\n",
      "23/03/26 06:48:52 WARN MemoryStore: Not enough space to cache rdd_43_17 in memory! (computed 384.0 B so far)\n",
      "23/03/26 06:48:52 WARN BlockManager: Persisting block rdd_43_17 to disk instead.\n",
      "23/03/26 06:48:52 WARN MemoryStore: Not enough space to cache rdd_46_9 in memory! (computed 6.2 MiB so far)\n",
      "23/03/26 06:48:52 WARN MemoryStore: Failed to reserve initial memory threshold of 1024.0 KiB for computing block rdd_46_15 in memory.\n",
      "23/03/26 06:48:52 WARN MemoryStore: Not enough space to cache rdd_46_15 in memory! (computed 384.0 B so far)\n"
     ]
    },
    {
     "name": "stderr",
     "output_type": "stream",
     "text": [
      "[Stage 16:============================================>           (16 + 4) / 20]\r"
     ]
    },
    {
     "name": "stdout",
     "output_type": "stream",
     "text": [
      "23/03/26 06:49:37 WARN MemoryStore: Not enough space to cache rdd_23_19 in memory! (computed 6.9 GiB so far)\n",
      "23/03/26 06:49:42 WARN MemoryStore: Not enough space to cache rdd_23_19 in memory! (computed 2046.8 MiB so far)\n",
      "23/03/26 06:49:42 WARN MemoryStore: Not enough space to cache rdd_23_19 in memory! (computed 73.6 MiB so far)\n",
      "23/03/26 06:49:48 WARN MemoryStore: Not enough space to cache rdd_43_19 in memory! (computed 104.0 MiB so far)\n",
      "23/03/26 06:49:48 WARN BlockManager: Persisting block rdd_43_19 to disk instead.\n"
     ]
    },
    {
     "name": "stderr",
     "output_type": "stream",
     "text": [
      "[Stage 18:>                                                        (0 + 8) / 20]\r"
     ]
    },
    {
     "name": "stdout",
     "output_type": "stream",
     "text": [
      "23/03/26 06:50:16 WARN MemoryStore: Not enough space to cache rdd_23_1 in memory! (computed 1364.5 MiB so far)\n",
      "23/03/26 06:50:16 WARN MemoryStore: Not enough space to cache rdd_23_0 in memory! (computed 1364.5 MiB so far)\n",
      "23/03/26 06:50:16 WARN MemoryStore: Not enough space to cache rdd_23_3 in memory! (computed 1364.5 MiB so far)\n",
      "23/03/26 06:50:16 WARN MemoryStore: Not enough space to cache rdd_23_4 in memory! (computed 1364.5 MiB so far)\n",
      "23/03/26 06:50:16 WARN MemoryStore: Not enough space to cache rdd_23_7 in memory! (computed 909.7 MiB so far)\n",
      "23/03/26 06:50:16 WARN MemoryStore: Not enough space to cache rdd_23_5 in memory! (computed 909.7 MiB so far)\n",
      "23/03/26 06:50:16 WARN MemoryStore: Not enough space to cache rdd_23_2 in memory! (computed 909.7 MiB so far)\n",
      "23/03/26 06:50:16 WARN MemoryStore: Not enough space to cache rdd_46_3 in memory! (computed 6.2 MiB so far)\n",
      "23/03/26 06:50:16 WARN MemoryStore: Not enough space to cache rdd_46_0 in memory! (computed 6.2 MiB so far)\n",
      "23/03/26 06:50:16 WARN MemoryStore: Not enough space to cache rdd_46_1 in memory! (computed 6.2 MiB so far)\n",
      "23/03/26 06:50:16 WARN MemoryStore: Not enough space to cache rdd_46_7 in memory! (computed 6.2 MiB so far)\n",
      "23/03/26 06:50:16 WARN MemoryStore: Not enough space to cache rdd_46_2 in memory! (computed 6.2 MiB so far)\n",
      "23/03/26 06:50:16 WARN MemoryStore: Not enough space to cache rdd_46_4 in memory! (computed 10.8 MiB so far)\n",
      "23/03/26 06:50:16 WARN MemoryStore: Not enough space to cache rdd_46_5 in memory! (computed 10.8 MiB so far)\n",
      "23/03/26 06:50:17 WARN MemoryStore: Not enough space to cache rdd_23_6 in memory! (computed 1364.5 MiB so far)\n"
     ]
    },
    {
     "name": "stderr",
     "output_type": "stream",
     "text": [
      "[Stage 18:======================>                                  (8 + 8) / 20]\r"
     ]
    },
    {
     "name": "stdout",
     "output_type": "stream",
     "text": [
      "23/03/26 06:51:03 WARN MemoryStore: Not enough space to cache rdd_23_9 in memory! (computed 2046.8 MiB so far)\n",
      "23/03/26 06:51:03 WARN MemoryStore: Not enough space to cache rdd_23_10 in memory! (computed 2046.8 MiB so far)\n",
      "23/03/26 06:51:03 WARN MemoryStore: Not enough space to cache rdd_23_12 in memory! (computed 909.7 MiB so far)\n",
      "23/03/26 06:51:03 WARN MemoryStore: Not enough space to cache rdd_23_14 in memory! (computed 589.3 MiB so far)\n",
      "23/03/26 06:51:03 WARN MemoryStore: Not enough space to cache rdd_23_15 in memory! (computed 380.1 MiB so far)\n",
      "23/03/26 06:51:03 WARN MemoryStore: Not enough space to cache rdd_23_8 in memory! (computed 1364.5 MiB so far)\n",
      "23/03/26 06:51:03 WARN MemoryStore: Not enough space to cache rdd_23_11 in memory! (computed 1364.5 MiB so far)\n",
      "23/03/26 06:51:03 WARN MemoryStore: Not enough space to cache rdd_46_11 in memory! (computed 10.8 MiB so far)\n",
      "23/03/26 06:51:04 WARN MemoryStore: Not enough space to cache rdd_46_9 in memory! (computed 16.2 MiB so far)\n",
      "23/03/26 06:51:04 WARN MemoryStore: Not enough space to cache rdd_46_8 in memory! (computed 16.2 MiB so far)\n",
      "23/03/26 06:51:04 WARN MemoryStore: Not enough space to cache rdd_46_10 in memory! (computed 16.2 MiB so far)\n",
      "23/03/26 06:51:04 WARN MemoryStore: Not enough space to cache rdd_46_12 in memory! (computed 16.2 MiB so far)\n",
      "23/03/26 06:51:04 WARN MemoryStore: Not enough space to cache rdd_46_14 in memory! (computed 16.2 MiB so far)\n",
      "23/03/26 06:51:04 WARN MemoryStore: Not enough space to cache rdd_46_15 in memory! (computed 16.2 MiB so far)\n",
      "23/03/26 06:51:04 WARN MemoryStore: Not enough space to cache rdd_23_13 in memory! (computed 909.7 MiB so far)\n",
      "23/03/26 06:51:04 WARN MemoryStore: Not enough space to cache rdd_46_13 in memory! (computed 2.7 MiB so far)\n"
     ]
    },
    {
     "name": "stderr",
     "output_type": "stream",
     "text": [
      "[Stage 18:==============================>                         (11 + 8) / 20]\r"
     ]
    },
    {
     "name": "stdout",
     "output_type": "stream",
     "text": [
      "23/03/26 06:51:35 WARN MemoryStore: Not enough space to cache rdd_23_16 in memory! (computed 3.0 GiB so far)\n",
      "23/03/26 06:51:35 WARN MemoryStore: Not enough space to cache rdd_23_17 in memory! (computed 3.0 GiB so far)\n",
      "23/03/26 06:51:38 WARN MemoryStore: Not enough space to cache rdd_23_18 in memory! (computed 3.0 GiB so far)\n",
      "23/03/26 06:51:39 WARN MemoryStore: Not enough space to cache rdd_46_16 in memory! (computed 172.8 MiB so far)\n",
      "23/03/26 06:51:40 WARN MemoryStore: Not enough space to cache rdd_46_18 in memory! (computed 99.2 MiB so far)\n"
     ]
    },
    {
     "name": "stderr",
     "output_type": "stream",
     "text": [
      "[Stage 18:============================================>           (16 + 4) / 20]\r"
     ]
    },
    {
     "name": "stdout",
     "output_type": "stream",
     "text": [
      "23/03/26 06:51:55 WARN MemoryStore: Not enough space to cache rdd_23_19 in memory! (computed 6.9 GiB so far)\n"
     ]
    },
    {
     "name": "stderr",
     "output_type": "stream",
     "text": [
      "[Stage 20:>                                                        (0 + 8) / 20]\r"
     ]
    },
    {
     "name": "stdout",
     "output_type": "stream",
     "text": [
      "23/03/26 06:52:08 WARN MemoryStore: Not enough space to cache rdd_23_1 in memory! (computed 909.7 MiB so far)\n",
      "23/03/26 06:52:08 WARN MemoryStore: Not enough space to cache rdd_23_0 in memory! (computed 909.7 MiB so far)\n",
      "23/03/26 06:52:08 WARN MemoryStore: Not enough space to cache rdd_23_7 in memory! (computed 909.7 MiB so far)\n",
      "23/03/26 06:52:08 WARN MemoryStore: Not enough space to cache rdd_46_0 in memory! (computed 16.2 MiB so far)\n",
      "23/03/26 06:52:08 WARN MemoryStore: Not enough space to cache rdd_46_7 in memory! (computed 16.2 MiB so far)\n",
      "23/03/26 06:52:08 WARN MemoryStore: Not enough space to cache rdd_46_1 in memory! (computed 16.2 MiB so far)\n",
      "23/03/26 06:52:08 WARN MemoryStore: Not enough space to cache rdd_23_5 in memory! (computed 1364.5 MiB so far)\n",
      "23/03/26 06:52:08 WARN MemoryStore: Not enough space to cache rdd_23_3 in memory! (computed 1364.5 MiB so far)\n",
      "23/03/26 06:52:08 WARN MemoryStore: Failed to reserve initial memory threshold of 1024.0 KiB for computing block rdd_46_3 in memory.\n",
      "23/03/26 06:52:08 WARN MemoryStore: Not enough space to cache rdd_46_3 in memory! (computed 384.0 B so far)\n",
      "23/03/26 06:52:08 WARN MemoryStore: Not enough space to cache rdd_23_6 in memory! (computed 1364.5 MiB so far)\n",
      "23/03/26 06:52:08 WARN MemoryStore: Failed to reserve initial memory threshold of 1024.0 KiB for computing block rdd_46_6 in memory.\n",
      "23/03/26 06:52:08 WARN MemoryStore: Not enough space to cache rdd_46_6 in memory! (computed 384.0 B so far)\n",
      "23/03/26 06:52:09 WARN MemoryStore: Not enough space to cache rdd_46_5 in memory! (computed 1537.3 KiB so far)\n",
      "23/03/26 06:52:09 WARN MemoryStore: Not enough space to cache rdd_23_4 in memory! (computed 1364.5 MiB so far)\n",
      "23/03/26 06:52:09 WARN MemoryStore: Failed to reserve initial memory threshold of 1024.0 KiB for computing block rdd_46_4 in memory.\n",
      "23/03/26 06:52:09 WARN MemoryStore: Not enough space to cache rdd_46_4 in memory! (computed 384.0 B so far)\n",
      "23/03/26 06:52:09 WARN MemoryStore: Not enough space to cache rdd_23_2 in memory! (computed 1364.5 MiB so far)\n",
      "23/03/26 06:52:09 WARN MemoryStore: Not enough space to cache rdd_46_2 in memory! (computed 1537.3 KiB so far)\n"
     ]
    },
    {
     "name": "stderr",
     "output_type": "stream",
     "text": [
      "[Stage 20:===================>                                     (7 + 8) / 20]\r"
     ]
    },
    {
     "name": "stdout",
     "output_type": "stream",
     "text": [
      "23/03/26 06:52:54 WARN MemoryStore: Not enough space to cache rdd_23_11 in memory! (computed 909.7 MiB so far)\n",
      "23/03/26 06:52:54 WARN MemoryStore: Not enough space to cache rdd_23_14 in memory! (computed 252.9 MiB so far)\n",
      "23/03/26 06:52:54 WARN MemoryStore: Not enough space to cache rdd_23_13 in memory! (computed 909.7 MiB so far)\n"
     ]
    },
    {
     "name": "stderr",
     "output_type": "stream",
     "text": [
      "[Stage 20:======================>                                  (8 + 8) / 20]\r"
     ]
    },
    {
     "name": "stdout",
     "output_type": "stream",
     "text": [
      "23/03/26 06:52:54 WARN MemoryStore: Not enough space to cache rdd_46_14 in memory! (computed 6.2 MiB so far)\n",
      "23/03/26 06:52:54 WARN MemoryStore: Not enough space to cache rdd_46_13 in memory! (computed 1537.3 KiB so far)\n",
      "23/03/26 06:52:54 WARN MemoryStore: Not enough space to cache rdd_46_11 in memory! (computed 6.2 MiB so far)\n",
      "23/03/26 06:52:54 WARN MemoryStore: Not enough space to cache rdd_23_15 in memory! (computed 112.4 MiB so far)\n",
      "23/03/26 06:52:54 WARN MemoryStore: Failed to reserve initial memory threshold of 1024.0 KiB for computing block rdd_46_15 in memory.\n",
      "23/03/26 06:52:54 WARN MemoryStore: Not enough space to cache rdd_46_15 in memory! (computed 384.0 B so far)\n",
      "23/03/26 06:52:54 WARN MemoryStore: Not enough space to cache rdd_23_12 in memory! (computed 1364.5 MiB so far)\n",
      "23/03/26 06:52:54 WARN MemoryStore: Not enough space to cache rdd_46_12 in memory! (computed 1537.3 KiB so far)\n",
      "23/03/26 06:52:54 WARN MemoryStore: Not enough space to cache rdd_23_9 in memory! (computed 2046.8 MiB so far)\n",
      "23/03/26 06:52:54 WARN MemoryStore: Failed to reserve initial memory threshold of 1024.0 KiB for computing block rdd_46_9 in memory.\n",
      "23/03/26 06:52:54 WARN MemoryStore: Not enough space to cache rdd_46_9 in memory! (computed 384.0 B so far)\n",
      "23/03/26 06:52:55 WARN MemoryStore: Not enough space to cache rdd_23_8 in memory! (computed 2046.8 MiB so far)\n",
      "23/03/26 06:52:56 WARN MemoryStore: Not enough space to cache rdd_23_10 in memory! (computed 2046.8 MiB so far)\n"
     ]
    },
    {
     "name": "stderr",
     "output_type": "stream",
     "text": [
      "[Stage 20:==============================>                         (11 + 8) / 20]\r"
     ]
    },
    {
     "name": "stdout",
     "output_type": "stream",
     "text": [
      "23/03/26 06:53:24 WARN MemoryStore: Not enough space to cache rdd_23_16 in memory! (computed 3.0 GiB so far)\n",
      "23/03/26 06:53:25 WARN MemoryStore: Not enough space to cache rdd_23_17 in memory! (computed 3.0 GiB so far)\n",
      "23/03/26 06:53:26 WARN MemoryStore: Not enough space to cache rdd_46_17 in memory! (computed 16.2 MiB so far)\n",
      "23/03/26 06:53:26 WARN MemoryStore: Not enough space to cache rdd_46_16 in memory! (computed 64.8 MiB so far)\n",
      "23/03/26 06:53:26 WARN MemoryStore: Not enough space to cache rdd_23_18 in memory! (computed 3.0 GiB so far)\n",
      "23/03/26 06:53:26 WARN MemoryStore: Not enough space to cache rdd_46_18 in memory! (computed 2.7 MiB so far)\n"
     ]
    },
    {
     "name": "stderr",
     "output_type": "stream",
     "text": [
      "[Stage 20:============================================>           (16 + 4) / 20]\r"
     ]
    },
    {
     "name": "stdout",
     "output_type": "stream",
     "text": [
      "23/03/26 06:53:46 WARN MemoryStore: Not enough space to cache rdd_23_19 in memory! (computed 6.9 GiB so far)\n"
     ]
    },
    {
     "name": "stderr",
     "output_type": "stream",
     "text": [
      "[Stage 22:>                                                        (0 + 8) / 20]\r"
     ]
    },
    {
     "name": "stdout",
     "output_type": "stream",
     "text": [
      "23/03/26 06:53:59 WARN MemoryStore: Not enough space to cache rdd_23_0 in memory! (computed 1364.5 MiB so far)\n",
      "23/03/26 06:53:59 WARN MemoryStore: Not enough space to cache rdd_23_3 in memory! (computed 1364.5 MiB so far)\n",
      "23/03/26 06:53:59 WARN MemoryStore: Not enough space to cache rdd_23_1 in memory! (computed 1364.5 MiB so far)\n",
      "23/03/26 06:53:59 WARN MemoryStore: Not enough space to cache rdd_23_7 in memory! (computed 1364.5 MiB so far)\n",
      "23/03/26 06:53:59 WARN MemoryStore: Not enough space to cache rdd_23_2 in memory! (computed 909.7 MiB so far)\n",
      "23/03/26 06:53:59 WARN MemoryStore: Not enough space to cache rdd_23_5 in memory! (computed 909.7 MiB so far)\n",
      "23/03/26 06:53:59 WARN MemoryStore: Not enough space to cache rdd_23_6 in memory! (computed 909.7 MiB so far)\n",
      "23/03/26 06:53:59 WARN MemoryStore: Not enough space to cache rdd_46_7 in memory! (computed 6.2 MiB so far)\n",
      "23/03/26 06:53:59 WARN MemoryStore: Not enough space to cache rdd_46_6 in memory! (computed 6.2 MiB so far)\n",
      "23/03/26 06:53:59 WARN MemoryStore: Not enough space to cache rdd_46_0 in memory! (computed 6.2 MiB so far)\n",
      "23/03/26 06:53:59 WARN MemoryStore: Not enough space to cache rdd_46_3 in memory! (computed 6.2 MiB so far)\n",
      "23/03/26 06:53:59 WARN MemoryStore: Not enough space to cache rdd_46_5 in memory! (computed 6.2 MiB so far)\n",
      "23/03/26 06:53:59 WARN MemoryStore: Not enough space to cache rdd_46_2 in memory! (computed 10.8 MiB so far)\n",
      "23/03/26 06:53:59 WARN MemoryStore: Not enough space to cache rdd_46_1 in memory! (computed 10.8 MiB so far)\n",
      "23/03/26 06:54:00 WARN MemoryStore: Not enough space to cache rdd_23_4 in memory! (computed 1364.5 MiB so far)\n"
     ]
    },
    {
     "name": "stderr",
     "output_type": "stream",
     "text": [
      "[Stage 22:======================>                                  (8 + 8) / 20]\r"
     ]
    },
    {
     "name": "stdout",
     "output_type": "stream",
     "text": [
      "23/03/26 06:54:44 WARN MemoryStore: Not enough space to cache rdd_23_10 in memory! (computed 1364.5 MiB so far)\n",
      "23/03/26 06:54:44 WARN MemoryStore: Not enough space to cache rdd_23_12 in memory! (computed 909.7 MiB so far)\n",
      "23/03/26 06:54:45 WARN MemoryStore: Not enough space to cache rdd_23_14 in memory! (computed 589.3 MiB so far)\n",
      "23/03/26 06:54:45 WARN MemoryStore: Not enough space to cache rdd_23_11 in memory! (computed 1364.5 MiB so far)\n",
      "23/03/26 06:54:45 WARN MemoryStore: Not enough space to cache rdd_23_9 in memory! (computed 2046.8 MiB so far)\n",
      "23/03/26 06:54:45 WARN MemoryStore: Not enough space to cache rdd_23_8 in memory! (computed 2046.8 MiB so far)\n",
      "23/03/26 06:54:45 WARN MemoryStore: Not enough space to cache rdd_23_13 in memory! (computed 909.7 MiB so far)\n",
      "23/03/26 06:54:45 WARN MemoryStore: Not enough space to cache rdd_23_15 in memory! (computed 380.1 MiB so far)\n",
      "23/03/26 06:54:45 WARN MemoryStore: Not enough space to cache rdd_46_8 in memory! (computed 6.2 MiB so far)\n",
      "23/03/26 06:54:45 WARN MemoryStore: Not enough space to cache rdd_46_13 in memory! (computed 4.0 MiB so far)\n",
      "23/03/26 06:54:45 WARN MemoryStore: Not enough space to cache rdd_46_11 in memory! (computed 16.2 MiB so far)\n",
      "23/03/26 06:54:45 WARN MemoryStore: Not enough space to cache rdd_46_10 in memory! (computed 24.3 MiB so far)\n",
      "23/03/26 06:54:45 WARN MemoryStore: Not enough space to cache rdd_46_15 in memory! (computed 10.8 MiB so far)\n",
      "23/03/26 06:54:45 WARN MemoryStore: Not enough space to cache rdd_46_9 in memory! (computed 16.2 MiB so far)\n",
      "23/03/26 06:54:45 WARN MemoryStore: Not enough space to cache rdd_46_14 in memory! (computed 16.2 MiB so far)\n",
      "23/03/26 06:54:46 WARN MemoryStore: Not enough space to cache rdd_46_12 in memory! (computed 16.2 MiB so far)\n"
     ]
    },
    {
     "name": "stderr",
     "output_type": "stream",
     "text": [
      "[Stage 22:==============================>                         (11 + 8) / 20]\r"
     ]
    },
    {
     "name": "stdout",
     "output_type": "stream",
     "text": [
      "23/03/26 06:55:15 WARN MemoryStore: Not enough space to cache rdd_23_16 in memory! (computed 3.0 GiB so far)\n",
      "23/03/26 06:55:17 WARN MemoryStore: Not enough space to cache rdd_23_17 in memory! (computed 3.0 GiB so far)\n",
      "23/03/26 06:55:18 WARN MemoryStore: Not enough space to cache rdd_23_18 in memory! (computed 3.0 GiB so far)\n",
      "23/03/26 06:55:21 WARN MemoryStore: Not enough space to cache rdd_46_18 in memory! (computed 99.2 MiB so far)\n"
     ]
    },
    {
     "name": "stderr",
     "output_type": "stream",
     "text": [
      "[Stage 22:============================================>           (16 + 4) / 20]\r"
     ]
    },
    {
     "name": "stdout",
     "output_type": "stream",
     "text": [
      "23/03/26 06:55:38 WARN MemoryStore: Not enough space to cache rdd_23_19 in memory! (computed 6.9 GiB so far)\n"
     ]
    },
    {
     "name": "stderr",
     "output_type": "stream",
     "text": [
      "[Stage 24:>                                                        (0 + 8) / 20]\r"
     ]
    },
    {
     "name": "stdout",
     "output_type": "stream",
     "text": [
      "23/03/26 06:55:52 WARN MemoryStore: Not enough space to cache rdd_23_6 in memory! (computed 909.7 MiB so far)\n",
      "23/03/26 06:55:52 WARN MemoryStore: Not enough space to cache rdd_23_0 in memory! (computed 909.7 MiB so far)\n",
      "23/03/26 06:55:52 WARN MemoryStore: Not enough space to cache rdd_23_3 in memory! (computed 909.7 MiB so far)\n",
      "23/03/26 06:55:52 WARN MemoryStore: Not enough space to cache rdd_23_5 in memory! (computed 1364.5 MiB so far)\n",
      "23/03/26 06:55:52 WARN MemoryStore: Not enough space to cache rdd_23_4 in memory! (computed 1364.5 MiB so far)\n",
      "23/03/26 06:55:52 WARN MemoryStore: Not enough space to cache rdd_23_1 in memory! (computed 1364.5 MiB so far)\n",
      "23/03/26 06:55:52 WARN MemoryStore: Not enough space to cache rdd_46_6 in memory! (computed 10.8 MiB so far)\n",
      "23/03/26 06:55:52 WARN MemoryStore: Not enough space to cache rdd_46_4 in memory! (computed 6.2 MiB so far)\n",
      "23/03/26 06:55:52 WARN MemoryStore: Not enough space to cache rdd_46_1 in memory! (computed 4.0 MiB so far)\n",
      "23/03/26 06:55:52 WARN MemoryStore: Not enough space to cache rdd_46_5 in memory! (computed 4.0 MiB so far)\n",
      "23/03/26 06:55:52 WARN MemoryStore: Not enough space to cache rdd_46_0 in memory! (computed 10.8 MiB so far)\n",
      "23/03/26 06:55:52 WARN MemoryStore: Not enough space to cache rdd_23_7 in memory! (computed 1364.5 MiB so far)\n",
      "23/03/26 06:55:52 WARN MemoryStore: Not enough space to cache rdd_46_3 in memory! (computed 16.2 MiB so far)\n",
      "23/03/26 06:55:52 WARN MemoryStore: Not enough space to cache rdd_46_7 in memory! (computed 1024.6 KiB so far)\n",
      "23/03/26 06:55:53 WARN MemoryStore: Not enough space to cache rdd_23_2 in memory! (computed 1364.5 MiB so far)\n",
      "23/03/26 06:55:53 WARN MemoryStore: Not enough space to cache rdd_46_2 in memory! (computed 10.8 MiB so far)\n"
     ]
    },
    {
     "name": "stderr",
     "output_type": "stream",
     "text": [
      "[Stage 24:======================>                                  (8 + 8) / 20]\r"
     ]
    },
    {
     "name": "stdout",
     "output_type": "stream",
     "text": [
      "23/03/26 06:56:38 WARN MemoryStore: Not enough space to cache rdd_23_10 in memory! (computed 1364.5 MiB so far)\n",
      "23/03/26 06:56:38 WARN MemoryStore: Not enough space to cache rdd_23_15 in memory! (computed 9.1 MiB so far)\n",
      "23/03/26 06:56:38 WARN MemoryStore: Failed to reserve initial memory threshold of 1024.0 KiB for computing block rdd_46_15 in memory.\n",
      "23/03/26 06:56:38 WARN MemoryStore: Not enough space to cache rdd_46_15 in memory! (computed 384.0 B so far)\n",
      "23/03/26 06:56:38 WARN MemoryStore: Not enough space to cache rdd_23_13 in memory! (computed 909.7 MiB so far)\n",
      "23/03/26 06:56:38 WARN MemoryStore: Failed to reserve initial memory threshold of 1024.0 KiB for computing block rdd_46_13 in memory.\n",
      "23/03/26 06:56:38 WARN MemoryStore: Not enough space to cache rdd_46_13 in memory! (computed 384.0 B so far)\n",
      "23/03/26 06:56:39 WARN MemoryStore: Not enough space to cache rdd_46_10 in memory! (computed 6.2 MiB so far)\n",
      "23/03/26 06:56:39 WARN MemoryStore: Not enough space to cache rdd_23_14 in memory! (computed 589.3 MiB so far)\n",
      "23/03/26 06:56:39 WARN MemoryStore: Not enough space to cache rdd_23_11 in memory! (computed 1364.5 MiB so far)\n",
      "23/03/26 06:56:39 WARN MemoryStore: Failed to reserve initial memory threshold of 1024.0 KiB for computing block rdd_46_11 in memory.\n",
      "23/03/26 06:56:39 WARN MemoryStore: Not enough space to cache rdd_46_11 in memory! (computed 384.0 B so far)\n",
      "23/03/26 06:56:39 WARN MemoryStore: Not enough space to cache rdd_46_14 in memory! (computed 2.7 MiB so far)\n",
      "23/03/26 06:56:39 WARN MemoryStore: Not enough space to cache rdd_23_12 in memory! (computed 1364.5 MiB so far)\n",
      "23/03/26 06:56:39 WARN MemoryStore: Failed to reserve initial memory threshold of 1024.0 KiB for computing block rdd_46_12 in memory.\n",
      "23/03/26 06:56:39 WARN MemoryStore: Not enough space to cache rdd_46_12 in memory! (computed 384.0 B so far)\n",
      "23/03/26 06:56:40 WARN MemoryStore: Not enough space to cache rdd_23_9 in memory! (computed 2046.8 MiB so far)\n",
      "23/03/26 06:56:40 WARN MemoryStore: Not enough space to cache rdd_23_8 in memory! (computed 2046.8 MiB so far)\n",
      "23/03/26 06:56:40 WARN MemoryStore: Not enough space to cache rdd_46_9 in memory! (computed 6.2 MiB so far)\n",
      "23/03/26 06:56:40 WARN MemoryStore: Not enough space to cache rdd_46_8 in memory! (computed 2.7 MiB so far)\n"
     ]
    },
    {
     "name": "stderr",
     "output_type": "stream",
     "text": [
      "[Stage 24:==============================>                         (11 + 8) / 20]\r"
     ]
    },
    {
     "name": "stdout",
     "output_type": "stream",
     "text": [
      "23/03/26 06:57:09 WARN MemoryStore: Not enough space to cache rdd_23_16 in memory! (computed 3.0 GiB so far)\n",
      "23/03/26 06:57:10 WARN MemoryStore: Not enough space to cache rdd_23_17 in memory! (computed 3.0 GiB so far)\n",
      "23/03/26 06:57:11 WARN MemoryStore: Not enough space to cache rdd_23_18 in memory! (computed 3.0 GiB so far)\n",
      "23/03/26 06:57:13 WARN MemoryStore: Not enough space to cache rdd_46_16 in memory! (computed 172.8 MiB so far)\n",
      "23/03/26 06:57:14 WARN MemoryStore: Not enough space to cache rdd_46_18 in memory! (computed 99.2 MiB so far)\n"
     ]
    },
    {
     "name": "stderr",
     "output_type": "stream",
     "text": [
      "[Stage 24:===============================================>        (17 + 3) / 20]\r"
     ]
    },
    {
     "name": "stdout",
     "output_type": "stream",
     "text": [
      "23/03/26 06:57:33 WARN MemoryStore: Not enough space to cache rdd_23_19 in memory! (computed 6.9 GiB so far)\n"
     ]
    },
    {
     "name": "stderr",
     "output_type": "stream",
     "text": [
      "[Stage 26:>                                                        (0 + 8) / 20]\r"
     ]
    },
    {
     "name": "stdout",
     "output_type": "stream",
     "text": [
      "23/03/26 06:57:45 WARN MemoryStore: Not enough space to cache rdd_23_5 in memory! (computed 909.7 MiB so far)\n",
      "23/03/26 06:57:45 WARN MemoryStore: Not enough space to cache rdd_23_1 in memory! (computed 909.7 MiB so far)\n",
      "23/03/26 06:57:46 WARN MemoryStore: Not enough space to cache rdd_23_7 in memory! (computed 909.7 MiB so far)\n",
      "23/03/26 06:57:46 WARN MemoryStore: Not enough space to cache rdd_23_5 in memory! (computed 112.4 MiB so far)\n",
      "23/03/26 06:57:46 WARN MemoryStore: Not enough space to cache rdd_23_1 in memory! (computed 47.4 MiB so far)\n",
      "23/03/26 06:57:46 WARN MemoryStore: Not enough space to cache rdd_23_1 in memory! (computed 2.3 MiB so far)\n",
      "23/03/26 06:57:46 WARN MemoryStore: Failed to reserve initial memory threshold of 1024.0 KiB for computing block rdd_43_1 in memory.\n",
      "23/03/26 06:57:46 WARN MemoryStore: Not enough space to cache rdd_43_1 in memory! (computed 384.0 B so far)\n",
      "23/03/26 06:57:46 WARN MemoryStore: Failed to reserve initial memory threshold of 1024.0 KiB for computing block rdd_65_1 in memory.\n",
      "23/03/26 06:57:46 WARN MemoryStore: Not enough space to cache rdd_65_1 in memory! (computed 384.0 B so far)\n",
      "23/03/26 06:57:46 WARN BlockManager: Persisting block rdd_65_1 to disk instead.\n",
      "23/03/26 06:57:46 WARN MemoryStore: Not enough space to cache rdd_23_7 in memory! (computed 9.1 MiB so far)\n",
      "23/03/26 06:57:46 WARN MemoryStore: Failed to reserve initial memory threshold of 1024.0 KiB for computing block rdd_23_7 in memory.\n",
      "23/03/26 06:57:46 WARN MemoryStore: Not enough space to cache rdd_23_7 in memory! (computed 384.0 B so far)\n",
      "23/03/26 06:57:46 WARN MemoryStore: Failed to reserve initial memory threshold of 1024.0 KiB for computing block rdd_43_7 in memory.\n",
      "23/03/26 06:57:46 WARN MemoryStore: Not enough space to cache rdd_43_7 in memory! (computed 384.0 B so far)\n",
      "23/03/26 06:57:46 WARN MemoryStore: Failed to reserve initial memory threshold of 1024.0 KiB for computing block rdd_65_7 in memory.\n",
      "23/03/26 06:57:46 WARN MemoryStore: Not enough space to cache rdd_65_7 in memory! (computed 384.0 B so far)\n",
      "23/03/26 06:57:46 WARN BlockManager: Persisting block rdd_65_7 to disk instead.\n",
      "23/03/26 06:57:46 WARN MemoryStore: Not enough space to cache rdd_23_5 in memory! (computed 9.1 MiB so far)\n",
      "23/03/26 06:57:46 WARN MemoryStore: Not enough space to cache rdd_43_5 in memory! (computed 1663.4 KiB so far)\n",
      "23/03/26 06:57:46 WARN MemoryStore: Failed to reserve initial memory threshold of 1024.0 KiB for computing block rdd_65_5 in memory.\n",
      "23/03/26 06:57:46 WARN MemoryStore: Not enough space to cache rdd_65_5 in memory! (computed 384.0 B so far)\n",
      "23/03/26 06:57:46 WARN BlockManager: Persisting block rdd_65_5 to disk instead.\n",
      "23/03/26 06:57:46 WARN MemoryStore: Not enough space to cache rdd_23_2 in memory! (computed 1364.5 MiB so far)\n",
      "23/03/26 06:57:46 WARN MemoryStore: Not enough space to cache rdd_23_2 in memory! (computed 9.1 MiB so far)\n",
      "23/03/26 06:57:46 WARN MemoryStore: Not enough space to cache rdd_23_2 in memory! (computed 2.3 MiB so far)\n",
      "23/03/26 06:57:46 WARN MemoryStore: Failed to reserve initial memory threshold of 1024.0 KiB for computing block rdd_43_2 in memory.\n",
      "23/03/26 06:57:46 WARN MemoryStore: Not enough space to cache rdd_43_2 in memory! (computed 384.0 B so far)\n",
      "23/03/26 06:57:46 WARN MemoryStore: Failed to reserve initial memory threshold of 1024.0 KiB for computing block rdd_65_2 in memory.\n",
      "23/03/26 06:57:46 WARN MemoryStore: Not enough space to cache rdd_65_2 in memory! (computed 384.0 B so far)\n",
      "23/03/26 06:57:46 WARN BlockManager: Persisting block rdd_65_2 to disk instead.\n",
      "23/03/26 06:57:46 WARN MemoryStore: Not enough space to cache rdd_23_0 in memory! (computed 1364.5 MiB so far)\n",
      "23/03/26 06:57:46 WARN MemoryStore: Not enough space to cache rdd_23_0 in memory! (computed 2.3 MiB so far)\n",
      "23/03/26 06:57:46 WARN MemoryStore: Failed to reserve initial memory threshold of 1024.0 KiB for computing block rdd_23_0 in memory.\n",
      "23/03/26 06:57:46 WARN MemoryStore: Not enough space to cache rdd_23_0 in memory! (computed 384.0 B so far)\n",
      "23/03/26 06:57:46 WARN MemoryStore: Failed to reserve initial memory threshold of 1024.0 KiB for computing block rdd_43_0 in memory.\n",
      "23/03/26 06:57:46 WARN MemoryStore: Not enough space to cache rdd_43_0 in memory! (computed 384.0 B so far)\n",
      "23/03/26 06:57:46 WARN MemoryStore: Failed to reserve initial memory threshold of 1024.0 KiB for computing block rdd_65_0 in memory.\n",
      "23/03/26 06:57:46 WARN MemoryStore: Not enough space to cache rdd_65_0 in memory! (computed 384.0 B so far)\n",
      "23/03/26 06:57:46 WARN BlockManager: Persisting block rdd_65_0 to disk instead.\n",
      "23/03/26 06:57:46 WARN MemoryStore: Not enough space to cache rdd_23_4 in memory! (computed 1364.5 MiB so far)\n",
      "23/03/26 06:57:46 WARN MemoryStore: Failed to reserve initial memory threshold of 1024.0 KiB for computing block rdd_23_4 in memory.\n",
      "23/03/26 06:57:46 WARN MemoryStore: Not enough space to cache rdd_23_4 in memory! (computed 384.0 B so far)\n",
      "23/03/26 06:57:46 WARN MemoryStore: Failed to reserve initial memory threshold of 1024.0 KiB for computing block rdd_23_4 in memory.\n",
      "23/03/26 06:57:46 WARN MemoryStore: Not enough space to cache rdd_23_4 in memory! (computed 384.0 B so far)\n",
      "23/03/26 06:57:46 WARN MemoryStore: Failed to reserve initial memory threshold of 1024.0 KiB for computing block rdd_43_4 in memory.\n",
      "23/03/26 06:57:46 WARN MemoryStore: Not enough space to cache rdd_43_4 in memory! (computed 384.0 B so far)\n",
      "23/03/26 06:57:46 WARN MemoryStore: Failed to reserve initial memory threshold of 1024.0 KiB for computing block rdd_65_4 in memory.\n",
      "23/03/26 06:57:46 WARN MemoryStore: Not enough space to cache rdd_65_4 in memory! (computed 384.0 B so far)\n",
      "23/03/26 06:57:46 WARN BlockManager: Persisting block rdd_65_4 to disk instead.\n",
      "23/03/26 06:57:46 WARN MemoryStore: Not enough space to cache rdd_23_3 in memory! (computed 1364.5 MiB so far)\n",
      "23/03/26 06:57:46 WARN MemoryStore: Failed to reserve initial memory threshold of 1024.0 KiB for computing block rdd_23_3 in memory.\n",
      "23/03/26 06:57:46 WARN MemoryStore: Not enough space to cache rdd_23_3 in memory! (computed 384.0 B so far)\n",
      "23/03/26 06:57:46 WARN MemoryStore: Failed to reserve initial memory threshold of 1024.0 KiB for computing block rdd_23_3 in memory.\n",
      "23/03/26 06:57:46 WARN MemoryStore: Not enough space to cache rdd_23_3 in memory! (computed 384.0 B so far)\n",
      "23/03/26 06:57:46 WARN MemoryStore: Failed to reserve initial memory threshold of 1024.0 KiB for computing block rdd_43_3 in memory.\n",
      "23/03/26 06:57:46 WARN MemoryStore: Not enough space to cache rdd_43_3 in memory! (computed 384.0 B so far)\n",
      "23/03/26 06:57:46 WARN MemoryStore: Failed to reserve initial memory threshold of 1024.0 KiB for computing block rdd_65_3 in memory.\n",
      "23/03/26 06:57:46 WARN MemoryStore: Not enough space to cache rdd_65_3 in memory! (computed 384.0 B so far)\n",
      "23/03/26 06:57:46 WARN BlockManager: Persisting block rdd_65_3 to disk instead.\n",
      "23/03/26 06:57:47 WARN MemoryStore: Not enough space to cache rdd_23_6 in memory! (computed 1364.5 MiB so far)\n",
      "23/03/26 06:57:47 WARN MemoryStore: Failed to reserve initial memory threshold of 1024.0 KiB for computing block rdd_23_6 in memory.\n",
      "23/03/26 06:57:47 WARN MemoryStore: Not enough space to cache rdd_23_6 in memory! (computed 384.0 B so far)\n",
      "23/03/26 06:57:47 WARN MemoryStore: Failed to reserve initial memory threshold of 1024.0 KiB for computing block rdd_23_6 in memory.\n",
      "23/03/26 06:57:47 WARN MemoryStore: Not enough space to cache rdd_23_6 in memory! (computed 384.0 B so far)\n",
      "23/03/26 06:57:47 WARN MemoryStore: Failed to reserve initial memory threshold of 1024.0 KiB for computing block rdd_43_6 in memory.\n",
      "23/03/26 06:57:47 WARN MemoryStore: Not enough space to cache rdd_43_6 in memory! (computed 384.0 B so far)\n",
      "23/03/26 06:57:47 WARN MemoryStore: Failed to reserve initial memory threshold of 1024.0 KiB for computing block rdd_65_6 in memory.\n",
      "23/03/26 06:57:47 WARN MemoryStore: Not enough space to cache rdd_65_6 in memory! (computed 384.0 B so far)\n",
      "23/03/26 06:57:47 WARN BlockManager: Persisting block rdd_65_6 to disk instead.\n",
      "23/03/26 06:58:15 WARN MemoryStore: Failed to reserve initial memory threshold of 1024.0 KiB for computing block rdd_65_7 in memory.\n",
      "23/03/26 06:58:15 WARN MemoryStore: Not enough space to cache rdd_65_7 in memory! (computed 384.0 B so far)\n",
      "23/03/26 06:58:15 WARN MemoryStore: Failed to reserve initial memory threshold of 1024.0 KiB for computing block rdd_68_7 in memory.\n",
      "23/03/26 06:58:15 WARN MemoryStore: Not enough space to cache rdd_68_7 in memory! (computed 384.0 B so far)\n",
      "23/03/26 06:58:15 WARN BlockManager: Persisting block rdd_68_7 to disk instead.\n",
      "23/03/26 06:58:15 WARN MemoryStore: Not enough space to cache rdd_65_1 in memory! (computed 5.5 MiB so far)\n",
      "23/03/26 06:58:15 WARN MemoryStore: Not enough space to cache rdd_65_4 in memory! (computed 1663.4 KiB so far)\n",
      "23/03/26 06:58:15 WARN MemoryStore: Failed to reserve initial memory threshold of 1024.0 KiB for computing block rdd_68_4 in memory.\n",
      "23/03/26 06:58:15 WARN MemoryStore: Not enough space to cache rdd_68_4 in memory! (computed 384.0 B so far)\n",
      "23/03/26 06:58:15 WARN BlockManager: Persisting block rdd_68_4 to disk instead.\n",
      "23/03/26 06:58:16 WARN MemoryStore: Not enough space to cache rdd_65_3 in memory! (computed 8.2 MiB so far)\n",
      "23/03/26 06:58:16 WARN MemoryStore: Failed to reserve initial memory threshold of 1024.0 KiB for computing block rdd_65_5 in memory.\n",
      "23/03/26 06:58:16 WARN MemoryStore: Not enough space to cache rdd_65_5 in memory! (computed 384.0 B so far)\n",
      "23/03/26 06:58:16 WARN MemoryStore: Failed to reserve initial memory threshold of 1024.0 KiB for computing block rdd_68_5 in memory.\n",
      "23/03/26 06:58:16 WARN MemoryStore: Not enough space to cache rdd_68_5 in memory! (computed 384.0 B so far)\n",
      "23/03/26 06:58:16 WARN BlockManager: Persisting block rdd_68_5 to disk instead.\n",
      "23/03/26 06:58:16 WARN MemoryStore: Not enough space to cache rdd_65_0 in memory! (computed 29.2 MiB so far)\n",
      "23/03/26 06:58:16 WARN MemoryStore: Failed to reserve initial memory threshold of 1024.0 KiB for computing block rdd_68_0 in memory.\n",
      "23/03/26 06:58:16 WARN MemoryStore: Not enough space to cache rdd_68_0 in memory! (computed 384.0 B so far)\n",
      "23/03/26 06:58:16 WARN BlockManager: Persisting block rdd_68_0 to disk instead.\n",
      "23/03/26 06:58:18 WARN MemoryStore: Not enough space to cache rdd_65_2 in memory! (computed 29.2 MiB so far)\n",
      "23/03/26 06:58:18 WARN MemoryStore: Not enough space to cache rdd_65_6 in memory! (computed 65.8 MiB so far)\n",
      "23/03/26 06:58:19 WARN MemoryStore: Not enough space to cache rdd_68_1 in memory! (computed 24.3 MiB so far)\n",
      "23/03/26 06:58:19 WARN BlockManager: Persisting block rdd_68_1 to disk instead.\n",
      "23/03/26 06:58:19 WARN MemoryStore: Not enough space to cache rdd_68_6 in memory! (computed 4.0 MiB so far)\n",
      "23/03/26 06:58:19 WARN BlockManager: Persisting block rdd_68_6 to disk instead.\n",
      "23/03/26 06:58:19 WARN MemoryStore: Not enough space to cache rdd_68_3 in memory! (computed 16.2 MiB so far)\n",
      "23/03/26 06:58:19 WARN BlockManager: Persisting block rdd_68_3 to disk instead.\n",
      "23/03/26 06:58:40 WARN MemoryStore: Not enough space to cache rdd_68_2 in memory! (computed 172.8 MiB so far)\n",
      "23/03/26 06:58:40 WARN BlockManager: Persisting block rdd_68_2 to disk instead.\n"
     ]
    },
    {
     "name": "stderr",
     "output_type": "stream",
     "text": [
      "[Stage 26:>                                                        (0 + 8) / 20]\r"
     ]
    },
    {
     "name": "stdout",
     "output_type": "stream",
     "text": [
      "23/03/26 06:58:46 WARN MemoryStore: Not enough space to cache rdd_68_7 in memory! (computed 99.2 MiB so far)\n",
      "23/03/26 06:58:46 WARN MemoryStore: Not enough space to cache rdd_68_1 in memory! (computed 43.2 MiB so far)\n",
      "23/03/26 06:58:46 WARN MemoryStore: Not enough space to cache rdd_68_0 in memory! (computed 4.0 MiB so far)\n",
      "23/03/26 06:58:47 WARN MemoryStore: Not enough space to cache rdd_68_4 in memory! (computed 43.2 MiB so far)\n"
     ]
    },
    {
     "name": "stderr",
     "output_type": "stream",
     "text": [
      "[Stage 26:=================>                                       (6 + 8) / 20]\r"
     ]
    },
    {
     "name": "stdout",
     "output_type": "stream",
     "text": [
      "23/03/26 06:59:31 WARN MemoryStore: Not enough space to cache rdd_23_10 in memory! (computed 1364.5 MiB so far)\n",
      "23/03/26 06:59:31 WARN MemoryStore: Not enough space to cache rdd_23_11 in memory! (computed 1364.5 MiB so far)\n"
     ]
    },
    {
     "name": "stderr",
     "output_type": "stream",
     "text": [
      "[Stage 26:===================>                                     (7 + 8) / 20]\r"
     ]
    },
    {
     "name": "stdout",
     "output_type": "stream",
     "text": [
      "23/03/26 06:59:32 WARN MemoryStore: Not enough space to cache rdd_23_8 in memory! (computed 3.0 GiB so far)\n",
      "23/03/26 06:59:32 WARN MemoryStore: Not enough space to cache rdd_23_12 in memory! (computed 252.9 MiB so far)\n",
      "23/03/26 06:59:32 WARN MemoryStore: Not enough space to cache rdd_23_9 in memory! (computed 3.0 GiB so far)\n",
      "23/03/26 06:59:32 WARN MemoryStore: Not enough space to cache rdd_23_10 in memory! (computed 31.4 MiB so far)\n",
      "23/03/26 06:59:32 WARN MemoryStore: Not enough space to cache rdd_23_14 in memory! (computed 47.4 MiB so far)\n",
      "23/03/26 06:59:32 WARN MemoryStore: Not enough space to cache rdd_23_8 in memory! (computed 5.3 MiB so far)\n",
      "23/03/26 06:59:32 WARN MemoryStore: Not enough space to cache rdd_23_9 in memory! (computed 3.5 MiB so far)\n",
      "23/03/26 06:59:32 WARN MemoryStore: Failed to reserve initial memory threshold of 1024.0 KiB for computing block rdd_23_14 in memory.\n",
      "23/03/26 06:59:32 WARN MemoryStore: Not enough space to cache rdd_23_14 in memory! (computed 384.0 B so far)\n",
      "23/03/26 06:59:32 WARN MemoryStore: Not enough space to cache rdd_23_12 in memory! (computed 2.3 MiB so far)\n",
      "23/03/26 06:59:32 WARN MemoryStore: Not enough space to cache rdd_23_10 in memory! (computed 3.5 MiB so far)\n",
      "23/03/26 06:59:32 WARN MemoryStore: Failed to reserve initial memory threshold of 1024.0 KiB for computing block rdd_23_8 in memory.\n",
      "23/03/26 06:59:32 WARN MemoryStore: Not enough space to cache rdd_23_8 in memory! (computed 384.0 B so far)\n",
      "23/03/26 06:59:32 WARN MemoryStore: Failed to reserve initial memory threshold of 1024.0 KiB for computing block rdd_43_8 in memory.\n",
      "23/03/26 06:59:32 WARN MemoryStore: Not enough space to cache rdd_43_8 in memory! (computed 384.0 B so far)\n",
      "23/03/26 06:59:32 WARN MemoryStore: Failed to reserve initial memory threshold of 1024.0 KiB for computing block rdd_65_8 in memory.\n",
      "23/03/26 06:59:32 WARN MemoryStore: Not enough space to cache rdd_65_8 in memory! (computed 384.0 B so far)\n",
      "23/03/26 06:59:32 WARN BlockManager: Persisting block rdd_65_8 to disk instead.\n",
      "23/03/26 06:59:32 WARN MemoryStore: Failed to reserve initial memory threshold of 1024.0 KiB for computing block rdd_23_12 in memory.\n",
      "23/03/26 06:59:32 WARN MemoryStore: Not enough space to cache rdd_23_12 in memory! (computed 384.0 B so far)\n",
      "23/03/26 06:59:32 WARN MemoryStore: Failed to reserve initial memory threshold of 1024.0 KiB for computing block rdd_43_12 in memory.\n",
      "23/03/26 06:59:32 WARN MemoryStore: Not enough space to cache rdd_43_12 in memory! (computed 384.0 B so far)\n",
      "23/03/26 06:59:32 WARN MemoryStore: Failed to reserve initial memory threshold of 1024.0 KiB for computing block rdd_65_12 in memory.\n",
      "23/03/26 06:59:32 WARN MemoryStore: Not enough space to cache rdd_65_12 in memory! (computed 384.0 B so far)\n",
      "23/03/26 06:59:32 WARN BlockManager: Persisting block rdd_65_12 to disk instead.\n",
      "23/03/26 06:59:32 WARN MemoryStore: Not enough space to cache rdd_23_15 in memory! (computed 9.1 MiB so far)\n",
      "23/03/26 06:59:32 WARN MemoryStore: Failed to reserve initial memory threshold of 1024.0 KiB for computing block rdd_23_15 in memory.\n",
      "23/03/26 06:59:32 WARN MemoryStore: Not enough space to cache rdd_23_15 in memory! (computed 384.0 B so far)\n",
      "23/03/26 06:59:32 WARN MemoryStore: Failed to reserve initial memory threshold of 1024.0 KiB for computing block rdd_23_15 in memory.\n",
      "23/03/26 06:59:32 WARN MemoryStore: Not enough space to cache rdd_23_15 in memory! (computed 384.0 B so far)\n",
      "23/03/26 06:59:32 WARN MemoryStore: Failed to reserve initial memory threshold of 1024.0 KiB for computing block rdd_43_15 in memory.\n",
      "23/03/26 06:59:32 WARN MemoryStore: Not enough space to cache rdd_43_15 in memory! (computed 384.0 B so far)\n",
      "23/03/26 06:59:32 WARN MemoryStore: Failed to reserve initial memory threshold of 1024.0 KiB for computing block rdd_65_15 in memory.\n",
      "23/03/26 06:59:32 WARN MemoryStore: Not enough space to cache rdd_65_15 in memory! (computed 384.0 B so far)\n",
      "23/03/26 06:59:32 WARN BlockManager: Persisting block rdd_65_15 to disk instead.\n",
      "23/03/26 06:59:32 WARN MemoryStore: Failed to reserve initial memory threshold of 1024.0 KiB for computing block rdd_23_9 in memory.\n",
      "23/03/26 06:59:32 WARN MemoryStore: Failed to reserve initial memory threshold of 1024.0 KiB for computing block rdd_23_14 in memory.\n",
      "23/03/26 06:59:32 WARN MemoryStore: Failed to reserve initial memory threshold of 1024.0 KiB for computing block rdd_43_10 in memory.\n",
      "23/03/26 06:59:32 WARN MemoryStore: Not enough space to cache rdd_23_9 in memory! (computed 384.0 B so far)\n",
      "23/03/26 06:59:32 WARN MemoryStore: Not enough space to cache rdd_23_14 in memory! (computed 384.0 B so far)\n",
      "23/03/26 06:59:32 WARN MemoryStore: Not enough space to cache rdd_43_10 in memory! (computed 384.0 B so far)\n",
      "23/03/26 06:59:32 WARN MemoryStore: Failed to reserve initial memory threshold of 1024.0 KiB for computing block rdd_43_14 in memory.\n",
      "23/03/26 06:59:32 WARN MemoryStore: Failed to reserve initial memory threshold of 1024.0 KiB for computing block rdd_65_10 in memory.\n",
      "23/03/26 06:59:32 WARN MemoryStore: Not enough space to cache rdd_43_14 in memory! (computed 384.0 B so far)\n",
      "23/03/26 06:59:32 WARN MemoryStore: Not enough space to cache rdd_65_10 in memory! (computed 384.0 B so far)\n",
      "23/03/26 06:59:32 WARN MemoryStore: Failed to reserve initial memory threshold of 1024.0 KiB for computing block rdd_43_9 in memory.\n",
      "23/03/26 06:59:32 WARN MemoryStore: Not enough space to cache rdd_43_9 in memory! (computed 384.0 B so far)\n",
      "23/03/26 06:59:32 WARN BlockManager: Persisting block rdd_65_10 to disk instead.\n",
      "23/03/26 06:59:32 WARN MemoryStore: Failed to reserve initial memory threshold of 1024.0 KiB for computing block rdd_65_14 in memory.\n",
      "23/03/26 06:59:32 WARN MemoryStore: Failed to reserve initial memory threshold of 1024.0 KiB for computing block rdd_65_9 in memory.\n",
      "23/03/26 06:59:32 WARN MemoryStore: Not enough space to cache rdd_65_14 in memory! (computed 384.0 B so far)\n",
      "23/03/26 06:59:32 WARN MemoryStore: Not enough space to cache rdd_65_9 in memory! (computed 384.0 B so far)\n",
      "23/03/26 06:59:32 WARN BlockManager: Persisting block rdd_65_14 to disk instead.\n",
      "23/03/26 06:59:32 WARN BlockManager: Persisting block rdd_65_9 to disk instead.\n",
      "23/03/26 06:59:32 WARN MemoryStore: Not enough space to cache rdd_23_11 in memory! (computed 47.4 MiB so far)\n",
      "23/03/26 06:59:32 WARN MemoryStore: Not enough space to cache rdd_23_11 in memory! (computed 3.5 MiB so far)\n",
      "23/03/26 06:59:32 WARN MemoryStore: Failed to reserve initial memory threshold of 1024.0 KiB for computing block rdd_43_11 in memory.\n",
      "23/03/26 06:59:32 WARN MemoryStore: Not enough space to cache rdd_43_11 in memory! (computed 384.0 B so far)\n",
      "23/03/26 06:59:32 WARN MemoryStore: Failed to reserve initial memory threshold of 1024.0 KiB for computing block rdd_65_11 in memory.\n",
      "23/03/26 06:59:32 WARN MemoryStore: Not enough space to cache rdd_65_11 in memory! (computed 384.0 B so far)\n",
      "23/03/26 06:59:32 WARN BlockManager: Persisting block rdd_65_11 to disk instead.\n"
     ]
    },
    {
     "name": "stderr",
     "output_type": "stream",
     "text": [
      "[Stage 26:======================>                                  (8 + 8) / 20]\r"
     ]
    },
    {
     "name": "stdout",
     "output_type": "stream",
     "text": [
      "23/03/26 06:59:33 WARN MemoryStore: Not enough space to cache rdd_23_13 in memory! (computed 380.1 MiB so far)\n",
      "23/03/26 06:59:33 WARN MemoryStore: Not enough space to cache rdd_23_13 in memory! (computed 3.5 MiB so far)\n",
      "23/03/26 06:59:33 WARN MemoryStore: Failed to reserve initial memory threshold of 1024.0 KiB for computing block rdd_23_13 in memory.\n",
      "23/03/26 06:59:33 WARN MemoryStore: Not enough space to cache rdd_23_13 in memory! (computed 384.0 B so far)\n",
      "23/03/26 06:59:33 WARN MemoryStore: Failed to reserve initial memory threshold of 1024.0 KiB for computing block rdd_43_13 in memory.\n",
      "23/03/26 06:59:33 WARN MemoryStore: Not enough space to cache rdd_43_13 in memory! (computed 384.0 B so far)\n",
      "23/03/26 06:59:33 WARN MemoryStore: Failed to reserve initial memory threshold of 1024.0 KiB for computing block rdd_65_13 in memory.\n",
      "23/03/26 06:59:33 WARN MemoryStore: Not enough space to cache rdd_65_13 in memory! (computed 384.0 B so far)\n",
      "23/03/26 06:59:33 WARN BlockManager: Persisting block rdd_65_13 to disk instead.\n",
      "23/03/26 06:59:49 WARN MemoryStore: Failed to reserve initial memory threshold of 1024.0 KiB for computing block rdd_65_13 in memory.\n",
      "23/03/26 06:59:49 WARN MemoryStore: Not enough space to cache rdd_65_13 in memory! (computed 384.0 B so far)\n",
      "23/03/26 06:59:49 WARN MemoryStore: Failed to reserve initial memory threshold of 1024.0 KiB for computing block rdd_68_13 in memory.\n",
      "23/03/26 06:59:49 WARN MemoryStore: Not enough space to cache rdd_68_13 in memory! (computed 384.0 B so far)\n",
      "23/03/26 06:59:49 WARN BlockManager: Persisting block rdd_68_13 to disk instead.\n",
      "23/03/26 06:59:49 WARN MemoryStore: Not enough space to cache rdd_65_14 in memory! (computed 3.7 MiB so far)\n",
      "23/03/26 06:59:49 WARN MemoryStore: Failed to reserve initial memory threshold of 1024.0 KiB for computing block rdd_68_14 in memory.\n",
      "23/03/26 06:59:49 WARN MemoryStore: Not enough space to cache rdd_68_14 in memory! (computed 384.0 B so far)\n",
      "23/03/26 06:59:49 WARN BlockManager: Persisting block rdd_68_14 to disk instead.\n",
      "23/03/26 06:59:50 WARN MemoryStore: Not enough space to cache rdd_65_12 in memory! (computed 3.7 MiB so far)\n",
      "23/03/26 06:59:50 WARN MemoryStore: Failed to reserve initial memory threshold of 1024.0 KiB for computing block rdd_68_12 in memory.\n",
      "23/03/26 06:59:50 WARN MemoryStore: Not enough space to cache rdd_68_12 in memory! (computed 384.0 B so far)\n",
      "23/03/26 06:59:50 WARN BlockManager: Persisting block rdd_68_12 to disk instead.\n",
      "23/03/26 07:00:02 WARN MemoryStore: Not enough space to cache rdd_65_8 in memory! (computed 3.7 MiB so far)\n",
      "23/03/26 07:00:02 WARN MemoryStore: Not enough space to cache rdd_65_10 in memory! (computed 1035.4 KiB so far)\n",
      "23/03/26 07:00:02 WARN MemoryStore: Failed to reserve initial memory threshold of 1024.0 KiB for computing block rdd_68_10 in memory.\n",
      "23/03/26 07:00:02 WARN MemoryStore: Not enough space to cache rdd_68_10 in memory! (computed 384.0 B so far)\n",
      "23/03/26 07:00:02 WARN BlockManager: Persisting block rdd_68_10 to disk instead.\n",
      "23/03/26 07:00:02 WARN MemoryStore: Not enough space to cache rdd_65_11 in memory! (computed 19.5 MiB so far)\n",
      "23/03/26 07:00:03 WARN MemoryStore: Not enough space to cache rdd_65_9 in memory! (computed 19.5 MiB so far)\n",
      "23/03/26 07:00:03 WARN MemoryStore: Not enough space to cache rdd_65_15 in memory! (computed 29.2 MiB so far)\n",
      "23/03/26 07:00:03 WARN MemoryStore: Not enough space to cache rdd_68_8 in memory! (computed 10.8 MiB so far)\n",
      "23/03/26 07:00:03 WARN BlockManager: Persisting block rdd_68_8 to disk instead.\n",
      "23/03/26 07:00:03 WARN MemoryStore: Not enough space to cache rdd_68_15 in memory! (computed 2.7 MiB so far)\n",
      "23/03/26 07:00:03 WARN BlockManager: Persisting block rdd_68_15 to disk instead.\n",
      "23/03/26 07:00:04 WARN MemoryStore: Not enough space to cache rdd_68_9 in memory! (computed 6.2 MiB so far)\n",
      "23/03/26 07:00:04 WARN BlockManager: Persisting block rdd_68_9 to disk instead.\n",
      "23/03/26 07:00:05 WARN MemoryStore: Not enough space to cache rdd_68_13 in memory! (computed 16.2 MiB so far)\n",
      "23/03/26 07:00:05 WARN MemoryStore: Not enough space to cache rdd_68_14 in memory! (computed 16.2 MiB so far)\n"
     ]
    },
    {
     "name": "stderr",
     "output_type": "stream",
     "text": [
      "[Stage 26:=========================>                               (9 + 8) / 20]\r"
     ]
    },
    {
     "name": "stdout",
     "output_type": "stream",
     "text": [
      "23/03/26 07:00:29 WARN MemoryStore: Not enough space to cache rdd_23_16 in memory! (computed 380.1 MiB so far)\n",
      "23/03/26 07:00:29 WARN MemoryStore: Not enough space to cache rdd_23_16 in memory! (computed 31.4 MiB so far)\n",
      "23/03/26 07:00:29 WARN MemoryStore: Failed to reserve initial memory threshold of 1024.0 KiB for computing block rdd_23_16 in memory.\n",
      "23/03/26 07:00:29 WARN MemoryStore: Not enough space to cache rdd_23_16 in memory! (computed 384.0 B so far)\n",
      "23/03/26 07:00:29 WARN MemoryStore: Failed to reserve initial memory threshold of 1024.0 KiB for computing block rdd_43_16 in memory.\n",
      "23/03/26 07:00:29 WARN MemoryStore: Not enough space to cache rdd_43_16 in memory! (computed 384.0 B so far)\n",
      "23/03/26 07:00:29 WARN MemoryStore: Failed to reserve initial memory threshold of 1024.0 KiB for computing block rdd_65_16 in memory.\n",
      "23/03/26 07:00:29 WARN MemoryStore: Not enough space to cache rdd_65_16 in memory! (computed 384.0 B so far)\n",
      "23/03/26 07:00:29 WARN BlockManager: Persisting block rdd_65_16 to disk instead.\n"
     ]
    },
    {
     "name": "stderr",
     "output_type": "stream",
     "text": [
      "[Stage 26:============================>                           (10 + 8) / 20]\r"
     ]
    },
    {
     "name": "stdout",
     "output_type": "stream",
     "text": [
      "23/03/26 07:00:30 WARN MemoryStore: Not enough space to cache rdd_23_17 in memory! (computed 73.6 MiB so far)\n",
      "23/03/26 07:00:30 WARN MemoryStore: Not enough space to cache rdd_23_17 in memory! (computed 13.9 MiB so far)\n",
      "23/03/26 07:00:30 WARN MemoryStore: Not enough space to cache rdd_23_17 in memory! (computed 1025.7 KiB so far)\n",
      "23/03/26 07:00:30 WARN MemoryStore: Failed to reserve initial memory threshold of 1024.0 KiB for computing block rdd_43_17 in memory.\n",
      "23/03/26 07:00:30 WARN MemoryStore: Not enough space to cache rdd_43_17 in memory! (computed 384.0 B so far)\n",
      "23/03/26 07:00:30 WARN MemoryStore: Failed to reserve initial memory threshold of 1024.0 KiB for computing block rdd_65_17 in memory.\n",
      "23/03/26 07:00:30 WARN MemoryStore: Not enough space to cache rdd_65_17 in memory! (computed 384.0 B so far)\n",
      "23/03/26 07:00:30 WARN BlockManager: Persisting block rdd_65_17 to disk instead.\n"
     ]
    },
    {
     "name": "stderr",
     "output_type": "stream",
     "text": [
      "[Stage 26:==============================>                         (11 + 8) / 20]\r"
     ]
    },
    {
     "name": "stdout",
     "output_type": "stream",
     "text": [
      "23/03/26 07:00:35 WARN MemoryStore: Not enough space to cache rdd_23_18 in memory! (computed 909.7 MiB so far)\n",
      "23/03/26 07:00:36 WARN MemoryStore: Not enough space to cache rdd_68_8 in memory! (computed 99.2 MiB so far)\n",
      "23/03/26 07:00:36 WARN MemoryStore: Not enough space to cache rdd_23_18 in memory! (computed 252.9 MiB so far)\n",
      "23/03/26 07:00:36 WARN MemoryStore: Not enough space to cache rdd_68_15 in memory! (computed 24.3 MiB so far)\n",
      "23/03/26 07:00:36 WARN MemoryStore: Not enough space to cache rdd_23_18 in memory! (computed 13.9 MiB so far)\n",
      "23/03/26 07:00:36 WARN MemoryStore: Not enough space to cache rdd_43_18 in memory! (computed 8.2 MiB so far)\n",
      "23/03/26 07:00:36 WARN MemoryStore: Not enough space to cache rdd_68_9 in memory! (computed 99.2 MiB so far)\n",
      "23/03/26 07:00:36 WARN MemoryStore: Not enough space to cache rdd_68_10 in memory! (computed 99.2 MiB so far)\n",
      "23/03/26 07:00:38 WARN MemoryStore: Not enough space to cache rdd_65_18 in memory! (computed 19.5 MiB so far)\n",
      "23/03/26 07:00:38 WARN BlockManager: Persisting block rdd_65_18 to disk instead.\n"
     ]
    },
    {
     "name": "stderr",
     "output_type": "stream",
     "text": [
      "[Stage 26:============================================>           (16 + 4) / 20]\r"
     ]
    },
    {
     "name": "stdout",
     "output_type": "stream",
     "text": [
      "23/03/26 07:01:20 WARN MemoryStore: Not enough space to cache rdd_23_19 in memory! (computed 6.9 GiB so far)\n",
      "23/03/26 07:01:25 WARN MemoryStore: Not enough space to cache rdd_23_19 in memory! (computed 2046.8 MiB so far)\n",
      "23/03/26 07:01:26 WARN MemoryStore: Not enough space to cache rdd_23_19 in memory! (computed 73.6 MiB so far)\n",
      "23/03/26 07:01:26 WARN MemoryStore: Not enough space to cache rdd_43_19 in memory! (computed 29.2 MiB so far)\n",
      "23/03/26 07:01:33 WARN MemoryStore: Not enough space to cache rdd_65_19 in memory! (computed 104.0 MiB so far)\n",
      "23/03/26 07:01:33 WARN BlockManager: Persisting block rdd_65_19 to disk instead.\n"
     ]
    },
    {
     "name": "stderr",
     "output_type": "stream",
     "text": [
      "[Stage 28:>                                                        (0 + 8) / 20]\r"
     ]
    },
    {
     "name": "stdout",
     "output_type": "stream",
     "text": [
      "23/03/26 07:02:02 WARN MemoryStore: Not enough space to cache rdd_23_1 in memory! (computed 1364.5 MiB so far)\n",
      "23/03/26 07:02:02 WARN MemoryStore: Not enough space to cache rdd_23_7 in memory! (computed 1364.5 MiB so far)\n",
      "23/03/26 07:02:02 WARN MemoryStore: Not enough space to cache rdd_23_6 in memory! (computed 1364.5 MiB so far)\n",
      "23/03/26 07:02:02 WARN MemoryStore: Not enough space to cache rdd_23_4 in memory! (computed 1364.5 MiB so far)\n",
      "23/03/26 07:02:02 WARN MemoryStore: Not enough space to cache rdd_23_2 in memory! (computed 909.7 MiB so far)\n",
      "23/03/26 07:02:02 WARN MemoryStore: Not enough space to cache rdd_23_5 in memory! (computed 909.7 MiB so far)\n",
      "23/03/26 07:02:02 WARN MemoryStore: Not enough space to cache rdd_23_0 in memory! (computed 909.7 MiB so far)\n",
      "23/03/26 07:02:02 WARN MemoryStore: Not enough space to cache rdd_68_4 in memory! (computed 6.2 MiB so far)\n",
      "23/03/26 07:02:02 WARN MemoryStore: Not enough space to cache rdd_68_1 in memory! (computed 6.2 MiB so far)\n",
      "23/03/26 07:02:02 WARN MemoryStore: Not enough space to cache rdd_68_2 in memory! (computed 6.2 MiB so far)\n",
      "23/03/26 07:02:02 WARN MemoryStore: Not enough space to cache rdd_68_5 in memory! (computed 6.2 MiB so far)\n",
      "23/03/26 07:02:02 WARN MemoryStore: Not enough space to cache rdd_68_0 in memory! (computed 6.2 MiB so far)\n",
      "23/03/26 07:02:02 WARN MemoryStore: Not enough space to cache rdd_68_7 in memory! (computed 10.8 MiB so far)\n",
      "23/03/26 07:02:02 WARN MemoryStore: Not enough space to cache rdd_68_6 in memory! (computed 10.8 MiB so far)\n",
      "23/03/26 07:02:03 WARN MemoryStore: Not enough space to cache rdd_23_3 in memory! (computed 1364.5 MiB so far)\n"
     ]
    },
    {
     "name": "stderr",
     "output_type": "stream",
     "text": [
      "[Stage 28:======================>                                  (8 + 8) / 20]\r"
     ]
    },
    {
     "name": "stdout",
     "output_type": "stream",
     "text": [
      "23/03/26 07:02:47 WARN MemoryStore: Not enough space to cache rdd_23_12 in memory! (computed 909.7 MiB so far)\n",
      "23/03/26 07:02:49 WARN MemoryStore: Not enough space to cache rdd_23_10 in memory! (computed 2046.8 MiB so far)\n",
      "23/03/26 07:02:49 WARN MemoryStore: Not enough space to cache rdd_23_9 in memory! (computed 2046.8 MiB so far)\n",
      "23/03/26 07:02:49 WARN MemoryStore: Not enough space to cache rdd_23_11 in memory! (computed 1364.5 MiB so far)\n",
      "23/03/26 07:02:49 WARN MemoryStore: Not enough space to cache rdd_23_8 in memory! (computed 2046.8 MiB so far)\n",
      "23/03/26 07:02:49 WARN MemoryStore: Not enough space to cache rdd_23_14 in memory! (computed 380.1 MiB so far)\n",
      "23/03/26 07:02:49 WARN MemoryStore: Not enough space to cache rdd_23_15 in memory! (computed 252.9 MiB so far)\n",
      "23/03/26 07:02:49 WARN MemoryStore: Not enough space to cache rdd_68_11 in memory! (computed 6.2 MiB so far)\n",
      "23/03/26 07:02:49 WARN MemoryStore: Not enough space to cache rdd_68_10 in memory! (computed 6.2 MiB so far)\n",
      "23/03/26 07:02:49 WARN MemoryStore: Not enough space to cache rdd_68_12 in memory! (computed 10.8 MiB so far)\n",
      "23/03/26 07:02:49 WARN MemoryStore: Not enough space to cache rdd_68_14 in memory! (computed 10.8 MiB so far)\n",
      "23/03/26 07:02:49 WARN MemoryStore: Not enough space to cache rdd_68_9 in memory! (computed 10.8 MiB so far)\n",
      "23/03/26 07:02:49 WARN MemoryStore: Not enough space to cache rdd_68_8 in memory! (computed 10.8 MiB so far)\n",
      "23/03/26 07:02:49 WARN MemoryStore: Not enough space to cache rdd_68_15 in memory! (computed 10.8 MiB so far)\n",
      "23/03/26 07:02:49 WARN MemoryStore: Not enough space to cache rdd_23_13 in memory! (computed 589.3 MiB so far)\n",
      "23/03/26 07:02:49 WARN MemoryStore: Failed to reserve initial memory threshold of 1024.0 KiB for computing block rdd_68_13 in memory.\n",
      "23/03/26 07:02:49 WARN MemoryStore: Not enough space to cache rdd_68_13 in memory! (computed 384.0 B so far)\n"
     ]
    },
    {
     "name": "stderr",
     "output_type": "stream",
     "text": [
      "[Stage 28:==============================>                         (11 + 8) / 20]\r"
     ]
    },
    {
     "name": "stdout",
     "output_type": "stream",
     "text": [
      "23/03/26 07:03:20 WARN MemoryStore: Not enough space to cache rdd_23_16 in memory! (computed 3.0 GiB so far)\n",
      "23/03/26 07:03:21 WARN MemoryStore: Not enough space to cache rdd_23_17 in memory! (computed 3.0 GiB so far)\n",
      "23/03/26 07:03:22 WARN MemoryStore: Not enough space to cache rdd_23_18 in memory! (computed 3.0 GiB so far)\n",
      "23/03/26 07:03:25 WARN MemoryStore: Not enough space to cache rdd_68_16 in memory! (computed 172.8 MiB so far)\n",
      "23/03/26 07:03:25 WARN MemoryStore: Not enough space to cache rdd_68_18 in memory! (computed 99.2 MiB so far)\n"
     ]
    },
    {
     "name": "stderr",
     "output_type": "stream",
     "text": [
      "[Stage 28:===============================================>        (17 + 3) / 20]\r"
     ]
    },
    {
     "name": "stdout",
     "output_type": "stream",
     "text": [
      "23/03/26 07:03:43 WARN MemoryStore: Not enough space to cache rdd_23_19 in memory! (computed 6.9 GiB so far)\n"
     ]
    },
    {
     "name": "stderr",
     "output_type": "stream",
     "text": [
      "[Stage 30:>                                                        (0 + 8) / 20]\r"
     ]
    },
    {
     "name": "stdout",
     "output_type": "stream",
     "text": [
      "23/03/26 07:03:56 WARN MemoryStore: Not enough space to cache rdd_23_3 in memory! (computed 909.7 MiB so far)\n",
      "23/03/26 07:03:56 WARN MemoryStore: Not enough space to cache rdd_23_4 in memory! (computed 909.7 MiB so far)\n",
      "23/03/26 07:03:56 WARN MemoryStore: Not enough space to cache rdd_23_6 in memory! (computed 909.7 MiB so far)\n",
      "23/03/26 07:03:56 WARN MemoryStore: Not enough space to cache rdd_23_0 in memory! (computed 1364.5 MiB so far)\n",
      "23/03/26 07:03:56 WARN MemoryStore: Not enough space to cache rdd_23_1 in memory! (computed 1364.5 MiB so far)\n",
      "23/03/26 07:03:56 WARN MemoryStore: Failed to reserve initial memory threshold of 1024.0 KiB for computing block rdd_68_1 in memory.\n",
      "23/03/26 07:03:56 WARN MemoryStore: Not enough space to cache rdd_68_1 in memory! (computed 384.0 B so far)\n",
      "23/03/26 07:03:56 WARN MemoryStore: Not enough space to cache rdd_68_0 in memory! (computed 1024.6 KiB so far)\n",
      "23/03/26 07:03:56 WARN MemoryStore: Not enough space to cache rdd_68_4 in memory! (computed 16.2 MiB so far)\n",
      "23/03/26 07:03:56 WARN MemoryStore: Not enough space to cache rdd_68_6 in memory! (computed 16.2 MiB so far)\n",
      "23/03/26 07:03:56 WARN MemoryStore: Not enough space to cache rdd_68_3 in memory! (computed 16.2 MiB so far)\n",
      "23/03/26 07:03:57 WARN MemoryStore: Not enough space to cache rdd_23_5 in memory! (computed 1364.5 MiB so far)\n",
      "23/03/26 07:03:57 WARN MemoryStore: Not enough space to cache rdd_68_5 in memory! (computed 1024.6 KiB so far)\n",
      "23/03/26 07:03:57 WARN MemoryStore: Not enough space to cache rdd_23_7 in memory! (computed 1364.5 MiB so far)\n",
      "23/03/26 07:03:57 WARN MemoryStore: Failed to reserve initial memory threshold of 1024.0 KiB for computing block rdd_68_7 in memory.\n",
      "23/03/26 07:03:57 WARN MemoryStore: Not enough space to cache rdd_68_7 in memory! (computed 384.0 B so far)\n",
      "23/03/26 07:03:57 WARN MemoryStore: Not enough space to cache rdd_23_2 in memory! (computed 1364.5 MiB so far)\n",
      "23/03/26 07:03:57 WARN MemoryStore: Not enough space to cache rdd_68_2 in memory! (computed 1024.6 KiB so far)\n"
     ]
    },
    {
     "name": "stderr",
     "output_type": "stream",
     "text": [
      "[Stage 30:===================>                                     (7 + 8) / 20]\r"
     ]
    },
    {
     "name": "stdout",
     "output_type": "stream",
     "text": [
      "23/03/26 07:04:42 WARN MemoryStore: Not enough space to cache rdd_23_10 in memory! (computed 1364.5 MiB so far)\n",
      "23/03/26 07:04:42 WARN MemoryStore: Not enough space to cache rdd_23_14 in memory! (computed 589.3 MiB so far)\n",
      "23/03/26 07:04:42 WARN MemoryStore: Not enough space to cache rdd_23_8 in memory! (computed 2046.8 MiB so far)\n",
      "23/03/26 07:04:42 WARN MemoryStore: Not enough space to cache rdd_68_14 in memory! (computed 4.0 MiB so far)\n",
      "23/03/26 07:04:42 WARN MemoryStore: Not enough space to cache rdd_68_10 in memory! (computed 4.0 MiB so far)\n",
      "23/03/26 07:04:42 WARN MemoryStore: Not enough space to cache rdd_68_8 in memory! (computed 1024.6 KiB so far)\n",
      "23/03/26 07:04:42 WARN MemoryStore: Not enough space to cache rdd_23_13 in memory! (computed 909.7 MiB so far)\n",
      "23/03/26 07:04:42 WARN MemoryStore: Failed to reserve initial memory threshold of 1024.0 KiB for computing block rdd_68_13 in memory.\n",
      "23/03/26 07:04:42 WARN MemoryStore: Not enough space to cache rdd_68_13 in memory! (computed 384.0 B so far)\n",
      "23/03/26 07:04:42 WARN MemoryStore: Not enough space to cache rdd_23_11 in memory! (computed 1364.5 MiB so far)\n",
      "23/03/26 07:04:42 WARN MemoryStore: Failed to reserve initial memory threshold of 1024.0 KiB for computing block rdd_68_11 in memory.\n",
      "23/03/26 07:04:42 WARN MemoryStore: Not enough space to cache rdd_68_11 in memory! (computed 384.0 B so far)\n",
      "23/03/26 07:04:42 WARN MemoryStore: Not enough space to cache rdd_23_15 in memory! (computed 1025.7 KiB so far)\n",
      "23/03/26 07:04:42 WARN MemoryStore: Failed to reserve initial memory threshold of 1024.0 KiB for computing block rdd_68_15 in memory.\n",
      "23/03/26 07:04:42 WARN MemoryStore: Not enough space to cache rdd_68_15 in memory! (computed 384.0 B so far)\n",
      "23/03/26 07:04:42 WARN MemoryStore: Not enough space to cache rdd_23_12 in memory! (computed 1364.5 MiB so far)\n",
      "23/03/26 07:04:42 WARN MemoryStore: Not enough space to cache rdd_68_12 in memory! (computed 1024.6 KiB so far)\n"
     ]
    },
    {
     "name": "stderr",
     "output_type": "stream",
     "text": [
      "[Stage 30:======================>                                  (8 + 8) / 20]\r"
     ]
    },
    {
     "name": "stdout",
     "output_type": "stream",
     "text": [
      "23/03/26 07:04:44 WARN MemoryStore: Not enough space to cache rdd_23_9 in memory! (computed 2046.8 MiB so far)\n"
     ]
    },
    {
     "name": "stderr",
     "output_type": "stream",
     "text": [
      "[Stage 30:==============================>                         (11 + 8) / 20]\r"
     ]
    },
    {
     "name": "stdout",
     "output_type": "stream",
     "text": [
      "23/03/26 07:05:13 WARN MemoryStore: Not enough space to cache rdd_23_16 in memory! (computed 3.0 GiB so far)\n",
      "23/03/26 07:05:13 WARN MemoryStore: Not enough space to cache rdd_23_17 in memory! (computed 3.0 GiB so far)\n",
      "23/03/26 07:05:14 WARN MemoryStore: Not enough space to cache rdd_23_18 in memory! (computed 3.0 GiB so far)\n",
      "23/03/26 07:05:16 WARN MemoryStore: Not enough space to cache rdd_68_16 in memory! (computed 99.2 MiB so far)\n",
      "23/03/26 07:05:16 WARN MemoryStore: Not enough space to cache rdd_68_18 in memory! (computed 64.8 MiB so far)\n",
      "23/03/26 07:05:16 WARN MemoryStore: Not enough space to cache rdd_68_17 in memory! (computed 99.2 MiB so far)\n"
     ]
    },
    {
     "name": "stderr",
     "output_type": "stream",
     "text": [
      "[Stage 30:============================================>           (16 + 4) / 20]\r"
     ]
    },
    {
     "name": "stdout",
     "output_type": "stream",
     "text": [
      "23/03/26 07:05:35 WARN MemoryStore: Not enough space to cache rdd_23_19 in memory! (computed 6.9 GiB so far)\n"
     ]
    },
    {
     "name": "stderr",
     "output_type": "stream",
     "text": [
      "[Stage 32:>                                                        (0 + 8) / 20]\r"
     ]
    },
    {
     "name": "stdout",
     "output_type": "stream",
     "text": [
      "23/03/26 07:05:48 WARN MemoryStore: Not enough space to cache rdd_23_1 in memory! (computed 909.7 MiB so far)\n",
      "23/03/26 07:05:48 WARN MemoryStore: Not enough space to cache rdd_23_4 in memory! (computed 909.7 MiB so far)\n",
      "23/03/26 07:05:48 WARN MemoryStore: Not enough space to cache rdd_23_2 in memory! (computed 909.7 MiB so far)\n",
      "23/03/26 07:05:48 WARN MemoryStore: Not enough space to cache rdd_23_0 in memory! (computed 1364.5 MiB so far)\n",
      "23/03/26 07:05:48 WARN MemoryStore: Not enough space to cache rdd_68_0 in memory! (computed 1024.6 KiB so far)\n",
      "23/03/26 07:05:48 WARN MemoryStore: Not enough space to cache rdd_23_7 in memory! (computed 1364.5 MiB so far)\n",
      "23/03/26 07:05:48 WARN MemoryStore: Failed to reserve initial memory threshold of 1024.0 KiB for computing block rdd_68_7 in memory.\n",
      "23/03/26 07:05:48 WARN MemoryStore: Not enough space to cache rdd_68_7 in memory! (computed 384.0 B so far)\n",
      "23/03/26 07:05:48 WARN MemoryStore: Not enough space to cache rdd_23_6 in memory! (computed 1364.5 MiB so far)\n",
      "23/03/26 07:05:48 WARN MemoryStore: Failed to reserve initial memory threshold of 1024.0 KiB for computing block rdd_68_6 in memory.\n",
      "23/03/26 07:05:48 WARN MemoryStore: Not enough space to cache rdd_68_6 in memory! (computed 384.0 B so far)\n",
      "23/03/26 07:05:48 WARN MemoryStore: Not enough space to cache rdd_68_2 in memory! (computed 16.2 MiB so far)\n",
      "23/03/26 07:05:48 WARN MemoryStore: Not enough space to cache rdd_68_4 in memory! (computed 16.2 MiB so far)\n",
      "23/03/26 07:05:48 WARN MemoryStore: Not enough space to cache rdd_68_1 in memory! (computed 16.2 MiB so far)\n",
      "23/03/26 07:05:48 WARN MemoryStore: Not enough space to cache rdd_23_5 in memory! (computed 1364.5 MiB so far)\n",
      "23/03/26 07:05:48 WARN MemoryStore: Not enough space to cache rdd_68_5 in memory! (computed 1024.6 KiB so far)\n",
      "23/03/26 07:05:49 WARN MemoryStore: Not enough space to cache rdd_23_3 in memory! (computed 1364.5 MiB so far)\n",
      "23/03/26 07:05:49 WARN MemoryStore: Not enough space to cache rdd_68_3 in memory! (computed 1024.6 KiB so far)\n"
     ]
    },
    {
     "name": "stderr",
     "output_type": "stream",
     "text": [
      "[Stage 32:===================>                                     (7 + 8) / 20]\r"
     ]
    },
    {
     "name": "stdout",
     "output_type": "stream",
     "text": [
      "23/03/26 07:06:34 WARN MemoryStore: Not enough space to cache rdd_23_11 in memory! (computed 909.7 MiB so far)\n",
      "23/03/26 07:06:34 WARN MemoryStore: Not enough space to cache rdd_23_12 in memory! (computed 909.7 MiB so far)\n",
      "23/03/26 07:06:34 WARN MemoryStore: Not enough space to cache rdd_23_13 in memory! (computed 909.7 MiB so far)\n"
     ]
    },
    {
     "name": "stderr",
     "output_type": "stream",
     "text": [
      "[Stage 32:======================>                                  (8 + 8) / 20]\r"
     ]
    },
    {
     "name": "stdout",
     "output_type": "stream",
     "text": [
      "23/03/26 07:06:35 WARN MemoryStore: Not enough space to cache rdd_23_14 in memory! (computed 252.9 MiB so far)\n",
      "23/03/26 07:06:35 WARN MemoryStore: Not enough space to cache rdd_23_10 in memory! (computed 1364.5 MiB so far)\n",
      "23/03/26 07:06:35 WARN MemoryStore: Not enough space to cache rdd_23_15 in memory! (computed 168.6 MiB so far)\n",
      "23/03/26 07:06:35 WARN MemoryStore: Not enough space to cache rdd_68_12 in memory! (computed 16.2 MiB so far)\n",
      "23/03/26 07:06:35 WARN MemoryStore: Not enough space to cache rdd_68_11 in memory! (computed 24.3 MiB so far)\n",
      "23/03/26 07:06:35 WARN MemoryStore: Not enough space to cache rdd_23_9 in memory! (computed 2046.8 MiB so far)\n",
      "23/03/26 07:06:35 WARN MemoryStore: Failed to reserve initial memory threshold of 1024.0 KiB for computing block rdd_68_9 in memory.\n",
      "23/03/26 07:06:35 WARN MemoryStore: Not enough space to cache rdd_68_9 in memory! (computed 384.0 B so far)\n",
      "23/03/26 07:06:35 WARN MemoryStore: Not enough space to cache rdd_68_13 in memory! (computed 16.2 MiB so far)\n",
      "23/03/26 07:06:35 WARN MemoryStore: Not enough space to cache rdd_68_15 in memory! (computed 6.2 MiB so far)\n",
      "23/03/26 07:06:36 WARN MemoryStore: Not enough space to cache rdd_68_10 in memory! (computed 16.2 MiB so far)\n",
      "23/03/26 07:06:36 WARN MemoryStore: Not enough space to cache rdd_68_14 in memory! (computed 16.2 MiB so far)\n",
      "23/03/26 07:06:37 WARN MemoryStore: Not enough space to cache rdd_23_8 in memory! (computed 3.0 GiB so far)\n"
     ]
    },
    {
     "name": "stderr",
     "output_type": "stream",
     "text": [
      "[Stage 32:==============================>                         (11 + 8) / 20]\r"
     ]
    },
    {
     "name": "stdout",
     "output_type": "stream",
     "text": [
      "23/03/26 07:07:06 WARN MemoryStore: Not enough space to cache rdd_23_16 in memory! (computed 3.0 GiB so far)\n",
      "23/03/26 07:07:08 WARN MemoryStore: Not enough space to cache rdd_23_17 in memory! (computed 3.0 GiB so far)\n",
      "23/03/26 07:07:09 WARN MemoryStore: Not enough space to cache rdd_23_18 in memory! (computed 3.0 GiB so far)\n",
      "23/03/26 07:07:10 WARN MemoryStore: Not enough space to cache rdd_68_17 in memory! (computed 64.8 MiB so far)\n",
      "23/03/26 07:07:10 WARN MemoryStore: Not enough space to cache rdd_68_16 in memory! (computed 172.8 MiB so far)\n",
      "23/03/26 07:07:10 WARN MemoryStore: Not enough space to cache rdd_68_18 in memory! (computed 43.2 MiB so far)\n"
     ]
    },
    {
     "name": "stderr",
     "output_type": "stream",
     "text": [
      "[Stage 32:============================================>           (16 + 4) / 20]\r"
     ]
    },
    {
     "name": "stdout",
     "output_type": "stream",
     "text": [
      "23/03/26 07:07:28 WARN MemoryStore: Not enough space to cache rdd_23_19 in memory! (computed 6.9 GiB so far)\n"
     ]
    },
    {
     "name": "stderr",
     "output_type": "stream",
     "text": [
      "[Stage 34:>                                                        (0 + 8) / 20]\r"
     ]
    },
    {
     "name": "stdout",
     "output_type": "stream",
     "text": [
      "23/03/26 07:07:41 WARN MemoryStore: Not enough space to cache rdd_23_0 in memory! (computed 1364.5 MiB so far)\n",
      "23/03/26 07:07:41 WARN MemoryStore: Not enough space to cache rdd_23_7 in memory! (computed 909.7 MiB so far)\n",
      "23/03/26 07:07:41 WARN MemoryStore: Not enough space to cache rdd_23_2 in memory! (computed 909.7 MiB so far)\n",
      "23/03/26 07:07:41 WARN MemoryStore: Not enough space to cache rdd_23_6 in memory! (computed 909.7 MiB so far)\n",
      "23/03/26 07:07:42 WARN MemoryStore: Not enough space to cache rdd_23_1 in memory! (computed 1364.5 MiB so far)\n",
      "23/03/26 07:07:42 WARN MemoryStore: Not enough space to cache rdd_68_2 in memory! (computed 10.8 MiB so far)\n",
      "23/03/26 07:07:42 WARN MemoryStore: Not enough space to cache rdd_68_0 in memory! (computed 10.8 MiB so far)\n",
      "23/03/26 07:07:42 WARN MemoryStore: Not enough space to cache rdd_68_6 in memory! (computed 10.8 MiB so far)\n",
      "23/03/26 07:07:42 WARN MemoryStore: Not enough space to cache rdd_23_3 in memory! (computed 1364.5 MiB so far)\n",
      "23/03/26 07:07:42 WARN MemoryStore: Not enough space to cache rdd_68_1 in memory! (computed 4.0 MiB so far)\n",
      "23/03/26 07:07:42 WARN MemoryStore: Not enough space to cache rdd_23_5 in memory! (computed 1364.5 MiB so far)\n",
      "23/03/26 07:07:42 WARN MemoryStore: Failed to reserve initial memory threshold of 1024.0 KiB for computing block rdd_68_5 in memory.\n",
      "23/03/26 07:07:42 WARN MemoryStore: Not enough space to cache rdd_68_5 in memory! (computed 384.0 B so far)\n",
      "23/03/26 07:07:42 WARN MemoryStore: Not enough space to cache rdd_68_7 in memory! (computed 16.2 MiB so far)\n",
      "23/03/26 07:07:42 WARN MemoryStore: Not enough space to cache rdd_68_3 in memory! (computed 1537.3 KiB so far)\n",
      "23/03/26 07:07:43 WARN MemoryStore: Not enough space to cache rdd_23_4 in memory! (computed 1364.5 MiB so far)\n",
      "23/03/26 07:07:43 WARN MemoryStore: Not enough space to cache rdd_68_4 in memory! (computed 24.3 MiB so far)\n"
     ]
    },
    {
     "name": "stderr",
     "output_type": "stream",
     "text": [
      "[Stage 34:===================>                                     (7 + 8) / 20]\r"
     ]
    },
    {
     "name": "stdout",
     "output_type": "stream",
     "text": [
      "23/03/26 07:08:28 WARN MemoryStore: Not enough space to cache rdd_23_10 in memory! (computed 1364.5 MiB so far)\n",
      "23/03/26 07:08:28 WARN MemoryStore: Not enough space to cache rdd_23_9 in memory! (computed 1364.5 MiB so far)\n"
     ]
    },
    {
     "name": "stderr",
     "output_type": "stream",
     "text": [
      "[Stage 34:======================>                                  (8 + 8) / 20]\r"
     ]
    },
    {
     "name": "stdout",
     "output_type": "stream",
     "text": [
      "23/03/26 07:08:29 WARN MemoryStore: Not enough space to cache rdd_23_13 in memory! (computed 909.7 MiB so far)\n",
      "23/03/26 07:08:29 WARN MemoryStore: Not enough space to cache rdd_23_11 in memory! (computed 1364.5 MiB so far)\n",
      "23/03/26 07:08:29 WARN MemoryStore: Not enough space to cache rdd_23_8 in memory! (computed 2046.8 MiB so far)\n",
      "23/03/26 07:08:29 WARN MemoryStore: Not enough space to cache rdd_23_12 in memory! (computed 1364.5 MiB so far)\n",
      "23/03/26 07:08:29 WARN MemoryStore: Not enough space to cache rdd_23_14 in memory! (computed 909.7 MiB so far)\n",
      "23/03/26 07:08:30 WARN MemoryStore: Not enough space to cache rdd_23_15 in memory! (computed 252.9 MiB so far)\n",
      "23/03/26 07:08:30 WARN MemoryStore: Failed to reserve initial memory threshold of 1024.0 KiB for computing block rdd_68_15 in memory.\n",
      "23/03/26 07:08:30 WARN MemoryStore: Not enough space to cache rdd_68_15 in memory! (computed 384.0 B so far)\n",
      "23/03/26 07:08:30 WARN MemoryStore: Not enough space to cache rdd_68_8 in memory! (computed 10.8 MiB so far)\n",
      "23/03/26 07:08:30 WARN MemoryStore: Not enough space to cache rdd_68_12 in memory! (computed 6.2 MiB so far)\n",
      "23/03/26 07:08:30 WARN MemoryStore: Not enough space to cache rdd_68_14 in memory! (computed 4.0 MiB so far)\n",
      "23/03/26 07:08:30 WARN MemoryStore: Not enough space to cache rdd_68_11 in memory! (computed 16.2 MiB so far)\n",
      "23/03/26 07:08:30 WARN MemoryStore: Not enough space to cache rdd_68_9 in memory! (computed 43.2 MiB so far)\n",
      "23/03/26 07:08:30 WARN MemoryStore: Not enough space to cache rdd_68_13 in memory! (computed 16.2 MiB so far)\n",
      "23/03/26 07:08:30 WARN MemoryStore: Not enough space to cache rdd_68_10 in memory! (computed 43.2 MiB so far)\n"
     ]
    },
    {
     "name": "stderr",
     "output_type": "stream",
     "text": [
      "[Stage 34:==============================>                         (11 + 8) / 20]\r"
     ]
    },
    {
     "name": "stdout",
     "output_type": "stream",
     "text": [
      "23/03/26 07:08:59 WARN MemoryStore: Not enough space to cache rdd_23_16 in memory! (computed 3.0 GiB so far)\n",
      "23/03/26 07:09:01 WARN MemoryStore: Not enough space to cache rdd_23_17 in memory! (computed 3.0 GiB so far)\n",
      "23/03/26 07:09:01 WARN MemoryStore: Not enough space to cache rdd_23_18 in memory! (computed 3.0 GiB so far)\n",
      "23/03/26 07:09:04 WARN MemoryStore: Not enough space to cache rdd_68_16 in memory! (computed 172.8 MiB so far)\n",
      "23/03/26 07:09:04 WARN MemoryStore: Not enough space to cache rdd_68_18 in memory! (computed 99.2 MiB so far)\n"
     ]
    },
    {
     "name": "stderr",
     "output_type": "stream",
     "text": [
      "[Stage 34:===============================================>        (17 + 3) / 20]\r"
     ]
    },
    {
     "name": "stdout",
     "output_type": "stream",
     "text": [
      "23/03/26 07:09:23 WARN MemoryStore: Not enough space to cache rdd_23_19 in memory! (computed 6.9 GiB so far)\n"
     ]
    },
    {
     "name": "stderr",
     "output_type": "stream",
     "text": [
      "[Stage 36:>                                                        (0 + 8) / 20]\r"
     ]
    },
    {
     "name": "stdout",
     "output_type": "stream",
     "text": [
      "23/03/26 07:09:36 WARN MemoryStore: Not enough space to cache rdd_23_5 in memory! (computed 909.7 MiB so far)\n",
      "23/03/26 07:09:36 WARN MemoryStore: Not enough space to cache rdd_23_1 in memory! (computed 909.7 MiB so far)\n",
      "23/03/26 07:09:36 WARN MemoryStore: Not enough space to cache rdd_23_0 in memory! (computed 909.7 MiB so far)\n",
      "23/03/26 07:09:36 WARN MemoryStore: Not enough space to cache rdd_23_1 in memory! (computed 47.4 MiB so far)\n",
      "23/03/26 07:09:36 WARN MemoryStore: Not enough space to cache rdd_23_0 in memory! (computed 13.9 MiB so far)\n",
      "23/03/26 07:09:36 WARN MemoryStore: Not enough space to cache rdd_23_1 in memory! (computed 2.3 MiB so far)\n",
      "23/03/26 07:09:36 WARN MemoryStore: Failed to reserve initial memory threshold of 1024.0 KiB for computing block rdd_65_1 in memory.\n",
      "23/03/26 07:09:36 WARN MemoryStore: Not enough space to cache rdd_65_1 in memory! (computed 384.0 B so far)\n",
      "23/03/26 07:09:36 WARN MemoryStore: Failed to reserve initial memory threshold of 1024.0 KiB for computing block rdd_87_1 in memory.\n",
      "23/03/26 07:09:36 WARN MemoryStore: Not enough space to cache rdd_87_1 in memory! (computed 384.0 B so far)\n",
      "23/03/26 07:09:36 WARN BlockManager: Persisting block rdd_87_1 to disk instead.\n",
      "23/03/26 07:09:36 WARN MemoryStore: Not enough space to cache rdd_23_0 in memory! (computed 2.3 MiB so far)\n",
      "23/03/26 07:09:36 WARN MemoryStore: Not enough space to cache rdd_23_5 in memory! (computed 112.4 MiB so far)\n",
      "23/03/26 07:09:36 WARN MemoryStore: Not enough space to cache rdd_65_0 in memory! (computed 1035.4 KiB so far)\n",
      "23/03/26 07:09:36 WARN MemoryStore: Failed to reserve initial memory threshold of 1024.0 KiB for computing block rdd_87_0 in memory.\n",
      "23/03/26 07:09:36 WARN MemoryStore: Not enough space to cache rdd_87_0 in memory! (computed 384.0 B so far)\n",
      "23/03/26 07:09:36 WARN BlockManager: Persisting block rdd_87_0 to disk instead.\n",
      "23/03/26 07:09:36 WARN MemoryStore: Not enough space to cache rdd_23_5 in memory! (computed 3.5 MiB so far)\n",
      "23/03/26 07:09:36 WARN MemoryStore: Failed to reserve initial memory threshold of 1024.0 KiB for computing block rdd_65_5 in memory.\n",
      "23/03/26 07:09:36 WARN MemoryStore: Not enough space to cache rdd_65_5 in memory! (computed 384.0 B so far)\n",
      "23/03/26 07:09:36 WARN MemoryStore: Failed to reserve initial memory threshold of 1024.0 KiB for computing block rdd_87_5 in memory.\n",
      "23/03/26 07:09:36 WARN MemoryStore: Not enough space to cache rdd_87_5 in memory! (computed 384.0 B so far)\n",
      "23/03/26 07:09:36 WARN BlockManager: Persisting block rdd_87_5 to disk instead.\n",
      "23/03/26 07:09:37 WARN MemoryStore: Not enough space to cache rdd_23_4 in memory! (computed 1364.5 MiB so far)\n",
      "23/03/26 07:09:37 WARN MemoryStore: Not enough space to cache rdd_23_2 in memory! (computed 1364.5 MiB so far)\n",
      "23/03/26 07:09:37 WARN MemoryStore: Not enough space to cache rdd_23_4 in memory! (computed 2.3 MiB so far)\n",
      "23/03/26 07:09:37 WARN MemoryStore: Failed to reserve initial memory threshold of 1024.0 KiB for computing block rdd_23_4 in memory.\n",
      "23/03/26 07:09:37 WARN MemoryStore: Not enough space to cache rdd_23_4 in memory! (computed 384.0 B so far)\n",
      "23/03/26 07:09:37 WARN MemoryStore: Failed to reserve initial memory threshold of 1024.0 KiB for computing block rdd_65_4 in memory.\n",
      "23/03/26 07:09:37 WARN MemoryStore: Not enough space to cache rdd_65_4 in memory! (computed 384.0 B so far)\n",
      "23/03/26 07:09:37 WARN MemoryStore: Failed to reserve initial memory threshold of 1024.0 KiB for computing block rdd_87_4 in memory.\n",
      "23/03/26 07:09:37 WARN MemoryStore: Not enough space to cache rdd_87_4 in memory! (computed 384.0 B so far)\n",
      "23/03/26 07:09:37 WARN BlockManager: Persisting block rdd_87_4 to disk instead.\n",
      "23/03/26 07:09:37 WARN MemoryStore: Not enough space to cache rdd_23_2 in memory! (computed 2.3 MiB so far)\n",
      "23/03/26 07:09:37 WARN MemoryStore: Failed to reserve initial memory threshold of 1024.0 KiB for computing block rdd_23_2 in memory.\n",
      "23/03/26 07:09:37 WARN MemoryStore: Not enough space to cache rdd_23_2 in memory! (computed 384.0 B so far)\n",
      "23/03/26 07:09:37 WARN MemoryStore: Failed to reserve initial memory threshold of 1024.0 KiB for computing block rdd_65_2 in memory.\n",
      "23/03/26 07:09:37 WARN MemoryStore: Not enough space to cache rdd_65_2 in memory! (computed 384.0 B so far)\n",
      "23/03/26 07:09:37 WARN MemoryStore: Failed to reserve initial memory threshold of 1024.0 KiB for computing block rdd_87_2 in memory.\n",
      "23/03/26 07:09:37 WARN MemoryStore: Not enough space to cache rdd_87_2 in memory! (computed 384.0 B so far)\n",
      "23/03/26 07:09:37 WARN BlockManager: Persisting block rdd_87_2 to disk instead.\n",
      "23/03/26 07:09:37 WARN MemoryStore: Not enough space to cache rdd_23_7 in memory! (computed 1364.5 MiB so far)\n",
      "23/03/26 07:09:37 WARN MemoryStore: Failed to reserve initial memory threshold of 1024.0 KiB for computing block rdd_23_7 in memory.\n",
      "23/03/26 07:09:37 WARN MemoryStore: Not enough space to cache rdd_23_7 in memory! (computed 384.0 B so far)\n",
      "23/03/26 07:09:37 WARN MemoryStore: Failed to reserve initial memory threshold of 1024.0 KiB for computing block rdd_23_7 in memory.\n",
      "23/03/26 07:09:37 WARN MemoryStore: Not enough space to cache rdd_23_7 in memory! (computed 384.0 B so far)\n",
      "23/03/26 07:09:37 WARN MemoryStore: Failed to reserve initial memory threshold of 1024.0 KiB for computing block rdd_65_7 in memory.\n",
      "23/03/26 07:09:37 WARN MemoryStore: Not enough space to cache rdd_65_7 in memory! (computed 384.0 B so far)\n",
      "23/03/26 07:09:37 WARN MemoryStore: Failed to reserve initial memory threshold of 1024.0 KiB for computing block rdd_87_7 in memory.\n",
      "23/03/26 07:09:37 WARN MemoryStore: Not enough space to cache rdd_87_7 in memory! (computed 384.0 B so far)\n",
      "23/03/26 07:09:37 WARN BlockManager: Persisting block rdd_87_7 to disk instead.\n",
      "23/03/26 07:09:37 WARN MemoryStore: Not enough space to cache rdd_23_6 in memory! (computed 1364.5 MiB so far)\n",
      "23/03/26 07:09:37 WARN MemoryStore: Failed to reserve initial memory threshold of 1024.0 KiB for computing block rdd_23_6 in memory.\n",
      "23/03/26 07:09:37 WARN MemoryStore: Not enough space to cache rdd_23_6 in memory! (computed 384.0 B so far)\n",
      "23/03/26 07:09:37 WARN MemoryStore: Not enough space to cache rdd_23_3 in memory! (computed 1364.5 MiB so far)\n",
      "23/03/26 07:09:37 WARN MemoryStore: Failed to reserve initial memory threshold of 1024.0 KiB for computing block rdd_23_3 in memory.\n",
      "23/03/26 07:09:37 WARN MemoryStore: Not enough space to cache rdd_23_3 in memory! (computed 384.0 B so far)\n",
      "23/03/26 07:09:37 WARN MemoryStore: Failed to reserve initial memory threshold of 1024.0 KiB for computing block rdd_23_6 in memory.\n",
      "23/03/26 07:09:37 WARN MemoryStore: Failed to reserve initial memory threshold of 1024.0 KiB for computing block rdd_23_3 in memory.\n",
      "23/03/26 07:09:37 WARN MemoryStore: Not enough space to cache rdd_23_3 in memory! (computed 384.0 B so far)\n",
      "23/03/26 07:09:37 WARN MemoryStore: Failed to reserve initial memory threshold of 1024.0 KiB for computing block rdd_65_3 in memory.\n",
      "23/03/26 07:09:37 WARN MemoryStore: Not enough space to cache rdd_65_3 in memory! (computed 384.0 B so far)\n",
      "23/03/26 07:09:37 WARN MemoryStore: Failed to reserve initial memory threshold of 1024.0 KiB for computing block rdd_87_3 in memory.\n",
      "23/03/26 07:09:37 WARN MemoryStore: Not enough space to cache rdd_87_3 in memory! (computed 384.0 B so far)\n",
      "23/03/26 07:09:37 WARN BlockManager: Persisting block rdd_87_3 to disk instead.\n",
      "23/03/26 07:09:37 WARN MemoryStore: Not enough space to cache rdd_23_6 in memory! (computed 384.0 B so far)\n",
      "23/03/26 07:09:37 WARN MemoryStore: Failed to reserve initial memory threshold of 1024.0 KiB for computing block rdd_65_6 in memory.\n",
      "23/03/26 07:09:37 WARN MemoryStore: Not enough space to cache rdd_65_6 in memory! (computed 384.0 B so far)\n",
      "23/03/26 07:09:37 WARN MemoryStore: Failed to reserve initial memory threshold of 1024.0 KiB for computing block rdd_87_6 in memory.\n",
      "23/03/26 07:09:37 WARN MemoryStore: Not enough space to cache rdd_87_6 in memory! (computed 384.0 B so far)\n",
      "23/03/26 07:09:37 WARN BlockManager: Persisting block rdd_87_6 to disk instead.\n",
      "23/03/26 07:10:06 WARN MemoryStore: Failed to reserve initial memory threshold of 1024.0 KiB for computing block rdd_87_4 in memory.\n",
      "23/03/26 07:10:06 WARN MemoryStore: Not enough space to cache rdd_87_4 in memory! (computed 384.0 B so far)\n",
      "23/03/26 07:10:06 WARN MemoryStore: Failed to reserve initial memory threshold of 1024.0 KiB for computing block rdd_90_4 in memory.\n",
      "23/03/26 07:10:06 WARN MemoryStore: Not enough space to cache rdd_90_4 in memory! (computed 384.0 B so far)\n",
      "23/03/26 07:10:06 WARN BlockManager: Persisting block rdd_90_4 to disk instead.\n",
      "23/03/26 07:10:07 WARN MemoryStore: Not enough space to cache rdd_87_1 in memory! (computed 1663.4 KiB so far)\n",
      "23/03/26 07:10:07 WARN MemoryStore: Failed to reserve initial memory threshold of 1024.0 KiB for computing block rdd_90_1 in memory.\n",
      "23/03/26 07:10:07 WARN MemoryStore: Not enough space to cache rdd_90_1 in memory! (computed 384.0 B so far)\n",
      "23/03/26 07:10:07 WARN BlockManager: Persisting block rdd_90_1 to disk instead.\n",
      "23/03/26 07:10:07 WARN MemoryStore: Not enough space to cache rdd_87_5 in memory! (computed 29.2 MiB so far)\n",
      "23/03/26 07:10:07 WARN MemoryStore: Failed to reserve initial memory threshold of 1024.0 KiB for computing block rdd_90_5 in memory.\n",
      "23/03/26 07:10:07 WARN MemoryStore: Not enough space to cache rdd_90_5 in memory! (computed 384.0 B so far)\n",
      "23/03/26 07:10:07 WARN BlockManager: Persisting block rdd_90_5 to disk instead.\n",
      "23/03/26 07:10:08 WARN MemoryStore: Not enough space to cache rdd_87_7 in memory! (computed 65.8 MiB so far)\n",
      "23/03/26 07:10:08 WARN MemoryStore: Failed to reserve initial memory threshold of 1024.0 KiB for computing block rdd_87_3 in memory.\n",
      "23/03/26 07:10:08 WARN MemoryStore: Not enough space to cache rdd_87_3 in memory! (computed 384.0 B so far)\n",
      "23/03/26 07:10:08 WARN MemoryStore: Failed to reserve initial memory threshold of 1024.0 KiB for computing block rdd_90_3 in memory.\n",
      "23/03/26 07:10:08 WARN MemoryStore: Not enough space to cache rdd_90_3 in memory! (computed 384.0 B so far)\n",
      "23/03/26 07:10:08 WARN BlockManager: Persisting block rdd_90_3 to disk instead.\n",
      "23/03/26 07:10:09 WARN MemoryStore: Not enough space to cache rdd_87_6 in memory! (computed 19.5 MiB so far)\n",
      "23/03/26 07:10:09 WARN MemoryStore: Failed to reserve initial memory threshold of 1024.0 KiB for computing block rdd_90_6 in memory.\n",
      "23/03/26 07:10:09 WARN MemoryStore: Not enough space to cache rdd_90_6 in memory! (computed 384.0 B so far)\n",
      "23/03/26 07:10:09 WARN BlockManager: Persisting block rdd_90_6 to disk instead.\n",
      "23/03/26 07:10:09 WARN MemoryStore: Not enough space to cache rdd_90_7 in memory! (computed 1024.6 KiB so far)\n",
      "23/03/26 07:10:09 WARN BlockManager: Persisting block rdd_90_7 to disk instead.\n",
      "23/03/26 07:10:09 WARN MemoryStore: Not enough space to cache rdd_87_0 in memory! (computed 43.9 MiB so far)\n",
      "23/03/26 07:10:10 WARN MemoryStore: Not enough space to cache rdd_90_0 in memory! (computed 10.8 MiB so far)\n",
      "23/03/26 07:10:10 WARN BlockManager: Persisting block rdd_90_0 to disk instead.\n",
      "23/03/26 07:10:10 WARN MemoryStore: Not enough space to cache rdd_87_2 in memory! (computed 5.5 MiB so far)\n",
      "23/03/26 07:10:10 WARN MemoryStore: Failed to reserve initial memory threshold of 1024.0 KiB for computing block rdd_90_2 in memory.\n",
      "23/03/26 07:10:10 WARN MemoryStore: Not enough space to cache rdd_90_2 in memory! (computed 384.0 B so far)\n",
      "23/03/26 07:10:10 WARN BlockManager: Persisting block rdd_90_2 to disk instead.\n"
     ]
    },
    {
     "name": "stderr",
     "output_type": "stream",
     "text": [
      "[Stage 36:>                                                        (0 + 8) / 20]\r"
     ]
    },
    {
     "name": "stdout",
     "output_type": "stream",
     "text": [
      "23/03/26 07:10:37 WARN MemoryStore: Not enough space to cache rdd_90_7 in memory! (computed 43.2 MiB so far)\n",
      "23/03/26 07:10:38 WARN MemoryStore: Not enough space to cache rdd_90_4 in memory! (computed 43.2 MiB so far)\n",
      "23/03/26 07:10:38 WARN MemoryStore: Not enough space to cache rdd_90_5 in memory! (computed 43.2 MiB so far)\n",
      "23/03/26 07:10:38 WARN MemoryStore: Not enough space to cache rdd_90_1 in memory! (computed 64.8 MiB so far)\n",
      "23/03/26 07:10:39 WARN MemoryStore: Not enough space to cache rdd_90_0 in memory! (computed 1537.3 KiB so far)\n",
      "23/03/26 07:10:39 WARN MemoryStore: Failed to reserve initial memory threshold of 1024.0 KiB for computing block rdd_90_6 in memory.\n",
      "23/03/26 07:10:39 WARN MemoryStore: Not enough space to cache rdd_90_6 in memory! (computed 384.0 B so far)\n"
     ]
    },
    {
     "name": "stderr",
     "output_type": "stream",
     "text": [
      "[Stage 36:=================>                                       (6 + 8) / 20]\r"
     ]
    },
    {
     "name": "stdout",
     "output_type": "stream",
     "text": [
      "23/03/26 07:11:23 WARN MemoryStore: Not enough space to cache rdd_23_12 in memory! (computed 589.3 MiB so far)\n",
      "23/03/26 07:11:23 WARN MemoryStore: Not enough space to cache rdd_23_10 in memory! (computed 1364.5 MiB so far)\n",
      "23/03/26 07:11:24 WARN MemoryStore: Not enough space to cache rdd_23_8 in memory! (computed 2046.8 MiB so far)\n",
      "23/03/26 07:11:24 WARN MemoryStore: Not enough space to cache rdd_23_13 in memory! (computed 589.3 MiB so far)\n",
      "23/03/26 07:11:24 WARN MemoryStore: Not enough space to cache rdd_23_8 in memory! (computed 13.9 MiB so far)\n",
      "23/03/26 07:11:24 WARN MemoryStore: Not enough space to cache rdd_23_8 in memory! (computed 1557.2 KiB so far)\n",
      "23/03/26 07:11:24 WARN MemoryStore: Failed to reserve initial memory threshold of 1024.0 KiB for computing block rdd_65_8 in memory.\n",
      "23/03/26 07:11:24 WARN MemoryStore: Not enough space to cache rdd_65_8 in memory! (computed 384.0 B so far)\n",
      "23/03/26 07:11:24 WARN MemoryStore: Not enough space to cache rdd_23_12 in memory! (computed 112.4 MiB so far)\n",
      "23/03/26 07:11:24 WARN MemoryStore: Failed to reserve initial memory threshold of 1024.0 KiB for computing block rdd_87_8 in memory.\n",
      "23/03/26 07:11:24 WARN MemoryStore: Not enough space to cache rdd_87_8 in memory! (computed 384.0 B so far)\n",
      "23/03/26 07:11:24 WARN MemoryStore: Failed to reserve initial memory threshold of 1024.0 KiB for computing block rdd_23_12 in memory.\n",
      "23/03/26 07:11:24 WARN BlockManager: Persisting block rdd_87_8 to disk instead.\n",
      "23/03/26 07:11:24 WARN MemoryStore: Not enough space to cache rdd_23_12 in memory! (computed 384.0 B so far)\n",
      "23/03/26 07:11:24 WARN MemoryStore: Failed to reserve initial memory threshold of 1024.0 KiB for computing block rdd_65_12 in memory.\n",
      "23/03/26 07:11:24 WARN MemoryStore: Not enough space to cache rdd_65_12 in memory! (computed 384.0 B so far)\n",
      "23/03/26 07:11:24 WARN MemoryStore: Failed to reserve initial memory threshold of 1024.0 KiB for computing block rdd_87_12 in memory.\n",
      "23/03/26 07:11:24 WARN MemoryStore: Not enough space to cache rdd_87_12 in memory! (computed 384.0 B so far)\n",
      "23/03/26 07:11:24 WARN BlockManager: Persisting block rdd_87_12 to disk instead.\n",
      "23/03/26 07:11:24 WARN MemoryStore: Not enough space to cache rdd_23_13 in memory! (computed 5.3 MiB so far)\n",
      "23/03/26 07:11:24 WARN MemoryStore: Not enough space to cache rdd_23_13 in memory! (computed 1557.2 KiB so far)\n",
      "23/03/26 07:11:24 WARN MemoryStore: Failed to reserve initial memory threshold of 1024.0 KiB for computing block rdd_65_13 in memory.\n",
      "23/03/26 07:11:24 WARN MemoryStore: Not enough space to cache rdd_65_13 in memory! (computed 384.0 B so far)\n",
      "23/03/26 07:11:24 WARN MemoryStore: Failed to reserve initial memory threshold of 1024.0 KiB for computing block rdd_87_13 in memory.\n",
      "23/03/26 07:11:24 WARN MemoryStore: Not enough space to cache rdd_87_13 in memory! (computed 384.0 B so far)\n",
      "23/03/26 07:11:24 WARN BlockManager: Persisting block rdd_87_13 to disk instead.\n",
      "23/03/26 07:11:24 WARN MemoryStore: Not enough space to cache rdd_23_10 in memory! (computed 168.6 MiB so far)\n",
      "23/03/26 07:11:24 WARN MemoryStore: Not enough space to cache rdd_23_10 in memory! (computed 1557.2 KiB so far)\n",
      "23/03/26 07:11:24 WARN MemoryStore: Failed to reserve initial memory threshold of 1024.0 KiB for computing block rdd_65_10 in memory.\n",
      "23/03/26 07:11:24 WARN MemoryStore: Not enough space to cache rdd_65_10 in memory! (computed 384.0 B so far)\n",
      "23/03/26 07:11:24 WARN MemoryStore: Failed to reserve initial memory threshold of 1024.0 KiB for computing block rdd_87_10 in memory.\n",
      "23/03/26 07:11:24 WARN MemoryStore: Not enough space to cache rdd_87_10 in memory! (computed 384.0 B so far)\n",
      "23/03/26 07:11:24 WARN BlockManager: Persisting block rdd_87_10 to disk instead.\n",
      "23/03/26 07:11:24 WARN MemoryStore: Not enough space to cache rdd_23_11 in memory! (computed 1364.5 MiB so far)\n",
      "23/03/26 07:11:24 WARN MemoryStore: Not enough space to cache rdd_23_11 in memory! (computed 1557.2 KiB so far)\n",
      "23/03/26 07:11:24 WARN MemoryStore: Failed to reserve initial memory threshold of 1024.0 KiB for computing block rdd_23_11 in memory.\n",
      "23/03/26 07:11:24 WARN MemoryStore: Not enough space to cache rdd_23_11 in memory! (computed 384.0 B so far)\n",
      "23/03/26 07:11:24 WARN MemoryStore: Failed to reserve initial memory threshold of 1024.0 KiB for computing block rdd_65_11 in memory.\n",
      "23/03/26 07:11:24 WARN MemoryStore: Not enough space to cache rdd_65_11 in memory! (computed 384.0 B so far)\n",
      "23/03/26 07:11:24 WARN MemoryStore: Failed to reserve initial memory threshold of 1024.0 KiB for computing block rdd_87_11 in memory.\n",
      "23/03/26 07:11:24 WARN MemoryStore: Not enough space to cache rdd_87_11 in memory! (computed 384.0 B so far)\n",
      "23/03/26 07:11:24 WARN BlockManager: Persisting block rdd_87_11 to disk instead.\n"
     ]
    },
    {
     "name": "stderr",
     "output_type": "stream",
     "text": [
      "[Stage 36:===================>                                     (7 + 8) / 20]\r"
     ]
    },
    {
     "name": "stdout",
     "output_type": "stream",
     "text": [
      "23/03/26 07:11:26 WARN MemoryStore: Not enough space to cache rdd_23_14 in memory! (computed 168.6 MiB so far)\n",
      "23/03/26 07:11:26 WARN MemoryStore: Not enough space to cache rdd_23_9 in memory! (computed 3.0 GiB so far)\n",
      "23/03/26 07:11:26 WARN MemoryStore: Not enough space to cache rdd_23_14 in memory! (computed 9.1 MiB so far)\n",
      "23/03/26 07:11:26 WARN MemoryStore: Not enough space to cache rdd_23_9 in memory! (computed 3.5 MiB so far)\n",
      "23/03/26 07:11:26 WARN MemoryStore: Failed to reserve initial memory threshold of 1024.0 KiB for computing block rdd_23_9 in memory.\n",
      "23/03/26 07:11:26 WARN MemoryStore: Not enough space to cache rdd_23_9 in memory! (computed 384.0 B so far)\n",
      "23/03/26 07:11:26 WARN MemoryStore: Failed to reserve initial memory threshold of 1024.0 KiB for computing block rdd_65_9 in memory.\n",
      "23/03/26 07:11:26 WARN MemoryStore: Not enough space to cache rdd_65_9 in memory! (computed 384.0 B so far)\n",
      "23/03/26 07:11:26 WARN MemoryStore: Failed to reserve initial memory threshold of 1024.0 KiB for computing block rdd_87_9 in memory.\n",
      "23/03/26 07:11:26 WARN MemoryStore: Not enough space to cache rdd_87_9 in memory! (computed 384.0 B so far)\n",
      "23/03/26 07:11:26 WARN BlockManager: Persisting block rdd_87_9 to disk instead.\n",
      "23/03/26 07:11:26 WARN MemoryStore: Not enough space to cache rdd_23_14 in memory! (computed 2.3 MiB so far)\n",
      "23/03/26 07:11:26 WARN MemoryStore: Failed to reserve initial memory threshold of 1024.0 KiB for computing block rdd_65_14 in memory.\n",
      "23/03/26 07:11:26 WARN MemoryStore: Not enough space to cache rdd_65_14 in memory! (computed 384.0 B so far)\n",
      "23/03/26 07:11:26 WARN MemoryStore: Failed to reserve initial memory threshold of 1024.0 KiB for computing block rdd_87_14 in memory.\n",
      "23/03/26 07:11:26 WARN MemoryStore: Not enough space to cache rdd_87_14 in memory! (computed 384.0 B so far)\n",
      "23/03/26 07:11:26 WARN BlockManager: Persisting block rdd_87_14 to disk instead.\n"
     ]
    },
    {
     "name": "stderr",
     "output_type": "stream",
     "text": [
      "[Stage 36:======================>                                  (8 + 8) / 20]\r"
     ]
    },
    {
     "name": "stdout",
     "output_type": "stream",
     "text": [
      "23/03/26 07:11:28 WARN MemoryStore: Not enough space to cache rdd_23_15 in memory! (computed 168.6 MiB so far)\n",
      "23/03/26 07:11:28 WARN MemoryStore: Not enough space to cache rdd_23_15 in memory! (computed 13.9 MiB so far)\n",
      "23/03/26 07:11:28 WARN MemoryStore: Not enough space to cache rdd_23_15 in memory! (computed 2.3 MiB so far)\n",
      "23/03/26 07:11:28 WARN MemoryStore: Failed to reserve initial memory threshold of 1024.0 KiB for computing block rdd_65_15 in memory.\n",
      "23/03/26 07:11:28 WARN MemoryStore: Not enough space to cache rdd_65_15 in memory! (computed 384.0 B so far)\n",
      "23/03/26 07:11:28 WARN MemoryStore: Failed to reserve initial memory threshold of 1024.0 KiB for computing block rdd_87_15 in memory.\n",
      "23/03/26 07:11:28 WARN MemoryStore: Not enough space to cache rdd_87_15 in memory! (computed 384.0 B so far)\n",
      "23/03/26 07:11:28 WARN BlockManager: Persisting block rdd_87_15 to disk instead.\n",
      "23/03/26 07:11:41 WARN MemoryStore: Not enough space to cache rdd_87_13 in memory! (computed 1663.4 KiB so far)\n",
      "23/03/26 07:11:41 WARN MemoryStore: Failed to reserve initial memory threshold of 1024.0 KiB for computing block rdd_90_13 in memory.\n",
      "23/03/26 07:11:41 WARN MemoryStore: Not enough space to cache rdd_90_13 in memory! (computed 384.0 B so far)\n",
      "23/03/26 07:11:41 WARN BlockManager: Persisting block rdd_90_13 to disk instead.\n",
      "23/03/26 07:11:42 WARN MemoryStore: Not enough space to cache rdd_87_12 in memory! (computed 5.5 MiB so far)\n",
      "23/03/26 07:11:42 WARN MemoryStore: Not enough space to cache rdd_90_12 in memory! (computed 1537.3 KiB so far)\n",
      "23/03/26 07:11:42 WARN BlockManager: Persisting block rdd_90_12 to disk instead.\n",
      "23/03/26 07:11:45 WARN MemoryStore: Not enough space to cache rdd_87_14 in memory! (computed 104.0 MiB so far)\n",
      "23/03/26 07:11:48 WARN MemoryStore: Not enough space to cache rdd_90_14 in memory! (computed 24.3 MiB so far)\n",
      "23/03/26 07:11:48 WARN BlockManager: Persisting block rdd_90_14 to disk instead.\n",
      "23/03/26 07:11:55 WARN MemoryStore: Not enough space to cache rdd_87_11 in memory! (computed 19.5 MiB so far)\n",
      "23/03/26 07:11:55 WARN MemoryStore: Not enough space to cache rdd_87_10 in memory! (computed 5.5 MiB so far)\n",
      "23/03/26 07:11:55 WARN MemoryStore: Not enough space to cache rdd_90_11 in memory! (computed 2.7 MiB so far)\n",
      "23/03/26 07:11:55 WARN BlockManager: Persisting block rdd_90_11 to disk instead.\n",
      "23/03/26 07:11:55 WARN MemoryStore: Not enough space to cache rdd_90_10 in memory! (computed 1537.3 KiB so far)\n",
      "23/03/26 07:11:55 WARN BlockManager: Persisting block rdd_90_10 to disk instead.\n",
      "23/03/26 07:11:59 WARN MemoryStore: Not enough space to cache rdd_90_13 in memory! (computed 43.2 MiB so far)\n",
      "23/03/26 07:11:59 WARN MemoryStore: Not enough space to cache rdd_87_8 in memory! (computed 156.0 MiB so far)\n",
      "23/03/26 07:11:59 WARN MemoryStore: Not enough space to cache rdd_87_9 in memory! (computed 104.0 MiB so far)\n",
      "23/03/26 07:12:00 WARN MemoryStore: Not enough space to cache rdd_90_12 in memory! (computed 10.8 MiB so far)\n",
      "23/03/26 07:12:00 WARN MemoryStore: Not enough space to cache rdd_90_8 in memory! (computed 6.2 MiB so far)\n",
      "23/03/26 07:12:00 WARN BlockManager: Persisting block rdd_90_8 to disk instead.\n"
     ]
    },
    {
     "name": "stderr",
     "output_type": "stream",
     "text": [
      "[Stage 36:=========================>                               (9 + 8) / 20]\r"
     ]
    },
    {
     "name": "stdout",
     "output_type": "stream",
     "text": [
      "23/03/26 07:12:24 WARN MemoryStore: Not enough space to cache rdd_23_16 in memory! (computed 909.7 MiB so far)\n",
      "23/03/26 07:12:24 WARN MemoryStore: Not enough space to cache rdd_23_16 in memory! (computed 20.9 MiB so far)\n",
      "23/03/26 07:12:24 WARN MemoryStore: Not enough space to cache rdd_23_16 in memory! (computed 9.1 MiB so far)\n",
      "23/03/26 07:12:24 WARN MemoryStore: Failed to reserve initial memory threshold of 1024.0 KiB for computing block rdd_65_16 in memory.\n",
      "23/03/26 07:12:24 WARN MemoryStore: Not enough space to cache rdd_65_16 in memory! (computed 384.0 B so far)\n",
      "23/03/26 07:12:24 WARN MemoryStore: Failed to reserve initial memory threshold of 1024.0 KiB for computing block rdd_87_16 in memory.\n",
      "23/03/26 07:12:24 WARN MemoryStore: Not enough space to cache rdd_87_16 in memory! (computed 384.0 B so far)\n",
      "23/03/26 07:12:24 WARN BlockManager: Persisting block rdd_87_16 to disk instead.\n",
      "23/03/26 07:12:25 WARN MemoryStore: Not enough space to cache rdd_90_15 in memory! (computed 172.8 MiB so far)\n",
      "23/03/26 07:12:25 WARN BlockManager: Persisting block rdd_90_15 to disk instead.\n"
     ]
    },
    {
     "name": "stderr",
     "output_type": "stream",
     "text": [
      "[Stage 36:============================>                           (10 + 8) / 20]\r"
     ]
    },
    {
     "name": "stdout",
     "output_type": "stream",
     "text": [
      "23/03/26 07:12:26 WARN MemoryStore: Not enough space to cache rdd_23_17 in memory! (computed 73.6 MiB so far)\n",
      "23/03/26 07:12:26 WARN MemoryStore: Not enough space to cache rdd_23_17 in memory! (computed 31.4 MiB so far)\n",
      "23/03/26 07:12:26 WARN MemoryStore: Not enough space to cache rdd_23_17 in memory! (computed 3.5 MiB so far)\n",
      "23/03/26 07:12:26 WARN MemoryStore: Failed to reserve initial memory threshold of 1024.0 KiB for computing block rdd_65_17 in memory.\n",
      "23/03/26 07:12:26 WARN MemoryStore: Not enough space to cache rdd_65_17 in memory! (computed 384.0 B so far)\n",
      "23/03/26 07:12:26 WARN MemoryStore: Failed to reserve initial memory threshold of 1024.0 KiB for computing block rdd_87_17 in memory.\n",
      "23/03/26 07:12:26 WARN MemoryStore: Not enough space to cache rdd_87_17 in memory! (computed 384.0 B so far)\n",
      "23/03/26 07:12:26 WARN BlockManager: Persisting block rdd_87_17 to disk instead.\n",
      "23/03/26 07:12:26 WARN MemoryStore: Not enough space to cache rdd_23_18 in memory! (computed 3.5 MiB so far)\n",
      "23/03/26 07:12:26 WARN MemoryStore: Failed to reserve initial memory threshold of 1024.0 KiB for computing block rdd_23_18 in memory.\n",
      "23/03/26 07:12:26 WARN MemoryStore: Not enough space to cache rdd_23_18 in memory! (computed 384.0 B so far)\n",
      "23/03/26 07:12:26 WARN MemoryStore: Failed to reserve initial memory threshold of 1024.0 KiB for computing block rdd_23_18 in memory.\n",
      "23/03/26 07:12:26 WARN MemoryStore: Not enough space to cache rdd_23_18 in memory! (computed 384.0 B so far)\n",
      "23/03/26 07:12:26 WARN MemoryStore: Failed to reserve initial memory threshold of 1024.0 KiB for computing block rdd_65_18 in memory.\n",
      "23/03/26 07:12:26 WARN MemoryStore: Not enough space to cache rdd_65_18 in memory! (computed 384.0 B so far)\n",
      "23/03/26 07:12:26 WARN MemoryStore: Failed to reserve initial memory threshold of 1024.0 KiB for computing block rdd_87_18 in memory.\n",
      "23/03/26 07:12:26 WARN MemoryStore: Not enough space to cache rdd_87_18 in memory! (computed 384.0 B so far)\n",
      "23/03/26 07:12:26 WARN BlockManager: Persisting block rdd_87_18 to disk instead.\n"
     ]
    },
    {
     "name": "stderr",
     "output_type": "stream",
     "text": [
      "[Stage 36:==============================>                         (11 + 8) / 20]\r"
     ]
    },
    {
     "name": "stdout",
     "output_type": "stream",
     "text": [
      "23/03/26 07:12:29 WARN MemoryStore: Not enough space to cache rdd_90_11 in memory! (computed 99.2 MiB so far)\n",
      "23/03/26 07:12:30 WARN MemoryStore: Not enough space to cache rdd_90_8 in memory! (computed 43.2 MiB so far)\n",
      "23/03/26 07:12:30 WARN MemoryStore: Not enough space to cache rdd_90_10 in memory! (computed 99.2 MiB so far)\n"
     ]
    },
    {
     "name": "stderr",
     "output_type": "stream",
     "text": [
      "[Stage 36:==========================================>             (15 + 5) / 20]\r"
     ]
    },
    {
     "name": "stdout",
     "output_type": "stream",
     "text": [
      "23/03/26 07:13:14 WARN MemoryStore: Not enough space to cache rdd_23_19 in memory! (computed 6.9 GiB so far)\n"
     ]
    },
    {
     "name": "stderr",
     "output_type": "stream",
     "text": [
      "[Stage 36:============================================>           (16 + 4) / 20]\r"
     ]
    },
    {
     "name": "stdout",
     "output_type": "stream",
     "text": [
      "23/03/26 07:13:21 WARN MemoryStore: Not enough space to cache rdd_23_19 in memory! (computed 2046.8 MiB so far)\n",
      "23/03/26 07:13:21 WARN MemoryStore: Not enough space to cache rdd_23_19 in memory! (computed 73.6 MiB so far)\n",
      "23/03/26 07:13:22 WARN MemoryStore: Not enough space to cache rdd_65_19 in memory! (computed 29.2 MiB so far)\n",
      "23/03/26 07:13:28 WARN MemoryStore: Not enough space to cache rdd_87_19 in memory! (computed 104.0 MiB so far)\n",
      "23/03/26 07:13:28 WARN BlockManager: Persisting block rdd_87_19 to disk instead.\n"
     ]
    },
    {
     "name": "stderr",
     "output_type": "stream",
     "text": [
      "[Stage 38:>                                                        (0 + 8) / 20]\r"
     ]
    },
    {
     "name": "stdout",
     "output_type": "stream",
     "text": [
      "23/03/26 07:13:57 WARN MemoryStore: Not enough space to cache rdd_23_0 in memory! (computed 1364.5 MiB so far)\n",
      "23/03/26 07:13:57 WARN MemoryStore: Not enough space to cache rdd_23_5 in memory! (computed 1364.5 MiB so far)\n",
      "23/03/26 07:13:57 WARN MemoryStore: Not enough space to cache rdd_23_6 in memory! (computed 1364.5 MiB so far)\n",
      "23/03/26 07:13:57 WARN MemoryStore: Not enough space to cache rdd_23_1 in memory! (computed 1364.5 MiB so far)\n",
      "23/03/26 07:13:57 WARN MemoryStore: Not enough space to cache rdd_23_2 in memory! (computed 909.7 MiB so far)\n",
      "23/03/26 07:13:57 WARN MemoryStore: Not enough space to cache rdd_23_7 in memory! (computed 909.7 MiB so far)\n",
      "23/03/26 07:13:57 WARN MemoryStore: Not enough space to cache rdd_23_4 in memory! (computed 909.7 MiB so far)\n",
      "23/03/26 07:13:57 WARN MemoryStore: Not enough space to cache rdd_90_7 in memory! (computed 6.2 MiB so far)\n",
      "23/03/26 07:13:57 WARN MemoryStore: Not enough space to cache rdd_90_1 in memory! (computed 6.2 MiB so far)\n",
      "23/03/26 07:13:57 WARN MemoryStore: Not enough space to cache rdd_90_2 in memory! (computed 6.2 MiB so far)\n",
      "23/03/26 07:13:57 WARN MemoryStore: Not enough space to cache rdd_90_0 in memory! (computed 6.2 MiB so far)\n",
      "23/03/26 07:13:57 WARN MemoryStore: Not enough space to cache rdd_90_4 in memory! (computed 6.2 MiB so far)\n",
      "23/03/26 07:13:57 WARN MemoryStore: Not enough space to cache rdd_90_5 in memory! (computed 10.8 MiB so far)\n",
      "23/03/26 07:13:57 WARN MemoryStore: Not enough space to cache rdd_90_6 in memory! (computed 10.8 MiB so far)\n",
      "23/03/26 07:13:58 WARN MemoryStore: Not enough space to cache rdd_23_3 in memory! (computed 1364.5 MiB so far)\n"
     ]
    },
    {
     "name": "stderr",
     "output_type": "stream",
     "text": [
      "[Stage 38:===================>                                     (7 + 8) / 20]\r"
     ]
    },
    {
     "name": "stdout",
     "output_type": "stream",
     "text": [
      "23/03/26 07:14:45 WARN MemoryStore: Not enough space to cache rdd_23_9 in memory! (computed 2046.8 MiB so far)\n",
      "23/03/26 07:14:45 WARN MemoryStore: Not enough space to cache rdd_23_8 in memory! (computed 2046.8 MiB so far)\n",
      "23/03/26 07:14:45 WARN MemoryStore: Not enough space to cache rdd_23_14 in memory! (computed 589.3 MiB so far)\n",
      "23/03/26 07:14:45 WARN MemoryStore: Not enough space to cache rdd_23_13 in memory! (computed 909.7 MiB so far)\n",
      "23/03/26 07:14:45 WARN MemoryStore: Not enough space to cache rdd_23_11 in memory! (computed 1364.5 MiB so far)\n",
      "23/03/26 07:14:45 WARN MemoryStore: Not enough space to cache rdd_23_10 in memory! (computed 1364.5 MiB so far)\n",
      "23/03/26 07:14:45 WARN MemoryStore: Not enough space to cache rdd_23_15 in memory! (computed 2.3 MiB so far)\n",
      "23/03/26 07:14:45 WARN MemoryStore: Failed to reserve initial memory threshold of 1024.0 KiB for computing block rdd_90_15 in memory.\n",
      "23/03/26 07:14:45 WARN MemoryStore: Not enough space to cache rdd_90_15 in memory! (computed 384.0 B so far)\n",
      "23/03/26 07:14:45 WARN MemoryStore: Not enough space to cache rdd_90_10 in memory! (computed 1537.3 KiB so far)\n",
      "23/03/26 07:14:45 WARN MemoryStore: Not enough space to cache rdd_90_9 in memory! (computed 1537.3 KiB so far)\n",
      "23/03/26 07:14:45 WARN MemoryStore: Not enough space to cache rdd_90_13 in memory! (computed 1537.3 KiB so far)\n",
      "23/03/26 07:14:45 WARN MemoryStore: Not enough space to cache rdd_90_14 in memory! (computed 1537.3 KiB so far)\n",
      "23/03/26 07:14:45 WARN MemoryStore: Not enough space to cache rdd_90_8 in memory! (computed 1537.3 KiB so far)\n",
      "23/03/26 07:14:45 WARN MemoryStore: Not enough space to cache rdd_90_11 in memory! (computed 1537.3 KiB so far)\n"
     ]
    },
    {
     "name": "stderr",
     "output_type": "stream",
     "text": [
      "[Stage 38:======================>                                  (8 + 8) / 20]\r"
     ]
    },
    {
     "name": "stdout",
     "output_type": "stream",
     "text": [
      "23/03/26 07:14:46 WARN MemoryStore: Not enough space to cache rdd_23_12 in memory! (computed 1364.5 MiB so far)\n"
     ]
    },
    {
     "name": "stderr",
     "output_type": "stream",
     "text": [
      "[Stage 38:==============================>                         (11 + 8) / 20]\r"
     ]
    },
    {
     "name": "stdout",
     "output_type": "stream",
     "text": [
      "23/03/26 07:15:15 WARN MemoryStore: Not enough space to cache rdd_23_16 in memory! (computed 3.0 GiB so far)\n",
      "23/03/26 07:15:17 WARN MemoryStore: Not enough space to cache rdd_23_18 in memory! (computed 3.0 GiB so far)\n",
      "23/03/26 07:15:17 WARN MemoryStore: Not enough space to cache rdd_23_17 in memory! (computed 3.0 GiB so far)\n",
      "23/03/26 07:15:19 WARN MemoryStore: Not enough space to cache rdd_90_17 in memory! (computed 64.8 MiB so far)\n",
      "23/03/26 07:15:19 WARN MemoryStore: Not enough space to cache rdd_90_16 in memory! (computed 172.8 MiB so far)\n",
      "23/03/26 07:15:20 WARN MemoryStore: Not enough space to cache rdd_90_18 in memory! (computed 99.2 MiB so far)\n"
     ]
    },
    {
     "name": "stderr",
     "output_type": "stream",
     "text": [
      "[Stage 38:============================================>           (16 + 4) / 20]\r"
     ]
    },
    {
     "name": "stdout",
     "output_type": "stream",
     "text": [
      "23/03/26 07:15:37 WARN MemoryStore: Not enough space to cache rdd_23_19 in memory! (computed 6.9 GiB so far)\n"
     ]
    },
    {
     "name": "stderr",
     "output_type": "stream",
     "text": [
      "[Stage 40:>                                                        (0 + 8) / 20]\r"
     ]
    },
    {
     "name": "stdout",
     "output_type": "stream",
     "text": [
      "23/03/26 07:15:49 WARN MemoryStore: Not enough space to cache rdd_23_2 in memory! (computed 909.7 MiB so far)\n",
      "23/03/26 07:15:49 WARN MemoryStore: Not enough space to cache rdd_23_3 in memory! (computed 909.7 MiB so far)\n",
      "23/03/26 07:15:49 WARN MemoryStore: Not enough space to cache rdd_23_7 in memory! (computed 909.7 MiB so far)\n",
      "23/03/26 07:15:49 WARN MemoryStore: Not enough space to cache rdd_90_2 in memory! (computed 16.2 MiB so far)\n",
      "23/03/26 07:15:50 WARN MemoryStore: Not enough space to cache rdd_90_7 in memory! (computed 16.2 MiB so far)\n",
      "23/03/26 07:15:50 WARN MemoryStore: Not enough space to cache rdd_23_6 in memory! (computed 1364.5 MiB so far)\n",
      "23/03/26 07:15:50 WARN MemoryStore: Not enough space to cache rdd_23_4 in memory! (computed 1364.5 MiB so far)\n",
      "23/03/26 07:15:50 WARN MemoryStore: Failed to reserve initial memory threshold of 1024.0 KiB for computing block rdd_90_4 in memory.\n",
      "23/03/26 07:15:50 WARN MemoryStore: Not enough space to cache rdd_90_4 in memory! (computed 384.0 B so far)\n",
      "23/03/26 07:15:50 WARN MemoryStore: Not enough space to cache rdd_90_6 in memory! (computed 1024.6 KiB so far)\n",
      "23/03/26 07:15:50 WARN MemoryStore: Not enough space to cache rdd_90_3 in memory! (computed 16.2 MiB so far)\n",
      "23/03/26 07:15:50 WARN MemoryStore: Not enough space to cache rdd_23_5 in memory! (computed 1364.5 MiB so far)\n",
      "23/03/26 07:15:50 WARN MemoryStore: Failed to reserve initial memory threshold of 1024.0 KiB for computing block rdd_90_5 in memory.\n",
      "23/03/26 07:15:50 WARN MemoryStore: Not enough space to cache rdd_90_5 in memory! (computed 384.0 B so far)\n",
      "23/03/26 07:15:50 WARN MemoryStore: Not enough space to cache rdd_23_0 in memory! (computed 1364.5 MiB so far)\n",
      "23/03/26 07:15:50 WARN MemoryStore: Not enough space to cache rdd_90_0 in memory! (computed 1024.6 KiB so far)\n",
      "23/03/26 07:15:50 WARN MemoryStore: Not enough space to cache rdd_23_1 in memory! (computed 1364.5 MiB so far)\n",
      "23/03/26 07:15:50 WARN MemoryStore: Not enough space to cache rdd_90_1 in memory! (computed 1024.6 KiB so far)\n"
     ]
    },
    {
     "name": "stderr",
     "output_type": "stream",
     "text": [
      "[Stage 40:======================>                                  (8 + 8) / 20]\r"
     ]
    },
    {
     "name": "stdout",
     "output_type": "stream",
     "text": [
      "23/03/26 07:16:35 WARN MemoryStore: Not enough space to cache rdd_23_13 in memory! (computed 909.7 MiB so far)\n",
      "23/03/26 07:16:36 WARN MemoryStore: Not enough space to cache rdd_23_9 in memory! (computed 1364.5 MiB so far)\n",
      "23/03/26 07:16:36 WARN MemoryStore: Not enough space to cache rdd_23_14 in memory! (computed 909.7 MiB so far)\n",
      "23/03/26 07:16:36 WARN MemoryStore: Not enough space to cache rdd_23_8 in memory! (computed 2046.8 MiB so far)\n",
      "23/03/26 07:16:36 WARN MemoryStore: Not enough space to cache rdd_23_11 in memory! (computed 1364.5 MiB so far)\n",
      "23/03/26 07:16:36 WARN MemoryStore: Not enough space to cache rdd_23_10 in memory! (computed 1364.5 MiB so far)\n",
      "23/03/26 07:16:36 WARN MemoryStore: Not enough space to cache rdd_23_15 in memory! (computed 252.9 MiB so far)\n",
      "23/03/26 07:16:36 WARN MemoryStore: Not enough space to cache rdd_23_12 in memory! (computed 1364.5 MiB so far)\n",
      "23/03/26 07:16:36 WARN MemoryStore: Not enough space to cache rdd_90_10 in memory! (computed 16.2 MiB so far)\n",
      "23/03/26 07:16:36 WARN MemoryStore: Not enough space to cache rdd_90_13 in memory! (computed 16.2 MiB so far)\n",
      "23/03/26 07:16:36 WARN MemoryStore: Not enough space to cache rdd_90_15 in memory! (computed 10.8 MiB so far)\n",
      "23/03/26 07:16:37 WARN MemoryStore: Not enough space to cache rdd_90_12 in memory! (computed 6.2 MiB so far)\n",
      "23/03/26 07:16:37 WARN MemoryStore: Not enough space to cache rdd_90_8 in memory! (computed 10.8 MiB so far)\n",
      "23/03/26 07:16:37 WARN MemoryStore: Not enough space to cache rdd_90_14 in memory! (computed 24.3 MiB so far)\n",
      "23/03/26 07:16:37 WARN MemoryStore: Not enough space to cache rdd_90_9 in memory! (computed 16.2 MiB so far)\n",
      "23/03/26 07:16:37 WARN MemoryStore: Not enough space to cache rdd_90_11 in memory! (computed 24.3 MiB so far)\n"
     ]
    },
    {
     "name": "stderr",
     "output_type": "stream",
     "text": [
      "[Stage 40:==============================>                         (11 + 8) / 20]\r"
     ]
    },
    {
     "name": "stdout",
     "output_type": "stream",
     "text": [
      "23/03/26 07:17:06 WARN MemoryStore: Not enough space to cache rdd_23_16 in memory! (computed 3.0 GiB so far)\n",
      "23/03/26 07:17:06 WARN MemoryStore: Not enough space to cache rdd_23_17 in memory! (computed 3.0 GiB so far)\n",
      "23/03/26 07:17:06 WARN MemoryStore: Not enough space to cache rdd_23_18 in memory! (computed 3.0 GiB so far)\n",
      "23/03/26 07:17:09 WARN MemoryStore: Not enough space to cache rdd_90_18 in memory! (computed 99.2 MiB so far)\n",
      "23/03/26 07:17:10 WARN MemoryStore: Not enough space to cache rdd_90_16 in memory! (computed 172.8 MiB so far)\n"
     ]
    },
    {
     "name": "stderr",
     "output_type": "stream",
     "text": [
      "[Stage 40:===============================================>        (17 + 3) / 20]\r"
     ]
    },
    {
     "name": "stdout",
     "output_type": "stream",
     "text": [
      "23/03/26 07:17:28 WARN MemoryStore: Not enough space to cache rdd_23_19 in memory! (computed 6.9 GiB so far)\n"
     ]
    },
    {
     "name": "stderr",
     "output_type": "stream",
     "text": [
      "[Stage 42:>                                                        (0 + 8) / 20]\r"
     ]
    },
    {
     "name": "stdout",
     "output_type": "stream",
     "text": [
      "23/03/26 07:17:40 WARN MemoryStore: Not enough space to cache rdd_23_6 in memory! (computed 909.7 MiB so far)\n",
      "23/03/26 07:17:40 WARN MemoryStore: Not enough space to cache rdd_23_1 in memory! (computed 909.7 MiB so far)\n",
      "23/03/26 07:17:40 WARN MemoryStore: Not enough space to cache rdd_23_4 in memory! (computed 909.7 MiB so far)\n",
      "23/03/26 07:17:41 WARN MemoryStore: Not enough space to cache rdd_90_6 in memory! (computed 16.2 MiB so far)\n",
      "23/03/26 07:17:41 WARN MemoryStore: Not enough space to cache rdd_90_1 in memory! (computed 16.2 MiB so far)\n",
      "23/03/26 07:17:41 WARN MemoryStore: Not enough space to cache rdd_90_4 in memory! (computed 16.2 MiB so far)\n",
      "23/03/26 07:17:41 WARN MemoryStore: Not enough space to cache rdd_23_0 in memory! (computed 1364.5 MiB so far)\n",
      "23/03/26 07:17:41 WARN MemoryStore: Not enough space to cache rdd_23_5 in memory! (computed 1364.5 MiB so far)\n",
      "23/03/26 07:17:41 WARN MemoryStore: Failed to reserve initial memory threshold of 1024.0 KiB for computing block rdd_90_5 in memory.\n",
      "23/03/26 07:17:41 WARN MemoryStore: Not enough space to cache rdd_90_5 in memory! (computed 384.0 B so far)\n",
      "23/03/26 07:17:41 WARN MemoryStore: Not enough space to cache rdd_90_0 in memory! (computed 1024.6 KiB so far)\n",
      "23/03/26 07:17:41 WARN MemoryStore: Not enough space to cache rdd_23_3 in memory! (computed 1364.5 MiB so far)\n",
      "23/03/26 07:17:41 WARN MemoryStore: Failed to reserve initial memory threshold of 1024.0 KiB for computing block rdd_90_3 in memory.\n",
      "23/03/26 07:17:41 WARN MemoryStore: Not enough space to cache rdd_90_3 in memory! (computed 384.0 B so far)\n",
      "23/03/26 07:17:41 WARN MemoryStore: Not enough space to cache rdd_23_7 in memory! (computed 1364.5 MiB so far)\n",
      "23/03/26 07:17:41 WARN MemoryStore: Failed to reserve initial memory threshold of 1024.0 KiB for computing block rdd_90_7 in memory.\n",
      "23/03/26 07:17:41 WARN MemoryStore: Not enough space to cache rdd_90_7 in memory! (computed 384.0 B so far)\n",
      "23/03/26 07:17:41 WARN MemoryStore: Not enough space to cache rdd_23_2 in memory! (computed 1364.5 MiB so far)\n",
      "23/03/26 07:17:41 WARN MemoryStore: Not enough space to cache rdd_90_2 in memory! (computed 1024.6 KiB so far)\n"
     ]
    },
    {
     "name": "stderr",
     "output_type": "stream",
     "text": [
      "[Stage 42:======================>                                  (8 + 8) / 20]\r"
     ]
    },
    {
     "name": "stdout",
     "output_type": "stream",
     "text": [
      "23/03/26 07:18:27 WARN MemoryStore: Not enough space to cache rdd_23_15 in memory! (computed 252.9 MiB so far)\n",
      "23/03/26 07:18:27 WARN MemoryStore: Not enough space to cache rdd_23_11 in memory! (computed 909.7 MiB so far)\n",
      "23/03/26 07:18:28 WARN MemoryStore: Not enough space to cache rdd_23_12 in memory! (computed 1364.5 MiB so far)\n",
      "23/03/26 07:18:28 WARN MemoryStore: Not enough space to cache rdd_23_9 in memory! (computed 1364.5 MiB so far)\n",
      "23/03/26 07:18:28 WARN MemoryStore: Not enough space to cache rdd_23_13 in memory! (computed 1364.5 MiB so far)\n",
      "23/03/26 07:18:28 WARN MemoryStore: Not enough space to cache rdd_23_10 in memory! (computed 1364.5 MiB so far)\n",
      "23/03/26 07:18:28 WARN MemoryStore: Not enough space to cache rdd_23_14 in memory! (computed 909.7 MiB so far)\n",
      "23/03/26 07:18:28 WARN MemoryStore: Not enough space to cache rdd_23_8 in memory! (computed 2046.8 MiB so far)\n",
      "23/03/26 07:18:28 WARN MemoryStore: Not enough space to cache rdd_90_8 in memory! (computed 2.7 MiB so far)\n",
      "23/03/26 07:18:28 WARN MemoryStore: Not enough space to cache rdd_90_14 in memory! (computed 4.0 MiB so far)\n",
      "23/03/26 07:18:28 WARN MemoryStore: Not enough space to cache rdd_90_13 in memory! (computed 6.2 MiB so far)\n",
      "23/03/26 07:18:28 WARN MemoryStore: Not enough space to cache rdd_90_10 in memory! (computed 6.2 MiB so far)\n",
      "23/03/26 07:18:28 WARN MemoryStore: Not enough space to cache rdd_90_9 in memory! (computed 16.2 MiB so far)\n",
      "23/03/26 07:18:28 WARN MemoryStore: Not enough space to cache rdd_90_12 in memory! (computed 16.2 MiB so far)\n",
      "23/03/26 07:18:28 WARN MemoryStore: Not enough space to cache rdd_90_11 in memory! (computed 43.2 MiB so far)\n",
      "23/03/26 07:18:28 WARN MemoryStore: Not enough space to cache rdd_90_15 in memory! (computed 43.2 MiB so far)\n"
     ]
    },
    {
     "name": "stderr",
     "output_type": "stream",
     "text": [
      "[Stage 42:==============================>                         (11 + 8) / 20]\r"
     ]
    },
    {
     "name": "stdout",
     "output_type": "stream",
     "text": [
      "23/03/26 07:18:57 WARN MemoryStore: Not enough space to cache rdd_23_16 in memory! (computed 3.0 GiB so far)\n",
      "23/03/26 07:18:59 WARN MemoryStore: Not enough space to cache rdd_23_17 in memory! (computed 3.0 GiB so far)\n",
      "23/03/26 07:18:59 WARN MemoryStore: Not enough space to cache rdd_23_18 in memory! (computed 3.0 GiB so far)\n",
      "23/03/26 07:19:01 WARN MemoryStore: Not enough space to cache rdd_90_16 in memory! (computed 172.8 MiB so far)\n",
      "23/03/26 07:19:02 WARN MemoryStore: Not enough space to cache rdd_90_18 in memory! (computed 99.2 MiB so far)\n"
     ]
    },
    {
     "name": "stderr",
     "output_type": "stream",
     "text": [
      "[Stage 42:============================================>           (16 + 4) / 20]\r"
     ]
    },
    {
     "name": "stdout",
     "output_type": "stream",
     "text": [
      "23/03/26 07:19:21 WARN MemoryStore: Not enough space to cache rdd_23_19 in memory! (computed 6.9 GiB so far)\n"
     ]
    },
    {
     "name": "stderr",
     "output_type": "stream",
     "text": [
      "[Stage 44:>                                                        (0 + 8) / 20]\r"
     ]
    },
    {
     "name": "stdout",
     "output_type": "stream",
     "text": [
      "23/03/26 07:19:33 WARN MemoryStore: Not enough space to cache rdd_23_2 in memory! (computed 909.7 MiB so far)\n",
      "23/03/26 07:19:33 WARN MemoryStore: Not enough space to cache rdd_23_6 in memory! (computed 909.7 MiB so far)\n",
      "23/03/26 07:19:33 WARN MemoryStore: Not enough space to cache rdd_23_0 in memory! (computed 909.7 MiB so far)\n",
      "23/03/26 07:19:34 WARN MemoryStore: Not enough space to cache rdd_23_5 in memory! (computed 1364.5 MiB so far)\n",
      "23/03/26 07:19:34 WARN MemoryStore: Not enough space to cache rdd_90_5 in memory! (computed 1024.6 KiB so far)\n",
      "23/03/26 07:19:34 WARN MemoryStore: Not enough space to cache rdd_90_6 in memory! (computed 16.2 MiB so far)\n",
      "23/03/26 07:19:34 WARN MemoryStore: Not enough space to cache rdd_90_2 in memory! (computed 16.2 MiB so far)\n",
      "23/03/26 07:19:34 WARN MemoryStore: Not enough space to cache rdd_23_7 in memory! (computed 1364.5 MiB so far)\n",
      "23/03/26 07:19:34 WARN MemoryStore: Failed to reserve initial memory threshold of 1024.0 KiB for computing block rdd_90_7 in memory.\n",
      "23/03/26 07:19:34 WARN MemoryStore: Not enough space to cache rdd_90_7 in memory! (computed 384.0 B so far)\n",
      "23/03/26 07:19:34 WARN MemoryStore: Not enough space to cache rdd_90_0 in memory! (computed 16.2 MiB so far)\n",
      "23/03/26 07:19:34 WARN MemoryStore: Not enough space to cache rdd_23_4 in memory! (computed 1364.5 MiB so far)\n",
      "23/03/26 07:19:34 WARN MemoryStore: Not enough space to cache rdd_90_4 in memory! (computed 1024.6 KiB so far)\n",
      "23/03/26 07:19:34 WARN MemoryStore: Not enough space to cache rdd_23_3 in memory! (computed 1364.5 MiB so far)\n",
      "23/03/26 07:19:34 WARN MemoryStore: Failed to reserve initial memory threshold of 1024.0 KiB for computing block rdd_90_3 in memory.\n",
      "23/03/26 07:19:34 WARN MemoryStore: Not enough space to cache rdd_90_3 in memory! (computed 384.0 B so far)\n",
      "23/03/26 07:19:34 WARN MemoryStore: Not enough space to cache rdd_23_1 in memory! (computed 1364.5 MiB so far)\n",
      "23/03/26 07:19:35 WARN MemoryStore: Not enough space to cache rdd_90_1 in memory! (computed 1024.6 KiB so far)\n"
     ]
    },
    {
     "name": "stderr",
     "output_type": "stream",
     "text": [
      "[Stage 44:======================>                                  (8 + 8) / 20]\r"
     ]
    },
    {
     "name": "stdout",
     "output_type": "stream",
     "text": [
      "23/03/26 07:20:20 WARN MemoryStore: Not enough space to cache rdd_23_8 in memory! (computed 2046.8 MiB so far)\n",
      "23/03/26 07:20:20 WARN MemoryStore: Not enough space to cache rdd_23_9 in memory! (computed 1364.5 MiB so far)\n",
      "23/03/26 07:20:20 WARN MemoryStore: Not enough space to cache rdd_23_10 in memory! (computed 1364.5 MiB so far)\n",
      "23/03/26 07:20:20 WARN MemoryStore: Not enough space to cache rdd_23_12 in memory! (computed 909.7 MiB so far)\n",
      "23/03/26 07:20:20 WARN MemoryStore: Not enough space to cache rdd_23_11 in memory! (computed 1364.5 MiB so far)\n",
      "23/03/26 07:20:20 WARN MemoryStore: Not enough space to cache rdd_23_13 in memory! (computed 909.7 MiB so far)\n",
      "23/03/26 07:20:20 WARN MemoryStore: Not enough space to cache rdd_23_15 in memory! (computed 589.3 MiB so far)\n",
      "23/03/26 07:20:21 WARN MemoryStore: Not enough space to cache rdd_23_14 in memory! (computed 909.7 MiB so far)\n",
      "23/03/26 07:20:21 WARN MemoryStore: Not enough space to cache rdd_90_10 in memory! (computed 24.3 MiB so far)\n",
      "23/03/26 07:20:21 WARN MemoryStore: Not enough space to cache rdd_90_9 in memory! (computed 24.3 MiB so far)\n",
      "23/03/26 07:20:21 WARN MemoryStore: Not enough space to cache rdd_90_15 in memory! (computed 10.8 MiB so far)\n",
      "23/03/26 07:20:21 WARN MemoryStore: Not enough space to cache rdd_90_14 in memory! (computed 10.8 MiB so far)\n",
      "23/03/26 07:20:21 WARN MemoryStore: Not enough space to cache rdd_90_8 in memory! (computed 24.3 MiB so far)\n",
      "23/03/26 07:20:21 WARN MemoryStore: Not enough space to cache rdd_90_12 in memory! (computed 24.3 MiB so far)\n",
      "23/03/26 07:20:21 WARN MemoryStore: Not enough space to cache rdd_90_11 in memory! (computed 24.3 MiB so far)\n",
      "23/03/26 07:20:21 WARN MemoryStore: Not enough space to cache rdd_90_13 in memory! (computed 16.2 MiB so far)\n"
     ]
    },
    {
     "name": "stderr",
     "output_type": "stream",
     "text": [
      "[Stage 44:==============================>                         (11 + 8) / 20]\r"
     ]
    },
    {
     "name": "stdout",
     "output_type": "stream",
     "text": [
      "23/03/26 07:20:50 WARN MemoryStore: Not enough space to cache rdd_23_16 in memory! (computed 3.0 GiB so far)\n",
      "23/03/26 07:20:52 WARN MemoryStore: Not enough space to cache rdd_23_17 in memory! (computed 3.0 GiB so far)\n",
      "23/03/26 07:20:54 WARN MemoryStore: Not enough space to cache rdd_23_18 in memory! (computed 3.0 GiB so far)\n",
      "23/03/26 07:20:55 WARN MemoryStore: Not enough space to cache rdd_90_17 in memory! (computed 99.2 MiB so far)\n",
      "23/03/26 07:20:55 WARN MemoryStore: Not enough space to cache rdd_90_16 in memory! (computed 172.8 MiB so far)\n",
      "23/03/26 07:20:55 WARN MemoryStore: Not enough space to cache rdd_90_18 in memory! (computed 64.8 MiB so far)\n"
     ]
    },
    {
     "name": "stderr",
     "output_type": "stream",
     "text": [
      "[Stage 44:============================================>           (16 + 4) / 20]\r"
     ]
    },
    {
     "name": "stdout",
     "output_type": "stream",
     "text": [
      "23/03/26 07:21:13 WARN MemoryStore: Not enough space to cache rdd_23_19 in memory! (computed 6.9 GiB so far)\n"
     ]
    },
    {
     "name": "stderr",
     "output_type": "stream",
     "text": [
      "[Stage 46:>                                                        (0 + 8) / 20]\r"
     ]
    },
    {
     "name": "stdout",
     "output_type": "stream",
     "text": [
      "23/03/26 07:21:24 WARN MemoryStore: Not enough space to cache rdd_23_4 in memory! (computed 909.7 MiB so far)\n",
      "23/03/26 07:21:24 WARN MemoryStore: Not enough space to cache rdd_23_7 in memory! (computed 909.7 MiB so far)\n",
      "23/03/26 07:21:24 WARN MemoryStore: Not enough space to cache rdd_23_6 in memory! (computed 909.7 MiB so far)\n",
      "23/03/26 07:21:24 WARN MemoryStore: Not enough space to cache rdd_23_6 in memory! (computed 13.9 MiB so far)\n",
      "23/03/26 07:21:24 WARN MemoryStore: Not enough space to cache rdd_23_6 in memory! (computed 3.5 MiB so far)\n",
      "23/03/26 07:21:24 WARN MemoryStore: Not enough space to cache rdd_23_4 in memory! (computed 112.4 MiB so far)\n",
      "23/03/26 07:21:24 WARN MemoryStore: Failed to reserve initial memory threshold of 1024.0 KiB for computing block rdd_23_4 in memory.\n",
      "23/03/26 07:21:24 WARN MemoryStore: Not enough space to cache rdd_23_4 in memory! (computed 384.0 B so far)\n",
      "23/03/26 07:21:24 WARN MemoryStore: Failed to reserve initial memory threshold of 1024.0 KiB for computing block rdd_87_4 in memory.\n",
      "23/03/26 07:21:24 WARN MemoryStore: Not enough space to cache rdd_87_4 in memory! (computed 384.0 B so far)\n",
      "23/03/26 07:21:24 WARN MemoryStore: Failed to reserve initial memory threshold of 1024.0 KiB for computing block rdd_109_4 in memory.\n",
      "23/03/26 07:21:24 WARN MemoryStore: Not enough space to cache rdd_109_4 in memory! (computed 384.0 B so far)\n",
      "23/03/26 07:21:24 WARN BlockManager: Persisting block rdd_109_4 to disk instead.\n",
      "23/03/26 07:21:24 WARN MemoryStore: Not enough space to cache rdd_23_7 in memory! (computed 47.4 MiB so far)\n",
      "23/03/26 07:21:24 WARN MemoryStore: Failed to reserve initial memory threshold of 1024.0 KiB for computing block rdd_23_7 in memory.\n",
      "23/03/26 07:21:24 WARN MemoryStore: Not enough space to cache rdd_23_7 in memory! (computed 384.0 B so far)\n",
      "23/03/26 07:21:24 WARN MemoryStore: Failed to reserve initial memory threshold of 1024.0 KiB for computing block rdd_87_7 in memory.\n",
      "23/03/26 07:21:24 WARN MemoryStore: Not enough space to cache rdd_87_7 in memory! (computed 384.0 B so far)\n",
      "23/03/26 07:21:24 WARN MemoryStore: Failed to reserve initial memory threshold of 1024.0 KiB for computing block rdd_109_7 in memory.\n",
      "23/03/26 07:21:24 WARN MemoryStore: Not enough space to cache rdd_109_7 in memory! (computed 384.0 B so far)\n",
      "23/03/26 07:21:24 WARN BlockManager: Persisting block rdd_109_7 to disk instead.\n",
      "23/03/26 07:21:24 WARN MemoryStore: Not enough space to cache rdd_87_6 in memory! (computed 1035.4 KiB so far)\n",
      "23/03/26 07:21:24 WARN MemoryStore: Failed to reserve initial memory threshold of 1024.0 KiB for computing block rdd_109_6 in memory.\n",
      "23/03/26 07:21:24 WARN MemoryStore: Not enough space to cache rdd_109_6 in memory! (computed 384.0 B so far)\n",
      "23/03/26 07:21:24 WARN BlockManager: Persisting block rdd_109_6 to disk instead.\n",
      "23/03/26 07:21:25 WARN MemoryStore: Not enough space to cache rdd_23_3 in memory! (computed 1364.5 MiB so far)\n",
      "23/03/26 07:21:25 WARN MemoryStore: Not enough space to cache rdd_23_2 in memory! (computed 1364.5 MiB so far)\n",
      "23/03/26 07:21:25 WARN MemoryStore: Not enough space to cache rdd_23_3 in memory! (computed 2.3 MiB so far)\n",
      "23/03/26 07:21:25 WARN MemoryStore: Failed to reserve initial memory threshold of 1024.0 KiB for computing block rdd_23_3 in memory.\n",
      "23/03/26 07:21:25 WARN MemoryStore: Not enough space to cache rdd_23_3 in memory! (computed 384.0 B so far)\n",
      "23/03/26 07:21:25 WARN MemoryStore: Failed to reserve initial memory threshold of 1024.0 KiB for computing block rdd_87_3 in memory.\n",
      "23/03/26 07:21:25 WARN MemoryStore: Not enough space to cache rdd_87_3 in memory! (computed 384.0 B so far)\n",
      "23/03/26 07:21:25 WARN MemoryStore: Failed to reserve initial memory threshold of 1024.0 KiB for computing block rdd_109_3 in memory.\n",
      "23/03/26 07:21:25 WARN MemoryStore: Not enough space to cache rdd_109_3 in memory! (computed 384.0 B so far)\n",
      "23/03/26 07:21:25 WARN BlockManager: Persisting block rdd_109_3 to disk instead.\n",
      "23/03/26 07:21:25 WARN MemoryStore: Not enough space to cache rdd_23_2 in memory! (computed 2.3 MiB so far)\n",
      "23/03/26 07:21:25 WARN MemoryStore: Failed to reserve initial memory threshold of 1024.0 KiB for computing block rdd_23_2 in memory.\n",
      "23/03/26 07:21:25 WARN MemoryStore: Not enough space to cache rdd_23_2 in memory! (computed 384.0 B so far)\n",
      "23/03/26 07:21:25 WARN MemoryStore: Failed to reserve initial memory threshold of 1024.0 KiB for computing block rdd_87_2 in memory.\n",
      "23/03/26 07:21:25 WARN MemoryStore: Not enough space to cache rdd_87_2 in memory! (computed 384.0 B so far)\n",
      "23/03/26 07:21:25 WARN MemoryStore: Failed to reserve initial memory threshold of 1024.0 KiB for computing block rdd_109_2 in memory.\n",
      "23/03/26 07:21:25 WARN MemoryStore: Not enough space to cache rdd_109_2 in memory! (computed 384.0 B so far)\n",
      "23/03/26 07:21:25 WARN BlockManager: Persisting block rdd_109_2 to disk instead.\n",
      "23/03/26 07:21:25 WARN MemoryStore: Not enough space to cache rdd_23_1 in memory! (computed 1364.5 MiB so far)\n",
      "23/03/26 07:21:25 WARN MemoryStore: Failed to reserve initial memory threshold of 1024.0 KiB for computing block rdd_23_1 in memory.\n",
      "23/03/26 07:21:25 WARN MemoryStore: Not enough space to cache rdd_23_1 in memory! (computed 384.0 B so far)\n",
      "23/03/26 07:21:25 WARN MemoryStore: Failed to reserve initial memory threshold of 1024.0 KiB for computing block rdd_23_1 in memory.\n",
      "23/03/26 07:21:25 WARN MemoryStore: Not enough space to cache rdd_23_1 in memory! (computed 384.0 B so far)\n",
      "23/03/26 07:21:25 WARN MemoryStore: Failed to reserve initial memory threshold of 1024.0 KiB for computing block rdd_87_1 in memory.\n",
      "23/03/26 07:21:25 WARN MemoryStore: Not enough space to cache rdd_87_1 in memory! (computed 384.0 B so far)\n",
      "23/03/26 07:21:25 WARN MemoryStore: Failed to reserve initial memory threshold of 1024.0 KiB for computing block rdd_109_1 in memory.\n",
      "23/03/26 07:21:25 WARN MemoryStore: Not enough space to cache rdd_109_1 in memory! (computed 384.0 B so far)\n",
      "23/03/26 07:21:25 WARN BlockManager: Persisting block rdd_109_1 to disk instead.\n",
      "23/03/26 07:21:25 WARN MemoryStore: Not enough space to cache rdd_23_5 in memory! (computed 1364.5 MiB so far)\n",
      "23/03/26 07:21:25 WARN MemoryStore: Failed to reserve initial memory threshold of 1024.0 KiB for computing block rdd_23_5 in memory.\n",
      "23/03/26 07:21:25 WARN MemoryStore: Not enough space to cache rdd_23_5 in memory! (computed 384.0 B so far)\n",
      "23/03/26 07:21:25 WARN MemoryStore: Failed to reserve initial memory threshold of 1024.0 KiB for computing block rdd_23_5 in memory.\n",
      "23/03/26 07:21:25 WARN MemoryStore: Not enough space to cache rdd_23_5 in memory! (computed 384.0 B so far)\n",
      "23/03/26 07:21:25 WARN MemoryStore: Failed to reserve initial memory threshold of 1024.0 KiB for computing block rdd_87_5 in memory.\n",
      "23/03/26 07:21:25 WARN MemoryStore: Not enough space to cache rdd_87_5 in memory! (computed 384.0 B so far)\n",
      "23/03/26 07:21:25 WARN MemoryStore: Failed to reserve initial memory threshold of 1024.0 KiB for computing block rdd_109_5 in memory.\n",
      "23/03/26 07:21:25 WARN MemoryStore: Not enough space to cache rdd_109_5 in memory! (computed 384.0 B so far)\n",
      "23/03/26 07:21:25 WARN BlockManager: Persisting block rdd_109_5 to disk instead.\n",
      "23/03/26 07:21:25 WARN MemoryStore: Not enough space to cache rdd_23_0 in memory! (computed 1364.5 MiB so far)\n",
      "23/03/26 07:21:25 WARN MemoryStore: Failed to reserve initial memory threshold of 1024.0 KiB for computing block rdd_23_0 in memory.\n",
      "23/03/26 07:21:25 WARN MemoryStore: Not enough space to cache rdd_23_0 in memory! (computed 384.0 B so far)\n",
      "23/03/26 07:21:25 WARN MemoryStore: Failed to reserve initial memory threshold of 1024.0 KiB for computing block rdd_23_0 in memory.\n",
      "23/03/26 07:21:25 WARN MemoryStore: Not enough space to cache rdd_23_0 in memory! (computed 384.0 B so far)\n",
      "23/03/26 07:21:25 WARN MemoryStore: Failed to reserve initial memory threshold of 1024.0 KiB for computing block rdd_87_0 in memory.\n",
      "23/03/26 07:21:25 WARN MemoryStore: Not enough space to cache rdd_87_0 in memory! (computed 384.0 B so far)\n",
      "23/03/26 07:21:25 WARN MemoryStore: Failed to reserve initial memory threshold of 1024.0 KiB for computing block rdd_109_0 in memory.\n",
      "23/03/26 07:21:25 WARN MemoryStore: Not enough space to cache rdd_109_0 in memory! (computed 384.0 B so far)\n",
      "23/03/26 07:21:25 WARN BlockManager: Persisting block rdd_109_0 to disk instead.\n",
      "23/03/26 07:21:54 WARN MemoryStore: Failed to reserve initial memory threshold of 1024.0 KiB for computing block rdd_109_4 in memory.\n",
      "23/03/26 07:21:54 WARN MemoryStore: Not enough space to cache rdd_109_4 in memory! (computed 384.0 B so far)\n",
      "23/03/26 07:21:54 WARN MemoryStore: Failed to reserve initial memory threshold of 1024.0 KiB for computing block rdd_112_4 in memory.\n",
      "23/03/26 07:21:54 WARN MemoryStore: Not enough space to cache rdd_112_4 in memory! (computed 384.0 B so far)\n",
      "23/03/26 07:21:54 WARN BlockManager: Persisting block rdd_112_4 to disk instead.\n",
      "23/03/26 07:21:54 WARN MemoryStore: Failed to reserve initial memory threshold of 1024.0 KiB for computing block rdd_109_7 in memory.\n",
      "23/03/26 07:21:54 WARN MemoryStore: Not enough space to cache rdd_109_7 in memory! (computed 384.0 B so far)\n",
      "23/03/26 07:21:54 WARN MemoryStore: Failed to reserve initial memory threshold of 1024.0 KiB for computing block rdd_112_7 in memory.\n",
      "23/03/26 07:21:54 WARN MemoryStore: Not enough space to cache rdd_112_7 in memory! (computed 384.0 B so far)\n",
      "23/03/26 07:21:54 WARN BlockManager: Persisting block rdd_112_7 to disk instead.\n",
      "23/03/26 07:21:55 WARN MemoryStore: Not enough space to cache rdd_109_6 in memory! (computed 65.8 MiB so far)\n",
      "23/03/26 07:21:56 WARN MemoryStore: Not enough space to cache rdd_109_3 in memory! (computed 13.0 MiB so far)\n",
      "23/03/26 07:21:56 WARN MemoryStore: Not enough space to cache rdd_109_0 in memory! (computed 43.9 MiB so far)\n",
      "23/03/26 07:21:56 WARN MemoryStore: Not enough space to cache rdd_109_2 in memory! (computed 1663.4 KiB so far)\n",
      "23/03/26 07:21:56 WARN MemoryStore: Failed to reserve initial memory threshold of 1024.0 KiB for computing block rdd_112_2 in memory.\n",
      "23/03/26 07:21:56 WARN MemoryStore: Not enough space to cache rdd_112_2 in memory! (computed 384.0 B so far)\n",
      "23/03/26 07:21:56 WARN BlockManager: Persisting block rdd_112_2 to disk instead.\n",
      "23/03/26 07:21:56 WARN MemoryStore: Not enough space to cache rdd_112_6 in memory! (computed 4.0 MiB so far)\n",
      "23/03/26 07:21:56 WARN BlockManager: Persisting block rdd_112_6 to disk instead.\n",
      "23/03/26 07:21:56 WARN MemoryStore: Not enough space to cache rdd_109_1 in memory! (computed 43.9 MiB so far)\n",
      "23/03/26 07:21:56 WARN MemoryStore: Not enough space to cache rdd_112_3 in memory! (computed 4.0 MiB so far)\n",
      "23/03/26 07:21:56 WARN BlockManager: Persisting block rdd_112_3 to disk instead.\n",
      "23/03/26 07:21:56 WARN MemoryStore: Not enough space to cache rdd_112_1 in memory! (computed 1537.3 KiB so far)\n",
      "23/03/26 07:21:56 WARN BlockManager: Persisting block rdd_112_1 to disk instead.\n",
      "23/03/26 07:21:56 WARN MemoryStore: Not enough space to cache rdd_112_0 in memory! (computed 4.0 MiB so far)\n",
      "23/03/26 07:21:56 WARN BlockManager: Persisting block rdd_112_0 to disk instead.\n",
      "23/03/26 07:21:57 WARN MemoryStore: Not enough space to cache rdd_109_5 in memory! (computed 19.5 MiB so far)\n",
      "23/03/26 07:21:58 WARN MemoryStore: Not enough space to cache rdd_112_5 in memory! (computed 2.7 MiB so far)\n",
      "23/03/26 07:21:58 WARN BlockManager: Persisting block rdd_112_5 to disk instead.\n"
     ]
    },
    {
     "name": "stderr",
     "output_type": "stream",
     "text": [
      "[Stage 46:>                                                        (0 + 8) / 20]\r"
     ]
    },
    {
     "name": "stdout",
     "output_type": "stream",
     "text": [
      "23/03/26 07:22:24 WARN MemoryStore: Not enough space to cache rdd_112_4 in memory! (computed 64.8 MiB so far)\n",
      "23/03/26 07:22:24 WARN MemoryStore: Not enough space to cache rdd_112_7 in memory! (computed 99.2 MiB so far)\n",
      "23/03/26 07:22:24 WARN MemoryStore: Not enough space to cache rdd_112_1 in memory! (computed 10.8 MiB so far)\n",
      "23/03/26 07:22:24 WARN MemoryStore: Not enough space to cache rdd_112_6 in memory! (computed 4.0 MiB so far)\n",
      "23/03/26 07:22:24 WARN MemoryStore: Failed to reserve initial memory threshold of 1024.0 KiB for computing block rdd_112_0 in memory.\n",
      "23/03/26 07:22:24 WARN MemoryStore: Not enough space to cache rdd_112_0 in memory! (computed 384.0 B so far)\n"
     ]
    },
    {
     "name": "stderr",
     "output_type": "stream",
     "text": [
      "[Stage 46:==============>                                          (5 + 8) / 20]\r"
     ]
    },
    {
     "name": "stdout",
     "output_type": "stream",
     "text": [
      "23/03/26 07:23:08 WARN MemoryStore: Not enough space to cache rdd_23_9 in memory! (computed 2046.8 MiB so far)\n"
     ]
    },
    {
     "name": "stderr",
     "output_type": "stream",
     "text": [
      "[Stage 46:=================>                                       (6 + 8) / 20]\r"
     ]
    },
    {
     "name": "stdout",
     "output_type": "stream",
     "text": [
      "23/03/26 07:23:09 WARN MemoryStore: Not enough space to cache rdd_23_11 in memory! (computed 909.7 MiB so far)\n",
      "23/03/26 07:23:09 WARN MemoryStore: Not enough space to cache rdd_23_12 in memory! (computed 909.7 MiB so far)\n"
     ]
    },
    {
     "name": "stderr",
     "output_type": "stream",
     "text": [
      "[Stage 46:===================>                                     (7 + 8) / 20]\r"
     ]
    },
    {
     "name": "stdout",
     "output_type": "stream",
     "text": [
      "23/03/26 07:23:09 WARN MemoryStore: Not enough space to cache rdd_23_8 in memory! (computed 3.0 GiB so far)\n",
      "23/03/26 07:23:09 WARN MemoryStore: Not enough space to cache rdd_23_10 in memory! (computed 2046.8 MiB so far)\n",
      "23/03/26 07:23:09 WARN MemoryStore: Not enough space to cache rdd_23_12 in memory! (computed 9.1 MiB so far)\n",
      "23/03/26 07:23:09 WARN MemoryStore: Not enough space to cache rdd_23_10 in memory! (computed 5.3 MiB so far)\n",
      "23/03/26 07:23:09 WARN MemoryStore: Not enough space to cache rdd_23_14 in memory! (computed 47.4 MiB so far)\n",
      "23/03/26 07:23:09 WARN MemoryStore: Not enough space to cache rdd_23_11 in memory! (computed 47.4 MiB so far)\n",
      "23/03/26 07:23:09 WARN MemoryStore: Failed to reserve initial memory threshold of 1024.0 KiB for computing block rdd_23_14 in memory.\n",
      "23/03/26 07:23:09 WARN MemoryStore: Not enough space to cache rdd_23_14 in memory! (computed 384.0 B so far)\n",
      "23/03/26 07:23:09 WARN MemoryStore: Not enough space to cache rdd_23_8 in memory! (computed 5.3 MiB so far)\n",
      "23/03/26 07:23:09 WARN MemoryStore: Failed to reserve initial memory threshold of 1024.0 KiB for computing block rdd_23_14 in memory.\n",
      "23/03/26 07:23:09 WARN MemoryStore: Not enough space to cache rdd_23_14 in memory! (computed 384.0 B so far)\n",
      "23/03/26 07:23:09 WARN MemoryStore: Failed to reserve initial memory threshold of 1024.0 KiB for computing block rdd_87_14 in memory.\n",
      "23/03/26 07:23:09 WARN MemoryStore: Not enough space to cache rdd_87_14 in memory! (computed 384.0 B so far)\n",
      "23/03/26 07:23:09 WARN MemoryStore: Failed to reserve initial memory threshold of 1024.0 KiB for computing block rdd_109_14 in memory.\n",
      "23/03/26 07:23:09 WARN MemoryStore: Not enough space to cache rdd_109_14 in memory! (computed 384.0 B so far)\n",
      "23/03/26 07:23:09 WARN BlockManager: Persisting block rdd_109_14 to disk instead.\n",
      "23/03/26 07:23:09 WARN MemoryStore: Not enough space to cache rdd_23_12 in memory! (computed 1557.2 KiB so far)\n",
      "23/03/26 07:23:09 WARN MemoryStore: Failed to reserve initial memory threshold of 1024.0 KiB for computing block rdd_87_12 in memory.\n",
      "23/03/26 07:23:09 WARN MemoryStore: Not enough space to cache rdd_87_12 in memory! (computed 384.0 B so far)\n",
      "23/03/26 07:23:09 WARN MemoryStore: Failed to reserve initial memory threshold of 1024.0 KiB for computing block rdd_109_12 in memory.\n",
      "23/03/26 07:23:09 WARN MemoryStore: Not enough space to cache rdd_109_12 in memory! (computed 384.0 B so far)\n",
      "23/03/26 07:23:09 WARN BlockManager: Persisting block rdd_109_12 to disk instead.\n",
      "23/03/26 07:23:09 WARN MemoryStore: Failed to reserve initial memory threshold of 1024.0 KiB for computing block rdd_23_8 in memory.\n",
      "23/03/26 07:23:09 WARN MemoryStore: Not enough space to cache rdd_23_8 in memory! (computed 384.0 B so far)\n",
      "23/03/26 07:23:09 WARN MemoryStore: Failed to reserve initial memory threshold of 1024.0 KiB for computing block rdd_87_8 in memory.\n",
      "23/03/26 07:23:09 WARN MemoryStore: Not enough space to cache rdd_87_8 in memory! (computed 384.0 B so far)\n",
      "23/03/26 07:23:09 WARN MemoryStore: Failed to reserve initial memory threshold of 1024.0 KiB for computing block rdd_109_8 in memory.\n",
      "23/03/26 07:23:09 WARN MemoryStore: Not enough space to cache rdd_109_8 in memory! (computed 384.0 B so far)\n",
      "23/03/26 07:23:09 WARN BlockManager: Persisting block rdd_109_8 to disk instead.\n",
      "23/03/26 07:23:09 WARN MemoryStore: Not enough space to cache rdd_23_10 in memory! (computed 1025.7 KiB so far)\n",
      "23/03/26 07:23:09 WARN MemoryStore: Failed to reserve initial memory threshold of 1024.0 KiB for computing block rdd_87_10 in memory.\n",
      "23/03/26 07:23:09 WARN MemoryStore: Not enough space to cache rdd_87_10 in memory! (computed 384.0 B so far)\n",
      "23/03/26 07:23:09 WARN MemoryStore: Failed to reserve initial memory threshold of 1024.0 KiB for computing block rdd_109_10 in memory.\n",
      "23/03/26 07:23:09 WARN MemoryStore: Not enough space to cache rdd_109_10 in memory! (computed 384.0 B so far)\n",
      "23/03/26 07:23:09 WARN BlockManager: Persisting block rdd_109_10 to disk instead.\n",
      "23/03/26 07:23:09 WARN MemoryStore: Not enough space to cache rdd_23_11 in memory! (computed 2.3 MiB so far)\n",
      "23/03/26 07:23:09 WARN MemoryStore: Failed to reserve initial memory threshold of 1024.0 KiB for computing block rdd_87_11 in memory.\n",
      "23/03/26 07:23:09 WARN MemoryStore: Not enough space to cache rdd_87_11 in memory! (computed 384.0 B so far)\n",
      "23/03/26 07:23:09 WARN MemoryStore: Failed to reserve initial memory threshold of 1024.0 KiB for computing block rdd_109_11 in memory.\n",
      "23/03/26 07:23:09 WARN MemoryStore: Not enough space to cache rdd_109_11 in memory! (computed 384.0 B so far)\n",
      "23/03/26 07:23:09 WARN BlockManager: Persisting block rdd_109_11 to disk instead.\n"
     ]
    },
    {
     "name": "stderr",
     "output_type": "stream",
     "text": [
      "[Stage 46:======================>                                  (8 + 8) / 20]\r"
     ]
    },
    {
     "name": "stdout",
     "output_type": "stream",
     "text": [
      "23/03/26 07:23:10 WARN MemoryStore: Not enough space to cache rdd_23_13 in memory! (computed 168.6 MiB so far)\n",
      "23/03/26 07:23:10 WARN MemoryStore: Not enough space to cache rdd_23_15 in memory! (computed 31.4 MiB so far)\n",
      "23/03/26 07:23:10 WARN MemoryStore: Not enough space to cache rdd_23_15 in memory! (computed 5.3 MiB so far)\n",
      "23/03/26 07:23:10 WARN MemoryStore: Failed to reserve initial memory threshold of 1024.0 KiB for computing block rdd_23_15 in memory.\n",
      "23/03/26 07:23:10 WARN MemoryStore: Not enough space to cache rdd_23_15 in memory! (computed 384.0 B so far)\n",
      "23/03/26 07:23:10 WARN MemoryStore: Failed to reserve initial memory threshold of 1024.0 KiB for computing block rdd_87_15 in memory.\n",
      "23/03/26 07:23:10 WARN MemoryStore: Not enough space to cache rdd_87_15 in memory! (computed 384.0 B so far)\n",
      "23/03/26 07:23:10 WARN MemoryStore: Failed to reserve initial memory threshold of 1024.0 KiB for computing block rdd_109_15 in memory.\n",
      "23/03/26 07:23:10 WARN MemoryStore: Not enough space to cache rdd_109_15 in memory! (computed 384.0 B so far)\n",
      "23/03/26 07:23:10 WARN BlockManager: Persisting block rdd_109_15 to disk instead.\n",
      "23/03/26 07:23:10 WARN MemoryStore: Not enough space to cache rdd_23_13 in memory! (computed 20.9 MiB so far)\n",
      "23/03/26 07:23:10 WARN MemoryStore: Failed to reserve initial memory threshold of 1024.0 KiB for computing block rdd_23_13 in memory.\n",
      "23/03/26 07:23:10 WARN MemoryStore: Not enough space to cache rdd_23_13 in memory! (computed 384.0 B so far)\n",
      "23/03/26 07:23:10 WARN MemoryStore: Failed to reserve initial memory threshold of 1024.0 KiB for computing block rdd_87_13 in memory.\n",
      "23/03/26 07:23:10 WARN MemoryStore: Not enough space to cache rdd_87_13 in memory! (computed 384.0 B so far)\n",
      "23/03/26 07:23:10 WARN MemoryStore: Failed to reserve initial memory threshold of 1024.0 KiB for computing block rdd_109_13 in memory.\n",
      "23/03/26 07:23:10 WARN MemoryStore: Not enough space to cache rdd_109_13 in memory! (computed 384.0 B so far)\n",
      "23/03/26 07:23:10 WARN BlockManager: Persisting block rdd_109_13 to disk instead.\n",
      "23/03/26 07:23:10 WARN MemoryStore: Not enough space to cache rdd_23_9 in memory! (computed 380.1 MiB so far)\n",
      "23/03/26 07:23:10 WARN MemoryStore: Failed to reserve initial memory threshold of 1024.0 KiB for computing block rdd_23_9 in memory.\n",
      "23/03/26 07:23:10 WARN MemoryStore: Not enough space to cache rdd_23_9 in memory! (computed 384.0 B so far)\n",
      "23/03/26 07:23:10 WARN MemoryStore: Failed to reserve initial memory threshold of 1024.0 KiB for computing block rdd_87_9 in memory.\n",
      "23/03/26 07:23:10 WARN MemoryStore: Not enough space to cache rdd_87_9 in memory! (computed 384.0 B so far)\n",
      "23/03/26 07:23:10 WARN MemoryStore: Failed to reserve initial memory threshold of 1024.0 KiB for computing block rdd_109_9 in memory.\n",
      "23/03/26 07:23:10 WARN MemoryStore: Not enough space to cache rdd_109_9 in memory! (computed 384.0 B so far)\n",
      "23/03/26 07:23:10 WARN BlockManager: Persisting block rdd_109_9 to disk instead.\n",
      "23/03/26 07:23:26 WARN MemoryStore: Failed to reserve initial memory threshold of 1024.0 KiB for computing block rdd_109_13 in memory.\n",
      "23/03/26 07:23:26 WARN MemoryStore: Not enough space to cache rdd_109_13 in memory! (computed 384.0 B so far)\n",
      "23/03/26 07:23:26 WARN MemoryStore: Failed to reserve initial memory threshold of 1024.0 KiB for computing block rdd_112_13 in memory.\n",
      "23/03/26 07:23:26 WARN MemoryStore: Not enough space to cache rdd_112_13 in memory! (computed 384.0 B so far)\n",
      "23/03/26 07:23:26 WARN BlockManager: Persisting block rdd_112_13 to disk instead.\n",
      "23/03/26 07:23:26 WARN MemoryStore: Not enough space to cache rdd_109_14 in memory! (computed 19.5 MiB so far)\n",
      "23/03/26 07:23:26 WARN MemoryStore: Not enough space to cache rdd_112_14 in memory! (computed 1537.3 KiB so far)\n",
      "23/03/26 07:23:26 WARN BlockManager: Persisting block rdd_112_14 to disk instead.\n",
      "23/03/26 07:23:27 WARN MemoryStore: Not enough space to cache rdd_109_12 in memory! (computed 1663.4 KiB so far)\n",
      "23/03/26 07:23:27 WARN MemoryStore: Failed to reserve initial memory threshold of 1024.0 KiB for computing block rdd_112_12 in memory.\n",
      "23/03/26 07:23:27 WARN MemoryStore: Not enough space to cache rdd_112_12 in memory! (computed 384.0 B so far)\n",
      "23/03/26 07:23:27 WARN BlockManager: Persisting block rdd_112_12 to disk instead.\n",
      "23/03/26 07:23:39 WARN MemoryStore: Not enough space to cache rdd_109_11 in memory! (computed 29.2 MiB so far)\n",
      "23/03/26 07:23:39 WARN MemoryStore: Failed to reserve initial memory threshold of 1024.0 KiB for computing block rdd_112_11 in memory.\n",
      "23/03/26 07:23:39 WARN MemoryStore: Not enough space to cache rdd_112_11 in memory! (computed 384.0 B so far)\n",
      "23/03/26 07:23:39 WARN BlockManager: Persisting block rdd_112_11 to disk instead.\n",
      "23/03/26 07:23:39 WARN MemoryStore: Not enough space to cache rdd_109_10 in memory! (computed 13.0 MiB so far)\n",
      "23/03/26 07:23:40 WARN MemoryStore: Not enough space to cache rdd_109_9 in memory! (computed 29.2 MiB so far)\n",
      "23/03/26 07:23:40 WARN MemoryStore: Not enough space to cache rdd_112_9 in memory! (computed 2.7 MiB so far)\n",
      "23/03/26 07:23:40 WARN MemoryStore: Not enough space to cache rdd_109_8 in memory! (computed 3.7 MiB so far)\n",
      "23/03/26 07:23:40 WARN BlockManager: Persisting block rdd_112_9 to disk instead.\n",
      "23/03/26 07:23:40 WARN MemoryStore: Failed to reserve initial memory threshold of 1024.0 KiB for computing block rdd_112_8 in memory.\n",
      "23/03/26 07:23:40 WARN MemoryStore: Not enough space to cache rdd_112_8 in memory! (computed 384.0 B so far)\n",
      "23/03/26 07:23:40 WARN BlockManager: Persisting block rdd_112_8 to disk instead.\n",
      "23/03/26 07:23:44 WARN MemoryStore: Not enough space to cache rdd_112_12 in memory! (computed 1537.3 KiB so far)\n",
      "23/03/26 07:23:44 WARN MemoryStore: Not enough space to cache rdd_112_13 in memory! (computed 99.2 MiB so far)\n"
     ]
    },
    {
     "name": "stderr",
     "output_type": "stream",
     "text": [
      "[Stage 46:=========================>                               (9 + 8) / 20]\r"
     ]
    },
    {
     "name": "stdout",
     "output_type": "stream",
     "text": [
      "23/03/26 07:24:07 WARN MemoryStore: Not enough space to cache rdd_23_16 in memory! (computed 589.3 MiB so far)\n",
      "23/03/26 07:24:08 WARN MemoryStore: Not enough space to cache rdd_23_16 in memory! (computed 168.6 MiB so far)\n",
      "23/03/26 07:24:08 WARN MemoryStore: Failed to reserve initial memory threshold of 1024.0 KiB for computing block rdd_23_16 in memory.\n",
      "23/03/26 07:24:08 WARN MemoryStore: Not enough space to cache rdd_23_16 in memory! (computed 384.0 B so far)\n",
      "23/03/26 07:24:08 WARN MemoryStore: Failed to reserve initial memory threshold of 1024.0 KiB for computing block rdd_87_16 in memory.\n",
      "23/03/26 07:24:08 WARN MemoryStore: Not enough space to cache rdd_87_16 in memory! (computed 384.0 B so far)\n",
      "23/03/26 07:24:08 WARN MemoryStore: Failed to reserve initial memory threshold of 1024.0 KiB for computing block rdd_109_16 in memory.\n",
      "23/03/26 07:24:08 WARN MemoryStore: Not enough space to cache rdd_109_16 in memory! (computed 384.0 B so far)\n",
      "23/03/26 07:24:08 WARN BlockManager: Persisting block rdd_109_16 to disk instead.\n"
     ]
    },
    {
     "name": "stderr",
     "output_type": "stream",
     "text": [
      "[Stage 46:============================>                           (10 + 8) / 20]\r"
     ]
    },
    {
     "name": "stdout",
     "output_type": "stream",
     "text": [
      "23/03/26 07:24:09 WARN MemoryStore: Not enough space to cache rdd_23_17 in memory! (computed 168.6 MiB so far)\n",
      "23/03/26 07:24:09 WARN MemoryStore: Not enough space to cache rdd_23_17 in memory! (computed 9.1 MiB so far)\n",
      "23/03/26 07:24:09 WARN MemoryStore: Not enough space to cache rdd_23_17 in memory! (computed 2.3 MiB so far)\n",
      "23/03/26 07:24:09 WARN MemoryStore: Failed to reserve initial memory threshold of 1024.0 KiB for computing block rdd_87_17 in memory.\n",
      "23/03/26 07:24:09 WARN MemoryStore: Not enough space to cache rdd_87_17 in memory! (computed 384.0 B so far)\n",
      "23/03/26 07:24:09 WARN MemoryStore: Failed to reserve initial memory threshold of 1024.0 KiB for computing block rdd_109_17 in memory.\n",
      "23/03/26 07:24:09 WARN MemoryStore: Not enough space to cache rdd_109_17 in memory! (computed 384.0 B so far)\n",
      "23/03/26 07:24:09 WARN BlockManager: Persisting block rdd_109_17 to disk instead.\n"
     ]
    },
    {
     "name": "stderr",
     "output_type": "stream",
     "text": [
      "[Stage 46:==============================>                         (11 + 8) / 20]\r"
     ]
    },
    {
     "name": "stdout",
     "output_type": "stream",
     "text": [
      "23/03/26 07:24:11 WARN MemoryStore: Not enough space to cache rdd_112_11 in memory! (computed 43.2 MiB so far)\n",
      "23/03/26 07:24:11 WARN MemoryStore: Not enough space to cache rdd_23_18 in memory! (computed 252.9 MiB so far)\n",
      "23/03/26 07:24:11 WARN MemoryStore: Not enough space to cache rdd_23_18 in memory! (computed 20.9 MiB so far)\n",
      "23/03/26 07:24:11 WARN MemoryStore: Not enough space to cache rdd_112_9 in memory! (computed 16.2 MiB so far)\n",
      "23/03/26 07:24:11 WARN MemoryStore: Not enough space to cache rdd_23_18 in memory! (computed 5.3 MiB so far)\n",
      "23/03/26 07:24:11 WARN MemoryStore: Not enough space to cache rdd_87_18 in memory! (computed 1035.4 KiB so far)\n",
      "23/03/26 07:24:11 WARN MemoryStore: Failed to reserve initial memory threshold of 1024.0 KiB for computing block rdd_109_18 in memory.\n",
      "23/03/26 07:24:11 WARN MemoryStore: Not enough space to cache rdd_109_18 in memory! (computed 384.0 B so far)\n",
      "23/03/26 07:24:11 WARN BlockManager: Persisting block rdd_109_18 to disk instead.\n"
     ]
    },
    {
     "name": "stderr",
     "output_type": "stream",
     "text": [
      "[Stage 46:============================================>           (16 + 4) / 20]\r"
     ]
    },
    {
     "name": "stdout",
     "output_type": "stream",
     "text": [
      "23/03/26 07:24:58 WARN MemoryStore: Not enough space to cache rdd_23_19 in memory! (computed 6.9 GiB so far)\n",
      "23/03/26 07:25:06 WARN MemoryStore: Not enough space to cache rdd_23_19 in memory! (computed 2046.8 MiB so far)\n",
      "23/03/26 07:25:06 WARN MemoryStore: Not enough space to cache rdd_23_19 in memory! (computed 73.6 MiB so far)\n",
      "23/03/26 07:25:06 WARN MemoryStore: Not enough space to cache rdd_87_19 in memory! (computed 29.2 MiB so far)\n",
      "23/03/26 07:25:13 WARN MemoryStore: Not enough space to cache rdd_109_19 in memory! (computed 104.0 MiB so far)\n",
      "23/03/26 07:25:13 WARN BlockManager: Persisting block rdd_109_19 to disk instead.\n"
     ]
    },
    {
     "name": "stderr",
     "output_type": "stream",
     "text": [
      "[Stage 48:>                                                        (0 + 8) / 20]\r"
     ]
    },
    {
     "name": "stdout",
     "output_type": "stream",
     "text": [
      "23/03/26 07:25:41 WARN MemoryStore: Not enough space to cache rdd_23_6 in memory! (computed 1364.5 MiB so far)\n",
      "23/03/26 07:25:41 WARN MemoryStore: Not enough space to cache rdd_23_5 in memory! (computed 1364.5 MiB so far)\n",
      "23/03/26 07:25:41 WARN MemoryStore: Not enough space to cache rdd_23_2 in memory! (computed 1364.5 MiB so far)\n",
      "23/03/26 07:25:41 WARN MemoryStore: Not enough space to cache rdd_23_7 in memory! (computed 1364.5 MiB so far)\n",
      "23/03/26 07:25:41 WARN MemoryStore: Not enough space to cache rdd_23_1 in memory! (computed 909.7 MiB so far)\n",
      "23/03/26 07:25:41 WARN MemoryStore: Not enough space to cache rdd_23_4 in memory! (computed 909.7 MiB so far)\n",
      "23/03/26 07:25:41 WARN MemoryStore: Not enough space to cache rdd_23_3 in memory! (computed 909.7 MiB so far)\n",
      "23/03/26 07:25:41 WARN MemoryStore: Not enough space to cache rdd_112_3 in memory! (computed 6.2 MiB so far)\n",
      "23/03/26 07:25:41 WARN MemoryStore: Not enough space to cache rdd_112_7 in memory! (computed 6.2 MiB so far)\n",
      "23/03/26 07:25:41 WARN MemoryStore: Not enough space to cache rdd_112_4 in memory! (computed 6.2 MiB so far)\n",
      "23/03/26 07:25:41 WARN MemoryStore: Not enough space to cache rdd_112_2 in memory! (computed 6.2 MiB so far)\n",
      "23/03/26 07:25:41 WARN MemoryStore: Not enough space to cache rdd_112_5 in memory! (computed 6.2 MiB so far)\n",
      "23/03/26 07:25:41 WARN MemoryStore: Not enough space to cache rdd_112_6 in memory! (computed 10.8 MiB so far)\n",
      "23/03/26 07:25:41 WARN MemoryStore: Not enough space to cache rdd_112_1 in memory! (computed 10.8 MiB so far)\n",
      "23/03/26 07:25:42 WARN MemoryStore: Not enough space to cache rdd_23_0 in memory! (computed 1364.5 MiB so far)\n"
     ]
    },
    {
     "name": "stderr",
     "output_type": "stream",
     "text": [
      "[Stage 48:======================>                                  (8 + 8) / 20]\r"
     ]
    },
    {
     "name": "stdout",
     "output_type": "stream",
     "text": [
      "23/03/26 07:26:28 WARN MemoryStore: Not enough space to cache rdd_23_9 in memory! (computed 2046.8 MiB so far)\n",
      "23/03/26 07:26:28 WARN MemoryStore: Not enough space to cache rdd_23_8 in memory! (computed 2046.8 MiB so far)\n",
      "23/03/26 07:26:28 WARN MemoryStore: Not enough space to cache rdd_23_11 in memory! (computed 1364.5 MiB so far)\n",
      "23/03/26 07:26:29 WARN MemoryStore: Not enough space to cache rdd_23_13 in memory! (computed 909.7 MiB so far)\n",
      "23/03/26 07:26:29 WARN MemoryStore: Not enough space to cache rdd_23_15 in memory! (computed 380.1 MiB so far)\n",
      "23/03/26 07:26:29 WARN MemoryStore: Not enough space to cache rdd_23_12 in memory! (computed 909.7 MiB so far)\n",
      "23/03/26 07:26:29 WARN MemoryStore: Not enough space to cache rdd_23_14 in memory! (computed 589.3 MiB so far)\n",
      "23/03/26 07:26:29 WARN MemoryStore: Not enough space to cache rdd_112_8 in memory! (computed 16.2 MiB so far)\n",
      "23/03/26 07:26:29 WARN MemoryStore: Not enough space to cache rdd_23_10 in memory! (computed 1364.5 MiB so far)\n",
      "23/03/26 07:26:29 WARN MemoryStore: Not enough space to cache rdd_112_13 in memory! (computed 16.2 MiB so far)\n",
      "23/03/26 07:26:29 WARN MemoryStore: Not enough space to cache rdd_112_12 in memory! (computed 16.2 MiB so far)\n",
      "23/03/26 07:26:29 WARN MemoryStore: Not enough space to cache rdd_112_15 in memory! (computed 16.2 MiB so far)\n",
      "23/03/26 07:26:29 WARN MemoryStore: Not enough space to cache rdd_112_9 in memory! (computed 16.2 MiB so far)\n",
      "23/03/26 07:26:29 WARN MemoryStore: Not enough space to cache rdd_112_10 in memory! (computed 1024.6 KiB so far)\n",
      "23/03/26 07:26:29 WARN MemoryStore: Not enough space to cache rdd_112_14 in memory! (computed 4.0 MiB so far)\n",
      "23/03/26 07:26:30 WARN MemoryStore: Not enough space to cache rdd_112_11 in memory! (computed 24.3 MiB so far)\n"
     ]
    },
    {
     "name": "stderr",
     "output_type": "stream",
     "text": [
      "[Stage 48:==============================>                         (11 + 8) / 20]\r"
     ]
    },
    {
     "name": "stdout",
     "output_type": "stream",
     "text": [
      "23/03/26 07:27:00 WARN MemoryStore: Not enough space to cache rdd_23_16 in memory! (computed 3.0 GiB so far)\n",
      "23/03/26 07:27:02 WARN MemoryStore: Not enough space to cache rdd_23_17 in memory! (computed 3.0 GiB so far)\n",
      "23/03/26 07:27:02 WARN MemoryStore: Not enough space to cache rdd_23_18 in memory! (computed 3.0 GiB so far)\n",
      "23/03/26 07:27:04 WARN MemoryStore: Not enough space to cache rdd_112_18 in memory! (computed 64.8 MiB so far)\n"
     ]
    },
    {
     "name": "stderr",
     "output_type": "stream",
     "text": [
      "[Stage 48:============================================>           (16 + 4) / 20]\r"
     ]
    },
    {
     "name": "stdout",
     "output_type": "stream",
     "text": [
      "23/03/26 07:27:23 WARN MemoryStore: Not enough space to cache rdd_23_19 in memory! (computed 6.9 GiB so far)\n"
     ]
    },
    {
     "name": "stderr",
     "output_type": "stream",
     "text": [
      "[Stage 50:>                                                        (0 + 8) / 20]\r"
     ]
    },
    {
     "name": "stdout",
     "output_type": "stream",
     "text": [
      "23/03/26 07:27:36 WARN MemoryStore: Not enough space to cache rdd_23_2 in memory! (computed 1364.5 MiB so far)\n",
      "23/03/26 07:27:36 WARN MemoryStore: Not enough space to cache rdd_23_3 in memory! (computed 1364.5 MiB so far)\n",
      "23/03/26 07:27:36 WARN MemoryStore: Not enough space to cache rdd_23_7 in memory! (computed 1364.5 MiB so far)\n",
      "23/03/26 07:27:36 WARN MemoryStore: Not enough space to cache rdd_23_1 in memory! (computed 909.7 MiB so far)\n",
      "23/03/26 07:27:36 WARN MemoryStore: Not enough space to cache rdd_23_6 in memory! (computed 909.7 MiB so far)\n",
      "23/03/26 07:27:36 WARN MemoryStore: Not enough space to cache rdd_23_5 in memory! (computed 909.7 MiB so far)\n",
      "23/03/26 07:27:36 WARN MemoryStore: Not enough space to cache rdd_23_4 in memory! (computed 1364.5 MiB so far)\n",
      "23/03/26 07:27:36 WARN MemoryStore: Not enough space to cache rdd_112_2 in memory! (computed 6.2 MiB so far)\n",
      "23/03/26 07:27:36 WARN MemoryStore: Not enough space to cache rdd_112_5 in memory! (computed 10.8 MiB so far)\n",
      "23/03/26 07:27:36 WARN MemoryStore: Not enough space to cache rdd_112_3 in memory! (computed 6.2 MiB so far)\n",
      "23/03/26 07:27:36 WARN MemoryStore: Not enough space to cache rdd_112_7 in memory! (computed 10.8 MiB so far)\n",
      "23/03/26 07:27:36 WARN MemoryStore: Not enough space to cache rdd_112_4 in memory! (computed 2.7 MiB so far)\n",
      "23/03/26 07:27:36 WARN MemoryStore: Not enough space to cache rdd_112_6 in memory! (computed 10.8 MiB so far)\n",
      "23/03/26 07:27:36 WARN MemoryStore: Not enough space to cache rdd_112_1 in memory! (computed 6.2 MiB so far)\n",
      "23/03/26 07:27:37 WARN MemoryStore: Not enough space to cache rdd_23_0 in memory! (computed 1364.5 MiB so far)\n"
     ]
    },
    {
     "name": "stderr",
     "output_type": "stream",
     "text": [
      "[Stage 50:======================>                                  (8 + 8) / 20]\r"
     ]
    },
    {
     "name": "stdout",
     "output_type": "stream",
     "text": [
      "23/03/26 07:28:22 WARN MemoryStore: Not enough space to cache rdd_23_8 in memory! (computed 2046.8 MiB so far)\n",
      "23/03/26 07:28:22 WARN MemoryStore: Not enough space to cache rdd_23_13 in memory! (computed 909.7 MiB so far)\n",
      "23/03/26 07:28:22 WARN MemoryStore: Not enough space to cache rdd_23_12 in memory! (computed 909.7 MiB so far)\n",
      "23/03/26 07:28:22 WARN MemoryStore: Not enough space to cache rdd_23_10 in memory! (computed 1364.5 MiB so far)\n",
      "23/03/26 07:28:22 WARN MemoryStore: Not enough space to cache rdd_23_14 in memory! (computed 589.3 MiB so far)\n",
      "23/03/26 07:28:22 WARN MemoryStore: Not enough space to cache rdd_23_15 in memory! (computed 380.1 MiB so far)\n",
      "23/03/26 07:28:22 WARN MemoryStore: Not enough space to cache rdd_23_9 in memory! (computed 2046.8 MiB so far)\n",
      "23/03/26 07:28:23 WARN MemoryStore: Not enough space to cache rdd_112_13 in memory! (computed 16.2 MiB so far)\n",
      "23/03/26 07:28:23 WARN MemoryStore: Not enough space to cache rdd_112_8 in memory! (computed 16.2 MiB so far)\n",
      "23/03/26 07:28:23 WARN MemoryStore: Not enough space to cache rdd_112_14 in memory! (computed 16.2 MiB so far)\n",
      "23/03/26 07:28:23 WARN MemoryStore: Not enough space to cache rdd_112_10 in memory! (computed 16.2 MiB so far)\n",
      "23/03/26 07:28:23 WARN MemoryStore: Not enough space to cache rdd_112_12 in memory! (computed 16.2 MiB so far)\n",
      "23/03/26 07:28:23 WARN MemoryStore: Not enough space to cache rdd_112_9 in memory! (computed 10.8 MiB so far)\n",
      "23/03/26 07:28:23 WARN MemoryStore: Not enough space to cache rdd_112_15 in memory! (computed 16.2 MiB so far)\n",
      "23/03/26 07:28:36 WARN MemoryStore: Not enough space to cache rdd_23_11 in memory! (computed 6.9 GiB so far)\n"
     ]
    },
    {
     "name": "stderr",
     "output_type": "stream",
     "text": [
      "[Stage 50:==============================>                         (11 + 8) / 20]\r"
     ]
    },
    {
     "name": "stdout",
     "output_type": "stream",
     "text": [
      "23/03/26 07:28:48 WARN MemoryStore: Not enough space to cache rdd_23_17 in memory! (computed 909.7 MiB so far)\n",
      "23/03/26 07:28:48 WARN MemoryStore: Not enough space to cache rdd_23_18 in memory! (computed 112.4 MiB so far)\n",
      "23/03/26 07:28:49 WARN MemoryStore: Not enough space to cache rdd_112_18 in memory! (computed 16.2 MiB so far)\n",
      "23/03/26 07:28:49 WARN MemoryStore: Not enough space to cache rdd_112_17 in memory! (computed 24.3 MiB so far)\n",
      "23/03/26 07:28:49 WARN MemoryStore: Not enough space to cache rdd_23_16 in memory! (computed 1364.5 MiB so far)\n"
     ]
    },
    {
     "name": "stderr",
     "output_type": "stream",
     "text": [
      "[Stage 50:============================================>           (16 + 4) / 20]\r"
     ]
    },
    {
     "name": "stdout",
     "output_type": "stream",
     "text": [
      "23/03/26 07:29:16 WARN MemoryStore: Not enough space to cache rdd_23_19 in memory! (computed 6.9 GiB so far)\n"
     ]
    },
    {
     "name": "stderr",
     "output_type": "stream",
     "text": [
      "[Stage 52:>                                                        (0 + 8) / 20]\r"
     ]
    },
    {
     "name": "stdout",
     "output_type": "stream",
     "text": [
      "23/03/26 07:29:29 WARN MemoryStore: Not enough space to cache rdd_23_3 in memory! (computed 1364.5 MiB so far)\n",
      "23/03/26 07:29:29 WARN MemoryStore: Not enough space to cache rdd_23_4 in memory! (computed 909.7 MiB so far)\n",
      "23/03/26 07:29:29 WARN MemoryStore: Not enough space to cache rdd_23_5 in memory! (computed 909.7 MiB so far)\n",
      "23/03/26 07:29:29 WARN MemoryStore: Not enough space to cache rdd_23_0 in memory! (computed 909.7 MiB so far)\n",
      "23/03/26 07:29:29 WARN MemoryStore: Not enough space to cache rdd_23_6 in memory! (computed 1364.5 MiB so far)\n",
      "23/03/26 07:29:29 WARN MemoryStore: Not enough space to cache rdd_23_1 in memory! (computed 1364.5 MiB so far)\n",
      "23/03/26 07:29:29 WARN MemoryStore: Not enough space to cache rdd_23_2 in memory! (computed 1364.5 MiB so far)\n",
      "23/03/26 07:29:29 WARN MemoryStore: Not enough space to cache rdd_112_3 in memory! (computed 6.2 MiB so far)\n",
      "23/03/26 07:29:29 WARN MemoryStore: Not enough space to cache rdd_112_6 in memory! (computed 6.2 MiB so far)\n",
      "23/03/26 07:29:29 WARN MemoryStore: Not enough space to cache rdd_112_1 in memory! (computed 6.2 MiB so far)\n",
      "23/03/26 07:29:29 WARN MemoryStore: Not enough space to cache rdd_112_2 in memory! (computed 2.7 MiB so far)\n",
      "23/03/26 07:29:29 WARN MemoryStore: Not enough space to cache rdd_112_0 in memory! (computed 10.8 MiB so far)\n",
      "23/03/26 07:29:29 WARN MemoryStore: Not enough space to cache rdd_112_4 in memory! (computed 10.8 MiB so far)\n",
      "23/03/26 07:29:29 WARN MemoryStore: Not enough space to cache rdd_112_5 in memory! (computed 10.8 MiB so far)\n",
      "23/03/26 07:29:30 WARN MemoryStore: Not enough space to cache rdd_23_7 in memory! (computed 1364.5 MiB so far)\n"
     ]
    },
    {
     "name": "stderr",
     "output_type": "stream",
     "text": [
      "[Stage 52:======================>                                  (8 + 8) / 20]\r"
     ]
    },
    {
     "name": "stdout",
     "output_type": "stream",
     "text": [
      "23/03/26 07:30:14 WARN MemoryStore: Not enough space to cache rdd_23_14 in memory! (computed 589.3 MiB so far)\n",
      "23/03/26 07:30:15 WARN MemoryStore: Not enough space to cache rdd_23_13 in memory! (computed 909.7 MiB so far)\n",
      "23/03/26 07:30:15 WARN MemoryStore: Not enough space to cache rdd_23_10 in memory! (computed 1364.5 MiB so far)\n",
      "23/03/26 07:30:15 WARN MemoryStore: Not enough space to cache rdd_23_11 in memory! (computed 1364.5 MiB so far)\n",
      "23/03/26 07:30:15 WARN MemoryStore: Not enough space to cache rdd_23_12 in memory! (computed 909.7 MiB so far)\n",
      "23/03/26 07:30:15 WARN MemoryStore: Not enough space to cache rdd_23_8 in memory! (computed 2046.8 MiB so far)\n",
      "23/03/26 07:30:15 WARN MemoryStore: Not enough space to cache rdd_23_15 in memory! (computed 380.1 MiB so far)\n",
      "23/03/26 07:30:15 WARN MemoryStore: Not enough space to cache rdd_112_10 in memory! (computed 16.2 MiB so far)\n",
      "23/03/26 07:30:15 WARN MemoryStore: Not enough space to cache rdd_112_14 in memory! (computed 16.2 MiB so far)\n",
      "23/03/26 07:30:15 WARN MemoryStore: Not enough space to cache rdd_112_15 in memory! (computed 4.0 MiB so far)\n",
      "23/03/26 07:30:16 WARN MemoryStore: Not enough space to cache rdd_112_12 in memory! (computed 16.2 MiB so far)\n",
      "23/03/26 07:30:16 WARN MemoryStore: Not enough space to cache rdd_112_8 in memory! (computed 16.2 MiB so far)\n",
      "23/03/26 07:30:16 WARN MemoryStore: Not enough space to cache rdd_112_13 in memory! (computed 16.2 MiB so far)\n",
      "23/03/26 07:30:16 WARN MemoryStore: Not enough space to cache rdd_112_11 in memory! (computed 24.3 MiB so far)\n",
      "23/03/26 07:30:16 WARN MemoryStore: Not enough space to cache rdd_23_9 in memory! (computed 2046.8 MiB so far)\n",
      "23/03/26 07:30:16 WARN MemoryStore: Not enough space to cache rdd_112_9 in memory! (computed 4.0 MiB so far)\n"
     ]
    },
    {
     "name": "stderr",
     "output_type": "stream",
     "text": [
      "[Stage 52:==============================>                         (11 + 8) / 20]\r"
     ]
    },
    {
     "name": "stdout",
     "output_type": "stream",
     "text": [
      "23/03/26 07:30:46 WARN MemoryStore: Not enough space to cache rdd_23_16 in memory! (computed 3.0 GiB so far)\n",
      "23/03/26 07:30:47 WARN MemoryStore: Not enough space to cache rdd_23_17 in memory! (computed 3.0 GiB so far)\n",
      "23/03/26 07:30:48 WARN MemoryStore: Not enough space to cache rdd_23_18 in memory! (computed 3.0 GiB so far)\n",
      "23/03/26 07:30:50 WARN MemoryStore: Not enough space to cache rdd_112_16 in memory! (computed 172.8 MiB so far)\n",
      "23/03/26 07:30:51 WARN MemoryStore: Not enough space to cache rdd_112_18 in memory! (computed 99.2 MiB so far)\n"
     ]
    },
    {
     "name": "stderr",
     "output_type": "stream",
     "text": [
      "[Stage 52:===============================================>        (17 + 3) / 20]\r"
     ]
    },
    {
     "name": "stdout",
     "output_type": "stream",
     "text": [
      "23/03/26 07:31:09 WARN MemoryStore: Not enough space to cache rdd_23_19 in memory! (computed 6.9 GiB so far)\n"
     ]
    },
    {
     "name": "stderr",
     "output_type": "stream",
     "text": [
      "[Stage 54:>                                                        (0 + 8) / 20]\r"
     ]
    },
    {
     "name": "stdout",
     "output_type": "stream",
     "text": [
      "23/03/26 07:31:22 WARN MemoryStore: Not enough space to cache rdd_23_0 in memory! (computed 909.7 MiB so far)\n",
      "23/03/26 07:31:22 WARN MemoryStore: Not enough space to cache rdd_23_4 in memory! (computed 909.7 MiB so far)\n",
      "23/03/26 07:31:22 WARN MemoryStore: Not enough space to cache rdd_23_3 in memory! (computed 909.7 MiB so far)\n",
      "23/03/26 07:31:22 WARN MemoryStore: Not enough space to cache rdd_112_4 in memory! (computed 16.2 MiB so far)\n",
      "23/03/26 07:31:22 WARN MemoryStore: Not enough space to cache rdd_112_3 in memory! (computed 16.2 MiB so far)\n",
      "23/03/26 07:31:22 WARN MemoryStore: Not enough space to cache rdd_112_0 in memory! (computed 16.2 MiB so far)\n",
      "23/03/26 07:31:23 WARN MemoryStore: Not enough space to cache rdd_23_6 in memory! (computed 1364.5 MiB so far)\n",
      "23/03/26 07:31:23 WARN MemoryStore: Not enough space to cache rdd_23_7 in memory! (computed 1364.5 MiB so far)\n",
      "23/03/26 07:31:23 WARN MemoryStore: Failed to reserve initial memory threshold of 1024.0 KiB for computing block rdd_112_7 in memory.\n",
      "23/03/26 07:31:23 WARN MemoryStore: Not enough space to cache rdd_112_7 in memory! (computed 384.0 B so far)\n",
      "23/03/26 07:31:23 WARN MemoryStore: Not enough space to cache rdd_112_6 in memory! (computed 1024.6 KiB so far)\n",
      "23/03/26 07:31:23 WARN MemoryStore: Not enough space to cache rdd_23_5 in memory! (computed 1364.5 MiB so far)\n",
      "23/03/26 07:31:23 WARN MemoryStore: Failed to reserve initial memory threshold of 1024.0 KiB for computing block rdd_112_5 in memory.\n",
      "23/03/26 07:31:23 WARN MemoryStore: Not enough space to cache rdd_112_5 in memory! (computed 384.0 B so far)\n",
      "23/03/26 07:31:23 WARN MemoryStore: Not enough space to cache rdd_23_1 in memory! (computed 1364.5 MiB so far)\n",
      "23/03/26 07:31:23 WARN MemoryStore: Not enough space to cache rdd_112_1 in memory! (computed 1024.6 KiB so far)\n",
      "23/03/26 07:31:23 WARN MemoryStore: Not enough space to cache rdd_23_2 in memory! (computed 1364.5 MiB so far)\n",
      "23/03/26 07:31:23 WARN MemoryStore: Not enough space to cache rdd_112_2 in memory! (computed 1024.6 KiB so far)\n"
     ]
    },
    {
     "name": "stderr",
     "output_type": "stream",
     "text": [
      "[Stage 54:======================>                                  (8 + 8) / 20]\r"
     ]
    },
    {
     "name": "stdout",
     "output_type": "stream",
     "text": [
      "23/03/26 07:32:09 WARN MemoryStore: Not enough space to cache rdd_23_14 in memory! (computed 589.3 MiB so far)\n",
      "23/03/26 07:32:09 WARN MemoryStore: Not enough space to cache rdd_23_13 in memory! (computed 909.7 MiB so far)\n",
      "23/03/26 07:32:10 WARN MemoryStore: Not enough space to cache rdd_23_8 in memory! (computed 2046.8 MiB so far)\n",
      "23/03/26 07:32:10 WARN MemoryStore: Not enough space to cache rdd_23_9 in memory! (computed 1364.5 MiB so far)\n",
      "23/03/26 07:32:10 WARN MemoryStore: Not enough space to cache rdd_23_10 in memory! (computed 1364.5 MiB so far)\n",
      "23/03/26 07:32:10 WARN MemoryStore: Not enough space to cache rdd_23_11 in memory! (computed 1364.5 MiB so far)\n",
      "23/03/26 07:32:10 WARN MemoryStore: Not enough space to cache rdd_23_12 in memory! (computed 1364.5 MiB so far)\n",
      "23/03/26 07:32:11 WARN MemoryStore: Not enough space to cache rdd_112_8 in memory! (computed 16.2 MiB so far)\n",
      "23/03/26 07:32:11 WARN MemoryStore: Not enough space to cache rdd_112_11 in memory! (computed 10.8 MiB so far)\n",
      "23/03/26 07:32:11 WARN MemoryStore: Not enough space to cache rdd_112_12 in memory! (computed 2.7 MiB so far)\n",
      "23/03/26 07:32:11 WARN MemoryStore: Not enough space to cache rdd_112_9 in memory! (computed 16.2 MiB so far)\n",
      "23/03/26 07:32:11 WARN MemoryStore: Not enough space to cache rdd_23_15 in memory! (computed 589.3 MiB so far)\n",
      "23/03/26 07:32:11 WARN MemoryStore: Failed to reserve initial memory threshold of 1024.0 KiB for computing block rdd_112_15 in memory.\n",
      "23/03/26 07:32:11 WARN MemoryStore: Not enough space to cache rdd_112_15 in memory! (computed 384.0 B so far)\n",
      "23/03/26 07:32:11 WARN MemoryStore: Not enough space to cache rdd_112_13 in memory! (computed 24.3 MiB so far)\n",
      "23/03/26 07:32:11 WARN MemoryStore: Not enough space to cache rdd_112_10 in memory! (computed 16.2 MiB so far)\n",
      "23/03/26 07:32:11 WARN MemoryStore: Not enough space to cache rdd_112_14 in memory! (computed 43.2 MiB so far)\n"
     ]
    },
    {
     "name": "stderr",
     "output_type": "stream",
     "text": [
      "[Stage 54:==============================>                         (11 + 8) / 20]\r"
     ]
    },
    {
     "name": "stdout",
     "output_type": "stream",
     "text": [
      "23/03/26 07:32:41 WARN MemoryStore: Not enough space to cache rdd_23_16 in memory! (computed 3.0 GiB so far)\n",
      "23/03/26 07:32:43 WARN MemoryStore: Not enough space to cache rdd_23_17 in memory! (computed 3.0 GiB so far)\n",
      "23/03/26 07:32:43 WARN MemoryStore: Not enough space to cache rdd_23_18 in memory! (computed 3.0 GiB so far)\n",
      "23/03/26 07:32:45 WARN MemoryStore: Not enough space to cache rdd_112_16 in memory! (computed 172.8 MiB so far)\n",
      "23/03/26 07:32:46 WARN MemoryStore: Not enough space to cache rdd_112_18 in memory! (computed 99.2 MiB so far)\n"
     ]
    },
    {
     "name": "stderr",
     "output_type": "stream",
     "text": [
      "[Stage 54:============================================>           (16 + 4) / 20]\r"
     ]
    },
    {
     "name": "stdout",
     "output_type": "stream",
     "text": [
      "23/03/26 07:33:04 WARN MemoryStore: Not enough space to cache rdd_23_19 in memory! (computed 6.9 GiB so far)\n"
     ]
    },
    {
     "name": "stderr",
     "output_type": "stream",
     "text": [
      "[Stage 56:>                                                        (0 + 8) / 20]\r"
     ]
    },
    {
     "name": "stdout",
     "output_type": "stream",
     "text": [
      "23/03/26 07:33:17 WARN MemoryStore: Not enough space to cache rdd_23_0 in memory! (computed 909.7 MiB so far)\n",
      "23/03/26 07:33:17 WARN MemoryStore: Not enough space to cache rdd_23_7 in memory! (computed 909.7 MiB so far)\n",
      "23/03/26 07:33:17 WARN MemoryStore: Not enough space to cache rdd_23_6 in memory! (computed 909.7 MiB so far)\n",
      "23/03/26 07:33:18 WARN MemoryStore: Not enough space to cache rdd_23_0 in memory! (computed 73.6 MiB so far)\n",
      "23/03/26 07:33:18 WARN MemoryStore: Not enough space to cache rdd_23_6 in memory! (computed 31.4 MiB so far)\n",
      "23/03/26 07:33:18 WARN MemoryStore: Not enough space to cache rdd_23_0 in memory! (computed 1557.2 KiB so far)\n",
      "23/03/26 07:33:18 WARN MemoryStore: Failed to reserve initial memory threshold of 1024.0 KiB for computing block rdd_109_0 in memory.\n",
      "23/03/26 07:33:18 WARN MemoryStore: Not enough space to cache rdd_109_0 in memory! (computed 384.0 B so far)\n",
      "23/03/26 07:33:18 WARN MemoryStore: Failed to reserve initial memory threshold of 1024.0 KiB for computing block rdd_131_0 in memory.\n",
      "23/03/26 07:33:18 WARN MemoryStore: Not enough space to cache rdd_131_0 in memory! (computed 384.0 B so far)\n",
      "23/03/26 07:33:18 WARN BlockManager: Persisting block rdd_131_0 to disk instead.\n",
      "23/03/26 07:33:18 WARN MemoryStore: Not enough space to cache rdd_23_6 in memory! (computed 1557.2 KiB so far)\n",
      "23/03/26 07:33:18 WARN MemoryStore: Failed to reserve initial memory threshold of 1024.0 KiB for computing block rdd_109_6 in memory.\n",
      "23/03/26 07:33:18 WARN MemoryStore: Not enough space to cache rdd_109_6 in memory! (computed 384.0 B so far)\n",
      "23/03/26 07:33:18 WARN MemoryStore: Failed to reserve initial memory threshold of 1024.0 KiB for computing block rdd_131_6 in memory.\n",
      "23/03/26 07:33:18 WARN MemoryStore: Not enough space to cache rdd_131_6 in memory! (computed 384.0 B so far)\n",
      "23/03/26 07:33:18 WARN BlockManager: Persisting block rdd_131_6 to disk instead.\n",
      "23/03/26 07:33:18 WARN MemoryStore: Not enough space to cache rdd_23_7 in memory! (computed 73.6 MiB so far)\n",
      "23/03/26 07:33:18 WARN MemoryStore: Failed to reserve initial memory threshold of 1024.0 KiB for computing block rdd_23_7 in memory.\n",
      "23/03/26 07:33:18 WARN MemoryStore: Not enough space to cache rdd_23_7 in memory! (computed 384.0 B so far)\n",
      "23/03/26 07:33:18 WARN MemoryStore: Not enough space to cache rdd_109_7 in memory! (computed 1663.4 KiB so far)\n",
      "23/03/26 07:33:18 WARN MemoryStore: Failed to reserve initial memory threshold of 1024.0 KiB for computing block rdd_131_7 in memory.\n",
      "23/03/26 07:33:18 WARN MemoryStore: Not enough space to cache rdd_131_7 in memory! (computed 384.0 B so far)\n",
      "23/03/26 07:33:18 WARN BlockManager: Persisting block rdd_131_7 to disk instead.\n",
      "23/03/26 07:33:18 WARN MemoryStore: Not enough space to cache rdd_23_2 in memory! (computed 1364.5 MiB so far)\n",
      "23/03/26 07:33:18 WARN MemoryStore: Not enough space to cache rdd_23_2 in memory! (computed 1557.2 KiB so far)\n",
      "23/03/26 07:33:18 WARN MemoryStore: Failed to reserve initial memory threshold of 1024.0 KiB for computing block rdd_23_2 in memory.\n",
      "23/03/26 07:33:18 WARN MemoryStore: Not enough space to cache rdd_23_2 in memory! (computed 384.0 B so far)\n",
      "23/03/26 07:33:18 WARN MemoryStore: Failed to reserve initial memory threshold of 1024.0 KiB for computing block rdd_109_2 in memory.\n",
      "23/03/26 07:33:18 WARN MemoryStore: Not enough space to cache rdd_109_2 in memory! (computed 384.0 B so far)\n",
      "23/03/26 07:33:18 WARN MemoryStore: Failed to reserve initial memory threshold of 1024.0 KiB for computing block rdd_131_2 in memory.\n",
      "23/03/26 07:33:18 WARN MemoryStore: Not enough space to cache rdd_131_2 in memory! (computed 384.0 B so far)\n",
      "23/03/26 07:33:18 WARN BlockManager: Persisting block rdd_131_2 to disk instead.\n",
      "23/03/26 07:33:18 WARN MemoryStore: Not enough space to cache rdd_23_5 in memory! (computed 1364.5 MiB so far)\n",
      "23/03/26 07:33:18 WARN MemoryStore: Not enough space to cache rdd_23_3 in memory! (computed 1364.5 MiB so far)\n",
      "23/03/26 07:33:18 WARN MemoryStore: Failed to reserve initial memory threshold of 1024.0 KiB for computing block rdd_23_5 in memory.\n",
      "23/03/26 07:33:18 WARN MemoryStore: Not enough space to cache rdd_23_5 in memory! (computed 384.0 B so far)\n",
      "23/03/26 07:33:18 WARN MemoryStore: Failed to reserve initial memory threshold of 1024.0 KiB for computing block rdd_23_3 in memory.\n",
      "23/03/26 07:33:18 WARN MemoryStore: Not enough space to cache rdd_23_3 in memory! (computed 384.0 B so far)\n",
      "23/03/26 07:33:18 WARN MemoryStore: Failed to reserve initial memory threshold of 1024.0 KiB for computing block rdd_23_5 in memory.\n",
      "23/03/26 07:33:18 WARN MemoryStore: Not enough space to cache rdd_23_5 in memory! (computed 384.0 B so far)\n",
      "23/03/26 07:33:18 WARN MemoryStore: Failed to reserve initial memory threshold of 1024.0 KiB for computing block rdd_109_5 in memory.\n",
      "23/03/26 07:33:18 WARN MemoryStore: Not enough space to cache rdd_109_5 in memory! (computed 384.0 B so far)\n",
      "23/03/26 07:33:18 WARN MemoryStore: Failed to reserve initial memory threshold of 1024.0 KiB for computing block rdd_131_5 in memory.\n",
      "23/03/26 07:33:18 WARN MemoryStore: Not enough space to cache rdd_131_5 in memory! (computed 384.0 B so far)\n",
      "23/03/26 07:33:18 WARN BlockManager: Persisting block rdd_131_5 to disk instead.\n",
      "23/03/26 07:33:18 WARN MemoryStore: Failed to reserve initial memory threshold of 1024.0 KiB for computing block rdd_23_3 in memory.\n",
      "23/03/26 07:33:18 WARN MemoryStore: Not enough space to cache rdd_23_3 in memory! (computed 384.0 B so far)\n",
      "23/03/26 07:33:18 WARN MemoryStore: Failed to reserve initial memory threshold of 1024.0 KiB for computing block rdd_109_3 in memory.\n",
      "23/03/26 07:33:18 WARN MemoryStore: Not enough space to cache rdd_109_3 in memory! (computed 384.0 B so far)\n",
      "23/03/26 07:33:18 WARN MemoryStore: Failed to reserve initial memory threshold of 1024.0 KiB for computing block rdd_131_3 in memory.\n",
      "23/03/26 07:33:18 WARN MemoryStore: Not enough space to cache rdd_131_3 in memory! (computed 384.0 B so far)\n",
      "23/03/26 07:33:18 WARN BlockManager: Persisting block rdd_131_3 to disk instead.\n",
      "23/03/26 07:33:19 WARN MemoryStore: Not enough space to cache rdd_23_4 in memory! (computed 1364.5 MiB so far)\n",
      "23/03/26 07:33:19 WARN MemoryStore: Failed to reserve initial memory threshold of 1024.0 KiB for computing block rdd_23_4 in memory.\n",
      "23/03/26 07:33:19 WARN MemoryStore: Not enough space to cache rdd_23_4 in memory! (computed 384.0 B so far)\n",
      "23/03/26 07:33:19 WARN MemoryStore: Failed to reserve initial memory threshold of 1024.0 KiB for computing block rdd_23_4 in memory.\n",
      "23/03/26 07:33:19 WARN MemoryStore: Not enough space to cache rdd_23_4 in memory! (computed 384.0 B so far)\n",
      "23/03/26 07:33:19 WARN MemoryStore: Failed to reserve initial memory threshold of 1024.0 KiB for computing block rdd_109_4 in memory.\n",
      "23/03/26 07:33:19 WARN MemoryStore: Not enough space to cache rdd_109_4 in memory! (computed 384.0 B so far)\n",
      "23/03/26 07:33:19 WARN MemoryStore: Failed to reserve initial memory threshold of 1024.0 KiB for computing block rdd_131_4 in memory.\n",
      "23/03/26 07:33:19 WARN MemoryStore: Not enough space to cache rdd_131_4 in memory! (computed 384.0 B so far)\n",
      "23/03/26 07:33:19 WARN BlockManager: Persisting block rdd_131_4 to disk instead.\n",
      "23/03/26 07:33:19 WARN MemoryStore: Not enough space to cache rdd_23_1 in memory! (computed 1364.5 MiB so far)\n",
      "23/03/26 07:33:19 WARN MemoryStore: Failed to reserve initial memory threshold of 1024.0 KiB for computing block rdd_23_1 in memory.\n",
      "23/03/26 07:33:19 WARN MemoryStore: Not enough space to cache rdd_23_1 in memory! (computed 384.0 B so far)\n",
      "23/03/26 07:33:19 WARN MemoryStore: Failed to reserve initial memory threshold of 1024.0 KiB for computing block rdd_23_1 in memory.\n",
      "23/03/26 07:33:19 WARN MemoryStore: Not enough space to cache rdd_23_1 in memory! (computed 384.0 B so far)\n",
      "23/03/26 07:33:19 WARN MemoryStore: Failed to reserve initial memory threshold of 1024.0 KiB for computing block rdd_109_1 in memory.\n",
      "23/03/26 07:33:19 WARN MemoryStore: Not enough space to cache rdd_109_1 in memory! (computed 384.0 B so far)\n",
      "23/03/26 07:33:19 WARN MemoryStore: Failed to reserve initial memory threshold of 1024.0 KiB for computing block rdd_131_1 in memory.\n",
      "23/03/26 07:33:19 WARN MemoryStore: Not enough space to cache rdd_131_1 in memory! (computed 384.0 B so far)\n",
      "23/03/26 07:33:19 WARN BlockManager: Persisting block rdd_131_1 to disk instead.\n",
      "23/03/26 07:33:47 WARN MemoryStore: Failed to reserve initial memory threshold of 1024.0 KiB for computing block rdd_131_0 in memory.\n",
      "23/03/26 07:33:47 WARN MemoryStore: Not enough space to cache rdd_131_0 in memory! (computed 384.0 B so far)\n",
      "23/03/26 07:33:47 WARN MemoryStore: Failed to reserve initial memory threshold of 1024.0 KiB for computing block rdd_134_0 in memory.\n",
      "23/03/26 07:33:47 WARN MemoryStore: Not enough space to cache rdd_134_0 in memory! (computed 384.0 B so far)\n",
      "23/03/26 07:33:47 WARN BlockManager: Persisting block rdd_134_0 to disk instead.\n",
      "23/03/26 07:33:47 WARN MemoryStore: Failed to reserve initial memory threshold of 1024.0 KiB for computing block rdd_131_7 in memory.\n",
      "23/03/26 07:33:47 WARN MemoryStore: Not enough space to cache rdd_131_7 in memory! (computed 384.0 B so far)\n",
      "23/03/26 07:33:47 WARN MemoryStore: Failed to reserve initial memory threshold of 1024.0 KiB for computing block rdd_134_7 in memory.\n",
      "23/03/26 07:33:47 WARN MemoryStore: Not enough space to cache rdd_134_7 in memory! (computed 384.0 B so far)\n",
      "23/03/26 07:33:47 WARN BlockManager: Persisting block rdd_134_7 to disk instead.\n",
      "23/03/26 07:33:49 WARN MemoryStore: Not enough space to cache rdd_131_1 in memory! (computed 43.9 MiB so far)\n",
      "23/03/26 07:33:49 WARN MemoryStore: Not enough space to cache rdd_131_4 in memory! (computed 65.8 MiB so far)\n",
      "23/03/26 07:33:49 WARN MemoryStore: Not enough space to cache rdd_131_6 in memory! (computed 19.5 MiB so far)\n",
      "23/03/26 07:33:50 WARN MemoryStore: Not enough space to cache rdd_131_2 in memory! (computed 1663.4 KiB so far)\n",
      "23/03/26 07:33:50 WARN MemoryStore: Failed to reserve initial memory threshold of 1024.0 KiB for computing block rdd_134_2 in memory.\n",
      "23/03/26 07:33:50 WARN MemoryStore: Not enough space to cache rdd_134_2 in memory! (computed 384.0 B so far)\n",
      "23/03/26 07:33:50 WARN BlockManager: Persisting block rdd_134_2 to disk instead.\n",
      "23/03/26 07:33:50 WARN MemoryStore: Not enough space to cache rdd_134_4 in memory! (computed 4.0 MiB so far)\n",
      "23/03/26 07:33:50 WARN BlockManager: Persisting block rdd_134_4 to disk instead.\n",
      "23/03/26 07:33:50 WARN MemoryStore: Not enough space to cache rdd_131_3 in memory! (computed 29.2 MiB so far)\n",
      "23/03/26 07:33:50 WARN MemoryStore: Not enough space to cache rdd_134_6 in memory! (computed 4.0 MiB so far)\n",
      "23/03/26 07:33:50 WARN BlockManager: Persisting block rdd_134_6 to disk instead.\n",
      "23/03/26 07:33:50 WARN MemoryStore: Failed to reserve initial memory threshold of 1024.0 KiB for computing block rdd_131_5 in memory.\n",
      "23/03/26 07:33:50 WARN MemoryStore: Not enough space to cache rdd_131_5 in memory! (computed 384.0 B so far)\n",
      "23/03/26 07:33:50 WARN MemoryStore: Failed to reserve initial memory threshold of 1024.0 KiB for computing block rdd_134_5 in memory.\n",
      "23/03/26 07:33:50 WARN MemoryStore: Not enough space to cache rdd_134_5 in memory! (computed 384.0 B so far)\n",
      "23/03/26 07:33:50 WARN BlockManager: Persisting block rdd_134_5 to disk instead.\n",
      "23/03/26 07:33:50 WARN MemoryStore: Not enough space to cache rdd_134_1 in memory! (computed 10.8 MiB so far)\n",
      "23/03/26 07:33:50 WARN BlockManager: Persisting block rdd_134_1 to disk instead.\n",
      "23/03/26 07:34:11 WARN MemoryStore: Not enough space to cache rdd_134_3 in memory! (computed 172.8 MiB so far)\n",
      "23/03/26 07:34:11 WARN BlockManager: Persisting block rdd_134_3 to disk instead.\n"
     ]
    },
    {
     "name": "stderr",
     "output_type": "stream",
     "text": [
      "[Stage 56:>                                                        (0 + 8) / 20]\r"
     ]
    },
    {
     "name": "stdout",
     "output_type": "stream",
     "text": [
      "23/03/26 07:34:18 WARN MemoryStore: Not enough space to cache rdd_134_4 in memory! (computed 43.2 MiB so far)\n",
      "23/03/26 07:34:19 WARN MemoryStore: Not enough space to cache rdd_134_0 in memory! (computed 64.8 MiB so far)\n",
      "23/03/26 07:34:19 WARN MemoryStore: Not enough space to cache rdd_134_1 in memory! (computed 10.8 MiB so far)\n",
      "23/03/26 07:34:19 WARN MemoryStore: Not enough space to cache rdd_134_7 in memory! (computed 64.8 MiB so far)\n",
      "23/03/26 07:34:20 WARN MemoryStore: Failed to reserve initial memory threshold of 1024.0 KiB for computing block rdd_134_6 in memory.\n",
      "23/03/26 07:34:20 WARN MemoryStore: Not enough space to cache rdd_134_6 in memory! (computed 384.0 B so far)\n"
     ]
    },
    {
     "name": "stderr",
     "output_type": "stream",
     "text": [
      "[Stage 56:==============>                                          (5 + 8) / 20]\r"
     ]
    },
    {
     "name": "stdout",
     "output_type": "stream",
     "text": [
      "23/03/26 07:35:03 WARN MemoryStore: Not enough space to cache rdd_23_9 in memory! (computed 2046.8 MiB so far)\n",
      "23/03/26 07:35:03 WARN MemoryStore: Not enough space to cache rdd_23_11 in memory! (computed 1364.5 MiB so far)\n",
      "23/03/26 07:35:03 WARN MemoryStore: Not enough space to cache rdd_23_9 in memory! (computed 73.6 MiB so far)\n",
      "23/03/26 07:35:03 WARN MemoryStore: Not enough space to cache rdd_23_11 in memory! (computed 112.4 MiB so far)\n",
      "23/03/26 07:35:03 WARN MemoryStore: Not enough space to cache rdd_23_9 in memory! (computed 13.9 MiB so far)\n",
      "23/03/26 07:35:03 WARN MemoryStore: Not enough space to cache rdd_23_11 in memory! (computed 2.3 MiB so far)\n",
      "23/03/26 07:35:03 WARN MemoryStore: Failed to reserve initial memory threshold of 1024.0 KiB for computing block rdd_109_11 in memory.\n",
      "23/03/26 07:35:03 WARN MemoryStore: Not enough space to cache rdd_109_11 in memory! (computed 384.0 B so far)\n",
      "23/03/26 07:35:03 WARN MemoryStore: Failed to reserve initial memory threshold of 1024.0 KiB for computing block rdd_131_11 in memory.\n",
      "23/03/26 07:35:03 WARN MemoryStore: Not enough space to cache rdd_131_11 in memory! (computed 384.0 B so far)\n",
      "23/03/26 07:35:03 WARN BlockManager: Persisting block rdd_131_11 to disk instead.\n"
     ]
    },
    {
     "name": "stderr",
     "output_type": "stream",
     "text": [
      "[Stage 56:=================>                                       (6 + 8) / 20]\r"
     ]
    },
    {
     "name": "stdout",
     "output_type": "stream",
     "text": [
      "23/03/26 07:35:03 WARN MemoryStore: Not enough space to cache rdd_23_10 in memory! (computed 2046.8 MiB so far)\n",
      "23/03/26 07:35:03 WARN MemoryStore: Not enough space to cache rdd_23_12 in memory! (computed 380.1 MiB so far)\n",
      "23/03/26 07:35:04 WARN MemoryStore: Not enough space to cache rdd_23_13 in memory! (computed 47.4 MiB so far)\n",
      "23/03/26 07:35:04 WARN MemoryStore: Not enough space to cache rdd_23_12 in memory! (computed 73.6 MiB so far)\n",
      "23/03/26 07:35:04 WARN MemoryStore: Not enough space to cache rdd_23_12 in memory! (computed 2.3 MiB so far)\n",
      "23/03/26 07:35:04 WARN MemoryStore: Not enough space to cache rdd_23_13 in memory! (computed 3.5 MiB so far)\n",
      "23/03/26 07:35:04 WARN MemoryStore: Failed to reserve initial memory threshold of 1024.0 KiB for computing block rdd_109_12 in memory.\n",
      "23/03/26 07:35:04 WARN MemoryStore: Not enough space to cache rdd_109_12 in memory! (computed 384.0 B so far)\n",
      "23/03/26 07:35:04 WARN MemoryStore: Failed to reserve initial memory threshold of 1024.0 KiB for computing block rdd_23_13 in memory.\n",
      "23/03/26 07:35:04 WARN MemoryStore: Not enough space to cache rdd_23_13 in memory! (computed 384.0 B so far)\n",
      "23/03/26 07:35:04 WARN MemoryStore: Failed to reserve initial memory threshold of 1024.0 KiB for computing block rdd_131_12 in memory.\n",
      "23/03/26 07:35:04 WARN MemoryStore: Failed to reserve initial memory threshold of 1024.0 KiB for computing block rdd_109_13 in memory.\n",
      "23/03/26 07:35:04 WARN MemoryStore: Not enough space to cache rdd_109_13 in memory! (computed 384.0 B so far)\n",
      "23/03/26 07:35:04 WARN MemoryStore: Not enough space to cache rdd_131_12 in memory! (computed 384.0 B so far)\n",
      "23/03/26 07:35:04 WARN MemoryStore: Failed to reserve initial memory threshold of 1024.0 KiB for computing block rdd_131_13 in memory.\n",
      "23/03/26 07:35:04 WARN MemoryStore: Not enough space to cache rdd_131_13 in memory! (computed 384.0 B so far)\n",
      "23/03/26 07:35:04 WARN BlockManager: Persisting block rdd_131_13 to disk instead.\n",
      "23/03/26 07:35:04 WARN BlockManager: Persisting block rdd_131_12 to disk instead.\n",
      "23/03/26 07:35:04 WARN MemoryStore: Not enough space to cache rdd_109_9 in memory! (computed 13.0 MiB so far)\n",
      "23/03/26 07:35:04 WARN MemoryStore: Not enough space to cache rdd_23_10 in memory! (computed 47.4 MiB so far)\n",
      "23/03/26 07:35:04 WARN MemoryStore: Not enough space to cache rdd_23_10 in memory! (computed 13.9 MiB so far)\n",
      "23/03/26 07:35:04 WARN MemoryStore: Not enough space to cache rdd_131_9 in memory! (computed 1035.4 KiB so far)\n",
      "23/03/26 07:35:04 WARN BlockManager: Persisting block rdd_131_9 to disk instead.\n",
      "23/03/26 07:35:04 WARN MemoryStore: Not enough space to cache rdd_109_10 in memory! (computed 1663.4 KiB so far)\n",
      "23/03/26 07:35:04 WARN MemoryStore: Failed to reserve initial memory threshold of 1024.0 KiB for computing block rdd_131_10 in memory.\n",
      "23/03/26 07:35:04 WARN MemoryStore: Not enough space to cache rdd_131_10 in memory! (computed 384.0 B so far)\n",
      "23/03/26 07:35:04 WARN BlockManager: Persisting block rdd_131_10 to disk instead.\n"
     ]
    },
    {
     "name": "stderr",
     "output_type": "stream",
     "text": [
      "[Stage 56:===================>                                     (7 + 8) / 20]\r"
     ]
    },
    {
     "name": "stdout",
     "output_type": "stream",
     "text": [
      "23/03/26 07:35:05 WARN MemoryStore: Not enough space to cache rdd_23_8 in memory! (computed 3.0 GiB so far)\n"
     ]
    },
    {
     "name": "stderr",
     "output_type": "stream",
     "text": [
      "[Stage 56:======================>                                  (8 + 8) / 20]\r"
     ]
    },
    {
     "name": "stdout",
     "output_type": "stream",
     "text": [
      "23/03/26 07:35:06 WARN MemoryStore: Not enough space to cache rdd_23_8 in memory! (computed 112.4 MiB so far)\n",
      "23/03/26 07:35:06 WARN MemoryStore: Not enough space to cache rdd_23_14 in memory! (computed 168.6 MiB so far)\n",
      "23/03/26 07:35:06 WARN MemoryStore: Failed to reserve initial memory threshold of 1024.0 KiB for computing block rdd_23_14 in memory.\n",
      "23/03/26 07:35:06 WARN MemoryStore: Not enough space to cache rdd_23_14 in memory! (computed 384.0 B so far)\n",
      "23/03/26 07:35:06 WARN MemoryStore: Not enough space to cache rdd_23_8 in memory! (computed 2.3 MiB so far)\n",
      "23/03/26 07:35:06 WARN MemoryStore: Failed to reserve initial memory threshold of 1024.0 KiB for computing block rdd_109_8 in memory.\n",
      "23/03/26 07:35:06 WARN MemoryStore: Not enough space to cache rdd_109_8 in memory! (computed 384.0 B so far)\n",
      "23/03/26 07:35:06 WARN MemoryStore: Failed to reserve initial memory threshold of 1024.0 KiB for computing block rdd_23_14 in memory.\n",
      "23/03/26 07:35:06 WARN MemoryStore: Not enough space to cache rdd_23_14 in memory! (computed 384.0 B so far)\n",
      "23/03/26 07:35:06 WARN MemoryStore: Failed to reserve initial memory threshold of 1024.0 KiB for computing block rdd_131_8 in memory.\n",
      "23/03/26 07:35:06 WARN MemoryStore: Not enough space to cache rdd_131_8 in memory! (computed 384.0 B so far)\n",
      "23/03/26 07:35:06 WARN BlockManager: Persisting block rdd_131_8 to disk instead.\n",
      "23/03/26 07:35:06 WARN MemoryStore: Failed to reserve initial memory threshold of 1024.0 KiB for computing block rdd_109_14 in memory.\n",
      "23/03/26 07:35:06 WARN MemoryStore: Not enough space to cache rdd_109_14 in memory! (computed 384.0 B so far)\n",
      "23/03/26 07:35:06 WARN MemoryStore: Failed to reserve initial memory threshold of 1024.0 KiB for computing block rdd_131_14 in memory.\n",
      "23/03/26 07:35:06 WARN MemoryStore: Not enough space to cache rdd_131_14 in memory! (computed 384.0 B so far)\n",
      "23/03/26 07:35:06 WARN BlockManager: Persisting block rdd_131_14 to disk instead.\n",
      "23/03/26 07:35:06 WARN MemoryStore: Not enough space to cache rdd_23_15 in memory! (computed 112.4 MiB so far)\n",
      "23/03/26 07:35:06 WARN MemoryStore: Not enough space to cache rdd_23_15 in memory! (computed 2.3 MiB so far)\n",
      "23/03/26 07:35:06 WARN MemoryStore: Failed to reserve initial memory threshold of 1024.0 KiB for computing block rdd_23_15 in memory.\n",
      "23/03/26 07:35:06 WARN MemoryStore: Not enough space to cache rdd_23_15 in memory! (computed 384.0 B so far)\n",
      "23/03/26 07:35:06 WARN MemoryStore: Failed to reserve initial memory threshold of 1024.0 KiB for computing block rdd_109_15 in memory.\n",
      "23/03/26 07:35:06 WARN MemoryStore: Not enough space to cache rdd_109_15 in memory! (computed 384.0 B so far)\n",
      "23/03/26 07:35:06 WARN MemoryStore: Failed to reserve initial memory threshold of 1024.0 KiB for computing block rdd_131_15 in memory.\n",
      "23/03/26 07:35:06 WARN MemoryStore: Not enough space to cache rdd_131_15 in memory! (computed 384.0 B so far)\n",
      "23/03/26 07:35:06 WARN BlockManager: Persisting block rdd_131_15 to disk instead.\n",
      "23/03/26 07:35:20 WARN MemoryStore: Failed to reserve initial memory threshold of 1024.0 KiB for computing block rdd_131_13 in memory.\n",
      "23/03/26 07:35:20 WARN MemoryStore: Not enough space to cache rdd_131_13 in memory! (computed 384.0 B so far)\n",
      "23/03/26 07:35:20 WARN MemoryStore: Failed to reserve initial memory threshold of 1024.0 KiB for computing block rdd_134_13 in memory.\n",
      "23/03/26 07:35:20 WARN MemoryStore: Not enough space to cache rdd_134_13 in memory! (computed 384.0 B so far)\n",
      "23/03/26 07:35:20 WARN BlockManager: Persisting block rdd_134_13 to disk instead.\n",
      "23/03/26 07:35:22 WARN MemoryStore: Not enough space to cache rdd_131_12 in memory! (computed 3.7 MiB so far)\n",
      "23/03/26 07:35:22 WARN MemoryStore: Failed to reserve initial memory threshold of 1024.0 KiB for computing block rdd_134_12 in memory.\n",
      "23/03/26 07:35:22 WARN MemoryStore: Not enough space to cache rdd_134_12 in memory! (computed 384.0 B so far)\n",
      "23/03/26 07:35:22 WARN BlockManager: Persisting block rdd_134_12 to disk instead.\n",
      "23/03/26 07:35:24 WARN MemoryStore: Not enough space to cache rdd_131_14 in memory! (computed 65.8 MiB so far)\n",
      "23/03/26 07:35:25 WARN MemoryStore: Not enough space to cache rdd_134_14 in memory! (computed 10.8 MiB so far)\n",
      "23/03/26 07:35:25 WARN BlockManager: Persisting block rdd_134_14 to disk instead.\n",
      "23/03/26 07:35:35 WARN MemoryStore: Not enough space to cache rdd_131_11 in memory! (computed 65.8 MiB so far)\n",
      "23/03/26 07:35:36 WARN MemoryStore: Not enough space to cache rdd_131_10 in memory! (computed 43.9 MiB so far)\n",
      "23/03/26 07:35:37 WARN MemoryStore: Not enough space to cache rdd_131_9 in memory! (computed 65.8 MiB so far)\n",
      "23/03/26 07:35:38 WARN MemoryStore: Not enough space to cache rdd_134_13 in memory! (computed 16.2 MiB so far)\n",
      "23/03/26 07:35:38 WARN MemoryStore: Not enough space to cache rdd_131_15 in memory! (computed 19.5 MiB so far)\n",
      "23/03/26 07:35:38 WARN MemoryStore: Not enough space to cache rdd_134_9 in memory! (computed 10.8 MiB so far)\n",
      "23/03/26 07:35:38 WARN BlockManager: Persisting block rdd_134_9 to disk instead.\n",
      "23/03/26 07:35:39 WARN MemoryStore: Not enough space to cache rdd_131_8 in memory! (computed 65.8 MiB so far)\n",
      "23/03/26 07:35:40 WARN MemoryStore: Not enough space to cache rdd_134_12 in memory! (computed 24.3 MiB so far)\n",
      "23/03/26 07:35:40 WARN MemoryStore: Not enough space to cache rdd_134_14 in memory! (computed 43.2 MiB so far)\n",
      "23/03/26 07:36:02 WARN MemoryStore: Not enough space to cache rdd_134_8 in memory! (computed 172.8 MiB so far)\n",
      "23/03/26 07:36:02 WARN BlockManager: Persisting block rdd_134_8 to disk instead.\n"
     ]
    },
    {
     "name": "stderr",
     "output_type": "stream",
     "text": [
      "[Stage 56:=========================>                               (9 + 8) / 20]\r"
     ]
    },
    {
     "name": "stdout",
     "output_type": "stream",
     "text": [
      "23/03/26 07:36:03 WARN MemoryStore: Not enough space to cache rdd_23_16 in memory! (computed 168.6 MiB so far)\n",
      "23/03/26 07:36:03 WARN MemoryStore: Not enough space to cache rdd_23_16 in memory! (computed 1557.2 KiB so far)\n",
      "23/03/26 07:36:03 WARN MemoryStore: Failed to reserve initial memory threshold of 1024.0 KiB for computing block rdd_23_16 in memory.\n",
      "23/03/26 07:36:03 WARN MemoryStore: Not enough space to cache rdd_23_16 in memory! (computed 384.0 B so far)\n",
      "23/03/26 07:36:03 WARN MemoryStore: Failed to reserve initial memory threshold of 1024.0 KiB for computing block rdd_109_16 in memory.\n",
      "23/03/26 07:36:03 WARN MemoryStore: Not enough space to cache rdd_109_16 in memory! (computed 384.0 B so far)\n",
      "23/03/26 07:36:03 WARN MemoryStore: Failed to reserve initial memory threshold of 1024.0 KiB for computing block rdd_131_16 in memory.\n",
      "23/03/26 07:36:03 WARN MemoryStore: Not enough space to cache rdd_131_16 in memory! (computed 384.0 B so far)\n",
      "23/03/26 07:36:03 WARN BlockManager: Persisting block rdd_131_16 to disk instead.\n"
     ]
    },
    {
     "name": "stderr",
     "output_type": "stream",
     "text": [
      "[Stage 56:==============================>                         (11 + 8) / 20]\r"
     ]
    },
    {
     "name": "stdout",
     "output_type": "stream",
     "text": [
      "23/03/26 07:36:08 WARN MemoryStore: Not enough space to cache rdd_23_18 in memory! (computed 380.1 MiB so far)\n",
      "23/03/26 07:36:08 WARN MemoryStore: Not enough space to cache rdd_23_18 in memory! (computed 31.4 MiB so far)\n",
      "23/03/26 07:36:08 WARN MemoryStore: Not enough space to cache rdd_23_18 in memory! (computed 9.1 MiB so far)\n",
      "23/03/26 07:36:08 WARN MemoryStore: Not enough space to cache rdd_23_17 in memory! (computed 1364.5 MiB so far)\n",
      "23/03/26 07:36:08 WARN MemoryStore: Not enough space to cache rdd_109_18 in memory! (computed 3.7 MiB so far)\n",
      "23/03/26 07:36:08 WARN MemoryStore: Not enough space to cache rdd_23_17 in memory! (computed 1025.7 KiB so far)\n",
      "23/03/26 07:36:08 WARN MemoryStore: Failed to reserve initial memory threshold of 1024.0 KiB for computing block rdd_131_18 in memory.\n",
      "23/03/26 07:36:08 WARN MemoryStore: Not enough space to cache rdd_131_18 in memory! (computed 384.0 B so far)\n",
      "23/03/26 07:36:08 WARN BlockManager: Persisting block rdd_131_18 to disk instead.\n",
      "23/03/26 07:36:08 WARN MemoryStore: Failed to reserve initial memory threshold of 1024.0 KiB for computing block rdd_23_17 in memory.\n",
      "23/03/26 07:36:08 WARN MemoryStore: Not enough space to cache rdd_23_17 in memory! (computed 384.0 B so far)\n",
      "23/03/26 07:36:08 WARN MemoryStore: Failed to reserve initial memory threshold of 1024.0 KiB for computing block rdd_109_17 in memory.\n",
      "23/03/26 07:36:08 WARN MemoryStore: Not enough space to cache rdd_109_17 in memory! (computed 384.0 B so far)\n",
      "23/03/26 07:36:08 WARN MemoryStore: Failed to reserve initial memory threshold of 1024.0 KiB for computing block rdd_131_17 in memory.\n",
      "23/03/26 07:36:08 WARN MemoryStore: Not enough space to cache rdd_131_17 in memory! (computed 384.0 B so far)\n",
      "23/03/26 07:36:08 WARN BlockManager: Persisting block rdd_131_17 to disk instead.\n"
     ]
    },
    {
     "name": "stderr",
     "output_type": "stream",
     "text": [
      "[Stage 56:=======================================>                (14 + 6) / 20]\r"
     ]
    },
    {
     "name": "stdout",
     "output_type": "stream",
     "text": [
      "23/03/26 07:36:49 WARN MemoryStore: Not enough space to cache rdd_23_19 in memory! (computed 4.6 GiB so far)\n"
     ]
    },
    {
     "name": "stderr",
     "output_type": "stream",
     "text": [
      "[Stage 56:============================================>           (16 + 4) / 20]\r"
     ]
    },
    {
     "name": "stdout",
     "output_type": "stream",
     "text": [
      "23/03/26 07:37:03 WARN MemoryStore: Not enough space to cache rdd_23_19 in memory! (computed 4.6 GiB so far)\n",
      "23/03/26 07:37:03 WARN MemoryStore: Not enough space to cache rdd_23_19 in memory! (computed 13.9 MiB so far)\n",
      "23/03/26 07:37:03 WARN MemoryStore: Not enough space to cache rdd_109_19 in memory! (computed 3.7 MiB so far)\n",
      "23/03/26 07:37:03 WARN MemoryStore: Failed to reserve initial memory threshold of 1024.0 KiB for computing block rdd_131_19 in memory.\n",
      "23/03/26 07:37:03 WARN MemoryStore: Not enough space to cache rdd_131_19 in memory! (computed 384.0 B so far)\n",
      "23/03/26 07:37:03 WARN BlockManager: Persisting block rdd_131_19 to disk instead.\n"
     ]
    },
    {
     "name": "stderr",
     "output_type": "stream",
     "text": [
      "[Stage 58:>                                                        (0 + 8) / 20]\r"
     ]
    },
    {
     "name": "stdout",
     "output_type": "stream",
     "text": [
      "23/03/26 07:37:39 WARN MemoryStore: Not enough space to cache rdd_23_0 in memory! (computed 1364.5 MiB so far)\n",
      "23/03/26 07:37:39 WARN MemoryStore: Not enough space to cache rdd_23_6 in memory! (computed 1364.5 MiB so far)\n",
      "23/03/26 07:37:39 WARN MemoryStore: Not enough space to cache rdd_23_7 in memory! (computed 1364.5 MiB so far)\n",
      "23/03/26 07:37:39 WARN MemoryStore: Not enough space to cache rdd_23_3 in memory! (computed 1364.5 MiB so far)\n",
      "23/03/26 07:37:39 WARN MemoryStore: Not enough space to cache rdd_23_1 in memory! (computed 909.7 MiB so far)\n",
      "23/03/26 07:37:39 WARN MemoryStore: Not enough space to cache rdd_23_5 in memory! (computed 909.7 MiB so far)\n",
      "23/03/26 07:37:39 WARN MemoryStore: Not enough space to cache rdd_23_2 in memory! (computed 909.7 MiB so far)\n",
      "23/03/26 07:37:39 WARN MemoryStore: Not enough space to cache rdd_134_5 in memory! (computed 6.2 MiB so far)\n",
      "23/03/26 07:37:39 WARN MemoryStore: Not enough space to cache rdd_134_0 in memory! (computed 6.2 MiB so far)\n",
      "23/03/26 07:37:39 WARN MemoryStore: Not enough space to cache rdd_134_1 in memory! (computed 6.2 MiB so far)\n",
      "23/03/26 07:37:39 WARN MemoryStore: Not enough space to cache rdd_134_2 in memory! (computed 6.2 MiB so far)\n",
      "23/03/26 07:37:39 WARN MemoryStore: Not enough space to cache rdd_134_7 in memory! (computed 6.2 MiB so far)\n",
      "23/03/26 07:37:39 WARN MemoryStore: Not enough space to cache rdd_134_3 in memory! (computed 10.8 MiB so far)\n",
      "23/03/26 07:37:40 WARN MemoryStore: Not enough space to cache rdd_134_6 in memory! (computed 10.8 MiB so far)\n",
      "23/03/26 07:37:40 WARN MemoryStore: Not enough space to cache rdd_23_4 in memory! (computed 1364.5 MiB so far)\n"
     ]
    },
    {
     "name": "stderr",
     "output_type": "stream",
     "text": [
      "[Stage 58:===================>                                     (7 + 8) / 20]\r"
     ]
    },
    {
     "name": "stdout",
     "output_type": "stream",
     "text": [
      "23/03/26 07:38:26 WARN MemoryStore: Not enough space to cache rdd_23_9 in memory! (computed 2046.8 MiB so far)\n",
      "23/03/26 07:38:26 WARN MemoryStore: Not enough space to cache rdd_23_8 in memory! (computed 2046.8 MiB so far)\n",
      "23/03/26 07:38:26 WARN MemoryStore: Not enough space to cache rdd_23_11 in memory! (computed 1364.5 MiB so far)\n",
      "23/03/26 07:38:26 WARN MemoryStore: Not enough space to cache rdd_23_13 in memory! (computed 909.7 MiB so far)\n",
      "23/03/26 07:38:26 WARN MemoryStore: Not enough space to cache rdd_23_10 in memory! (computed 1364.5 MiB so far)\n",
      "23/03/26 07:38:26 WARN MemoryStore: Not enough space to cache rdd_23_12 in memory! (computed 909.7 MiB so far)\n",
      "23/03/26 07:38:26 WARN MemoryStore: Failed to reserve initial memory threshold of 1024.0 KiB for computing block rdd_134_11 in memory.\n",
      "23/03/26 07:38:26 WARN MemoryStore: Not enough space to cache rdd_134_11 in memory! (computed 384.0 B so far)\n",
      "23/03/26 07:38:26 WARN MemoryStore: Failed to reserve initial memory threshold of 1024.0 KiB for computing block rdd_134_9 in memory.\n",
      "23/03/26 07:38:26 WARN MemoryStore: Not enough space to cache rdd_134_9 in memory! (computed 384.0 B so far)\n"
     ]
    },
    {
     "name": "stderr",
     "output_type": "stream",
     "text": [
      "[Stage 58:======================>                                  (8 + 8) / 20]\r"
     ]
    },
    {
     "name": "stdout",
     "output_type": "stream",
     "text": [
      "23/03/26 07:38:27 WARN MemoryStore: Not enough space to cache rdd_23_14 in memory! (computed 909.7 MiB so far)\n",
      "23/03/26 07:38:27 WARN MemoryStore: Not enough space to cache rdd_23_15 in memory! (computed 112.4 MiB so far)\n",
      "23/03/26 07:38:27 WARN MemoryStore: Not enough space to cache rdd_134_8 in memory! (computed 10.8 MiB so far)\n",
      "23/03/26 07:38:27 WARN MemoryStore: Not enough space to cache rdd_134_12 in memory! (computed 10.8 MiB so far)\n",
      "23/03/26 07:38:28 WARN MemoryStore: Not enough space to cache rdd_134_15 in memory! (computed 2.7 MiB so far)\n",
      "23/03/26 07:38:28 WARN MemoryStore: Not enough space to cache rdd_134_14 in memory! (computed 10.8 MiB so far)\n",
      "23/03/26 07:38:28 WARN MemoryStore: Not enough space to cache rdd_134_13 in memory! (computed 10.8 MiB so far)\n",
      "23/03/26 07:38:28 WARN MemoryStore: Not enough space to cache rdd_134_10 in memory! (computed 24.3 MiB so far)\n"
     ]
    },
    {
     "name": "stderr",
     "output_type": "stream",
     "text": [
      "[Stage 58:==============================>                         (11 + 8) / 20]\r"
     ]
    },
    {
     "name": "stdout",
     "output_type": "stream",
     "text": [
      "23/03/26 07:38:58 WARN MemoryStore: Not enough space to cache rdd_23_16 in memory! (computed 3.0 GiB so far)\n",
      "23/03/26 07:38:58 WARN MemoryStore: Not enough space to cache rdd_23_17 in memory! (computed 3.0 GiB so far)\n",
      "23/03/26 07:39:00 WARN MemoryStore: Not enough space to cache rdd_23_18 in memory! (computed 3.0 GiB so far)\n",
      "23/03/26 07:39:03 WARN MemoryStore: Not enough space to cache rdd_134_16 in memory! (computed 172.8 MiB so far)\n",
      "23/03/26 07:39:03 WARN MemoryStore: Not enough space to cache rdd_134_18 in memory! (computed 99.2 MiB so far)\n"
     ]
    },
    {
     "name": "stderr",
     "output_type": "stream",
     "text": [
      "[Stage 58:============================================>           (16 + 4) / 20]\r"
     ]
    },
    {
     "name": "stdout",
     "output_type": "stream",
     "text": [
      "23/03/26 07:39:18 WARN MemoryStore: Not enough space to cache rdd_23_19 in memory! (computed 6.9 GiB so far)\n"
     ]
    },
    {
     "name": "stderr",
     "output_type": "stream",
     "text": [
      "[Stage 60:>                                                        (0 + 8) / 20]\r"
     ]
    },
    {
     "name": "stdout",
     "output_type": "stream",
     "text": [
      "23/03/26 07:39:31 WARN MemoryStore: Not enough space to cache rdd_23_7 in memory! (computed 909.7 MiB so far)\n",
      "23/03/26 07:39:31 WARN MemoryStore: Not enough space to cache rdd_23_3 in memory! (computed 909.7 MiB so far)\n",
      "23/03/26 07:39:31 WARN MemoryStore: Not enough space to cache rdd_23_6 in memory! (computed 909.7 MiB so far)\n",
      "23/03/26 07:39:31 WARN MemoryStore: Not enough space to cache rdd_134_3 in memory! (computed 16.2 MiB so far)\n",
      "23/03/26 07:39:31 WARN MemoryStore: Not enough space to cache rdd_134_7 in memory! (computed 16.2 MiB so far)\n",
      "23/03/26 07:39:31 WARN MemoryStore: Not enough space to cache rdd_23_0 in memory! (computed 1364.5 MiB so far)\n",
      "23/03/26 07:39:31 WARN MemoryStore: Not enough space to cache rdd_134_6 in memory! (computed 16.2 MiB so far)\n",
      "23/03/26 07:39:31 WARN MemoryStore: Not enough space to cache rdd_134_0 in memory! (computed 1024.6 KiB so far)\n",
      "23/03/26 07:39:31 WARN MemoryStore: Not enough space to cache rdd_23_1 in memory! (computed 1364.5 MiB so far)\n",
      "23/03/26 07:39:31 WARN MemoryStore: Failed to reserve initial memory threshold of 1024.0 KiB for computing block rdd_134_1 in memory.\n",
      "23/03/26 07:39:31 WARN MemoryStore: Not enough space to cache rdd_134_1 in memory! (computed 384.0 B so far)\n",
      "23/03/26 07:39:31 WARN MemoryStore: Not enough space to cache rdd_23_4 in memory! (computed 1364.5 MiB so far)\n",
      "23/03/26 07:39:31 WARN MemoryStore: Failed to reserve initial memory threshold of 1024.0 KiB for computing block rdd_134_4 in memory.\n",
      "23/03/26 07:39:31 WARN MemoryStore: Not enough space to cache rdd_134_4 in memory! (computed 384.0 B so far)\n",
      "23/03/26 07:39:31 WARN MemoryStore: Not enough space to cache rdd_23_5 in memory! (computed 1364.5 MiB so far)\n",
      "23/03/26 07:39:31 WARN MemoryStore: Failed to reserve initial memory threshold of 1024.0 KiB for computing block rdd_134_5 in memory.\n",
      "23/03/26 07:39:31 WARN MemoryStore: Not enough space to cache rdd_134_5 in memory! (computed 384.0 B so far)\n",
      "23/03/26 07:39:32 WARN MemoryStore: Not enough space to cache rdd_23_2 in memory! (computed 1364.5 MiB so far)\n",
      "23/03/26 07:39:32 WARN MemoryStore: Not enough space to cache rdd_134_2 in memory! (computed 1024.6 KiB so far)\n"
     ]
    },
    {
     "name": "stderr",
     "output_type": "stream",
     "text": [
      "[Stage 60:======================>                                  (8 + 8) / 20]\r"
     ]
    },
    {
     "name": "stdout",
     "output_type": "stream",
     "text": [
      "23/03/26 07:40:17 WARN MemoryStore: Not enough space to cache rdd_23_10 in memory! (computed 1364.5 MiB so far)\n",
      "23/03/26 07:40:18 WARN MemoryStore: Not enough space to cache rdd_23_11 in memory! (computed 1364.5 MiB so far)\n",
      "23/03/26 07:40:18 WARN MemoryStore: Not enough space to cache rdd_23_9 in memory! (computed 1364.5 MiB so far)\n",
      "23/03/26 07:40:18 WARN MemoryStore: Not enough space to cache rdd_23_13 in memory! (computed 909.7 MiB so far)\n",
      "23/03/26 07:40:18 WARN MemoryStore: Not enough space to cache rdd_23_8 in memory! (computed 2046.8 MiB so far)\n",
      "23/03/26 07:40:18 WARN MemoryStore: Not enough space to cache rdd_23_15 in memory! (computed 252.9 MiB so far)\n",
      "23/03/26 07:40:18 WARN MemoryStore: Not enough space to cache rdd_23_12 in memory! (computed 1364.5 MiB so far)\n",
      "23/03/26 07:40:18 WARN MemoryStore: Not enough space to cache rdd_23_14 in memory! (computed 909.7 MiB so far)\n",
      "23/03/26 07:40:18 WARN MemoryStore: Not enough space to cache rdd_134_8 in memory! (computed 10.8 MiB so far)\n",
      "23/03/26 07:40:18 WARN MemoryStore: Not enough space to cache rdd_134_9 in memory! (computed 16.2 MiB so far)\n",
      "23/03/26 07:40:18 WARN MemoryStore: Not enough space to cache rdd_134_15 in memory! (computed 10.8 MiB so far)\n",
      "23/03/26 07:40:18 WARN MemoryStore: Not enough space to cache rdd_134_12 in memory! (computed 16.2 MiB so far)\n",
      "23/03/26 07:40:18 WARN MemoryStore: Not enough space to cache rdd_134_13 in memory! (computed 16.2 MiB so far)\n",
      "23/03/26 07:40:19 WARN MemoryStore: Not enough space to cache rdd_134_11 in memory! (computed 24.3 MiB so far)\n",
      "23/03/26 07:40:19 WARN MemoryStore: Not enough space to cache rdd_134_14 in memory! (computed 6.2 MiB so far)\n",
      "23/03/26 07:40:19 WARN MemoryStore: Not enough space to cache rdd_134_10 in memory! (computed 24.3 MiB so far)\n"
     ]
    },
    {
     "name": "stderr",
     "output_type": "stream",
     "text": [
      "[Stage 60:==============================>                         (11 + 8) / 20]\r"
     ]
    },
    {
     "name": "stdout",
     "output_type": "stream",
     "text": [
      "23/03/26 07:40:48 WARN MemoryStore: Not enough space to cache rdd_23_16 in memory! (computed 3.0 GiB so far)\n",
      "23/03/26 07:40:49 WARN MemoryStore: Not enough space to cache rdd_23_18 in memory! (computed 3.0 GiB so far)\n",
      "23/03/26 07:40:49 WARN MemoryStore: Not enough space to cache rdd_23_17 in memory! (computed 3.0 GiB so far)\n",
      "23/03/26 07:40:52 WARN MemoryStore: Not enough space to cache rdd_134_17 in memory! (computed 99.2 MiB so far)\n",
      "23/03/26 07:40:53 WARN MemoryStore: Not enough space to cache rdd_134_16 in memory! (computed 172.8 MiB so far)\n"
     ]
    },
    {
     "name": "stderr",
     "output_type": "stream",
     "text": [
      "[Stage 60:===============================================>        (17 + 3) / 20]\r"
     ]
    },
    {
     "name": "stdout",
     "output_type": "stream",
     "text": [
      "23/03/26 07:41:11 WARN MemoryStore: Not enough space to cache rdd_23_19 in memory! (computed 6.9 GiB so far)\n"
     ]
    },
    {
     "name": "stderr",
     "output_type": "stream",
     "text": [
      "[Stage 62:>                                                        (0 + 8) / 20]\r"
     ]
    },
    {
     "name": "stdout",
     "output_type": "stream",
     "text": [
      "23/03/26 07:41:25 WARN MemoryStore: Not enough space to cache rdd_23_3 in memory! (computed 909.7 MiB so far)\n",
      "23/03/26 07:41:25 WARN MemoryStore: Not enough space to cache rdd_23_7 in memory! (computed 909.7 MiB so far)\n",
      "23/03/26 07:41:25 WARN MemoryStore: Not enough space to cache rdd_23_4 in memory! (computed 909.7 MiB so far)\n",
      "23/03/26 07:41:25 WARN MemoryStore: Not enough space to cache rdd_134_4 in memory! (computed 16.2 MiB so far)\n",
      "23/03/26 07:41:25 WARN MemoryStore: Not enough space to cache rdd_23_0 in memory! (computed 1364.5 MiB so far)\n",
      "23/03/26 07:41:25 WARN MemoryStore: Not enough space to cache rdd_23_1 in memory! (computed 1364.5 MiB so far)\n",
      "23/03/26 07:41:25 WARN MemoryStore: Failed to reserve initial memory threshold of 1024.0 KiB for computing block rdd_134_1 in memory.\n",
      "23/03/26 07:41:25 WARN MemoryStore: Not enough space to cache rdd_134_1 in memory! (computed 384.0 B so far)\n",
      "23/03/26 07:41:25 WARN MemoryStore: Not enough space to cache rdd_134_0 in memory! (computed 1024.6 KiB so far)\n",
      "23/03/26 07:41:25 WARN MemoryStore: Not enough space to cache rdd_134_3 in memory! (computed 16.2 MiB so far)\n",
      "23/03/26 07:41:25 WARN MemoryStore: Not enough space to cache rdd_134_7 in memory! (computed 16.2 MiB so far)\n",
      "23/03/26 07:41:25 WARN MemoryStore: Not enough space to cache rdd_23_6 in memory! (computed 1364.5 MiB so far)\n",
      "23/03/26 07:41:25 WARN MemoryStore: Not enough space to cache rdd_134_6 in memory! (computed 1024.6 KiB so far)\n",
      "23/03/26 07:41:25 WARN MemoryStore: Not enough space to cache rdd_23_2 in memory! (computed 1364.5 MiB so far)\n",
      "23/03/26 07:41:25 WARN MemoryStore: Failed to reserve initial memory threshold of 1024.0 KiB for computing block rdd_134_2 in memory.\n",
      "23/03/26 07:41:25 WARN MemoryStore: Not enough space to cache rdd_134_2 in memory! (computed 384.0 B so far)\n",
      "23/03/26 07:41:26 WARN MemoryStore: Not enough space to cache rdd_23_5 in memory! (computed 1364.5 MiB so far)\n",
      "23/03/26 07:41:26 WARN MemoryStore: Not enough space to cache rdd_134_5 in memory! (computed 1024.6 KiB so far)\n"
     ]
    },
    {
     "name": "stderr",
     "output_type": "stream",
     "text": [
      "[Stage 62:======================>                                  (8 + 8) / 20]\r"
     ]
    },
    {
     "name": "stdout",
     "output_type": "stream",
     "text": [
      "23/03/26 07:42:11 WARN MemoryStore: Not enough space to cache rdd_23_9 in memory! (computed 1364.5 MiB so far)\n",
      "23/03/26 07:42:11 WARN MemoryStore: Not enough space to cache rdd_23_11 in memory! (computed 1364.5 MiB so far)\n",
      "23/03/26 07:42:11 WARN MemoryStore: Not enough space to cache rdd_23_15 in memory! (computed 252.9 MiB so far)\n",
      "23/03/26 07:42:11 WARN MemoryStore: Not enough space to cache rdd_23_13 in memory! (computed 909.7 MiB so far)\n",
      "23/03/26 07:42:11 WARN MemoryStore: Not enough space to cache rdd_23_10 in memory! (computed 1364.5 MiB so far)\n",
      "23/03/26 07:42:12 WARN MemoryStore: Not enough space to cache rdd_23_12 in memory! (computed 1364.5 MiB so far)\n",
      "23/03/26 07:42:12 WARN MemoryStore: Not enough space to cache rdd_23_14 in memory! (computed 909.7 MiB so far)\n",
      "23/03/26 07:42:12 WARN MemoryStore: Not enough space to cache rdd_134_13 in memory! (computed 10.8 MiB so far)\n",
      "23/03/26 07:42:12 WARN MemoryStore: Not enough space to cache rdd_134_15 in memory! (computed 16.2 MiB so far)\n",
      "23/03/26 07:42:12 WARN MemoryStore: Not enough space to cache rdd_134_12 in memory! (computed 10.8 MiB so far)\n",
      "23/03/26 07:42:12 WARN MemoryStore: Not enough space to cache rdd_23_8 in memory! (computed 2046.8 MiB so far)\n",
      "23/03/26 07:42:12 WARN MemoryStore: Not enough space to cache rdd_134_14 in memory! (computed 10.8 MiB so far)\n",
      "23/03/26 07:42:12 WARN MemoryStore: Not enough space to cache rdd_134_11 in memory! (computed 24.3 MiB so far)\n",
      "23/03/26 07:42:12 WARN MemoryStore: Not enough space to cache rdd_134_10 in memory! (computed 16.2 MiB so far)\n",
      "23/03/26 07:42:12 WARN MemoryStore: Not enough space to cache rdd_134_8 in memory! (computed 2.7 MiB so far)\n",
      "23/03/26 07:42:12 WARN MemoryStore: Not enough space to cache rdd_134_9 in memory! (computed 43.2 MiB so far)\n"
     ]
    },
    {
     "name": "stderr",
     "output_type": "stream",
     "text": [
      "[Stage 62:==============================>                         (11 + 8) / 20]\r"
     ]
    },
    {
     "name": "stdout",
     "output_type": "stream",
     "text": [
      "23/03/26 07:42:41 WARN MemoryStore: Not enough space to cache rdd_23_16 in memory! (computed 3.0 GiB so far)\n",
      "23/03/26 07:42:42 WARN MemoryStore: Not enough space to cache rdd_23_18 in memory! (computed 3.0 GiB so far)\n",
      "23/03/26 07:42:42 WARN MemoryStore: Not enough space to cache rdd_23_17 in memory! (computed 3.0 GiB so far)\n",
      "23/03/26 07:42:45 WARN MemoryStore: Not enough space to cache rdd_134_18 in memory! (computed 99.2 MiB so far)\n",
      "23/03/26 07:42:46 WARN MemoryStore: Not enough space to cache rdd_134_16 in memory! (computed 172.8 MiB so far)\n"
     ]
    },
    {
     "name": "stderr",
     "output_type": "stream",
     "text": [
      "[Stage 62:============================================>           (16 + 4) / 20]\r"
     ]
    },
    {
     "name": "stdout",
     "output_type": "stream",
     "text": [
      "23/03/26 07:43:04 WARN MemoryStore: Not enough space to cache rdd_23_19 in memory! (computed 6.9 GiB so far)\n"
     ]
    },
    {
     "name": "stderr",
     "output_type": "stream",
     "text": [
      "[Stage 64:>                                                        (0 + 8) / 20]\r"
     ]
    },
    {
     "name": "stdout",
     "output_type": "stream",
     "text": [
      "23/03/26 07:43:16 WARN MemoryStore: Not enough space to cache rdd_23_2 in memory! (computed 909.7 MiB so far)\n",
      "23/03/26 07:43:16 WARN MemoryStore: Not enough space to cache rdd_23_5 in memory! (computed 909.7 MiB so far)\n",
      "23/03/26 07:43:16 WARN MemoryStore: Not enough space to cache rdd_23_4 in memory! (computed 909.7 MiB so far)\n",
      "23/03/26 07:43:17 WARN MemoryStore: Not enough space to cache rdd_23_6 in memory! (computed 1364.5 MiB so far)\n",
      "23/03/26 07:43:17 WARN MemoryStore: Not enough space to cache rdd_134_6 in memory! (computed 1024.6 KiB so far)\n",
      "23/03/26 07:43:17 WARN MemoryStore: Not enough space to cache rdd_134_5 in memory! (computed 16.2 MiB so far)\n",
      "23/03/26 07:43:17 WARN MemoryStore: Not enough space to cache rdd_134_4 in memory! (computed 16.2 MiB so far)\n",
      "23/03/26 07:43:17 WARN MemoryStore: Not enough space to cache rdd_134_2 in memory! (computed 16.2 MiB so far)\n",
      "23/03/26 07:43:17 WARN MemoryStore: Not enough space to cache rdd_23_0 in memory! (computed 1364.5 MiB so far)\n",
      "23/03/26 07:43:17 WARN MemoryStore: Not enough space to cache rdd_134_0 in memory! (computed 1024.6 KiB so far)\n",
      "23/03/26 07:43:17 WARN MemoryStore: Not enough space to cache rdd_23_7 in memory! (computed 1364.5 MiB so far)\n",
      "23/03/26 07:43:17 WARN MemoryStore: Not enough space to cache rdd_23_1 in memory! (computed 1364.5 MiB so far)\n",
      "23/03/26 07:43:17 WARN MemoryStore: Failed to reserve initial memory threshold of 1024.0 KiB for computing block rdd_134_1 in memory.\n",
      "23/03/26 07:43:17 WARN MemoryStore: Not enough space to cache rdd_134_1 in memory! (computed 384.0 B so far)\n",
      "23/03/26 07:43:17 WARN MemoryStore: Not enough space to cache rdd_134_7 in memory! (computed 1024.6 KiB so far)\n",
      "23/03/26 07:43:17 WARN MemoryStore: Not enough space to cache rdd_23_3 in memory! (computed 1364.5 MiB so far)\n",
      "23/03/26 07:43:17 WARN MemoryStore: Not enough space to cache rdd_134_3 in memory! (computed 1024.6 KiB so far)\n"
     ]
    },
    {
     "name": "stderr",
     "output_type": "stream",
     "text": [
      "[Stage 64:======================>                                  (8 + 8) / 20]\r"
     ]
    },
    {
     "name": "stdout",
     "output_type": "stream",
     "text": [
      "23/03/26 07:44:03 WARN MemoryStore: Not enough space to cache rdd_23_14 in memory! (computed 380.1 MiB so far)\n",
      "23/03/26 07:44:03 WARN MemoryStore: Not enough space to cache rdd_23_13 in memory! (computed 589.3 MiB so far)\n",
      "23/03/26 07:44:03 WARN MemoryStore: Not enough space to cache rdd_23_15 in memory! (computed 380.1 MiB so far)\n",
      "23/03/26 07:44:03 WARN MemoryStore: Not enough space to cache rdd_134_14 in memory! (computed 4.0 MiB so far)\n",
      "23/03/26 07:44:03 WARN MemoryStore: Not enough space to cache rdd_134_13 in memory! (computed 2.7 MiB so far)\n",
      "23/03/26 07:44:03 WARN MemoryStore: Not enough space to cache rdd_23_10 in memory! (computed 1364.5 MiB so far)\n",
      "23/03/26 07:44:03 WARN MemoryStore: Failed to reserve initial memory threshold of 1024.0 KiB for computing block rdd_134_10 in memory.\n",
      "23/03/26 07:44:03 WARN MemoryStore: Not enough space to cache rdd_134_10 in memory! (computed 384.0 B so far)\n",
      "23/03/26 07:44:03 WARN MemoryStore: Not enough space to cache rdd_134_15 in memory! (computed 2.7 MiB so far)\n",
      "23/03/26 07:44:03 WARN MemoryStore: Not enough space to cache rdd_23_8 in memory! (computed 2046.8 MiB so far)\n",
      "23/03/26 07:44:04 WARN MemoryStore: Not enough space to cache rdd_23_11 in memory! (computed 1364.5 MiB so far)\n",
      "23/03/26 07:44:04 WARN MemoryStore: Failed to reserve initial memory threshold of 1024.0 KiB for computing block rdd_134_11 in memory.\n",
      "23/03/26 07:44:04 WARN MemoryStore: Not enough space to cache rdd_134_11 in memory! (computed 384.0 B so far)\n",
      "23/03/26 07:44:04 WARN MemoryStore: Not enough space to cache rdd_134_8 in memory! (computed 6.2 MiB so far)\n",
      "23/03/26 07:44:05 WARN MemoryStore: Not enough space to cache rdd_23_9 in memory! (computed 2046.8 MiB so far)\n",
      "23/03/26 07:44:06 WARN MemoryStore: Not enough space to cache rdd_23_12 in memory! (computed 2046.8 MiB so far)\n"
     ]
    },
    {
     "name": "stderr",
     "output_type": "stream",
     "text": [
      "[Stage 64:==============================>                         (11 + 8) / 20]\r"
     ]
    },
    {
     "name": "stdout",
     "output_type": "stream",
     "text": [
      "23/03/26 07:44:35 WARN MemoryStore: Not enough space to cache rdd_23_16 in memory! (computed 3.0 GiB so far)\n",
      "23/03/26 07:44:35 WARN MemoryStore: Not enough space to cache rdd_134_16 in memory! (computed 24.3 MiB so far)\n",
      "23/03/26 07:44:36 WARN MemoryStore: Not enough space to cache rdd_23_17 in memory! (computed 3.0 GiB so far)\n",
      "23/03/26 07:44:36 WARN MemoryStore: Not enough space to cache rdd_134_17 in memory! (computed 10.8 MiB so far)\n",
      "23/03/26 07:44:36 WARN MemoryStore: Not enough space to cache rdd_23_18 in memory! (computed 3.0 GiB so far)\n",
      "23/03/26 07:44:36 WARN MemoryStore: Not enough space to cache rdd_134_18 in memory! (computed 2.7 MiB so far)\n"
     ]
    },
    {
     "name": "stderr",
     "output_type": "stream",
     "text": [
      "[Stage 64:============================================>           (16 + 4) / 20]\r"
     ]
    },
    {
     "name": "stdout",
     "output_type": "stream",
     "text": [
      "23/03/26 07:44:57 WARN MemoryStore: Not enough space to cache rdd_23_19 in memory! (computed 6.9 GiB so far)\n"
     ]
    },
    {
     "name": "stderr",
     "output_type": "stream",
     "text": [
      "[Stage 66:>                                                        (0 + 8) / 20]\r"
     ]
    },
    {
     "name": "stdout",
     "output_type": "stream",
     "text": [
      "23/03/26 07:45:09 WARN MemoryStore: Not enough space to cache rdd_23_0 in memory! (computed 909.7 MiB so far)\n",
      "23/03/26 07:45:09 WARN MemoryStore: Not enough space to cache rdd_23_6 in memory! (computed 909.7 MiB so far)\n",
      "23/03/26 07:45:09 WARN MemoryStore: Not enough space to cache rdd_23_1 in memory! (computed 909.7 MiB so far)\n",
      "23/03/26 07:45:09 WARN MemoryStore: Not enough space to cache rdd_23_6 in memory! (computed 47.4 MiB so far)\n",
      "23/03/26 07:45:09 WARN MemoryStore: Not enough space to cache rdd_23_1 in memory! (computed 13.9 MiB so far)\n",
      "23/03/26 07:45:09 WARN MemoryStore: Not enough space to cache rdd_23_6 in memory! (computed 2.3 MiB so far)\n",
      "23/03/26 07:45:09 WARN MemoryStore: Failed to reserve initial memory threshold of 1024.0 KiB for computing block rdd_131_6 in memory.\n",
      "23/03/26 07:45:09 WARN MemoryStore: Not enough space to cache rdd_131_6 in memory! (computed 384.0 B so far)\n",
      "23/03/26 07:45:09 WARN MemoryStore: Failed to reserve initial memory threshold of 1024.0 KiB for computing block rdd_153_6 in memory.\n",
      "23/03/26 07:45:09 WARN MemoryStore: Not enough space to cache rdd_153_6 in memory! (computed 384.0 B so far)\n",
      "23/03/26 07:45:09 WARN BlockManager: Persisting block rdd_153_6 to disk instead.\n",
      "23/03/26 07:45:09 WARN MemoryStore: Not enough space to cache rdd_23_1 in memory! (computed 3.5 MiB so far)\n",
      "23/03/26 07:45:09 WARN MemoryStore: Not enough space to cache rdd_23_0 in memory! (computed 112.4 MiB so far)\n",
      "23/03/26 07:45:09 WARN MemoryStore: Failed to reserve initial memory threshold of 1024.0 KiB for computing block rdd_23_0 in memory.\n",
      "23/03/26 07:45:09 WARN MemoryStore: Not enough space to cache rdd_23_0 in memory! (computed 384.0 B so far)\n",
      "23/03/26 07:45:09 WARN MemoryStore: Failed to reserve initial memory threshold of 1024.0 KiB for computing block rdd_131_0 in memory.\n",
      "23/03/26 07:45:09 WARN MemoryStore: Not enough space to cache rdd_131_0 in memory! (computed 384.0 B so far)\n",
      "23/03/26 07:45:09 WARN MemoryStore: Failed to reserve initial memory threshold of 1024.0 KiB for computing block rdd_153_0 in memory.\n",
      "23/03/26 07:45:09 WARN MemoryStore: Not enough space to cache rdd_153_0 in memory! (computed 384.0 B so far)\n",
      "23/03/26 07:45:09 WARN BlockManager: Persisting block rdd_153_0 to disk instead.\n",
      "23/03/26 07:45:09 WARN MemoryStore: Not enough space to cache rdd_131_1 in memory! (computed 1035.4 KiB so far)\n",
      "23/03/26 07:45:09 WARN MemoryStore: Failed to reserve initial memory threshold of 1024.0 KiB for computing block rdd_153_1 in memory.\n",
      "23/03/26 07:45:09 WARN MemoryStore: Not enough space to cache rdd_153_1 in memory! (computed 384.0 B so far)\n",
      "23/03/26 07:45:09 WARN BlockManager: Persisting block rdd_153_1 to disk instead.\n",
      "23/03/26 07:45:10 WARN MemoryStore: Not enough space to cache rdd_23_7 in memory! (computed 1364.5 MiB so far)\n",
      "23/03/26 07:45:10 WARN MemoryStore: Not enough space to cache rdd_23_7 in memory! (computed 3.5 MiB so far)\n",
      "23/03/26 07:45:10 WARN MemoryStore: Not enough space to cache rdd_23_7 in memory! (computed 1025.7 KiB so far)\n",
      "23/03/26 07:45:10 WARN MemoryStore: Failed to reserve initial memory threshold of 1024.0 KiB for computing block rdd_131_7 in memory.\n",
      "23/03/26 07:45:10 WARN MemoryStore: Not enough space to cache rdd_131_7 in memory! (computed 384.0 B so far)\n",
      "23/03/26 07:45:10 WARN MemoryStore: Failed to reserve initial memory threshold of 1024.0 KiB for computing block rdd_153_7 in memory.\n",
      "23/03/26 07:45:10 WARN MemoryStore: Not enough space to cache rdd_153_7 in memory! (computed 384.0 B so far)\n",
      "23/03/26 07:45:10 WARN BlockManager: Persisting block rdd_153_7 to disk instead.\n",
      "23/03/26 07:45:10 WARN MemoryStore: Not enough space to cache rdd_23_2 in memory! (computed 1364.5 MiB so far)\n",
      "23/03/26 07:45:10 WARN MemoryStore: Not enough space to cache rdd_23_2 in memory! (computed 1025.7 KiB so far)\n",
      "23/03/26 07:45:10 WARN MemoryStore: Failed to reserve initial memory threshold of 1024.0 KiB for computing block rdd_23_2 in memory.\n",
      "23/03/26 07:45:10 WARN MemoryStore: Not enough space to cache rdd_23_2 in memory! (computed 384.0 B so far)\n",
      "23/03/26 07:45:10 WARN MemoryStore: Failed to reserve initial memory threshold of 1024.0 KiB for computing block rdd_131_2 in memory.\n",
      "23/03/26 07:45:10 WARN MemoryStore: Not enough space to cache rdd_131_2 in memory! (computed 384.0 B so far)\n",
      "23/03/26 07:45:10 WARN MemoryStore: Failed to reserve initial memory threshold of 1024.0 KiB for computing block rdd_153_2 in memory.\n",
      "23/03/26 07:45:10 WARN MemoryStore: Not enough space to cache rdd_153_2 in memory! (computed 384.0 B so far)\n",
      "23/03/26 07:45:10 WARN BlockManager: Persisting block rdd_153_2 to disk instead.\n",
      "23/03/26 07:45:10 WARN MemoryStore: Not enough space to cache rdd_23_4 in memory! (computed 1364.5 MiB so far)\n",
      "23/03/26 07:45:10 WARN MemoryStore: Failed to reserve initial memory threshold of 1024.0 KiB for computing block rdd_23_4 in memory.\n",
      "23/03/26 07:45:10 WARN MemoryStore: Not enough space to cache rdd_23_4 in memory! (computed 384.0 B so far)\n",
      "23/03/26 07:45:10 WARN MemoryStore: Failed to reserve initial memory threshold of 1024.0 KiB for computing block rdd_23_4 in memory.\n",
      "23/03/26 07:45:10 WARN MemoryStore: Not enough space to cache rdd_23_4 in memory! (computed 384.0 B so far)\n",
      "23/03/26 07:45:10 WARN MemoryStore: Failed to reserve initial memory threshold of 1024.0 KiB for computing block rdd_131_4 in memory.\n",
      "23/03/26 07:45:10 WARN MemoryStore: Not enough space to cache rdd_131_4 in memory! (computed 384.0 B so far)\n",
      "23/03/26 07:45:10 WARN MemoryStore: Failed to reserve initial memory threshold of 1024.0 KiB for computing block rdd_153_4 in memory.\n",
      "23/03/26 07:45:10 WARN MemoryStore: Not enough space to cache rdd_153_4 in memory! (computed 384.0 B so far)\n",
      "23/03/26 07:45:10 WARN BlockManager: Persisting block rdd_153_4 to disk instead.\n",
      "23/03/26 07:45:10 WARN MemoryStore: Not enough space to cache rdd_23_5 in memory! (computed 1364.5 MiB so far)\n",
      "23/03/26 07:45:10 WARN MemoryStore: Failed to reserve initial memory threshold of 1024.0 KiB for computing block rdd_23_5 in memory.\n",
      "23/03/26 07:45:10 WARN MemoryStore: Not enough space to cache rdd_23_5 in memory! (computed 384.0 B so far)\n",
      "23/03/26 07:45:10 WARN MemoryStore: Failed to reserve initial memory threshold of 1024.0 KiB for computing block rdd_23_5 in memory.\n",
      "23/03/26 07:45:10 WARN MemoryStore: Not enough space to cache rdd_23_5 in memory! (computed 384.0 B so far)\n",
      "23/03/26 07:45:10 WARN MemoryStore: Failed to reserve initial memory threshold of 1024.0 KiB for computing block rdd_131_5 in memory.\n",
      "23/03/26 07:45:10 WARN MemoryStore: Not enough space to cache rdd_131_5 in memory! (computed 384.0 B so far)\n",
      "23/03/26 07:45:10 WARN MemoryStore: Failed to reserve initial memory threshold of 1024.0 KiB for computing block rdd_153_5 in memory.\n",
      "23/03/26 07:45:10 WARN MemoryStore: Not enough space to cache rdd_153_5 in memory! (computed 384.0 B so far)\n",
      "23/03/26 07:45:10 WARN BlockManager: Persisting block rdd_153_5 to disk instead.\n",
      "23/03/26 07:45:10 WARN MemoryStore: Not enough space to cache rdd_23_3 in memory! (computed 1364.5 MiB so far)\n",
      "23/03/26 07:45:10 WARN MemoryStore: Failed to reserve initial memory threshold of 1024.0 KiB for computing block rdd_23_3 in memory.\n",
      "23/03/26 07:45:10 WARN MemoryStore: Not enough space to cache rdd_23_3 in memory! (computed 384.0 B so far)\n",
      "23/03/26 07:45:10 WARN MemoryStore: Failed to reserve initial memory threshold of 1024.0 KiB for computing block rdd_23_3 in memory.\n",
      "23/03/26 07:45:10 WARN MemoryStore: Not enough space to cache rdd_23_3 in memory! (computed 384.0 B so far)\n",
      "23/03/26 07:45:10 WARN MemoryStore: Failed to reserve initial memory threshold of 1024.0 KiB for computing block rdd_131_3 in memory.\n",
      "23/03/26 07:45:10 WARN MemoryStore: Not enough space to cache rdd_131_3 in memory! (computed 384.0 B so far)\n",
      "23/03/26 07:45:10 WARN MemoryStore: Failed to reserve initial memory threshold of 1024.0 KiB for computing block rdd_153_3 in memory.\n",
      "23/03/26 07:45:10 WARN MemoryStore: Not enough space to cache rdd_153_3 in memory! (computed 384.0 B so far)\n",
      "23/03/26 07:45:10 WARN BlockManager: Persisting block rdd_153_3 to disk instead.\n",
      "23/03/26 07:45:39 WARN MemoryStore: Failed to reserve initial memory threshold of 1024.0 KiB for computing block rdd_153_7 in memory.\n",
      "23/03/26 07:45:39 WARN MemoryStore: Not enough space to cache rdd_153_7 in memory! (computed 384.0 B so far)\n",
      "23/03/26 07:45:39 WARN MemoryStore: Failed to reserve initial memory threshold of 1024.0 KiB for computing block rdd_156_7 in memory.\n",
      "23/03/26 07:45:39 WARN MemoryStore: Not enough space to cache rdd_156_7 in memory! (computed 384.0 B so far)\n",
      "23/03/26 07:45:39 WARN BlockManager: Persisting block rdd_156_7 to disk instead.\n",
      "23/03/26 07:45:39 WARN MemoryStore: Not enough space to cache rdd_153_1 in memory! (computed 2.4 MiB so far)\n",
      "23/03/26 07:45:40 WARN MemoryStore: Not enough space to cache rdd_153_0 in memory! (computed 13.0 MiB so far)\n",
      "23/03/26 07:45:40 WARN MemoryStore: Failed to reserve initial memory threshold of 1024.0 KiB for computing block rdd_156_0 in memory.\n",
      "23/03/26 07:45:40 WARN MemoryStore: Not enough space to cache rdd_156_0 in memory! (computed 384.0 B so far)\n",
      "23/03/26 07:45:40 WARN BlockManager: Persisting block rdd_156_0 to disk instead.\n",
      "23/03/26 07:45:40 WARN MemoryStore: Not enough space to cache rdd_156_1 in memory! (computed 4.0 MiB so far)\n",
      "23/03/26 07:45:40 WARN BlockManager: Persisting block rdd_156_1 to disk instead.\n",
      "23/03/26 07:45:41 WARN MemoryStore: Not enough space to cache rdd_153_6 in memory! (computed 65.8 MiB so far)\n",
      "23/03/26 07:45:42 WARN MemoryStore: Not enough space to cache rdd_153_4 in memory! (computed 43.9 MiB so far)\n",
      "23/03/26 07:45:42 WARN MemoryStore: Not enough space to cache rdd_153_3 in memory! (computed 1663.4 KiB so far)\n",
      "23/03/26 07:45:42 WARN MemoryStore: Failed to reserve initial memory threshold of 1024.0 KiB for computing block rdd_156_3 in memory.\n",
      "23/03/26 07:45:42 WARN MemoryStore: Not enough space to cache rdd_156_3 in memory! (computed 384.0 B so far)\n",
      "23/03/26 07:45:42 WARN BlockManager: Persisting block rdd_156_3 to disk instead.\n",
      "23/03/26 07:45:42 WARN MemoryStore: Not enough space to cache rdd_153_2 in memory! (computed 13.0 MiB so far)\n",
      "23/03/26 07:45:42 WARN MemoryStore: Failed to reserve initial memory threshold of 1024.0 KiB for computing block rdd_156_2 in memory.\n",
      "23/03/26 07:45:42 WARN MemoryStore: Not enough space to cache rdd_156_2 in memory! (computed 384.0 B so far)\n",
      "23/03/26 07:45:42 WARN BlockManager: Persisting block rdd_156_2 to disk instead.\n",
      "23/03/26 07:45:42 WARN MemoryStore: Not enough space to cache rdd_156_4 in memory! (computed 1024.6 KiB so far)\n",
      "23/03/26 07:45:42 WARN BlockManager: Persisting block rdd_156_4 to disk instead.\n",
      "23/03/26 07:45:42 WARN MemoryStore: Not enough space to cache rdd_153_5 in memory! (computed 43.9 MiB so far)\n",
      "23/03/26 07:45:42 WARN MemoryStore: Failed to reserve initial memory threshold of 1024.0 KiB for computing block rdd_156_5 in memory.\n",
      "23/03/26 07:45:42 WARN MemoryStore: Not enough space to cache rdd_156_5 in memory! (computed 384.0 B so far)\n",
      "23/03/26 07:45:42 WARN BlockManager: Persisting block rdd_156_5 to disk instead.\n",
      "23/03/26 07:45:42 WARN MemoryStore: Not enough space to cache rdd_156_6 in memory! (computed 10.8 MiB so far)\n",
      "23/03/26 07:45:42 WARN BlockManager: Persisting block rdd_156_6 to disk instead.\n"
     ]
    },
    {
     "name": "stderr",
     "output_type": "stream",
     "text": [
      "[Stage 66:>                                                        (0 + 8) / 20]\r"
     ]
    },
    {
     "name": "stdout",
     "output_type": "stream",
     "text": [
      "23/03/26 07:46:09 WARN MemoryStore: Not enough space to cache rdd_156_6 in memory! (computed 10.8 MiB so far)\n",
      "23/03/26 07:46:10 WARN MemoryStore: Not enough space to cache rdd_156_1 in memory! (computed 64.8 MiB so far)\n",
      "23/03/26 07:46:10 WARN MemoryStore: Not enough space to cache rdd_156_7 in memory! (computed 99.2 MiB so far)\n",
      "23/03/26 07:46:10 WARN MemoryStore: Not enough space to cache rdd_156_4 in memory! (computed 4.0 MiB so far)\n",
      "23/03/26 07:46:10 WARN MemoryStore: Failed to reserve initial memory threshold of 1024.0 KiB for computing block rdd_156_0 in memory.\n",
      "23/03/26 07:46:10 WARN MemoryStore: Not enough space to cache rdd_156_0 in memory! (computed 384.0 B so far)\n",
      "23/03/26 07:46:11 WARN MemoryStore: Not enough space to cache rdd_156_5 in memory! (computed 10.8 MiB so far)\n"
     ]
    },
    {
     "name": "stderr",
     "output_type": "stream",
     "text": [
      "[Stage 66:=================>                                       (6 + 8) / 20]\r"
     ]
    },
    {
     "name": "stdout",
     "output_type": "stream",
     "text": [
      "23/03/26 07:46:53 WARN MemoryStore: Not enough space to cache rdd_23_11 in memory! (computed 909.7 MiB so far)\n",
      "23/03/26 07:46:53 WARN MemoryStore: Not enough space to cache rdd_23_11 in memory! (computed 73.6 MiB so far)\n",
      "23/03/26 07:46:53 WARN MemoryStore: Not enough space to cache rdd_23_11 in memory! (computed 20.9 MiB so far)\n",
      "23/03/26 07:46:53 WARN MemoryStore: Not enough space to cache rdd_23_12 in memory! (computed 589.3 MiB so far)\n",
      "23/03/26 07:46:53 WARN MemoryStore: Not enough space to cache rdd_23_12 in memory! (computed 2.3 MiB so far)\n",
      "23/03/26 07:46:53 WARN MemoryStore: Failed to reserve initial memory threshold of 1024.0 KiB for computing block rdd_23_12 in memory.\n",
      "23/03/26 07:46:53 WARN MemoryStore: Not enough space to cache rdd_23_12 in memory! (computed 384.0 B so far)\n",
      "23/03/26 07:46:53 WARN MemoryStore: Failed to reserve initial memory threshold of 1024.0 KiB for computing block rdd_131_12 in memory.\n",
      "23/03/26 07:46:53 WARN MemoryStore: Not enough space to cache rdd_131_12 in memory! (computed 384.0 B so far)\n",
      "23/03/26 07:46:53 WARN MemoryStore: Failed to reserve initial memory threshold of 1024.0 KiB for computing block rdd_153_12 in memory.\n",
      "23/03/26 07:46:53 WARN MemoryStore: Not enough space to cache rdd_153_12 in memory! (computed 384.0 B so far)\n",
      "23/03/26 07:46:53 WARN BlockManager: Persisting block rdd_153_12 to disk instead.\n",
      "23/03/26 07:46:53 WARN MemoryStore: Not enough space to cache rdd_131_11 in memory! (computed 3.7 MiB so far)\n",
      "23/03/26 07:46:53 WARN MemoryStore: Failed to reserve initial memory threshold of 1024.0 KiB for computing block rdd_153_11 in memory.\n",
      "23/03/26 07:46:53 WARN MemoryStore: Not enough space to cache rdd_153_11 in memory! (computed 384.0 B so far)\n",
      "23/03/26 07:46:53 WARN BlockManager: Persisting block rdd_153_11 to disk instead.\n",
      "23/03/26 07:46:53 WARN MemoryStore: Not enough space to cache rdd_23_13 in memory! (computed 589.3 MiB so far)\n",
      "23/03/26 07:46:53 WARN MemoryStore: Not enough space to cache rdd_23_13 in memory! (computed 20.9 MiB so far)\n",
      "23/03/26 07:46:53 WARN MemoryStore: Failed to reserve initial memory threshold of 1024.0 KiB for computing block rdd_23_13 in memory.\n",
      "23/03/26 07:46:53 WARN MemoryStore: Not enough space to cache rdd_23_13 in memory! (computed 384.0 B so far)\n",
      "23/03/26 07:46:53 WARN MemoryStore: Failed to reserve initial memory threshold of 1024.0 KiB for computing block rdd_131_13 in memory.\n",
      "23/03/26 07:46:53 WARN MemoryStore: Not enough space to cache rdd_131_13 in memory! (computed 384.0 B so far)\n",
      "23/03/26 07:46:53 WARN MemoryStore: Failed to reserve initial memory threshold of 1024.0 KiB for computing block rdd_153_13 in memory.\n",
      "23/03/26 07:46:53 WARN MemoryStore: Not enough space to cache rdd_153_13 in memory! (computed 384.0 B so far)\n",
      "23/03/26 07:46:53 WARN BlockManager: Persisting block rdd_153_13 to disk instead.\n",
      "23/03/26 07:46:54 WARN MemoryStore: Not enough space to cache rdd_23_8 in memory! (computed 3.0 GiB so far)\n",
      "23/03/26 07:46:54 WARN MemoryStore: Failed to reserve initial memory threshold of 1024.0 KiB for computing block rdd_23_8 in memory.\n",
      "23/03/26 07:46:54 WARN MemoryStore: Not enough space to cache rdd_23_8 in memory! (computed 384.0 B so far)\n",
      "23/03/26 07:46:54 WARN MemoryStore: Failed to reserve initial memory threshold of 1024.0 KiB for computing block rdd_23_8 in memory.\n",
      "23/03/26 07:46:54 WARN MemoryStore: Not enough space to cache rdd_23_8 in memory! (computed 384.0 B so far)\n",
      "23/03/26 07:46:54 WARN MemoryStore: Failed to reserve initial memory threshold of 1024.0 KiB for computing block rdd_131_8 in memory.\n",
      "23/03/26 07:46:54 WARN MemoryStore: Not enough space to cache rdd_131_8 in memory! (computed 384.0 B so far)\n",
      "23/03/26 07:46:54 WARN MemoryStore: Failed to reserve initial memory threshold of 1024.0 KiB for computing block rdd_153_8 in memory.\n",
      "23/03/26 07:46:54 WARN MemoryStore: Not enough space to cache rdd_153_8 in memory! (computed 384.0 B so far)\n",
      "23/03/26 07:46:54 WARN BlockManager: Persisting block rdd_153_8 to disk instead.\n"
     ]
    },
    {
     "name": "stderr",
     "output_type": "stream",
     "text": [
      "[Stage 66:===================>                                     (7 + 8) / 20]\r"
     ]
    },
    {
     "name": "stdout",
     "output_type": "stream",
     "text": [
      "23/03/26 07:46:54 WARN MemoryStore: Not enough space to cache rdd_23_10 in memory! (computed 2046.8 MiB so far)\n",
      "23/03/26 07:46:54 WARN MemoryStore: Not enough space to cache rdd_23_9 in memory! (computed 2046.8 MiB so far)\n",
      "23/03/26 07:46:54 WARN MemoryStore: Not enough space to cache rdd_23_9 in memory! (computed 31.4 MiB so far)\n",
      "23/03/26 07:46:54 WARN MemoryStore: Not enough space to cache rdd_23_10 in memory! (computed 31.4 MiB so far)\n",
      "23/03/26 07:46:54 WARN MemoryStore: Not enough space to cache rdd_23_9 in memory! (computed 9.1 MiB so far)\n",
      "23/03/26 07:46:55 WARN MemoryStore: Not enough space to cache rdd_23_10 in memory! (computed 3.5 MiB so far)\n",
      "23/03/26 07:46:55 WARN MemoryStore: Failed to reserve initial memory threshold of 1024.0 KiB for computing block rdd_131_10 in memory.\n",
      "23/03/26 07:46:55 WARN MemoryStore: Not enough space to cache rdd_131_10 in memory! (computed 384.0 B so far)\n",
      "23/03/26 07:46:55 WARN MemoryStore: Failed to reserve initial memory threshold of 1024.0 KiB for computing block rdd_153_10 in memory.\n",
      "23/03/26 07:46:55 WARN MemoryStore: Not enough space to cache rdd_153_10 in memory! (computed 384.0 B so far)\n",
      "23/03/26 07:46:55 WARN BlockManager: Persisting block rdd_153_10 to disk instead.\n",
      "23/03/26 07:46:55 WARN MemoryStore: Not enough space to cache rdd_23_14 in memory! (computed 112.4 MiB so far)\n",
      "23/03/26 07:46:55 WARN MemoryStore: Not enough space to cache rdd_131_9 in memory! (computed 2.4 MiB so far)\n",
      "23/03/26 07:46:55 WARN MemoryStore: Failed to reserve initial memory threshold of 1024.0 KiB for computing block rdd_153_9 in memory.\n",
      "23/03/26 07:46:55 WARN MemoryStore: Not enough space to cache rdd_153_9 in memory! (computed 384.0 B so far)\n",
      "23/03/26 07:46:55 WARN BlockManager: Persisting block rdd_153_9 to disk instead.\n",
      "23/03/26 07:46:55 WARN MemoryStore: Not enough space to cache rdd_23_14 in memory! (computed 2.3 MiB so far)\n",
      "23/03/26 07:46:55 WARN MemoryStore: Not enough space to cache rdd_23_14 in memory! (computed 9.1 MiB so far)\n",
      "23/03/26 07:46:55 WARN MemoryStore: Failed to reserve initial memory threshold of 1024.0 KiB for computing block rdd_131_14 in memory.\n",
      "23/03/26 07:46:55 WARN MemoryStore: Not enough space to cache rdd_131_14 in memory! (computed 384.0 B so far)\n",
      "23/03/26 07:46:55 WARN MemoryStore: Failed to reserve initial memory threshold of 1024.0 KiB for computing block rdd_153_14 in memory.\n",
      "23/03/26 07:46:55 WARN MemoryStore: Not enough space to cache rdd_153_14 in memory! (computed 384.0 B so far)\n",
      "23/03/26 07:46:55 WARN BlockManager: Persisting block rdd_153_14 to disk instead.\n"
     ]
    },
    {
     "name": "stderr",
     "output_type": "stream",
     "text": [
      "[Stage 66:======================>                                  (8 + 8) / 20]\r"
     ]
    },
    {
     "name": "stdout",
     "output_type": "stream",
     "text": [
      "23/03/26 07:46:57 WARN MemoryStore: Not enough space to cache rdd_23_15 in memory! (computed 168.6 MiB so far)\n",
      "23/03/26 07:46:57 WARN MemoryStore: Not enough space to cache rdd_23_15 in memory! (computed 20.9 MiB so far)\n",
      "23/03/26 07:46:57 WARN MemoryStore: Not enough space to cache rdd_23_15 in memory! (computed 2.3 MiB so far)\n",
      "23/03/26 07:46:57 WARN MemoryStore: Failed to reserve initial memory threshold of 1024.0 KiB for computing block rdd_131_15 in memory.\n",
      "23/03/26 07:46:57 WARN MemoryStore: Not enough space to cache rdd_131_15 in memory! (computed 384.0 B so far)\n",
      "23/03/26 07:46:57 WARN MemoryStore: Failed to reserve initial memory threshold of 1024.0 KiB for computing block rdd_153_15 in memory.\n",
      "23/03/26 07:46:57 WARN MemoryStore: Not enough space to cache rdd_153_15 in memory! (computed 384.0 B so far)\n",
      "23/03/26 07:46:57 WARN BlockManager: Persisting block rdd_153_15 to disk instead.\n",
      "23/03/26 07:47:11 WARN MemoryStore: Not enough space to cache rdd_153_13 in memory! (computed 2.4 MiB so far)\n",
      "23/03/26 07:47:11 WARN MemoryStore: Failed to reserve initial memory threshold of 1024.0 KiB for computing block rdd_156_13 in memory.\n",
      "23/03/26 07:47:11 WARN MemoryStore: Not enough space to cache rdd_156_13 in memory! (computed 384.0 B so far)\n",
      "23/03/26 07:47:11 WARN BlockManager: Persisting block rdd_156_13 to disk instead.\n",
      "23/03/26 07:47:11 WARN MemoryStore: Not enough space to cache rdd_153_12 in memory! (computed 19.5 MiB so far)\n",
      "23/03/26 07:47:12 WARN MemoryStore: Not enough space to cache rdd_156_12 in memory! (computed 2.7 MiB so far)\n",
      "23/03/26 07:47:12 WARN BlockManager: Persisting block rdd_156_12 to disk instead.\n",
      "23/03/26 07:47:12 WARN MemoryStore: Not enough space to cache rdd_153_14 in memory! (computed 3.7 MiB so far)\n",
      "23/03/26 07:47:12 WARN MemoryStore: Failed to reserve initial memory threshold of 1024.0 KiB for computing block rdd_156_14 in memory.\n",
      "23/03/26 07:47:12 WARN MemoryStore: Not enough space to cache rdd_156_14 in memory! (computed 384.0 B so far)\n",
      "23/03/26 07:47:12 WARN BlockManager: Persisting block rdd_156_14 to disk instead.\n",
      "23/03/26 07:47:23 WARN MemoryStore: Not enough space to cache rdd_153_11 in memory! (computed 19.5 MiB so far)\n",
      "23/03/26 07:47:24 WARN MemoryStore: Not enough space to cache rdd_153_9 in memory! (computed 43.9 MiB so far)\n",
      "23/03/26 07:47:25 WARN MemoryStore: Not enough space to cache rdd_153_8 in memory! (computed 8.2 MiB so far)\n",
      "23/03/26 07:47:26 WARN MemoryStore: Not enough space to cache rdd_156_8 in memory! (computed 1537.3 KiB so far)\n",
      "23/03/26 07:47:26 WARN BlockManager: Persisting block rdd_156_8 to disk instead.\n",
      "23/03/26 07:47:26 WARN MemoryStore: Not enough space to cache rdd_153_10 in memory! (computed 43.9 MiB so far)\n",
      "23/03/26 07:47:26 WARN MemoryStore: Failed to reserve initial memory threshold of 1024.0 KiB for computing block rdd_156_10 in memory.\n",
      "23/03/26 07:47:26 WARN MemoryStore: Not enough space to cache rdd_156_10 in memory! (computed 384.0 B so far)\n",
      "23/03/26 07:47:26 WARN BlockManager: Persisting block rdd_156_10 to disk instead.\n",
      "23/03/26 07:47:26 WARN MemoryStore: Not enough space to cache rdd_153_15 in memory! (computed 13.0 MiB so far)\n",
      "23/03/26 07:47:26 WARN MemoryStore: Not enough space to cache rdd_156_9 in memory! (computed 16.2 MiB so far)\n",
      "23/03/26 07:47:26 WARN BlockManager: Persisting block rdd_156_9 to disk instead.\n",
      "23/03/26 07:47:26 WARN MemoryStore: Not enough space to cache rdd_156_13 in memory! (computed 24.3 MiB so far)\n"
     ]
    },
    {
     "name": "stderr",
     "output_type": "stream",
     "text": [
      "[Stage 66:=========================>                               (9 + 8) / 20]\r"
     ]
    },
    {
     "name": "stdout",
     "output_type": "stream",
     "text": [
      "23/03/26 07:47:51 WARN MemoryStore: Not enough space to cache rdd_23_16 in memory! (computed 589.3 MiB so far)\n",
      "23/03/26 07:47:51 WARN MemoryStore: Not enough space to cache rdd_23_16 in memory! (computed 112.4 MiB so far)\n",
      "23/03/26 07:47:52 WARN MemoryStore: Not enough space to cache rdd_23_16 in memory! (computed 112.4 MiB so far)\n",
      "23/03/26 07:47:52 WARN MemoryStore: Not enough space to cache rdd_131_16 in memory! (computed 8.2 MiB so far)\n",
      "23/03/26 07:47:52 WARN MemoryStore: Not enough space to cache rdd_153_16 in memory! (computed 1663.4 KiB so far)\n",
      "23/03/26 07:47:52 WARN BlockManager: Persisting block rdd_153_16 to disk instead.\n"
     ]
    },
    {
     "name": "stderr",
     "output_type": "stream",
     "text": [
      "[Stage 66:==============================>                         (11 + 8) / 20]\r"
     ]
    },
    {
     "name": "stdout",
     "output_type": "stream",
     "text": [
      "23/03/26 07:47:55 WARN MemoryStore: Not enough space to cache rdd_23_17 in memory! (computed 909.7 MiB so far)\n",
      "23/03/26 07:47:55 WARN MemoryStore: Not enough space to cache rdd_23_18 in memory! (computed 252.9 MiB so far)\n",
      "23/03/26 07:47:56 WARN MemoryStore: Not enough space to cache rdd_23_18 in memory! (computed 112.4 MiB so far)\n",
      "23/03/26 07:47:56 WARN MemoryStore: Not enough space to cache rdd_23_17 in memory! (computed 168.6 MiB so far)\n",
      "23/03/26 07:47:56 WARN MemoryStore: Not enough space to cache rdd_23_18 in memory! (computed 9.1 MiB so far)\n",
      "23/03/26 07:47:56 WARN MemoryStore: Not enough space to cache rdd_23_17 in memory! (computed 5.3 MiB so far)\n",
      "23/03/26 07:47:56 WARN MemoryStore: Failed to reserve initial memory threshold of 1024.0 KiB for computing block rdd_131_17 in memory.\n",
      "23/03/26 07:47:56 WARN MemoryStore: Not enough space to cache rdd_131_17 in memory! (computed 384.0 B so far)\n",
      "23/03/26 07:47:56 WARN MemoryStore: Failed to reserve initial memory threshold of 1024.0 KiB for computing block rdd_153_17 in memory.\n",
      "23/03/26 07:47:56 WARN MemoryStore: Not enough space to cache rdd_153_17 in memory! (computed 384.0 B so far)\n",
      "23/03/26 07:47:56 WARN BlockManager: Persisting block rdd_153_17 to disk instead.\n",
      "23/03/26 07:47:56 WARN MemoryStore: Not enough space to cache rdd_156_9 in memory! (computed 24.3 MiB so far)\n",
      "23/03/26 07:47:56 WARN MemoryStore: Not enough space to cache rdd_131_18 in memory! (computed 5.5 MiB so far)\n",
      "23/03/26 07:47:57 WARN MemoryStore: Not enough space to cache rdd_156_10 in memory! (computed 1537.3 KiB so far)\n",
      "23/03/26 07:47:57 WARN MemoryStore: Not enough space to cache rdd_153_18 in memory! (computed 13.0 MiB so far)\n",
      "23/03/26 07:47:57 WARN BlockManager: Persisting block rdd_153_18 to disk instead.\n",
      "23/03/26 07:47:58 WARN MemoryStore: Not enough space to cache rdd_156_8 in memory! (computed 10.8 MiB so far)\n"
     ]
    },
    {
     "name": "stderr",
     "output_type": "stream",
     "text": [
      "[Stage 66:============================================>           (16 + 4) / 20]\r"
     ]
    },
    {
     "name": "stdout",
     "output_type": "stream",
     "text": [
      "23/03/26 07:48:43 WARN MemoryStore: Not enough space to cache rdd_23_19 in memory! (computed 6.9 GiB so far)\n",
      "23/03/26 07:48:48 WARN MemoryStore: Not enough space to cache rdd_23_19 in memory! (computed 2046.8 MiB so far)\n",
      "23/03/26 07:48:48 WARN MemoryStore: Not enough space to cache rdd_23_19 in memory! (computed 73.6 MiB so far)\n",
      "23/03/26 07:48:48 WARN MemoryStore: Not enough space to cache rdd_131_19 in memory! (computed 29.2 MiB so far)\n"
     ]
    },
    {
     "name": "stderr",
     "output_type": "stream",
     "text": [
      "[Stage 68:>                                                        (0 + 8) / 20]\r"
     ]
    },
    {
     "name": "stdout",
     "output_type": "stream",
     "text": [
      "23/03/26 07:49:22 WARN MemoryStore: Not enough space to cache rdd_23_0 in memory! (computed 1364.5 MiB so far)\n",
      "23/03/26 07:49:22 WARN MemoryStore: Not enough space to cache rdd_23_7 in memory! (computed 1364.5 MiB so far)\n",
      "23/03/26 07:49:22 WARN MemoryStore: Not enough space to cache rdd_23_6 in memory! (computed 1364.5 MiB so far)\n",
      "23/03/26 07:49:22 WARN MemoryStore: Not enough space to cache rdd_23_1 in memory! (computed 1364.5 MiB so far)\n",
      "23/03/26 07:49:22 WARN MemoryStore: Not enough space to cache rdd_23_4 in memory! (computed 909.7 MiB so far)\n",
      "23/03/26 07:49:22 WARN MemoryStore: Not enough space to cache rdd_23_3 in memory! (computed 909.7 MiB so far)\n",
      "23/03/26 07:49:22 WARN MemoryStore: Not enough space to cache rdd_23_5 in memory! (computed 909.7 MiB so far)\n",
      "23/03/26 07:49:22 WARN MemoryStore: Not enough space to cache rdd_156_7 in memory! (computed 6.2 MiB so far)\n",
      "23/03/26 07:49:22 WARN MemoryStore: Not enough space to cache rdd_156_0 in memory! (computed 6.2 MiB so far)\n",
      "23/03/26 07:49:22 WARN MemoryStore: Not enough space to cache rdd_156_4 in memory! (computed 6.2 MiB so far)\n",
      "23/03/26 07:49:22 WARN MemoryStore: Not enough space to cache rdd_156_6 in memory! (computed 6.2 MiB so far)\n",
      "23/03/26 07:49:22 WARN MemoryStore: Not enough space to cache rdd_156_3 in memory! (computed 6.2 MiB so far)\n",
      "23/03/26 07:49:22 WARN MemoryStore: Not enough space to cache rdd_156_1 in memory! (computed 10.8 MiB so far)\n",
      "23/03/26 07:49:22 WARN MemoryStore: Not enough space to cache rdd_156_5 in memory! (computed 10.8 MiB so far)\n",
      "23/03/26 07:49:23 WARN MemoryStore: Not enough space to cache rdd_23_2 in memory! (computed 1364.5 MiB so far)\n"
     ]
    },
    {
     "name": "stderr",
     "output_type": "stream",
     "text": [
      "[Stage 68:======================>                                  (8 + 8) / 20]\r"
     ]
    },
    {
     "name": "stdout",
     "output_type": "stream",
     "text": [
      "23/03/26 07:50:09 WARN MemoryStore: Not enough space to cache rdd_23_9 in memory! (computed 2046.8 MiB so far)\n",
      "23/03/26 07:50:09 WARN MemoryStore: Not enough space to cache rdd_23_11 in memory! (computed 1364.5 MiB so far)\n",
      "23/03/26 07:50:09 WARN MemoryStore: Not enough space to cache rdd_23_8 in memory! (computed 2046.8 MiB so far)\n",
      "23/03/26 07:50:09 WARN MemoryStore: Not enough space to cache rdd_23_10 in memory! (computed 1364.5 MiB so far)\n",
      "23/03/26 07:50:09 WARN MemoryStore: Not enough space to cache rdd_23_13 in memory! (computed 589.3 MiB so far)\n",
      "23/03/26 07:50:09 WARN MemoryStore: Not enough space to cache rdd_23_12 in memory! (computed 1364.5 MiB so far)\n",
      "23/03/26 07:50:09 WARN MemoryStore: Not enough space to cache rdd_23_14 in memory! (computed 380.1 MiB so far)\n",
      "23/03/26 07:50:09 WARN MemoryStore: Not enough space to cache rdd_23_15 in memory! (computed 380.1 MiB so far)\n",
      "23/03/26 07:50:09 WARN MemoryStore: Not enough space to cache rdd_156_9 in memory! (computed 16.2 MiB so far)\n",
      "23/03/26 07:50:09 WARN MemoryStore: Not enough space to cache rdd_156_11 in memory! (computed 16.2 MiB so far)\n",
      "23/03/26 07:50:09 WARN MemoryStore: Not enough space to cache rdd_156_8 in memory! (computed 16.2 MiB so far)\n",
      "23/03/26 07:50:09 WARN MemoryStore: Not enough space to cache rdd_156_14 in memory! (computed 16.2 MiB so far)\n",
      "23/03/26 07:50:09 WARN MemoryStore: Not enough space to cache rdd_156_10 in memory! (computed 16.2 MiB so far)\n",
      "23/03/26 07:50:09 WARN MemoryStore: Not enough space to cache rdd_156_12 in memory! (computed 16.2 MiB so far)\n",
      "23/03/26 07:50:10 WARN MemoryStore: Not enough space to cache rdd_156_15 in memory! (computed 10.8 MiB so far)\n",
      "23/03/26 07:50:10 WARN MemoryStore: Not enough space to cache rdd_156_13 in memory! (computed 24.3 MiB so far)\n"
     ]
    },
    {
     "name": "stderr",
     "output_type": "stream",
     "text": [
      "[Stage 68:==============================>                         (11 + 8) / 20]\r"
     ]
    },
    {
     "name": "stdout",
     "output_type": "stream",
     "text": [
      "23/03/26 07:50:41 WARN MemoryStore: Not enough space to cache rdd_23_16 in memory! (computed 3.0 GiB so far)\n",
      "23/03/26 07:50:41 WARN MemoryStore: Not enough space to cache rdd_23_17 in memory! (computed 3.0 GiB so far)\n",
      "23/03/26 07:50:42 WARN MemoryStore: Not enough space to cache rdd_23_18 in memory! (computed 3.0 GiB so far)\n",
      "23/03/26 07:50:45 WARN MemoryStore: Not enough space to cache rdd_156_18 in memory! (computed 99.2 MiB so far)\n",
      "23/03/26 07:50:45 WARN MemoryStore: Not enough space to cache rdd_156_16 in memory! (computed 172.8 MiB so far)\n"
     ]
    },
    {
     "name": "stderr",
     "output_type": "stream",
     "text": [
      "[Stage 68:============================================>           (16 + 4) / 20]\r"
     ]
    },
    {
     "name": "stdout",
     "output_type": "stream",
     "text": [
      "23/03/26 07:51:03 WARN MemoryStore: Not enough space to cache rdd_23_19 in memory! (computed 6.9 GiB so far)\n"
     ]
    },
    {
     "name": "stderr",
     "output_type": "stream",
     "text": [
      "[Stage 70:>                                                        (0 + 8) / 20]\r"
     ]
    },
    {
     "name": "stdout",
     "output_type": "stream",
     "text": [
      "23/03/26 07:51:15 WARN MemoryStore: Not enough space to cache rdd_23_3 in memory! (computed 909.7 MiB so far)\n",
      "23/03/26 07:51:15 WARN MemoryStore: Not enough space to cache rdd_23_2 in memory! (computed 909.7 MiB so far)\n",
      "23/03/26 07:51:15 WARN MemoryStore: Not enough space to cache rdd_23_0 in memory! (computed 909.7 MiB so far)\n",
      "23/03/26 07:51:16 WARN MemoryStore: Not enough space to cache rdd_23_5 in memory! (computed 1364.5 MiB so far)\n",
      "23/03/26 07:51:16 WARN MemoryStore: Not enough space to cache rdd_156_5 in memory! (computed 1024.6 KiB so far)\n",
      "23/03/26 07:51:16 WARN MemoryStore: Not enough space to cache rdd_23_7 in memory! (computed 1364.5 MiB so far)\n",
      "23/03/26 07:51:16 WARN MemoryStore: Failed to reserve initial memory threshold of 1024.0 KiB for computing block rdd_156_7 in memory.\n",
      "23/03/26 07:51:16 WARN MemoryStore: Not enough space to cache rdd_156_7 in memory! (computed 384.0 B so far)\n",
      "23/03/26 07:51:16 WARN MemoryStore: Not enough space to cache rdd_156_2 in memory! (computed 16.2 MiB so far)\n",
      "23/03/26 07:51:16 WARN MemoryStore: Not enough space to cache rdd_156_3 in memory! (computed 16.2 MiB so far)\n",
      "23/03/26 07:51:16 WARN MemoryStore: Not enough space to cache rdd_156_0 in memory! (computed 16.2 MiB so far)\n",
      "23/03/26 07:51:16 WARN MemoryStore: Not enough space to cache rdd_23_4 in memory! (computed 1364.5 MiB so far)\n",
      "23/03/26 07:51:16 WARN MemoryStore: Not enough space to cache rdd_156_4 in memory! (computed 1024.6 KiB so far)\n",
      "23/03/26 07:51:17 WARN MemoryStore: Not enough space to cache rdd_23_1 in memory! (computed 1364.5 MiB so far)\n",
      "23/03/26 07:51:17 WARN MemoryStore: Not enough space to cache rdd_156_1 in memory! (computed 1024.6 KiB so far)\n",
      "23/03/26 07:51:17 WARN MemoryStore: Not enough space to cache rdd_23_6 in memory! (computed 1364.5 MiB so far)\n",
      "23/03/26 07:51:17 WARN MemoryStore: Failed to reserve initial memory threshold of 1024.0 KiB for computing block rdd_156_6 in memory.\n",
      "23/03/26 07:51:17 WARN MemoryStore: Not enough space to cache rdd_156_6 in memory! (computed 384.0 B so far)\n"
     ]
    },
    {
     "name": "stderr",
     "output_type": "stream",
     "text": [
      "[Stage 70:======================>                                  (8 + 8) / 20]\r"
     ]
    },
    {
     "name": "stdout",
     "output_type": "stream",
     "text": [
      "23/03/26 07:52:02 WARN MemoryStore: Not enough space to cache rdd_23_15 in memory! (computed 168.6 MiB so far)\n",
      "23/03/26 07:52:02 WARN MemoryStore: Not enough space to cache rdd_23_14 in memory! (computed 380.1 MiB so far)\n",
      "23/03/26 07:52:02 WARN MemoryStore: Not enough space to cache rdd_23_12 in memory! (computed 909.7 MiB so far)\n",
      "23/03/26 07:52:02 WARN MemoryStore: Not enough space to cache rdd_156_15 in memory! (computed 10.8 MiB so far)\n",
      "23/03/26 07:52:02 WARN MemoryStore: Not enough space to cache rdd_156_12 in memory! (computed 10.8 MiB so far)\n",
      "23/03/26 07:52:02 WARN MemoryStore: Not enough space to cache rdd_156_14 in memory! (computed 10.8 MiB so far)\n",
      "23/03/26 07:52:02 WARN MemoryStore: Not enough space to cache rdd_23_10 in memory! (computed 1364.5 MiB so far)\n",
      "23/03/26 07:52:02 WARN MemoryStore: Not enough space to cache rdd_156_10 in memory! (computed 2.7 MiB so far)\n",
      "23/03/26 07:52:03 WARN MemoryStore: Not enough space to cache rdd_23_11 in memory! (computed 1364.5 MiB so far)\n",
      "23/03/26 07:52:03 WARN MemoryStore: Not enough space to cache rdd_23_9 in memory! (computed 2046.8 MiB so far)\n",
      "23/03/26 07:52:03 WARN MemoryStore: Not enough space to cache rdd_23_8 in memory! (computed 2046.8 MiB so far)\n",
      "23/03/26 07:52:03 WARN MemoryStore: Not enough space to cache rdd_23_13 in memory! (computed 1364.5 MiB so far)\n"
     ]
    },
    {
     "name": "stderr",
     "output_type": "stream",
     "text": [
      "[Stage 70:==============================>                         (11 + 8) / 20]\r"
     ]
    },
    {
     "name": "stdout",
     "output_type": "stream",
     "text": [
      "23/03/26 07:52:32 WARN MemoryStore: Not enough space to cache rdd_23_18 in memory! (computed 2046.8 MiB so far)\n",
      "23/03/26 07:52:33 WARN MemoryStore: Not enough space to cache rdd_23_16 in memory! (computed 3.0 GiB so far)\n",
      "23/03/26 07:52:35 WARN MemoryStore: Not enough space to cache rdd_23_17 in memory! (computed 3.0 GiB so far)\n"
     ]
    },
    {
     "name": "stderr",
     "output_type": "stream",
     "text": [
      "[Stage 70:============================================>           (16 + 4) / 20]\r"
     ]
    },
    {
     "name": "stdout",
     "output_type": "stream",
     "text": [
      "23/03/26 07:52:56 WARN MemoryStore: Not enough space to cache rdd_23_19 in memory! (computed 6.9 GiB so far)\n"
     ]
    },
    {
     "name": "stderr",
     "output_type": "stream",
     "text": [
      "[Stage 72:>                                                        (0 + 8) / 20]\r"
     ]
    },
    {
     "name": "stdout",
     "output_type": "stream",
     "text": [
      "23/03/26 07:53:10 WARN MemoryStore: Not enough space to cache rdd_23_5 in memory! (computed 909.7 MiB so far)\n",
      "23/03/26 07:53:10 WARN MemoryStore: Not enough space to cache rdd_23_3 in memory! (computed 909.7 MiB so far)\n",
      "23/03/26 07:53:10 WARN MemoryStore: Not enough space to cache rdd_23_4 in memory! (computed 909.7 MiB so far)\n",
      "23/03/26 07:53:10 WARN MemoryStore: Not enough space to cache rdd_23_7 in memory! (computed 1364.5 MiB so far)\n",
      "23/03/26 07:53:10 WARN MemoryStore: Not enough space to cache rdd_23_6 in memory! (computed 1364.5 MiB so far)\n",
      "23/03/26 07:53:10 WARN MemoryStore: Not enough space to cache rdd_23_1 in memory! (computed 1364.5 MiB so far)\n",
      "23/03/26 07:53:10 WARN MemoryStore: Not enough space to cache rdd_23_2 in memory! (computed 1364.5 MiB so far)\n",
      "23/03/26 07:53:10 WARN MemoryStore: Not enough space to cache rdd_156_2 in memory! (computed 6.2 MiB so far)\n",
      "23/03/26 07:53:10 WARN MemoryStore: Not enough space to cache rdd_156_4 in memory! (computed 4.0 MiB so far)\n",
      "23/03/26 07:53:10 WARN MemoryStore: Not enough space to cache rdd_156_1 in memory! (computed 6.2 MiB so far)\n",
      "23/03/26 07:53:10 WARN MemoryStore: Not enough space to cache rdd_156_7 in memory! (computed 10.8 MiB so far)\n",
      "23/03/26 07:53:10 WARN MemoryStore: Not enough space to cache rdd_156_5 in memory! (computed 4.0 MiB so far)\n",
      "23/03/26 07:53:10 WARN MemoryStore: Not enough space to cache rdd_156_6 in memory! (computed 10.8 MiB so far)\n",
      "23/03/26 07:53:10 WARN MemoryStore: Not enough space to cache rdd_156_3 in memory! (computed 10.8 MiB so far)\n",
      "23/03/26 07:53:11 WARN MemoryStore: Not enough space to cache rdd_23_0 in memory! (computed 1364.5 MiB so far)\n"
     ]
    },
    {
     "name": "stderr",
     "output_type": "stream",
     "text": [
      "[Stage 72:===================>                                     (7 + 8) / 20]\r"
     ]
    },
    {
     "name": "stdout",
     "output_type": "stream",
     "text": [
      "23/03/26 07:53:58 WARN MemoryStore: Not enough space to cache rdd_23_9 in memory! (computed 2046.8 MiB so far)\n",
      "23/03/26 07:53:58 WARN MemoryStore: Not enough space to cache rdd_23_10 in memory! (computed 1364.5 MiB so far)\n",
      "23/03/26 07:53:58 WARN MemoryStore: Not enough space to cache rdd_23_13 in memory! (computed 589.3 MiB so far)\n",
      "23/03/26 07:53:58 WARN MemoryStore: Not enough space to cache rdd_23_8 in memory! (computed 2046.8 MiB so far)\n",
      "23/03/26 07:53:58 WARN MemoryStore: Not enough space to cache rdd_23_15 in memory! (computed 31.4 MiB so far)\n"
     ]
    },
    {
     "name": "stderr",
     "output_type": "stream",
     "text": [
      "[Stage 72:======================>                                  (8 + 8) / 20]\r"
     ]
    },
    {
     "name": "stdout",
     "output_type": "stream",
     "text": [
      "23/03/26 07:53:58 WARN MemoryStore: Not enough space to cache rdd_156_13 in memory! (computed 1537.3 KiB so far)\n",
      "23/03/26 07:53:58 WARN MemoryStore: Not enough space to cache rdd_156_10 in memory! (computed 1537.3 KiB so far)\n",
      "23/03/26 07:53:58 WARN MemoryStore: Not enough space to cache rdd_156_9 in memory! (computed 4.0 MiB so far)\n",
      "23/03/26 07:53:58 WARN MemoryStore: Not enough space to cache rdd_156_15 in memory! (computed 1537.3 KiB so far)\n",
      "23/03/26 07:53:58 WARN MemoryStore: Not enough space to cache rdd_156_8 in memory! (computed 2.7 MiB so far)\n",
      "23/03/26 07:53:58 WARN MemoryStore: Not enough space to cache rdd_23_14 in memory! (computed 168.6 MiB so far)\n",
      "23/03/26 07:53:58 WARN MemoryStore: Failed to reserve initial memory threshold of 1024.0 KiB for computing block rdd_156_14 in memory.\n",
      "23/03/26 07:53:58 WARN MemoryStore: Not enough space to cache rdd_156_14 in memory! (computed 384.0 B so far)\n",
      "23/03/26 07:53:58 WARN MemoryStore: Not enough space to cache rdd_23_12 in memory! (computed 1364.5 MiB so far)\n",
      "23/03/26 07:54:00 WARN MemoryStore: Not enough space to cache rdd_23_11 in memory! (computed 2046.8 MiB so far)\n"
     ]
    },
    {
     "name": "stderr",
     "output_type": "stream",
     "text": [
      "[Stage 72:==============================>                         (11 + 8) / 20]\r"
     ]
    },
    {
     "name": "stdout",
     "output_type": "stream",
     "text": [
      "23/03/26 07:54:29 WARN MemoryStore: Not enough space to cache rdd_23_17 in memory! (computed 3.0 GiB so far)\n",
      "23/03/26 07:54:29 WARN MemoryStore: Not enough space to cache rdd_23_16 in memory! (computed 3.0 GiB so far)\n",
      "23/03/26 07:54:31 WARN MemoryStore: Not enough space to cache rdd_156_17 in memory! (computed 64.8 MiB so far)\n",
      "23/03/26 07:54:31 WARN MemoryStore: Not enough space to cache rdd_23_18 in memory! (computed 3.0 GiB so far)\n",
      "23/03/26 07:54:31 WARN MemoryStore: Not enough space to cache rdd_156_18 in memory! (computed 1024.6 KiB so far)\n",
      "23/03/26 07:54:32 WARN MemoryStore: Not enough space to cache rdd_156_16 in memory! (computed 99.2 MiB so far)\n"
     ]
    },
    {
     "name": "stderr",
     "output_type": "stream",
     "text": [
      "[Stage 72:============================================>           (16 + 4) / 20]\r"
     ]
    },
    {
     "name": "stdout",
     "output_type": "stream",
     "text": [
      "23/03/26 07:54:51 WARN MemoryStore: Not enough space to cache rdd_23_19 in memory! (computed 6.9 GiB so far)\n"
     ]
    },
    {
     "name": "stderr",
     "output_type": "stream",
     "text": [
      "[Stage 74:>                                                        (0 + 8) / 20]\r"
     ]
    },
    {
     "name": "stdout",
     "output_type": "stream",
     "text": [
      "23/03/26 07:55:03 WARN MemoryStore: Not enough space to cache rdd_23_7 in memory! (computed 909.7 MiB so far)\n",
      "23/03/26 07:55:03 WARN MemoryStore: Not enough space to cache rdd_23_1 in memory! (computed 909.7 MiB so far)\n",
      "23/03/26 07:55:03 WARN MemoryStore: Not enough space to cache rdd_23_6 in memory! (computed 909.7 MiB so far)\n",
      "23/03/26 07:55:04 WARN MemoryStore: Not enough space to cache rdd_23_4 in memory! (computed 1364.5 MiB so far)\n",
      "23/03/26 07:55:04 WARN MemoryStore: Not enough space to cache rdd_23_5 in memory! (computed 1364.5 MiB so far)\n",
      "23/03/26 07:55:04 WARN MemoryStore: Not enough space to cache rdd_156_1 in memory! (computed 10.8 MiB so far)\n",
      "23/03/26 07:55:04 WARN MemoryStore: Not enough space to cache rdd_23_3 in memory! (computed 1364.5 MiB so far)\n",
      "23/03/26 07:55:04 WARN MemoryStore: Not enough space to cache rdd_156_6 in memory! (computed 16.2 MiB so far)\n",
      "23/03/26 07:55:04 WARN MemoryStore: Not enough space to cache rdd_156_5 in memory! (computed 2.7 MiB so far)\n",
      "23/03/26 07:55:04 WARN MemoryStore: Not enough space to cache rdd_156_4 in memory! (computed 4.0 MiB so far)\n",
      "23/03/26 07:55:04 WARN MemoryStore: Not enough space to cache rdd_156_3 in memory! (computed 1537.3 KiB so far)\n",
      "23/03/26 07:55:04 WARN MemoryStore: Not enough space to cache rdd_156_7 in memory! (computed 16.2 MiB so far)\n",
      "23/03/26 07:55:04 WARN MemoryStore: Not enough space to cache rdd_23_0 in memory! (computed 1364.5 MiB so far)\n",
      "23/03/26 07:55:04 WARN MemoryStore: Failed to reserve initial memory threshold of 1024.0 KiB for computing block rdd_156_0 in memory.\n",
      "23/03/26 07:55:04 WARN MemoryStore: Not enough space to cache rdd_156_0 in memory! (computed 384.0 B so far)\n",
      "23/03/26 07:55:04 WARN MemoryStore: Not enough space to cache rdd_23_2 in memory! (computed 1364.5 MiB so far)\n",
      "23/03/26 07:55:05 WARN MemoryStore: Not enough space to cache rdd_156_2 in memory! (computed 16.2 MiB so far)\n"
     ]
    },
    {
     "name": "stderr",
     "output_type": "stream",
     "text": [
      "[Stage 74:======================>                                  (8 + 8) / 20]\r"
     ]
    },
    {
     "name": "stdout",
     "output_type": "stream",
     "text": [
      "23/03/26 07:55:50 WARN MemoryStore: Not enough space to cache rdd_23_15 in memory! (computed 589.3 MiB so far)\n",
      "23/03/26 07:55:50 WARN MemoryStore: Not enough space to cache rdd_23_13 in memory! (computed 909.7 MiB so far)\n",
      "23/03/26 07:55:50 WARN MemoryStore: Not enough space to cache rdd_23_12 in memory! (computed 909.7 MiB so far)\n",
      "23/03/26 07:55:50 WARN MemoryStore: Not enough space to cache rdd_23_9 in memory! (computed 1364.5 MiB so far)\n",
      "23/03/26 07:55:51 WARN MemoryStore: Not enough space to cache rdd_23_11 in memory! (computed 1364.5 MiB so far)\n",
      "23/03/26 07:55:51 WARN MemoryStore: Not enough space to cache rdd_23_14 in memory! (computed 909.7 MiB so far)\n",
      "23/03/26 07:55:51 WARN MemoryStore: Not enough space to cache rdd_23_10 in memory! (computed 1364.5 MiB so far)\n",
      "23/03/26 07:55:51 WARN MemoryStore: Not enough space to cache rdd_156_9 in memory! (computed 16.2 MiB so far)\n",
      "23/03/26 07:55:51 WARN MemoryStore: Not enough space to cache rdd_156_10 in memory! (computed 4.0 MiB so far)\n",
      "23/03/26 07:55:51 WARN MemoryStore: Not enough space to cache rdd_156_15 in memory! (computed 43.2 MiB so far)\n",
      "23/03/26 07:55:51 WARN MemoryStore: Not enough space to cache rdd_156_11 in memory! (computed 16.2 MiB so far)\n",
      "23/03/26 07:55:51 WARN MemoryStore: Not enough space to cache rdd_156_14 in memory! (computed 16.2 MiB so far)\n",
      "23/03/26 07:55:51 WARN MemoryStore: Not enough space to cache rdd_156_12 in memory! (computed 43.2 MiB so far)\n",
      "23/03/26 07:55:51 WARN MemoryStore: Not enough space to cache rdd_156_13 in memory! (computed 43.2 MiB so far)\n",
      "23/03/26 07:55:51 WARN MemoryStore: Not enough space to cache rdd_23_8 in memory! (computed 2046.8 MiB so far)\n",
      "23/03/26 07:55:51 WARN MemoryStore: Failed to reserve initial memory threshold of 1024.0 KiB for computing block rdd_156_8 in memory.\n",
      "23/03/26 07:55:51 WARN MemoryStore: Not enough space to cache rdd_156_8 in memory! (computed 384.0 B so far)\n"
     ]
    },
    {
     "name": "stderr",
     "output_type": "stream",
     "text": [
      "[Stage 74:==============================>                         (11 + 8) / 20]\r"
     ]
    },
    {
     "name": "stdout",
     "output_type": "stream",
     "text": [
      "23/03/26 07:56:21 WARN MemoryStore: Not enough space to cache rdd_23_16 in memory! (computed 3.0 GiB so far)\n",
      "23/03/26 07:56:23 WARN MemoryStore: Not enough space to cache rdd_23_17 in memory! (computed 3.0 GiB so far)\n",
      "23/03/26 07:56:23 WARN MemoryStore: Not enough space to cache rdd_23_18 in memory! (computed 3.0 GiB so far)\n",
      "23/03/26 07:56:25 WARN MemoryStore: Not enough space to cache rdd_156_18 in memory! (computed 64.8 MiB so far)\n",
      "23/03/26 07:56:25 WARN MemoryStore: Not enough space to cache rdd_156_17 in memory! (computed 99.2 MiB so far)\n",
      "23/03/26 07:56:25 WARN MemoryStore: Not enough space to cache rdd_156_16 in memory! (computed 172.8 MiB so far)\n"
     ]
    },
    {
     "name": "stderr",
     "output_type": "stream",
     "text": [
      "[Stage 74:============================================>           (16 + 4) / 20]\r"
     ]
    },
    {
     "name": "stdout",
     "output_type": "stream",
     "text": [
      "23/03/26 07:56:45 WARN MemoryStore: Not enough space to cache rdd_23_19 in memory! (computed 6.9 GiB so far)\n"
     ]
    },
    {
     "name": "stderr",
     "output_type": "stream",
     "text": [
      "[Stage 76:>                                                        (0 + 8) / 20]\r"
     ]
    },
    {
     "name": "stdout",
     "output_type": "stream",
     "text": [
      "23/03/26 07:56:55 WARN MemoryStore: Not enough space to cache rdd_23_3 in memory! (computed 909.7 MiB so far)\n",
      "23/03/26 07:56:56 WARN MemoryStore: Not enough space to cache rdd_23_1 in memory! (computed 909.7 MiB so far)\n",
      "23/03/26 07:56:56 WARN MemoryStore: Not enough space to cache rdd_23_4 in memory! (computed 909.7 MiB so far)\n",
      "23/03/26 07:56:56 WARN MemoryStore: Not enough space to cache rdd_23_3 in memory! (computed 112.4 MiB so far)\n",
      "23/03/26 07:56:56 WARN MemoryStore: Not enough space to cache rdd_23_3 in memory! (computed 9.1 MiB so far)\n",
      "23/03/26 07:56:56 WARN MemoryStore: Not enough space to cache rdd_23_4 in memory! (computed 31.4 MiB so far)\n",
      "23/03/26 07:56:56 WARN MemoryStore: Not enough space to cache rdd_23_1 in memory! (computed 20.9 MiB so far)\n",
      "23/03/26 07:56:56 WARN MemoryStore: Not enough space to cache rdd_23_4 in memory! (computed 2.3 MiB so far)\n",
      "23/03/26 07:56:56 WARN MemoryStore: Failed to reserve initial memory threshold of 1024.0 KiB for computing block rdd_153_4 in memory.\n",
      "23/03/26 07:56:56 WARN MemoryStore: Not enough space to cache rdd_153_4 in memory! (computed 384.0 B so far)\n",
      "23/03/26 07:56:56 WARN MemoryStore: Failed to reserve initial memory threshold of 1024.0 KiB for computing block rdd_175_4 in memory.\n",
      "23/03/26 07:56:56 WARN MemoryStore: Not enough space to cache rdd_175_4 in memory! (computed 384.0 B so far)\n",
      "23/03/26 07:56:56 WARN BlockManager: Persisting block rdd_175_4 to disk instead.\n",
      "23/03/26 07:56:56 WARN MemoryStore: Not enough space to cache rdd_23_1 in memory! (computed 1557.2 KiB so far)\n",
      "23/03/26 07:56:56 WARN MemoryStore: Not enough space to cache rdd_153_3 in memory! (computed 2.4 MiB so far)\n",
      "23/03/26 07:56:56 WARN MemoryStore: Failed to reserve initial memory threshold of 1024.0 KiB for computing block rdd_175_3 in memory.\n",
      "23/03/26 07:56:56 WARN MemoryStore: Not enough space to cache rdd_175_3 in memory! (computed 384.0 B so far)\n",
      "23/03/26 07:56:56 WARN BlockManager: Persisting block rdd_175_3 to disk instead.\n",
      "23/03/26 07:56:56 WARN MemoryStore: Not enough space to cache rdd_153_1 in memory! (computed 8.2 MiB so far)\n",
      "23/03/26 07:56:56 WARN MemoryStore: Failed to reserve initial memory threshold of 1024.0 KiB for computing block rdd_175_1 in memory.\n",
      "23/03/26 07:56:56 WARN MemoryStore: Not enough space to cache rdd_175_1 in memory! (computed 384.0 B so far)\n",
      "23/03/26 07:56:56 WARN BlockManager: Persisting block rdd_175_1 to disk instead.\n",
      "23/03/26 07:56:57 WARN MemoryStore: Not enough space to cache rdd_23_7 in memory! (computed 1364.5 MiB so far)\n",
      "23/03/26 07:56:57 WARN MemoryStore: Not enough space to cache rdd_23_7 in memory! (computed 3.5 MiB so far)\n",
      "23/03/26 07:56:57 WARN MemoryStore: Not enough space to cache rdd_23_7 in memory! (computed 1025.7 KiB so far)\n",
      "23/03/26 07:56:57 WARN MemoryStore: Failed to reserve initial memory threshold of 1024.0 KiB for computing block rdd_153_7 in memory.\n",
      "23/03/26 07:56:57 WARN MemoryStore: Not enough space to cache rdd_153_7 in memory! (computed 384.0 B so far)\n",
      "23/03/26 07:56:57 WARN MemoryStore: Failed to reserve initial memory threshold of 1024.0 KiB for computing block rdd_175_7 in memory.\n",
      "23/03/26 07:56:57 WARN MemoryStore: Not enough space to cache rdd_175_7 in memory! (computed 384.0 B so far)\n",
      "23/03/26 07:56:57 WARN BlockManager: Persisting block rdd_175_7 to disk instead.\n",
      "23/03/26 07:56:57 WARN MemoryStore: Not enough space to cache rdd_23_5 in memory! (computed 1364.5 MiB so far)\n",
      "23/03/26 07:56:57 WARN MemoryStore: Not enough space to cache rdd_23_5 in memory! (computed 1025.7 KiB so far)\n",
      "23/03/26 07:56:57 WARN MemoryStore: Failed to reserve initial memory threshold of 1024.0 KiB for computing block rdd_23_5 in memory.\n",
      "23/03/26 07:56:57 WARN MemoryStore: Not enough space to cache rdd_23_5 in memory! (computed 384.0 B so far)\n",
      "23/03/26 07:56:57 WARN MemoryStore: Failed to reserve initial memory threshold of 1024.0 KiB for computing block rdd_153_5 in memory.\n",
      "23/03/26 07:56:57 WARN MemoryStore: Not enough space to cache rdd_153_5 in memory! (computed 384.0 B so far)\n",
      "23/03/26 07:56:57 WARN MemoryStore: Failed to reserve initial memory threshold of 1024.0 KiB for computing block rdd_175_5 in memory.\n",
      "23/03/26 07:56:57 WARN MemoryStore: Not enough space to cache rdd_175_5 in memory! (computed 384.0 B so far)\n",
      "23/03/26 07:56:57 WARN BlockManager: Persisting block rdd_175_5 to disk instead.\n",
      "23/03/26 07:56:57 WARN MemoryStore: Not enough space to cache rdd_23_0 in memory! (computed 1364.5 MiB so far)\n",
      "23/03/26 07:56:57 WARN MemoryStore: Failed to reserve initial memory threshold of 1024.0 KiB for computing block rdd_23_0 in memory.\n",
      "23/03/26 07:56:57 WARN MemoryStore: Not enough space to cache rdd_23_0 in memory! (computed 384.0 B so far)\n",
      "23/03/26 07:56:57 WARN MemoryStore: Failed to reserve initial memory threshold of 1024.0 KiB for computing block rdd_23_0 in memory.\n",
      "23/03/26 07:56:57 WARN MemoryStore: Not enough space to cache rdd_23_0 in memory! (computed 384.0 B so far)\n",
      "23/03/26 07:56:57 WARN MemoryStore: Failed to reserve initial memory threshold of 1024.0 KiB for computing block rdd_153_0 in memory.\n",
      "23/03/26 07:56:57 WARN MemoryStore: Not enough space to cache rdd_153_0 in memory! (computed 384.0 B so far)\n",
      "23/03/26 07:56:57 WARN MemoryStore: Failed to reserve initial memory threshold of 1024.0 KiB for computing block rdd_175_0 in memory.\n",
      "23/03/26 07:56:57 WARN MemoryStore: Not enough space to cache rdd_175_0 in memory! (computed 384.0 B so far)\n",
      "23/03/26 07:56:57 WARN BlockManager: Persisting block rdd_175_0 to disk instead.\n",
      "23/03/26 07:56:57 WARN MemoryStore: Not enough space to cache rdd_23_6 in memory! (computed 1364.5 MiB so far)\n",
      "23/03/26 07:56:57 WARN MemoryStore: Failed to reserve initial memory threshold of 1024.0 KiB for computing block rdd_23_6 in memory.\n",
      "23/03/26 07:56:57 WARN MemoryStore: Not enough space to cache rdd_23_6 in memory! (computed 384.0 B so far)\n",
      "23/03/26 07:56:57 WARN MemoryStore: Failed to reserve initial memory threshold of 1024.0 KiB for computing block rdd_23_6 in memory.\n",
      "23/03/26 07:56:57 WARN MemoryStore: Not enough space to cache rdd_23_6 in memory! (computed 384.0 B so far)\n",
      "23/03/26 07:56:57 WARN MemoryStore: Failed to reserve initial memory threshold of 1024.0 KiB for computing block rdd_153_6 in memory.\n",
      "23/03/26 07:56:57 WARN MemoryStore: Not enough space to cache rdd_153_6 in memory! (computed 384.0 B so far)\n",
      "23/03/26 07:56:57 WARN MemoryStore: Failed to reserve initial memory threshold of 1024.0 KiB for computing block rdd_175_6 in memory.\n",
      "23/03/26 07:56:57 WARN MemoryStore: Not enough space to cache rdd_175_6 in memory! (computed 384.0 B so far)\n",
      "23/03/26 07:56:57 WARN BlockManager: Persisting block rdd_175_6 to disk instead.\n",
      "23/03/26 07:56:57 WARN MemoryStore: Not enough space to cache rdd_23_2 in memory! (computed 1364.5 MiB so far)\n",
      "23/03/26 07:56:57 WARN MemoryStore: Failed to reserve initial memory threshold of 1024.0 KiB for computing block rdd_23_2 in memory.\n",
      "23/03/26 07:56:57 WARN MemoryStore: Not enough space to cache rdd_23_2 in memory! (computed 384.0 B so far)\n",
      "23/03/26 07:56:57 WARN MemoryStore: Failed to reserve initial memory threshold of 1024.0 KiB for computing block rdd_23_2 in memory.\n",
      "23/03/26 07:56:57 WARN MemoryStore: Not enough space to cache rdd_23_2 in memory! (computed 384.0 B so far)\n",
      "23/03/26 07:56:57 WARN MemoryStore: Failed to reserve initial memory threshold of 1024.0 KiB for computing block rdd_153_2 in memory.\n",
      "23/03/26 07:56:57 WARN MemoryStore: Not enough space to cache rdd_153_2 in memory! (computed 384.0 B so far)\n",
      "23/03/26 07:56:57 WARN MemoryStore: Failed to reserve initial memory threshold of 1024.0 KiB for computing block rdd_175_2 in memory.\n",
      "23/03/26 07:56:57 WARN MemoryStore: Not enough space to cache rdd_175_2 in memory! (computed 384.0 B so far)\n",
      "23/03/26 07:56:57 WARN BlockManager: Persisting block rdd_175_2 to disk instead.\n",
      "23/03/26 07:57:25 WARN MemoryStore: Not enough space to cache rdd_175_4 in memory! (computed 3.7 MiB so far)\n",
      "23/03/26 07:57:25 WARN MemoryStore: Not enough space to cache rdd_175_1 in memory! (computed 3.7 MiB so far)\n",
      "23/03/26 07:57:25 WARN MemoryStore: Failed to reserve initial memory threshold of 1024.0 KiB for computing block rdd_178_1 in memory.\n",
      "23/03/26 07:57:25 WARN MemoryStore: Not enough space to cache rdd_178_1 in memory! (computed 384.0 B so far)\n",
      "23/03/26 07:57:25 WARN BlockManager: Persisting block rdd_178_1 to disk instead.\n",
      "23/03/26 07:57:27 WARN MemoryStore: Failed to reserve initial memory threshold of 1024.0 KiB for computing block rdd_175_3 in memory.\n",
      "23/03/26 07:57:27 WARN MemoryStore: Not enough space to cache rdd_175_3 in memory! (computed 384.0 B so far)\n",
      "23/03/26 07:57:27 WARN MemoryStore: Failed to reserve initial memory threshold of 1024.0 KiB for computing block rdd_178_3 in memory.\n",
      "23/03/26 07:57:27 WARN MemoryStore: Not enough space to cache rdd_178_3 in memory! (computed 384.0 B so far)\n",
      "23/03/26 07:57:27 WARN BlockManager: Persisting block rdd_178_3 to disk instead.\n",
      "23/03/26 07:57:27 WARN MemoryStore: Failed to reserve initial memory threshold of 1024.0 KiB for computing block rdd_175_0 in memory.\n",
      "23/03/26 07:57:27 WARN MemoryStore: Not enough space to cache rdd_175_0 in memory! (computed 384.0 B so far)\n",
      "23/03/26 07:57:27 WARN MemoryStore: Failed to reserve initial memory threshold of 1024.0 KiB for computing block rdd_178_0 in memory.\n",
      "23/03/26 07:57:27 WARN MemoryStore: Not enough space to cache rdd_178_0 in memory! (computed 384.0 B so far)\n",
      "23/03/26 07:57:27 WARN BlockManager: Persisting block rdd_178_0 to disk instead.\n",
      "23/03/26 07:57:28 WARN MemoryStore: Not enough space to cache rdd_175_6 in memory! (computed 29.2 MiB so far)\n",
      "23/03/26 07:57:28 WARN MemoryStore: Not enough space to cache rdd_178_4 in memory! (computed 16.2 MiB so far)\n",
      "23/03/26 07:57:28 WARN BlockManager: Persisting block rdd_178_4 to disk instead.\n",
      "23/03/26 07:57:28 WARN MemoryStore: Not enough space to cache rdd_175_5 in memory! (computed 19.5 MiB so far)\n",
      "23/03/26 07:57:28 WARN MemoryStore: Not enough space to cache rdd_175_7 in memory! (computed 104.0 MiB so far)\n",
      "23/03/26 07:57:28 WARN MemoryStore: Not enough space to cache rdd_175_2 in memory! (computed 8.2 MiB so far)\n",
      "23/03/26 07:57:28 WARN MemoryStore: Not enough space to cache rdd_178_6 in memory! (computed 6.2 MiB so far)\n",
      "23/03/26 07:57:28 WARN BlockManager: Persisting block rdd_178_6 to disk instead.\n",
      "23/03/26 07:57:28 WARN MemoryStore: Not enough space to cache rdd_178_5 in memory! (computed 6.2 MiB so far)\n",
      "23/03/26 07:57:28 WARN BlockManager: Persisting block rdd_178_5 to disk instead.\n",
      "23/03/26 07:57:28 WARN MemoryStore: Not enough space to cache rdd_178_2 in memory! (computed 1537.3 KiB so far)\n",
      "23/03/26 07:57:28 WARN BlockManager: Persisting block rdd_178_2 to disk instead.\n",
      "23/03/26 07:57:36 WARN MemoryStore: Not enough space to cache rdd_178_7 in memory! (computed 64.8 MiB so far)\n",
      "23/03/26 07:57:36 WARN BlockManager: Persisting block rdd_178_7 to disk instead.\n"
     ]
    },
    {
     "name": "stderr",
     "output_type": "stream",
     "text": [
      "[Stage 76:>                                                        (0 + 8) / 20]\r"
     ]
    },
    {
     "name": "stdout",
     "output_type": "stream",
     "text": [
      "23/03/26 07:57:56 WARN MemoryStore: Not enough space to cache rdd_178_0 in memory! (computed 16.2 MiB so far)\n",
      "23/03/26 07:57:56 WARN MemoryStore: Not enough space to cache rdd_178_4 in memory! (computed 64.8 MiB so far)\n",
      "23/03/26 07:57:56 WARN MemoryStore: Not enough space to cache rdd_178_7 in memory! (computed 24.3 MiB so far)\n",
      "23/03/26 07:57:56 WARN MemoryStore: Not enough space to cache rdd_178_6 in memory! (computed 4.0 MiB so far)\n",
      "23/03/26 07:57:57 WARN MemoryStore: Not enough space to cache rdd_178_1 in memory! (computed 64.8 MiB so far)\n",
      "23/03/26 07:57:57 WARN MemoryStore: Not enough space to cache rdd_178_3 in memory! (computed 4.0 MiB so far)\n"
     ]
    },
    {
     "name": "stderr",
     "output_type": "stream",
     "text": [
      "[Stage 76:=================>                                       (6 + 8) / 20]\r"
     ]
    },
    {
     "name": "stdout",
     "output_type": "stream",
     "text": [
      "23/03/26 07:58:40 WARN MemoryStore: Not enough space to cache rdd_23_8 in memory! (computed 2046.8 MiB so far)\n",
      "23/03/26 07:58:40 WARN MemoryStore: Not enough space to cache rdd_23_11 in memory! (computed 1364.5 MiB so far)\n",
      "23/03/26 07:58:40 WARN MemoryStore: Not enough space to cache rdd_23_9 in memory! (computed 2046.8 MiB so far)\n",
      "23/03/26 07:58:40 WARN MemoryStore: Not enough space to cache rdd_23_13 in memory! (computed 252.9 MiB so far)\n",
      "23/03/26 07:58:40 WARN MemoryStore: Not enough space to cache rdd_23_13 in memory! (computed 13.9 MiB so far)\n",
      "23/03/26 07:58:40 WARN MemoryStore: Not enough space to cache rdd_23_9 in memory! (computed 47.4 MiB so far)\n",
      "23/03/26 07:58:40 WARN MemoryStore: Not enough space to cache rdd_23_13 in memory! (computed 2.3 MiB so far)\n",
      "23/03/26 07:58:40 WARN MemoryStore: Failed to reserve initial memory threshold of 1024.0 KiB for computing block rdd_153_13 in memory.\n",
      "23/03/26 07:58:40 WARN MemoryStore: Not enough space to cache rdd_153_13 in memory! (computed 384.0 B so far)\n",
      "23/03/26 07:58:40 WARN MemoryStore: Failed to reserve initial memory threshold of 1024.0 KiB for computing block rdd_175_13 in memory.\n",
      "23/03/26 07:58:40 WARN MemoryStore: Not enough space to cache rdd_175_13 in memory! (computed 384.0 B so far)\n",
      "23/03/26 07:58:40 WARN BlockManager: Persisting block rdd_175_13 to disk instead.\n",
      "23/03/26 07:58:41 WARN MemoryStore: Not enough space to cache rdd_23_8 in memory! (computed 112.4 MiB so far)\n",
      "23/03/26 07:58:41 WARN MemoryStore: Failed to reserve initial memory threshold of 1024.0 KiB for computing block rdd_23_8 in memory.\n",
      "23/03/26 07:58:41 WARN MemoryStore: Not enough space to cache rdd_23_8 in memory! (computed 384.0 B so far)\n",
      "23/03/26 07:58:41 WARN MemoryStore: Failed to reserve initial memory threshold of 1024.0 KiB for computing block rdd_153_8 in memory.\n",
      "23/03/26 07:58:41 WARN MemoryStore: Not enough space to cache rdd_153_8 in memory! (computed 384.0 B so far)\n",
      "23/03/26 07:58:41 WARN MemoryStore: Failed to reserve initial memory threshold of 1024.0 KiB for computing block rdd_175_8 in memory.\n",
      "23/03/26 07:58:41 WARN MemoryStore: Not enough space to cache rdd_175_8 in memory! (computed 384.0 B so far)\n",
      "23/03/26 07:58:41 WARN BlockManager: Persisting block rdd_175_8 to disk instead.\n",
      "23/03/26 07:58:41 WARN MemoryStore: Not enough space to cache rdd_23_9 in memory! (computed 3.5 MiB so far)\n",
      "23/03/26 07:58:41 WARN MemoryStore: Not enough space to cache rdd_23_11 in memory! (computed 168.6 MiB so far)\n",
      "23/03/26 07:58:41 WARN MemoryStore: Failed to reserve initial memory threshold of 1024.0 KiB for computing block rdd_23_11 in memory.\n",
      "23/03/26 07:58:41 WARN MemoryStore: Not enough space to cache rdd_23_11 in memory! (computed 384.0 B so far)\n",
      "23/03/26 07:58:41 WARN MemoryStore: Failed to reserve initial memory threshold of 1024.0 KiB for computing block rdd_153_11 in memory.\n",
      "23/03/26 07:58:41 WARN MemoryStore: Not enough space to cache rdd_153_11 in memory! (computed 384.0 B so far)\n",
      "23/03/26 07:58:41 WARN MemoryStore: Failed to reserve initial memory threshold of 1024.0 KiB for computing block rdd_175_11 in memory.\n",
      "23/03/26 07:58:41 WARN MemoryStore: Not enough space to cache rdd_175_11 in memory! (computed 384.0 B so far)\n",
      "23/03/26 07:58:41 WARN BlockManager: Persisting block rdd_175_11 to disk instead.\n",
      "23/03/26 07:58:41 WARN MemoryStore: Not enough space to cache rdd_153_9 in memory! (computed 2.4 MiB so far)\n",
      "23/03/26 07:58:41 WARN MemoryStore: Failed to reserve initial memory threshold of 1024.0 KiB for computing block rdd_175_9 in memory.\n",
      "23/03/26 07:58:41 WARN MemoryStore: Not enough space to cache rdd_175_9 in memory! (computed 384.0 B so far)\n",
      "23/03/26 07:58:41 WARN BlockManager: Persisting block rdd_175_9 to disk instead.\n",
      "23/03/26 07:58:41 WARN MemoryStore: Not enough space to cache rdd_23_12 in memory! (computed 1364.5 MiB so far)\n",
      "23/03/26 07:58:41 WARN MemoryStore: Not enough space to cache rdd_23_12 in memory! (computed 5.3 MiB so far)\n",
      "23/03/26 07:58:41 WARN MemoryStore: Not enough space to cache rdd_23_12 in memory! (computed 1025.7 KiB so far)\n",
      "23/03/26 07:58:41 WARN MemoryStore: Failed to reserve initial memory threshold of 1024.0 KiB for computing block rdd_153_12 in memory.\n",
      "23/03/26 07:58:41 WARN MemoryStore: Not enough space to cache rdd_153_12 in memory! (computed 384.0 B so far)\n",
      "23/03/26 07:58:41 WARN MemoryStore: Failed to reserve initial memory threshold of 1024.0 KiB for computing block rdd_175_12 in memory.\n",
      "23/03/26 07:58:41 WARN MemoryStore: Not enough space to cache rdd_175_12 in memory! (computed 384.0 B so far)\n",
      "23/03/26 07:58:41 WARN BlockManager: Persisting block rdd_175_12 to disk instead.\n",
      "23/03/26 07:58:41 WARN MemoryStore: Not enough space to cache rdd_23_10 in memory! (computed 2046.8 MiB so far)\n",
      "23/03/26 07:58:41 WARN MemoryStore: Not enough space to cache rdd_23_10 in memory! (computed 1025.7 KiB so far)\n",
      "23/03/26 07:58:41 WARN MemoryStore: Failed to reserve initial memory threshold of 1024.0 KiB for computing block rdd_23_10 in memory.\n",
      "23/03/26 07:58:41 WARN MemoryStore: Not enough space to cache rdd_23_10 in memory! (computed 384.0 B so far)\n",
      "23/03/26 07:58:41 WARN MemoryStore: Failed to reserve initial memory threshold of 1024.0 KiB for computing block rdd_153_10 in memory.\n",
      "23/03/26 07:58:41 WARN MemoryStore: Not enough space to cache rdd_153_10 in memory! (computed 384.0 B so far)\n",
      "23/03/26 07:58:41 WARN MemoryStore: Failed to reserve initial memory threshold of 1024.0 KiB for computing block rdd_175_10 in memory.\n",
      "23/03/26 07:58:41 WARN MemoryStore: Not enough space to cache rdd_175_10 in memory! (computed 384.0 B so far)\n",
      "23/03/26 07:58:41 WARN BlockManager: Persisting block rdd_175_10 to disk instead.\n",
      "23/03/26 07:58:42 WARN MemoryStore: Failed to reserve initial memory threshold of 1024.0 KiB for computing block rdd_23_14 in memory.\n",
      "23/03/26 07:58:42 WARN MemoryStore: Not enough space to cache rdd_23_14 in memory! (computed 384.0 B so far)\n",
      "23/03/26 07:58:42 WARN MemoryStore: Failed to reserve initial memory threshold of 1024.0 KiB for computing block rdd_23_14 in memory.\n",
      "23/03/26 07:58:42 WARN MemoryStore: Not enough space to cache rdd_23_14 in memory! (computed 384.0 B so far)\n",
      "23/03/26 07:58:42 WARN MemoryStore: Failed to reserve initial memory threshold of 1024.0 KiB for computing block rdd_23_14 in memory.\n",
      "23/03/26 07:58:42 WARN MemoryStore: Not enough space to cache rdd_23_14 in memory! (computed 384.0 B so far)\n",
      "23/03/26 07:58:42 WARN MemoryStore: Failed to reserve initial memory threshold of 1024.0 KiB for computing block rdd_153_14 in memory.\n",
      "23/03/26 07:58:42 WARN MemoryStore: Not enough space to cache rdd_153_14 in memory! (computed 384.0 B so far)\n",
      "23/03/26 07:58:42 WARN MemoryStore: Failed to reserve initial memory threshold of 1024.0 KiB for computing block rdd_175_14 in memory.\n",
      "23/03/26 07:58:42 WARN MemoryStore: Not enough space to cache rdd_175_14 in memory! (computed 384.0 B so far)\n",
      "23/03/26 07:58:42 WARN BlockManager: Persisting block rdd_175_14 to disk instead.\n"
     ]
    },
    {
     "name": "stderr",
     "output_type": "stream",
     "text": [
      "[Stage 76:======================>                                  (8 + 8) / 20]\r"
     ]
    },
    {
     "name": "stdout",
     "output_type": "stream",
     "text": [
      "23/03/26 07:58:43 WARN MemoryStore: Not enough space to cache rdd_23_15 in memory! (computed 168.6 MiB so far)\n",
      "23/03/26 07:58:43 WARN MemoryStore: Not enough space to cache rdd_23_15 in memory! (computed 9.1 MiB so far)\n",
      "23/03/26 07:58:43 WARN MemoryStore: Not enough space to cache rdd_23_15 in memory! (computed 5.3 MiB so far)\n",
      "23/03/26 07:58:43 WARN MemoryStore: Failed to reserve initial memory threshold of 1024.0 KiB for computing block rdd_153_15 in memory.\n",
      "23/03/26 07:58:43 WARN MemoryStore: Not enough space to cache rdd_153_15 in memory! (computed 384.0 B so far)\n",
      "23/03/26 07:58:43 WARN MemoryStore: Failed to reserve initial memory threshold of 1024.0 KiB for computing block rdd_175_15 in memory.\n",
      "23/03/26 07:58:43 WARN MemoryStore: Not enough space to cache rdd_175_15 in memory! (computed 384.0 B so far)\n",
      "23/03/26 07:58:43 WARN BlockManager: Persisting block rdd_175_15 to disk instead.\n",
      "23/03/26 07:58:57 WARN MemoryStore: Not enough space to cache rdd_175_13 in memory! (computed 5.5 MiB so far)\n",
      "23/03/26 07:58:57 WARN MemoryStore: Failed to reserve initial memory threshold of 1024.0 KiB for computing block rdd_178_13 in memory.\n",
      "23/03/26 07:58:57 WARN MemoryStore: Not enough space to cache rdd_178_13 in memory! (computed 384.0 B so far)\n",
      "23/03/26 07:58:57 WARN BlockManager: Persisting block rdd_178_13 to disk instead.\n",
      "23/03/26 07:58:59 WARN MemoryStore: Not enough space to cache rdd_175_14 in memory! (computed 13.0 MiB so far)\n",
      "23/03/26 07:58:59 WARN MemoryStore: Not enough space to cache rdd_175_12 in memory! (computed 3.7 MiB so far)\n",
      "23/03/26 07:58:59 WARN MemoryStore: Failed to reserve initial memory threshold of 1024.0 KiB for computing block rdd_178_12 in memory.\n",
      "23/03/26 07:58:59 WARN MemoryStore: Not enough space to cache rdd_178_12 in memory! (computed 384.0 B so far)\n",
      "23/03/26 07:58:59 WARN BlockManager: Persisting block rdd_178_12 to disk instead.\n",
      "23/03/26 07:59:00 WARN MemoryStore: Not enough space to cache rdd_178_14 in memory! (computed 10.8 MiB so far)\n",
      "23/03/26 07:59:00 WARN BlockManager: Persisting block rdd_178_14 to disk instead.\n",
      "23/03/26 07:59:10 WARN MemoryStore: Not enough space to cache rdd_175_11 in memory! (computed 3.7 MiB so far)\n",
      "23/03/26 07:59:10 WARN MemoryStore: Not enough space to cache rdd_178_11 in memory! (computed 1024.6 KiB so far)\n",
      "23/03/26 07:59:10 WARN BlockManager: Persisting block rdd_178_11 to disk instead.\n",
      "23/03/26 07:59:10 WARN MemoryStore: Not enough space to cache rdd_175_8 in memory! (computed 19.5 MiB so far)\n",
      "23/03/26 07:59:12 WARN MemoryStore: Not enough space to cache rdd_175_9 in memory! (computed 104.0 MiB so far)\n",
      "23/03/26 07:59:13 WARN MemoryStore: Not enough space to cache rdd_175_10 in memory! (computed 156.0 MiB so far)\n",
      "23/03/26 07:59:13 WARN MemoryStore: Not enough space to cache rdd_178_13 in memory! (computed 16.2 MiB so far)\n",
      "23/03/26 07:59:14 WARN MemoryStore: Not enough space to cache rdd_178_10 in memory! (computed 2.7 MiB so far)\n",
      "23/03/26 07:59:14 WARN BlockManager: Persisting block rdd_178_10 to disk instead.\n",
      "23/03/26 07:59:14 WARN MemoryStore: Not enough space to cache rdd_178_8 in memory! (computed 24.3 MiB so far)\n",
      "23/03/26 07:59:14 WARN BlockManager: Persisting block rdd_178_8 to disk instead.\n",
      "23/03/26 07:59:14 WARN MemoryStore: Not enough space to cache rdd_175_15 in memory! (computed 43.9 MiB so far)\n",
      "23/03/26 07:59:18 WARN MemoryStore: Not enough space to cache rdd_178_14 in memory! (computed 99.2 MiB so far)\n",
      "23/03/26 07:59:19 WARN MemoryStore: Not enough space to cache rdd_178_12 in memory! (computed 99.2 MiB so far)\n"
     ]
    },
    {
     "name": "stderr",
     "output_type": "stream",
     "text": [
      "[Stage 76:============================>                           (10 + 8) / 20]\r"
     ]
    },
    {
     "name": "stdout",
     "output_type": "stream",
     "text": [
      "23/03/26 07:59:41 WARN MemoryStore: Not enough space to cache rdd_23_17 in memory! (computed 168.6 MiB so far)\n",
      "23/03/26 07:59:41 WARN MemoryStore: Not enough space to cache rdd_23_17 in memory! (computed 5.3 MiB so far)\n",
      "23/03/26 07:59:41 WARN MemoryStore: Failed to reserve initial memory threshold of 1024.0 KiB for computing block rdd_23_17 in memory.\n",
      "23/03/26 07:59:41 WARN MemoryStore: Not enough space to cache rdd_23_17 in memory! (computed 384.0 B so far)\n",
      "23/03/26 07:59:41 WARN MemoryStore: Failed to reserve initial memory threshold of 1024.0 KiB for computing block rdd_153_17 in memory.\n",
      "23/03/26 07:59:41 WARN MemoryStore: Not enough space to cache rdd_153_17 in memory! (computed 384.0 B so far)\n",
      "23/03/26 07:59:41 WARN MemoryStore: Failed to reserve initial memory threshold of 1024.0 KiB for computing block rdd_175_17 in memory.\n",
      "23/03/26 07:59:41 WARN MemoryStore: Not enough space to cache rdd_175_17 in memory! (computed 384.0 B so far)\n",
      "23/03/26 07:59:41 WARN BlockManager: Persisting block rdd_175_17 to disk instead.\n",
      "23/03/26 07:59:41 WARN MemoryStore: Not enough space to cache rdd_23_18 in memory! (computed 3.5 MiB so far)\n",
      "23/03/26 07:59:41 WARN MemoryStore: Failed to reserve initial memory threshold of 1024.0 KiB for computing block rdd_23_18 in memory.\n",
      "23/03/26 07:59:41 WARN MemoryStore: Not enough space to cache rdd_23_18 in memory! (computed 384.0 B so far)\n",
      "23/03/26 07:59:41 WARN MemoryStore: Failed to reserve initial memory threshold of 1024.0 KiB for computing block rdd_23_18 in memory.\n",
      "23/03/26 07:59:41 WARN MemoryStore: Not enough space to cache rdd_23_18 in memory! (computed 384.0 B so far)\n",
      "23/03/26 07:59:41 WARN MemoryStore: Failed to reserve initial memory threshold of 1024.0 KiB for computing block rdd_153_18 in memory.\n",
      "23/03/26 07:59:41 WARN MemoryStore: Not enough space to cache rdd_153_18 in memory! (computed 384.0 B so far)\n",
      "23/03/26 07:59:41 WARN MemoryStore: Failed to reserve initial memory threshold of 1024.0 KiB for computing block rdd_175_18 in memory.\n",
      "23/03/26 07:59:41 WARN MemoryStore: Not enough space to cache rdd_175_18 in memory! (computed 384.0 B so far)\n",
      "23/03/26 07:59:41 WARN BlockManager: Persisting block rdd_175_18 to disk instead.\n",
      "23/03/26 07:59:41 WARN MemoryStore: Not enough space to cache rdd_23_16 in memory! (computed 1364.5 MiB so far)\n",
      "23/03/26 07:59:41 WARN MemoryStore: Failed to reserve initial memory threshold of 1024.0 KiB for computing block rdd_23_16 in memory.\n",
      "23/03/26 07:59:41 WARN MemoryStore: Not enough space to cache rdd_23_16 in memory! (computed 384.0 B so far)\n",
      "23/03/26 07:59:41 WARN MemoryStore: Failed to reserve initial memory threshold of 1024.0 KiB for computing block rdd_23_16 in memory.\n",
      "23/03/26 07:59:41 WARN MemoryStore: Not enough space to cache rdd_23_16 in memory! (computed 384.0 B so far)\n",
      "23/03/26 07:59:41 WARN MemoryStore: Failed to reserve initial memory threshold of 1024.0 KiB for computing block rdd_153_16 in memory.\n",
      "23/03/26 07:59:41 WARN MemoryStore: Not enough space to cache rdd_153_16 in memory! (computed 384.0 B so far)\n",
      "23/03/26 07:59:41 WARN MemoryStore: Failed to reserve initial memory threshold of 1024.0 KiB for computing block rdd_175_16 in memory.\n",
      "23/03/26 07:59:41 WARN MemoryStore: Not enough space to cache rdd_175_16 in memory! (computed 384.0 B so far)\n",
      "23/03/26 07:59:41 WARN BlockManager: Persisting block rdd_175_16 to disk instead.\n"
     ]
    },
    {
     "name": "stderr",
     "output_type": "stream",
     "text": [
      "[Stage 76:============================================>           (16 + 4) / 20]\r"
     ]
    },
    {
     "name": "stdout",
     "output_type": "stream",
     "text": [
      "23/03/26 08:00:34 WARN MemoryStore: Not enough space to cache rdd_23_19 in memory! (computed 6.9 GiB so far)\n",
      "23/03/26 08:00:36 WARN MemoryStore: Not enough space to cache rdd_23_19 in memory! (computed 2046.8 MiB so far)\n",
      "23/03/26 08:00:37 WARN MemoryStore: Not enough space to cache rdd_23_19 in memory! (computed 73.6 MiB so far)\n",
      "23/03/26 08:00:37 WARN MemoryStore: Not enough space to cache rdd_153_19 in memory! (computed 29.2 MiB so far)\n",
      "23/03/26 08:00:43 WARN MemoryStore: Not enough space to cache rdd_175_19 in memory! (computed 104.0 MiB so far)\n",
      "23/03/26 08:00:43 WARN BlockManager: Persisting block rdd_175_19 to disk instead.\n"
     ]
    },
    {
     "name": "stderr",
     "output_type": "stream",
     "text": [
      "[Stage 78:>                                                        (0 + 8) / 20]\r"
     ]
    },
    {
     "name": "stdout",
     "output_type": "stream",
     "text": [
      "23/03/26 08:01:12 WARN MemoryStore: Not enough space to cache rdd_23_1 in memory! (computed 1364.5 MiB so far)\n",
      "23/03/26 08:01:12 WARN MemoryStore: Not enough space to cache rdd_23_6 in memory! (computed 1364.5 MiB so far)\n",
      "23/03/26 08:01:12 WARN MemoryStore: Not enough space to cache rdd_23_5 in memory! (computed 1364.5 MiB so far)\n",
      "23/03/26 08:01:12 WARN MemoryStore: Not enough space to cache rdd_23_4 in memory! (computed 1364.5 MiB so far)\n",
      "23/03/26 08:01:12 WARN MemoryStore: Not enough space to cache rdd_23_2 in memory! (computed 909.7 MiB so far)\n",
      "23/03/26 08:01:12 WARN MemoryStore: Not enough space to cache rdd_23_0 in memory! (computed 909.7 MiB so far)\n",
      "23/03/26 08:01:12 WARN MemoryStore: Not enough space to cache rdd_23_3 in memory! (computed 909.7 MiB so far)\n",
      "23/03/26 08:01:12 WARN MemoryStore: Not enough space to cache rdd_178_5 in memory! (computed 6.2 MiB so far)\n",
      "23/03/26 08:01:12 WARN MemoryStore: Not enough space to cache rdd_178_4 in memory! (computed 6.2 MiB so far)\n",
      "23/03/26 08:01:12 WARN MemoryStore: Not enough space to cache rdd_178_0 in memory! (computed 6.2 MiB so far)\n",
      "23/03/26 08:01:12 WARN MemoryStore: Not enough space to cache rdd_178_6 in memory! (computed 10.8 MiB so far)\n",
      "23/03/26 08:01:12 WARN MemoryStore: Not enough space to cache rdd_178_3 in memory! (computed 6.2 MiB so far)\n",
      "23/03/26 08:01:12 WARN MemoryStore: Not enough space to cache rdd_178_2 in memory! (computed 6.2 MiB so far)\n",
      "23/03/26 08:01:12 WARN MemoryStore: Not enough space to cache rdd_178_1 in memory! (computed 10.8 MiB so far)\n",
      "23/03/26 08:01:14 WARN MemoryStore: Not enough space to cache rdd_23_7 in memory! (computed 1364.5 MiB so far)\n",
      "23/03/26 08:01:14 WARN MemoryStore: Not enough space to cache rdd_178_7 in memory! (computed 43.2 MiB so far)\n"
     ]
    },
    {
     "name": "stderr",
     "output_type": "stream",
     "text": [
      "[Stage 78:======================>                                  (8 + 8) / 20]\r"
     ]
    },
    {
     "name": "stdout",
     "output_type": "stream",
     "text": [
      "23/03/26 08:01:59 WARN MemoryStore: Not enough space to cache rdd_23_10 in memory! (computed 1364.5 MiB so far)\n",
      "23/03/26 08:02:01 WARN MemoryStore: Not enough space to cache rdd_23_9 in memory! (computed 2046.8 MiB so far)\n",
      "23/03/26 08:02:01 WARN MemoryStore: Not enough space to cache rdd_23_12 in memory! (computed 1364.5 MiB so far)\n",
      "23/03/26 08:02:01 WARN MemoryStore: Not enough space to cache rdd_23_8 in memory! (computed 2046.8 MiB so far)\n",
      "23/03/26 08:02:01 WARN MemoryStore: Not enough space to cache rdd_23_13 in memory! (computed 589.3 MiB so far)\n",
      "23/03/26 08:02:01 WARN MemoryStore: Not enough space to cache rdd_23_14 in memory! (computed 589.3 MiB so far)\n",
      "23/03/26 08:02:01 WARN MemoryStore: Not enough space to cache rdd_23_11 in memory! (computed 1364.5 MiB so far)\n",
      "23/03/26 08:02:01 WARN MemoryStore: Not enough space to cache rdd_23_15 in memory! (computed 252.9 MiB so far)\n",
      "23/03/26 08:02:01 WARN MemoryStore: Not enough space to cache rdd_178_12 in memory! (computed 6.2 MiB so far)\n",
      "23/03/26 08:02:01 WARN MemoryStore: Not enough space to cache rdd_178_15 in memory! (computed 1024.6 KiB so far)\n",
      "23/03/26 08:02:01 WARN MemoryStore: Not enough space to cache rdd_178_13 in memory! (computed 10.8 MiB so far)\n",
      "23/03/26 08:02:01 WARN MemoryStore: Not enough space to cache rdd_178_11 in memory! (computed 10.8 MiB so far)\n",
      "23/03/26 08:02:01 WARN MemoryStore: Not enough space to cache rdd_178_10 in memory! (computed 16.2 MiB so far)\n",
      "23/03/26 08:02:01 WARN MemoryStore: Not enough space to cache rdd_178_8 in memory! (computed 10.8 MiB so far)\n",
      "23/03/26 08:02:01 WARN MemoryStore: Not enough space to cache rdd_178_9 in memory! (computed 10.8 MiB so far)\n",
      "23/03/26 08:02:01 WARN MemoryStore: Not enough space to cache rdd_178_14 in memory! (computed 10.8 MiB so far)\n"
     ]
    },
    {
     "name": "stderr",
     "output_type": "stream",
     "text": [
      "[Stage 78:==============================>                         (11 + 8) / 20]\r"
     ]
    },
    {
     "name": "stdout",
     "output_type": "stream",
     "text": [
      "23/03/26 08:02:32 WARN MemoryStore: Not enough space to cache rdd_23_16 in memory! (computed 3.0 GiB so far)\n",
      "23/03/26 08:02:33 WARN MemoryStore: Not enough space to cache rdd_23_17 in memory! (computed 3.0 GiB so far)\n",
      "23/03/26 08:02:34 WARN MemoryStore: Not enough space to cache rdd_23_18 in memory! (computed 3.0 GiB so far)\n",
      "23/03/26 08:02:37 WARN MemoryStore: Not enough space to cache rdd_178_16 in memory! (computed 172.8 MiB so far)\n",
      "23/03/26 08:02:37 WARN MemoryStore: Not enough space to cache rdd_178_18 in memory! (computed 99.2 MiB so far)\n"
     ]
    },
    {
     "name": "stderr",
     "output_type": "stream",
     "text": [
      "[Stage 78:============================================>           (16 + 4) / 20]\r"
     ]
    },
    {
     "name": "stdout",
     "output_type": "stream",
     "text": [
      "23/03/26 08:02:54 WARN MemoryStore: Not enough space to cache rdd_23_19 in memory! (computed 6.9 GiB so far)\n"
     ]
    },
    {
     "name": "stderr",
     "output_type": "stream",
     "text": [
      "[Stage 80:>                                                        (0 + 8) / 20]\r"
     ]
    },
    {
     "name": "stdout",
     "output_type": "stream",
     "text": [
      "23/03/26 08:03:06 WARN MemoryStore: Not enough space to cache rdd_23_3 in memory! (computed 909.7 MiB so far)\n",
      "23/03/26 08:03:06 WARN MemoryStore: Not enough space to cache rdd_23_0 in memory! (computed 909.7 MiB so far)\n",
      "23/03/26 08:03:06 WARN MemoryStore: Not enough space to cache rdd_23_7 in memory! (computed 909.7 MiB so far)\n",
      "23/03/26 08:03:06 WARN MemoryStore: Not enough space to cache rdd_178_0 in memory! (computed 16.2 MiB so far)\n",
      "23/03/26 08:03:06 WARN MemoryStore: Not enough space to cache rdd_178_7 in memory! (computed 16.2 MiB so far)\n",
      "23/03/26 08:03:07 WARN MemoryStore: Not enough space to cache rdd_178_3 in memory! (computed 16.2 MiB so far)\n",
      "23/03/26 08:03:07 WARN MemoryStore: Not enough space to cache rdd_23_4 in memory! (computed 1364.5 MiB so far)\n",
      "23/03/26 08:03:07 WARN MemoryStore: Not enough space to cache rdd_23_6 in memory! (computed 1364.5 MiB so far)\n",
      "23/03/26 08:03:07 WARN MemoryStore: Failed to reserve initial memory threshold of 1024.0 KiB for computing block rdd_178_6 in memory.\n",
      "23/03/26 08:03:07 WARN MemoryStore: Not enough space to cache rdd_178_6 in memory! (computed 384.0 B so far)\n",
      "23/03/26 08:03:07 WARN MemoryStore: Not enough space to cache rdd_178_4 in memory! (computed 1024.6 KiB so far)\n",
      "23/03/26 08:03:07 WARN MemoryStore: Not enough space to cache rdd_23_5 in memory! (computed 1364.5 MiB so far)\n",
      "23/03/26 08:03:07 WARN MemoryStore: Failed to reserve initial memory threshold of 1024.0 KiB for computing block rdd_178_5 in memory.\n",
      "23/03/26 08:03:07 WARN MemoryStore: Not enough space to cache rdd_178_5 in memory! (computed 384.0 B so far)\n",
      "23/03/26 08:03:07 WARN MemoryStore: Not enough space to cache rdd_23_2 in memory! (computed 1364.5 MiB so far)\n",
      "23/03/26 08:03:07 WARN MemoryStore: Failed to reserve initial memory threshold of 1024.0 KiB for computing block rdd_178_2 in memory.\n",
      "23/03/26 08:03:07 WARN MemoryStore: Not enough space to cache rdd_178_2 in memory! (computed 384.0 B so far)\n",
      "23/03/26 08:03:07 WARN MemoryStore: Not enough space to cache rdd_23_1 in memory! (computed 1364.5 MiB so far)\n",
      "23/03/26 08:03:07 WARN MemoryStore: Not enough space to cache rdd_178_1 in memory! (computed 1024.6 KiB so far)\n"
     ]
    },
    {
     "name": "stderr",
     "output_type": "stream",
     "text": [
      "[Stage 80:======================>                                  (8 + 8) / 20]\r"
     ]
    },
    {
     "name": "stdout",
     "output_type": "stream",
     "text": [
      "23/03/26 08:03:52 WARN MemoryStore: Not enough space to cache rdd_23_10 in memory! (computed 1364.5 MiB so far)\n",
      "23/03/26 08:03:52 WARN MemoryStore: Not enough space to cache rdd_23_13 in memory! (computed 909.7 MiB so far)\n",
      "23/03/26 08:03:52 WARN MemoryStore: Not enough space to cache rdd_23_14 in memory! (computed 589.3 MiB so far)\n",
      "23/03/26 08:03:52 WARN MemoryStore: Not enough space to cache rdd_23_15 in memory! (computed 589.3 MiB so far)\n",
      "23/03/26 08:03:52 WARN MemoryStore: Not enough space to cache rdd_23_11 in memory! (computed 1364.5 MiB so far)\n",
      "23/03/26 08:03:52 WARN MemoryStore: Not enough space to cache rdd_23_9 in memory! (computed 1364.5 MiB so far)\n",
      "23/03/26 08:03:52 WARN MemoryStore: Not enough space to cache rdd_23_12 in memory! (computed 1364.5 MiB so far)\n",
      "23/03/26 08:03:53 WARN MemoryStore: Not enough space to cache rdd_178_13 in memory! (computed 24.3 MiB so far)\n",
      "23/03/26 08:03:53 WARN MemoryStore: Not enough space to cache rdd_178_11 in memory! (computed 10.8 MiB so far)\n",
      "23/03/26 08:03:53 WARN MemoryStore: Not enough space to cache rdd_178_12 in memory! (computed 4.0 MiB so far)\n",
      "23/03/26 08:03:53 WARN MemoryStore: Not enough space to cache rdd_178_9 in memory! (computed 6.2 MiB so far)\n",
      "23/03/26 08:03:53 WARN MemoryStore: Not enough space to cache rdd_178_15 in memory! (computed 16.2 MiB so far)\n",
      "23/03/26 08:03:53 WARN MemoryStore: Not enough space to cache rdd_178_14 in memory! (computed 24.3 MiB so far)\n",
      "23/03/26 08:03:53 WARN MemoryStore: Not enough space to cache rdd_178_10 in memory! (computed 43.2 MiB so far)\n",
      "23/03/26 08:03:53 WARN MemoryStore: Not enough space to cache rdd_23_8 in memory! (computed 2046.8 MiB so far)\n",
      "23/03/26 08:03:53 WARN MemoryStore: Failed to reserve initial memory threshold of 1024.0 KiB for computing block rdd_178_8 in memory.\n",
      "23/03/26 08:03:53 WARN MemoryStore: Not enough space to cache rdd_178_8 in memory! (computed 384.0 B so far)\n"
     ]
    },
    {
     "name": "stderr",
     "output_type": "stream",
     "text": [
      "[Stage 80:==============================>                         (11 + 8) / 20]\r"
     ]
    },
    {
     "name": "stdout",
     "output_type": "stream",
     "text": [
      "23/03/26 08:04:22 WARN MemoryStore: Not enough space to cache rdd_23_16 in memory! (computed 3.0 GiB so far)\n",
      "23/03/26 08:04:24 WARN MemoryStore: Not enough space to cache rdd_23_17 in memory! (computed 3.0 GiB so far)\n",
      "23/03/26 08:04:25 WARN MemoryStore: Not enough space to cache rdd_23_18 in memory! (computed 3.0 GiB so far)\n",
      "23/03/26 08:04:28 WARN MemoryStore: Not enough space to cache rdd_178_18 in memory! (computed 99.2 MiB so far)\n"
     ]
    },
    {
     "name": "stderr",
     "output_type": "stream",
     "text": [
      "[Stage 80:===============================================>        (17 + 3) / 20]\r"
     ]
    },
    {
     "name": "stdout",
     "output_type": "stream",
     "text": [
      "23/03/26 08:04:46 WARN MemoryStore: Not enough space to cache rdd_23_19 in memory! (computed 6.9 GiB so far)\n"
     ]
    },
    {
     "name": "stderr",
     "output_type": "stream",
     "text": [
      "[Stage 82:>                                                        (0 + 8) / 20]\r"
     ]
    },
    {
     "name": "stdout",
     "output_type": "stream",
     "text": [
      "23/03/26 08:04:59 WARN MemoryStore: Not enough space to cache rdd_23_1 in memory! (computed 909.7 MiB so far)\n",
      "23/03/26 08:04:59 WARN MemoryStore: Not enough space to cache rdd_23_5 in memory! (computed 909.7 MiB so far)\n",
      "23/03/26 08:04:59 WARN MemoryStore: Not enough space to cache rdd_23_7 in memory! (computed 909.7 MiB so far)\n",
      "23/03/26 08:04:59 WARN MemoryStore: Not enough space to cache rdd_23_0 in memory! (computed 1364.5 MiB so far)\n",
      "23/03/26 08:04:59 WARN MemoryStore: Not enough space to cache rdd_178_0 in memory! (computed 1024.6 KiB so far)\n",
      "23/03/26 08:04:59 WARN MemoryStore: Not enough space to cache rdd_178_5 in memory! (computed 16.2 MiB so far)\n",
      "23/03/26 08:04:59 WARN MemoryStore: Not enough space to cache rdd_178_1 in memory! (computed 16.2 MiB so far)\n",
      "23/03/26 08:04:59 WARN MemoryStore: Not enough space to cache rdd_178_7 in memory! (computed 16.2 MiB so far)\n",
      "23/03/26 08:04:59 WARN MemoryStore: Not enough space to cache rdd_23_3 in memory! (computed 1364.5 MiB so far)\n",
      "23/03/26 08:04:59 WARN MemoryStore: Failed to reserve initial memory threshold of 1024.0 KiB for computing block rdd_178_3 in memory.\n",
      "23/03/26 08:04:59 WARN MemoryStore: Not enough space to cache rdd_178_3 in memory! (computed 384.0 B so far)\n",
      "23/03/26 08:04:59 WARN MemoryStore: Not enough space to cache rdd_23_2 in memory! (computed 1364.5 MiB so far)\n",
      "23/03/26 08:04:59 WARN MemoryStore: Failed to reserve initial memory threshold of 1024.0 KiB for computing block rdd_178_2 in memory.\n",
      "23/03/26 08:04:59 WARN MemoryStore: Not enough space to cache rdd_178_2 in memory! (computed 384.0 B so far)\n",
      "23/03/26 08:04:59 WARN MemoryStore: Not enough space to cache rdd_23_6 in memory! (computed 1364.5 MiB so far)\n",
      "23/03/26 08:05:00 WARN MemoryStore: Not enough space to cache rdd_178_6 in memory! (computed 1024.6 KiB so far)\n",
      "23/03/26 08:05:00 WARN MemoryStore: Not enough space to cache rdd_23_4 in memory! (computed 1364.5 MiB so far)\n",
      "23/03/26 08:05:00 WARN MemoryStore: Not enough space to cache rdd_178_4 in memory! (computed 1024.6 KiB so far)\n"
     ]
    },
    {
     "name": "stderr",
     "output_type": "stream",
     "text": [
      "[Stage 82:======================>                                  (8 + 8) / 20]\r"
     ]
    },
    {
     "name": "stdout",
     "output_type": "stream",
     "text": [
      "23/03/26 08:05:45 WARN MemoryStore: Not enough space to cache rdd_23_14 in memory! (computed 589.3 MiB so far)\n",
      "23/03/26 08:05:45 WARN MemoryStore: Not enough space to cache rdd_23_11 in memory! (computed 1364.5 MiB so far)\n",
      "23/03/26 08:05:45 WARN MemoryStore: Not enough space to cache rdd_23_12 in memory! (computed 1364.5 MiB so far)\n",
      "23/03/26 08:05:45 WARN MemoryStore: Not enough space to cache rdd_23_15 in memory! (computed 589.3 MiB so far)\n",
      "23/03/26 08:05:46 WARN MemoryStore: Not enough space to cache rdd_23_9 in memory! (computed 1364.5 MiB so far)\n",
      "23/03/26 08:05:46 WARN MemoryStore: Not enough space to cache rdd_23_13 in memory! (computed 909.7 MiB so far)\n",
      "23/03/26 08:05:46 WARN MemoryStore: Not enough space to cache rdd_23_10 in memory! (computed 1364.5 MiB so far)\n",
      "23/03/26 08:05:46 WARN MemoryStore: Not enough space to cache rdd_178_11 in memory! (computed 16.2 MiB so far)\n",
      "23/03/26 08:05:46 WARN MemoryStore: Not enough space to cache rdd_178_13 in memory! (computed 10.8 MiB so far)\n",
      "23/03/26 08:05:46 WARN MemoryStore: Not enough space to cache rdd_178_10 in memory! (computed 6.2 MiB so far)\n",
      "23/03/26 08:05:46 WARN MemoryStore: Not enough space to cache rdd_178_9 in memory! (computed 16.2 MiB so far)\n",
      "23/03/26 08:05:46 WARN MemoryStore: Not enough space to cache rdd_178_14 in memory! (computed 24.3 MiB so far)\n",
      "23/03/26 08:05:46 WARN MemoryStore: Not enough space to cache rdd_178_12 in memory! (computed 24.3 MiB so far)\n",
      "23/03/26 08:05:46 WARN MemoryStore: Not enough space to cache rdd_178_15 in memory! (computed 24.3 MiB so far)\n",
      "23/03/26 08:05:47 WARN MemoryStore: Not enough space to cache rdd_23_8 in memory! (computed 2046.8 MiB so far)\n",
      "23/03/26 08:05:47 WARN MemoryStore: Not enough space to cache rdd_178_8 in memory! (computed 6.2 MiB so far)\n"
     ]
    },
    {
     "name": "stderr",
     "output_type": "stream",
     "text": [
      "[Stage 82:==============================>                         (11 + 8) / 20]\r"
     ]
    },
    {
     "name": "stdout",
     "output_type": "stream",
     "text": [
      "23/03/26 08:06:17 WARN MemoryStore: Not enough space to cache rdd_23_17 in memory! (computed 3.0 GiB so far)\n",
      "23/03/26 08:06:17 WARN MemoryStore: Not enough space to cache rdd_23_16 in memory! (computed 3.0 GiB so far)\n",
      "23/03/26 08:06:19 WARN MemoryStore: Not enough space to cache rdd_23_18 in memory! (computed 3.0 GiB so far)\n",
      "23/03/26 08:06:21 WARN MemoryStore: Not enough space to cache rdd_178_16 in memory! (computed 172.8 MiB so far)\n",
      "23/03/26 08:06:22 WARN MemoryStore: Not enough space to cache rdd_178_18 in memory! (computed 99.2 MiB so far)\n"
     ]
    },
    {
     "name": "stderr",
     "output_type": "stream",
     "text": [
      "[Stage 82:============================================>           (16 + 4) / 20]\r"
     ]
    },
    {
     "name": "stdout",
     "output_type": "stream",
     "text": [
      "23/03/26 08:06:39 WARN MemoryStore: Not enough space to cache rdd_23_19 in memory! (computed 6.9 GiB so far)\n"
     ]
    },
    {
     "name": "stderr",
     "output_type": "stream",
     "text": [
      "[Stage 84:>                                                        (0 + 8) / 20]\r"
     ]
    },
    {
     "name": "stdout",
     "output_type": "stream",
     "text": [
      "23/03/26 08:06:52 WARN MemoryStore: Not enough space to cache rdd_23_3 in memory! (computed 909.7 MiB so far)\n",
      "23/03/26 08:06:52 WARN MemoryStore: Not enough space to cache rdd_23_6 in memory! (computed 909.7 MiB so far)\n",
      "23/03/26 08:06:52 WARN MemoryStore: Not enough space to cache rdd_23_5 in memory! (computed 909.7 MiB so far)\n",
      "23/03/26 08:06:53 WARN MemoryStore: Not enough space to cache rdd_178_5 in memory! (computed 10.8 MiB so far)\n",
      "23/03/26 08:06:53 WARN MemoryStore: Not enough space to cache rdd_178_3 in memory! (computed 16.2 MiB so far)\n",
      "23/03/26 08:06:53 WARN MemoryStore: Not enough space to cache rdd_23_1 in memory! (computed 1364.5 MiB so far)\n",
      "23/03/26 08:06:53 WARN MemoryStore: Failed to reserve initial memory threshold of 1024.0 KiB for computing block rdd_178_1 in memory.\n",
      "23/03/26 08:06:53 WARN MemoryStore: Not enough space to cache rdd_178_1 in memory! (computed 384.0 B so far)\n",
      "23/03/26 08:06:53 WARN MemoryStore: Not enough space to cache rdd_178_6 in memory! (computed 24.3 MiB so far)\n",
      "23/03/26 08:06:53 WARN MemoryStore: Not enough space to cache rdd_23_4 in memory! (computed 1364.5 MiB so far)\n",
      "23/03/26 08:06:53 WARN MemoryStore: Failed to reserve initial memory threshold of 1024.0 KiB for computing block rdd_178_4 in memory.\n",
      "23/03/26 08:06:53 WARN MemoryStore: Not enough space to cache rdd_178_4 in memory! (computed 384.0 B so far)\n",
      "23/03/26 08:06:53 WARN MemoryStore: Not enough space to cache rdd_23_0 in memory! (computed 1364.5 MiB so far)\n",
      "23/03/26 08:06:53 WARN MemoryStore: Failed to reserve initial memory threshold of 1024.0 KiB for computing block rdd_178_0 in memory.\n",
      "23/03/26 08:06:53 WARN MemoryStore: Not enough space to cache rdd_178_0 in memory! (computed 384.0 B so far)\n",
      "23/03/26 08:06:53 WARN MemoryStore: Not enough space to cache rdd_23_2 in memory! (computed 1364.5 MiB so far)\n",
      "23/03/26 08:06:53 WARN MemoryStore: Failed to reserve initial memory threshold of 1024.0 KiB for computing block rdd_178_2 in memory.\n",
      "23/03/26 08:06:53 WARN MemoryStore: Not enough space to cache rdd_178_2 in memory! (computed 384.0 B so far)\n",
      "23/03/26 08:06:53 WARN MemoryStore: Not enough space to cache rdd_23_7 in memory! (computed 1364.5 MiB so far)\n",
      "23/03/26 08:06:53 WARN MemoryStore: Failed to reserve initial memory threshold of 1024.0 KiB for computing block rdd_178_7 in memory.\n",
      "23/03/26 08:06:53 WARN MemoryStore: Not enough space to cache rdd_178_7 in memory! (computed 384.0 B so far)\n"
     ]
    },
    {
     "name": "stderr",
     "output_type": "stream",
     "text": [
      "[Stage 84:======================>                                  (8 + 8) / 20]\r"
     ]
    },
    {
     "name": "stdout",
     "output_type": "stream",
     "text": [
      "23/03/26 08:07:38 WARN MemoryStore: Not enough space to cache rdd_23_9 in memory! (computed 1364.5 MiB so far)\n",
      "23/03/26 08:07:39 WARN MemoryStore: Not enough space to cache rdd_23_13 in memory! (computed 909.7 MiB so far)\n",
      "23/03/26 08:07:39 WARN MemoryStore: Not enough space to cache rdd_23_10 in memory! (computed 1364.5 MiB so far)\n",
      "23/03/26 08:07:39 WARN MemoryStore: Not enough space to cache rdd_23_11 in memory! (computed 1364.5 MiB so far)\n",
      "23/03/26 08:07:39 WARN MemoryStore: Not enough space to cache rdd_23_15 in memory! (computed 252.9 MiB so far)\n",
      "23/03/26 08:07:40 WARN MemoryStore: Not enough space to cache rdd_23_14 in memory! (computed 909.7 MiB so far)\n",
      "23/03/26 08:07:40 WARN MemoryStore: Not enough space to cache rdd_23_12 in memory! (computed 1364.5 MiB so far)\n",
      "23/03/26 08:07:40 WARN MemoryStore: Not enough space to cache rdd_178_9 in memory! (computed 24.3 MiB so far)\n",
      "23/03/26 08:07:40 WARN MemoryStore: Not enough space to cache rdd_178_13 in memory! (computed 24.3 MiB so far)\n",
      "23/03/26 08:07:40 WARN MemoryStore: Not enough space to cache rdd_178_12 in memory! (computed 4.0 MiB so far)\n",
      "23/03/26 08:07:40 WARN MemoryStore: Not enough space to cache rdd_178_14 in memory! (computed 6.2 MiB so far)\n",
      "23/03/26 08:07:40 WARN MemoryStore: Not enough space to cache rdd_178_11 in memory! (computed 24.3 MiB so far)\n",
      "23/03/26 08:07:40 WARN MemoryStore: Not enough space to cache rdd_178_15 in memory! (computed 16.2 MiB so far)\n",
      "23/03/26 08:07:40 WARN MemoryStore: Not enough space to cache rdd_178_10 in memory! (computed 24.3 MiB so far)\n",
      "23/03/26 08:07:40 WARN MemoryStore: Not enough space to cache rdd_23_8 in memory! (computed 2046.8 MiB so far)\n",
      "23/03/26 08:07:40 WARN MemoryStore: Not enough space to cache rdd_178_8 in memory! (computed 1024.6 KiB so far)\n"
     ]
    },
    {
     "name": "stderr",
     "output_type": "stream",
     "text": [
      "[Stage 84:==============================>                         (11 + 8) / 20]\r"
     ]
    },
    {
     "name": "stdout",
     "output_type": "stream",
     "text": [
      "23/03/26 08:08:11 WARN MemoryStore: Not enough space to cache rdd_23_16 in memory! (computed 3.0 GiB so far)\n",
      "23/03/26 08:08:12 WARN MemoryStore: Not enough space to cache rdd_23_18 in memory! (computed 3.0 GiB so far)\n",
      "23/03/26 08:08:12 WARN MemoryStore: Not enough space to cache rdd_23_17 in memory! (computed 3.0 GiB so far)\n",
      "23/03/26 08:08:15 WARN MemoryStore: Not enough space to cache rdd_178_18 in memory! (computed 99.2 MiB so far)\n",
      "23/03/26 08:08:16 WARN MemoryStore: Not enough space to cache rdd_178_16 in memory! (computed 172.8 MiB so far)\n"
     ]
    },
    {
     "name": "stderr",
     "output_type": "stream",
     "text": [
      "[Stage 84:============================================>           (16 + 4) / 20]\r"
     ]
    },
    {
     "name": "stdout",
     "output_type": "stream",
     "text": [
      "23/03/26 08:08:34 WARN MemoryStore: Not enough space to cache rdd_23_19 in memory! (computed 6.9 GiB so far)\n"
     ]
    },
    {
     "name": "stderr",
     "output_type": "stream",
     "text": [
      "[Stage 86:>                                                        (0 + 8) / 20]\r"
     ]
    },
    {
     "name": "stdout",
     "output_type": "stream",
     "text": [
      "23/03/26 08:08:46 WARN MemoryStore: Not enough space to cache rdd_23_7 in memory! (computed 909.7 MiB so far)\n",
      "23/03/26 08:08:46 WARN MemoryStore: Not enough space to cache rdd_23_6 in memory! (computed 909.7 MiB so far)\n",
      "23/03/26 08:08:46 WARN MemoryStore: Not enough space to cache rdd_23_5 in memory! (computed 909.7 MiB so far)\n",
      "23/03/26 08:08:46 WARN MemoryStore: Not enough space to cache rdd_23_7 in memory! (computed 73.6 MiB so far)\n",
      "23/03/26 08:08:46 WARN MemoryStore: Not enough space to cache rdd_23_7 in memory! (computed 1557.2 KiB so far)\n",
      "23/03/26 08:08:46 WARN MemoryStore: Failed to reserve initial memory threshold of 1024.0 KiB for computing block rdd_175_7 in memory.\n",
      "23/03/26 08:08:46 WARN MemoryStore: Not enough space to cache rdd_175_7 in memory! (computed 384.0 B so far)\n",
      "23/03/26 08:08:46 WARN MemoryStore: Failed to reserve initial memory threshold of 1024.0 KiB for computing block rdd_197_7 in memory.\n",
      "23/03/26 08:08:46 WARN MemoryStore: Not enough space to cache rdd_197_7 in memory! (computed 384.0 B so far)\n",
      "23/03/26 08:08:46 WARN BlockManager: Persisting block rdd_197_7 to disk instead.\n",
      "23/03/26 08:08:46 WARN MemoryStore: Not enough space to cache rdd_23_5 in memory! (computed 31.4 MiB so far)\n",
      "23/03/26 08:08:46 WARN MemoryStore: Not enough space to cache rdd_23_6 in memory! (computed 73.6 MiB so far)\n",
      "23/03/26 08:08:46 WARN MemoryStore: Not enough space to cache rdd_23_5 in memory! (computed 1025.7 KiB so far)\n",
      "23/03/26 08:08:46 WARN MemoryStore: Failed to reserve initial memory threshold of 1024.0 KiB for computing block rdd_175_5 in memory.\n",
      "23/03/26 08:08:46 WARN MemoryStore: Not enough space to cache rdd_175_5 in memory! (computed 384.0 B so far)\n",
      "23/03/26 08:08:46 WARN MemoryStore: Failed to reserve initial memory threshold of 1024.0 KiB for computing block rdd_197_5 in memory.\n",
      "23/03/26 08:08:46 WARN MemoryStore: Not enough space to cache rdd_197_5 in memory! (computed 384.0 B so far)\n",
      "23/03/26 08:08:46 WARN BlockManager: Persisting block rdd_197_5 to disk instead.\n",
      "23/03/26 08:08:46 WARN MemoryStore: Not enough space to cache rdd_23_6 in memory! (computed 1557.2 KiB so far)\n",
      "23/03/26 08:08:46 WARN MemoryStore: Failed to reserve initial memory threshold of 1024.0 KiB for computing block rdd_175_6 in memory.\n",
      "23/03/26 08:08:46 WARN MemoryStore: Not enough space to cache rdd_175_6 in memory! (computed 384.0 B so far)\n",
      "23/03/26 08:08:46 WARN MemoryStore: Failed to reserve initial memory threshold of 1024.0 KiB for computing block rdd_197_6 in memory.\n",
      "23/03/26 08:08:46 WARN MemoryStore: Not enough space to cache rdd_197_6 in memory! (computed 384.0 B so far)\n",
      "23/03/26 08:08:46 WARN BlockManager: Persisting block rdd_197_6 to disk instead.\n",
      "23/03/26 08:08:47 WARN MemoryStore: Not enough space to cache rdd_23_4 in memory! (computed 1364.5 MiB so far)\n",
      "23/03/26 08:08:47 WARN MemoryStore: Not enough space to cache rdd_23_4 in memory! (computed 1557.2 KiB so far)\n",
      "23/03/26 08:08:47 WARN MemoryStore: Failed to reserve initial memory threshold of 1024.0 KiB for computing block rdd_23_4 in memory.\n",
      "23/03/26 08:08:47 WARN MemoryStore: Not enough space to cache rdd_23_4 in memory! (computed 384.0 B so far)\n",
      "23/03/26 08:08:47 WARN MemoryStore: Failed to reserve initial memory threshold of 1024.0 KiB for computing block rdd_175_4 in memory.\n",
      "23/03/26 08:08:47 WARN MemoryStore: Not enough space to cache rdd_175_4 in memory! (computed 384.0 B so far)\n",
      "23/03/26 08:08:47 WARN MemoryStore: Failed to reserve initial memory threshold of 1024.0 KiB for computing block rdd_197_4 in memory.\n",
      "23/03/26 08:08:47 WARN MemoryStore: Not enough space to cache rdd_197_4 in memory! (computed 384.0 B so far)\n",
      "23/03/26 08:08:47 WARN BlockManager: Persisting block rdd_197_4 to disk instead.\n",
      "23/03/26 08:08:47 WARN MemoryStore: Not enough space to cache rdd_23_2 in memory! (computed 1364.5 MiB so far)\n",
      "23/03/26 08:08:47 WARN MemoryStore: Failed to reserve initial memory threshold of 1024.0 KiB for computing block rdd_23_2 in memory.\n",
      "23/03/26 08:08:47 WARN MemoryStore: Not enough space to cache rdd_23_2 in memory! (computed 384.0 B so far)\n",
      "23/03/26 08:08:47 WARN MemoryStore: Failed to reserve initial memory threshold of 1024.0 KiB for computing block rdd_23_2 in memory.\n",
      "23/03/26 08:08:47 WARN MemoryStore: Not enough space to cache rdd_23_2 in memory! (computed 384.0 B so far)\n",
      "23/03/26 08:08:47 WARN MemoryStore: Failed to reserve initial memory threshold of 1024.0 KiB for computing block rdd_175_2 in memory.\n",
      "23/03/26 08:08:47 WARN MemoryStore: Not enough space to cache rdd_175_2 in memory! (computed 384.0 B so far)\n",
      "23/03/26 08:08:47 WARN MemoryStore: Failed to reserve initial memory threshold of 1024.0 KiB for computing block rdd_197_2 in memory.\n",
      "23/03/26 08:08:47 WARN MemoryStore: Not enough space to cache rdd_197_2 in memory! (computed 384.0 B so far)\n",
      "23/03/26 08:08:47 WARN BlockManager: Persisting block rdd_197_2 to disk instead.\n",
      "23/03/26 08:08:47 WARN MemoryStore: Not enough space to cache rdd_23_0 in memory! (computed 1364.5 MiB so far)\n",
      "23/03/26 08:08:47 WARN MemoryStore: Failed to reserve initial memory threshold of 1024.0 KiB for computing block rdd_23_0 in memory.\n",
      "23/03/26 08:08:47 WARN MemoryStore: Not enough space to cache rdd_23_0 in memory! (computed 384.0 B so far)\n",
      "23/03/26 08:08:47 WARN MemoryStore: Failed to reserve initial memory threshold of 1024.0 KiB for computing block rdd_23_0 in memory.\n",
      "23/03/26 08:08:47 WARN MemoryStore: Not enough space to cache rdd_23_0 in memory! (computed 384.0 B so far)\n",
      "23/03/26 08:08:47 WARN MemoryStore: Failed to reserve initial memory threshold of 1024.0 KiB for computing block rdd_175_0 in memory.\n",
      "23/03/26 08:08:47 WARN MemoryStore: Not enough space to cache rdd_175_0 in memory! (computed 384.0 B so far)\n",
      "23/03/26 08:08:47 WARN MemoryStore: Failed to reserve initial memory threshold of 1024.0 KiB for computing block rdd_197_0 in memory.\n",
      "23/03/26 08:08:47 WARN MemoryStore: Not enough space to cache rdd_197_0 in memory! (computed 384.0 B so far)\n",
      "23/03/26 08:08:47 WARN BlockManager: Persisting block rdd_197_0 to disk instead.\n",
      "23/03/26 08:08:47 WARN MemoryStore: Not enough space to cache rdd_23_1 in memory! (computed 1364.5 MiB so far)\n",
      "23/03/26 08:08:47 WARN MemoryStore: Failed to reserve initial memory threshold of 1024.0 KiB for computing block rdd_23_1 in memory.\n",
      "23/03/26 08:08:47 WARN MemoryStore: Not enough space to cache rdd_23_1 in memory! (computed 384.0 B so far)\n",
      "23/03/26 08:08:47 WARN MemoryStore: Failed to reserve initial memory threshold of 1024.0 KiB for computing block rdd_23_1 in memory.\n",
      "23/03/26 08:08:47 WARN MemoryStore: Not enough space to cache rdd_23_1 in memory! (computed 384.0 B so far)\n",
      "23/03/26 08:08:47 WARN MemoryStore: Failed to reserve initial memory threshold of 1024.0 KiB for computing block rdd_175_1 in memory.\n",
      "23/03/26 08:08:47 WARN MemoryStore: Not enough space to cache rdd_175_1 in memory! (computed 384.0 B so far)\n",
      "23/03/26 08:08:47 WARN MemoryStore: Failed to reserve initial memory threshold of 1024.0 KiB for computing block rdd_197_1 in memory.\n",
      "23/03/26 08:08:47 WARN MemoryStore: Not enough space to cache rdd_197_1 in memory! (computed 384.0 B so far)\n",
      "23/03/26 08:08:47 WARN BlockManager: Persisting block rdd_197_1 to disk instead.\n",
      "23/03/26 08:08:47 WARN MemoryStore: Not enough space to cache rdd_23_3 in memory! (computed 1364.5 MiB so far)\n",
      "23/03/26 08:08:47 WARN MemoryStore: Failed to reserve initial memory threshold of 1024.0 KiB for computing block rdd_23_3 in memory.\n",
      "23/03/26 08:08:47 WARN MemoryStore: Not enough space to cache rdd_23_3 in memory! (computed 384.0 B so far)\n",
      "23/03/26 08:08:47 WARN MemoryStore: Failed to reserve initial memory threshold of 1024.0 KiB for computing block rdd_23_3 in memory.\n",
      "23/03/26 08:08:47 WARN MemoryStore: Not enough space to cache rdd_23_3 in memory! (computed 384.0 B so far)\n",
      "23/03/26 08:08:47 WARN MemoryStore: Failed to reserve initial memory threshold of 1024.0 KiB for computing block rdd_175_3 in memory.\n",
      "23/03/26 08:08:47 WARN MemoryStore: Not enough space to cache rdd_175_3 in memory! (computed 384.0 B so far)\n",
      "23/03/26 08:08:47 WARN MemoryStore: Failed to reserve initial memory threshold of 1024.0 KiB for computing block rdd_197_3 in memory.\n",
      "23/03/26 08:08:47 WARN MemoryStore: Not enough space to cache rdd_197_3 in memory! (computed 384.0 B so far)\n",
      "23/03/26 08:08:47 WARN BlockManager: Persisting block rdd_197_3 to disk instead.\n",
      "23/03/26 08:09:16 WARN MemoryStore: Failed to reserve initial memory threshold of 1024.0 KiB for computing block rdd_197_7 in memory.\n",
      "23/03/26 08:09:16 WARN MemoryStore: Not enough space to cache rdd_197_7 in memory! (computed 384.0 B so far)\n",
      "23/03/26 08:09:16 WARN MemoryStore: Failed to reserve initial memory threshold of 1024.0 KiB for computing block rdd_200_7 in memory.\n",
      "23/03/26 08:09:16 WARN MemoryStore: Not enough space to cache rdd_200_7 in memory! (computed 384.0 B so far)\n",
      "23/03/26 08:09:16 WARN BlockManager: Persisting block rdd_200_7 to disk instead.\n",
      "23/03/26 08:09:17 WARN MemoryStore: Not enough space to cache rdd_197_4 in memory! (computed 19.5 MiB so far)\n",
      "23/03/26 08:09:17 WARN MemoryStore: Not enough space to cache rdd_197_6 in memory! (computed 43.9 MiB so far)\n",
      "23/03/26 08:09:17 WARN MemoryStore: Not enough space to cache rdd_197_0 in memory! (computed 8.2 MiB so far)\n",
      "23/03/26 08:09:17 WARN MemoryStore: Not enough space to cache rdd_197_3 in memory! (computed 8.2 MiB so far)\n",
      "23/03/26 08:09:17 WARN MemoryStore: Not enough space to cache rdd_197_2 in memory! (computed 1663.4 KiB so far)\n",
      "23/03/26 08:09:17 WARN MemoryStore: Failed to reserve initial memory threshold of 1024.0 KiB for computing block rdd_200_2 in memory.\n",
      "23/03/26 08:09:17 WARN MemoryStore: Not enough space to cache rdd_200_2 in memory! (computed 384.0 B so far)\n",
      "23/03/26 08:09:17 WARN BlockManager: Persisting block rdd_200_2 to disk instead.\n",
      "23/03/26 08:09:17 WARN MemoryStore: Not enough space to cache rdd_197_1 in memory! (computed 19.5 MiB so far)\n",
      "23/03/26 08:09:17 WARN MemoryStore: Failed to reserve initial memory threshold of 1024.0 KiB for computing block rdd_200_1 in memory.\n",
      "23/03/26 08:09:17 WARN MemoryStore: Not enough space to cache rdd_200_1 in memory! (computed 384.0 B so far)\n",
      "23/03/26 08:09:17 WARN BlockManager: Persisting block rdd_200_1 to disk instead.\n",
      "23/03/26 08:09:18 WARN MemoryStore: Not enough space to cache rdd_200_6 in memory! (computed 6.2 MiB so far)\n",
      "23/03/26 08:09:18 WARN BlockManager: Persisting block rdd_200_6 to disk instead.\n",
      "23/03/26 08:09:18 WARN MemoryStore: Not enough space to cache rdd_200_4 in memory! (computed 6.2 MiB so far)\n",
      "23/03/26 08:09:18 WARN BlockManager: Persisting block rdd_200_4 to disk instead.\n",
      "23/03/26 08:09:18 WARN MemoryStore: Not enough space to cache rdd_197_5 in memory! (computed 29.2 MiB so far)\n",
      "23/03/26 08:09:18 WARN MemoryStore: Failed to reserve initial memory threshold of 1024.0 KiB for computing block rdd_200_5 in memory.\n",
      "23/03/26 08:09:18 WARN MemoryStore: Not enough space to cache rdd_200_5 in memory! (computed 384.0 B so far)\n",
      "23/03/26 08:09:18 WARN BlockManager: Persisting block rdd_200_5 to disk instead.\n",
      "23/03/26 08:09:26 WARN MemoryStore: Not enough space to cache rdd_200_0 in memory! (computed 64.8 MiB so far)\n",
      "23/03/26 08:09:26 WARN BlockManager: Persisting block rdd_200_0 to disk instead.\n",
      "23/03/26 08:09:39 WARN MemoryStore: Not enough space to cache rdd_200_3 in memory! (computed 172.8 MiB so far)\n",
      "23/03/26 08:09:39 WARN BlockManager: Persisting block rdd_200_3 to disk instead.\n"
     ]
    },
    {
     "name": "stderr",
     "output_type": "stream",
     "text": [
      "[Stage 86:>                                                        (0 + 8) / 20]\r"
     ]
    },
    {
     "name": "stdout",
     "output_type": "stream",
     "text": [
      "23/03/26 08:09:47 WARN MemoryStore: Not enough space to cache rdd_200_1 in memory! (computed 4.0 MiB so far)\n",
      "23/03/26 08:09:47 WARN MemoryStore: Not enough space to cache rdd_200_4 in memory! (computed 43.2 MiB so far)\n",
      "23/03/26 08:09:47 WARN MemoryStore: Not enough space to cache rdd_200_6 in memory! (computed 43.2 MiB so far)\n",
      "23/03/26 08:09:47 WARN MemoryStore: Not enough space to cache rdd_200_7 in memory! (computed 99.2 MiB so far)\n",
      "23/03/26 08:09:48 WARN MemoryStore: Not enough space to cache rdd_200_0 in memory! (computed 4.0 MiB so far)\n",
      "23/03/26 08:09:48 WARN MemoryStore: Not enough space to cache rdd_200_5 in memory! (computed 1537.3 KiB so far)\n",
      "23/03/26 08:09:48 WARN MemoryStore: Not enough space to cache rdd_200_2 in memory! (computed 4.0 MiB so far)\n",
      "23/03/26 08:09:48 WARN MemoryStore: Not enough space to cache rdd_200_3 in memory! (computed 1537.3 KiB so far)\n"
     ]
    },
    {
     "name": "stderr",
     "output_type": "stream",
     "text": [
      "[Stage 86:===================>                                     (7 + 8) / 20]\r"
     ]
    },
    {
     "name": "stdout",
     "output_type": "stream",
     "text": [
      "23/03/26 08:10:30 WARN MemoryStore: Not enough space to cache rdd_23_9 in memory! (computed 2046.8 MiB so far)\n",
      "23/03/26 08:10:30 WARN MemoryStore: Not enough space to cache rdd_23_12 in memory! (computed 909.7 MiB so far)\n",
      "23/03/26 08:10:30 WARN MemoryStore: Not enough space to cache rdd_23_11 in memory! (computed 909.7 MiB so far)\n",
      "23/03/26 08:10:30 WARN MemoryStore: Not enough space to cache rdd_23_13 in memory! (computed 252.9 MiB so far)\n",
      "23/03/26 08:10:30 WARN MemoryStore: Not enough space to cache rdd_23_9 in memory! (computed 73.6 MiB so far)\n",
      "23/03/26 08:10:30 WARN MemoryStore: Not enough space to cache rdd_23_12 in memory! (computed 5.3 MiB so far)\n",
      "23/03/26 08:10:30 WARN MemoryStore: Failed to reserve initial memory threshold of 1024.0 KiB for computing block rdd_23_12 in memory.\n",
      "23/03/26 08:10:30 WARN MemoryStore: Not enough space to cache rdd_23_12 in memory! (computed 384.0 B so far)\n",
      "23/03/26 08:10:30 WARN MemoryStore: Failed to reserve initial memory threshold of 1024.0 KiB for computing block rdd_175_12 in memory.\n",
      "23/03/26 08:10:30 WARN MemoryStore: Not enough space to cache rdd_175_12 in memory! (computed 384.0 B so far)\n",
      "23/03/26 08:10:30 WARN MemoryStore: Failed to reserve initial memory threshold of 1024.0 KiB for computing block rdd_197_12 in memory.\n",
      "23/03/26 08:10:30 WARN MemoryStore: Not enough space to cache rdd_23_9 in memory! (computed 1025.7 KiB so far)\n",
      "23/03/26 08:10:30 WARN MemoryStore: Not enough space to cache rdd_197_12 in memory! (computed 384.0 B so far)\n",
      "23/03/26 08:10:30 WARN BlockManager: Persisting block rdd_197_12 to disk instead.\n",
      "23/03/26 08:10:30 WARN MemoryStore: Failed to reserve initial memory threshold of 1024.0 KiB for computing block rdd_175_9 in memory.\n",
      "23/03/26 08:10:30 WARN MemoryStore: Not enough space to cache rdd_175_9 in memory! (computed 384.0 B so far)\n",
      "23/03/26 08:10:30 WARN MemoryStore: Failed to reserve initial memory threshold of 1024.0 KiB for computing block rdd_197_9 in memory.\n",
      "23/03/26 08:10:30 WARN MemoryStore: Not enough space to cache rdd_197_9 in memory! (computed 384.0 B so far)\n",
      "23/03/26 08:10:30 WARN BlockManager: Persisting block rdd_197_9 to disk instead.\n",
      "23/03/26 08:10:31 WARN MemoryStore: Not enough space to cache rdd_23_11 in memory! (computed 3.5 MiB so far)\n",
      "23/03/26 08:10:31 WARN MemoryStore: Not enough space to cache rdd_23_11 in memory! (computed 1025.7 KiB so far)\n",
      "23/03/26 08:10:31 WARN MemoryStore: Failed to reserve initial memory threshold of 1024.0 KiB for computing block rdd_175_11 in memory.\n",
      "23/03/26 08:10:31 WARN MemoryStore: Not enough space to cache rdd_175_11 in memory! (computed 384.0 B so far)\n",
      "23/03/26 08:10:31 WARN MemoryStore: Failed to reserve initial memory threshold of 1024.0 KiB for computing block rdd_197_11 in memory.\n",
      "23/03/26 08:10:31 WARN MemoryStore: Not enough space to cache rdd_197_11 in memory! (computed 384.0 B so far)\n",
      "23/03/26 08:10:31 WARN BlockManager: Persisting block rdd_197_11 to disk instead.\n",
      "23/03/26 08:10:31 WARN MemoryStore: Not enough space to cache rdd_23_13 in memory! (computed 5.3 MiB so far)\n",
      "23/03/26 08:10:31 WARN MemoryStore: Not enough space to cache rdd_23_13 in memory! (computed 1025.7 KiB so far)\n",
      "23/03/26 08:10:31 WARN MemoryStore: Failed to reserve initial memory threshold of 1024.0 KiB for computing block rdd_175_13 in memory.\n",
      "23/03/26 08:10:31 WARN MemoryStore: Not enough space to cache rdd_175_13 in memory! (computed 384.0 B so far)\n",
      "23/03/26 08:10:31 WARN MemoryStore: Failed to reserve initial memory threshold of 1024.0 KiB for computing block rdd_197_13 in memory.\n",
      "23/03/26 08:10:31 WARN MemoryStore: Not enough space to cache rdd_197_13 in memory! (computed 384.0 B so far)\n",
      "23/03/26 08:10:31 WARN BlockManager: Persisting block rdd_197_13 to disk instead.\n",
      "23/03/26 08:10:31 WARN MemoryStore: Not enough space to cache rdd_23_14 in memory! (computed 380.1 MiB so far)\n",
      "23/03/26 08:10:31 WARN MemoryStore: Not enough space to cache rdd_23_14 in memory! (computed 1025.7 KiB so far)\n",
      "23/03/26 08:10:31 WARN MemoryStore: Failed to reserve initial memory threshold of 1024.0 KiB for computing block rdd_23_14 in memory.\n",
      "23/03/26 08:10:31 WARN MemoryStore: Not enough space to cache rdd_23_14 in memory! (computed 384.0 B so far)\n",
      "23/03/26 08:10:31 WARN MemoryStore: Failed to reserve initial memory threshold of 1024.0 KiB for computing block rdd_175_14 in memory.\n",
      "23/03/26 08:10:31 WARN MemoryStore: Not enough space to cache rdd_175_14 in memory! (computed 384.0 B so far)\n",
      "23/03/26 08:10:31 WARN MemoryStore: Failed to reserve initial memory threshold of 1024.0 KiB for computing block rdd_197_14 in memory.\n",
      "23/03/26 08:10:31 WARN MemoryStore: Not enough space to cache rdd_197_14 in memory! (computed 384.0 B so far)\n",
      "23/03/26 08:10:31 WARN BlockManager: Persisting block rdd_197_14 to disk instead.\n",
      "23/03/26 08:10:31 WARN MemoryStore: Failed to reserve initial memory threshold of 1024.0 KiB for computing block rdd_23_15 in memory.\n",
      "23/03/26 08:10:31 WARN MemoryStore: Not enough space to cache rdd_23_15 in memory! (computed 384.0 B so far)\n",
      "23/03/26 08:10:31 WARN MemoryStore: Failed to reserve initial memory threshold of 1024.0 KiB for computing block rdd_23_15 in memory.\n",
      "23/03/26 08:10:31 WARN MemoryStore: Not enough space to cache rdd_23_15 in memory! (computed 384.0 B so far)\n",
      "23/03/26 08:10:31 WARN MemoryStore: Failed to reserve initial memory threshold of 1024.0 KiB for computing block rdd_23_15 in memory.\n",
      "23/03/26 08:10:31 WARN MemoryStore: Not enough space to cache rdd_23_15 in memory! (computed 384.0 B so far)\n",
      "23/03/26 08:10:31 WARN MemoryStore: Failed to reserve initial memory threshold of 1024.0 KiB for computing block rdd_175_15 in memory.\n",
      "23/03/26 08:10:31 WARN MemoryStore: Not enough space to cache rdd_175_15 in memory! (computed 384.0 B so far)\n",
      "23/03/26 08:10:31 WARN MemoryStore: Failed to reserve initial memory threshold of 1024.0 KiB for computing block rdd_197_15 in memory.\n",
      "23/03/26 08:10:31 WARN MemoryStore: Not enough space to cache rdd_197_15 in memory! (computed 384.0 B so far)\n",
      "23/03/26 08:10:31 WARN BlockManager: Persisting block rdd_197_15 to disk instead.\n"
     ]
    },
    {
     "name": "stderr",
     "output_type": "stream",
     "text": [
      "[Stage 86:======================>                                  (8 + 8) / 20]\r"
     ]
    },
    {
     "name": "stdout",
     "output_type": "stream",
     "text": [
      "23/03/26 08:10:32 WARN MemoryStore: Not enough space to cache rdd_23_10 in memory! (computed 2046.8 MiB so far)\n",
      "23/03/26 08:10:32 WARN MemoryStore: Failed to reserve initial memory threshold of 1024.0 KiB for computing block rdd_23_10 in memory.\n",
      "23/03/26 08:10:32 WARN MemoryStore: Not enough space to cache rdd_23_10 in memory! (computed 384.0 B so far)\n",
      "23/03/26 08:10:32 WARN MemoryStore: Failed to reserve initial memory threshold of 1024.0 KiB for computing block rdd_23_10 in memory.\n",
      "23/03/26 08:10:32 WARN MemoryStore: Not enough space to cache rdd_23_10 in memory! (computed 384.0 B so far)\n",
      "23/03/26 08:10:32 WARN MemoryStore: Failed to reserve initial memory threshold of 1024.0 KiB for computing block rdd_175_10 in memory.\n",
      "23/03/26 08:10:32 WARN MemoryStore: Not enough space to cache rdd_175_10 in memory! (computed 384.0 B so far)\n",
      "23/03/26 08:10:32 WARN MemoryStore: Failed to reserve initial memory threshold of 1024.0 KiB for computing block rdd_197_10 in memory.\n",
      "23/03/26 08:10:32 WARN MemoryStore: Not enough space to cache rdd_197_10 in memory! (computed 384.0 B so far)\n",
      "23/03/26 08:10:32 WARN BlockManager: Persisting block rdd_197_10 to disk instead.\n",
      "23/03/26 08:10:32 WARN MemoryStore: Not enough space to cache rdd_23_8 in memory! (computed 3.0 GiB so far)\n",
      "23/03/26 08:10:32 WARN MemoryStore: Failed to reserve initial memory threshold of 1024.0 KiB for computing block rdd_23_8 in memory.\n",
      "23/03/26 08:10:32 WARN MemoryStore: Not enough space to cache rdd_23_8 in memory! (computed 384.0 B so far)\n",
      "23/03/26 08:10:32 WARN MemoryStore: Failed to reserve initial memory threshold of 1024.0 KiB for computing block rdd_23_8 in memory.\n",
      "23/03/26 08:10:32 WARN MemoryStore: Not enough space to cache rdd_23_8 in memory! (computed 384.0 B so far)\n",
      "23/03/26 08:10:32 WARN MemoryStore: Failed to reserve initial memory threshold of 1024.0 KiB for computing block rdd_175_8 in memory.\n",
      "23/03/26 08:10:32 WARN MemoryStore: Not enough space to cache rdd_175_8 in memory! (computed 384.0 B so far)\n",
      "23/03/26 08:10:32 WARN MemoryStore: Failed to reserve initial memory threshold of 1024.0 KiB for computing block rdd_197_8 in memory.\n",
      "23/03/26 08:10:32 WARN MemoryStore: Not enough space to cache rdd_197_8 in memory! (computed 384.0 B so far)\n",
      "23/03/26 08:10:32 WARN BlockManager: Persisting block rdd_197_8 to disk instead.\n",
      "23/03/26 08:10:47 WARN MemoryStore: Failed to reserve initial memory threshold of 1024.0 KiB for computing block rdd_197_13 in memory.\n",
      "23/03/26 08:10:47 WARN MemoryStore: Not enough space to cache rdd_197_13 in memory! (computed 384.0 B so far)\n",
      "23/03/26 08:10:47 WARN MemoryStore: Failed to reserve initial memory threshold of 1024.0 KiB for computing block rdd_200_13 in memory.\n",
      "23/03/26 08:10:47 WARN MemoryStore: Not enough space to cache rdd_200_13 in memory! (computed 384.0 B so far)\n",
      "23/03/26 08:10:47 WARN BlockManager: Persisting block rdd_200_13 to disk instead.\n",
      "23/03/26 08:10:48 WARN MemoryStore: Not enough space to cache rdd_197_14 in memory! (computed 5.5 MiB so far)\n",
      "23/03/26 08:10:48 WARN MemoryStore: Failed to reserve initial memory threshold of 1024.0 KiB for computing block rdd_200_14 in memory.\n",
      "23/03/26 08:10:48 WARN MemoryStore: Not enough space to cache rdd_200_14 in memory! (computed 384.0 B so far)\n",
      "23/03/26 08:10:48 WARN BlockManager: Persisting block rdd_200_14 to disk instead.\n",
      "23/03/26 08:10:49 WARN MemoryStore: Not enough space to cache rdd_197_12 in memory! (computed 5.5 MiB so far)\n",
      "23/03/26 08:10:50 WARN MemoryStore: Not enough space to cache rdd_200_12 in memory! (computed 10.8 MiB so far)\n",
      "23/03/26 08:10:50 WARN BlockManager: Persisting block rdd_200_12 to disk instead.\n",
      "23/03/26 08:11:00 WARN MemoryStore: Not enough space to cache rdd_197_11 in memory! (computed 8.2 MiB so far)\n",
      "23/03/26 08:11:00 WARN MemoryStore: Not enough space to cache rdd_197_9 in memory! (computed 5.5 MiB so far)\n",
      "23/03/26 08:11:00 WARN MemoryStore: Failed to reserve initial memory threshold of 1024.0 KiB for computing block rdd_200_9 in memory.\n",
      "23/03/26 08:11:00 WARN MemoryStore: Not enough space to cache rdd_200_9 in memory! (computed 384.0 B so far)\n",
      "23/03/26 08:11:00 WARN BlockManager: Persisting block rdd_200_9 to disk instead.\n",
      "23/03/26 08:11:02 WARN MemoryStore: Not enough space to cache rdd_197_10 in memory! (computed 19.5 MiB so far)\n",
      "23/03/26 08:11:02 WARN MemoryStore: Not enough space to cache rdd_197_15 in memory! (computed 43.9 MiB so far)\n",
      "23/03/26 08:11:02 WARN MemoryStore: Not enough space to cache rdd_200_10 in memory! (computed 2.7 MiB so far)\n",
      "23/03/26 08:11:02 WARN MemoryStore: Not enough space to cache rdd_200_15 in memory! (computed 4.0 MiB so far)\n",
      "23/03/26 08:11:02 WARN BlockManager: Persisting block rdd_200_10 to disk instead.\n",
      "23/03/26 08:11:02 WARN BlockManager: Persisting block rdd_200_15 to disk instead.\n",
      "23/03/26 08:11:03 WARN MemoryStore: Not enough space to cache rdd_200_11 in memory! (computed 16.2 MiB so far)\n",
      "23/03/26 08:11:03 WARN BlockManager: Persisting block rdd_200_11 to disk instead.\n",
      "23/03/26 08:11:03 WARN MemoryStore: Not enough space to cache rdd_197_8 in memory! (computed 5.5 MiB so far)\n",
      "23/03/26 08:11:03 WARN MemoryStore: Not enough space to cache rdd_200_8 in memory! (computed 1024.6 KiB so far)\n",
      "23/03/26 08:11:03 WARN BlockManager: Persisting block rdd_200_8 to disk instead.\n",
      "23/03/26 08:11:04 WARN MemoryStore: Not enough space to cache rdd_200_13 in memory! (computed 16.2 MiB so far)\n",
      "23/03/26 08:11:04 WARN MemoryStore: Not enough space to cache rdd_200_14 in memory! (computed 6.2 MiB so far)\n"
     ]
    },
    {
     "name": "stderr",
     "output_type": "stream",
     "text": [
      "[Stage 86:============================>                           (10 + 8) / 20]\r"
     ]
    },
    {
     "name": "stdout",
     "output_type": "stream",
     "text": [
      "23/03/26 08:11:28 WARN MemoryStore: Not enough space to cache rdd_23_16 in memory! (computed 909.7 MiB so far)\n",
      "23/03/26 08:11:29 WARN MemoryStore: Not enough space to cache rdd_23_17 in memory! (computed 380.1 MiB so far)\n",
      "23/03/26 08:11:29 WARN MemoryStore: Not enough space to cache rdd_23_16 in memory! (computed 168.6 MiB so far)\n",
      "23/03/26 08:11:29 WARN MemoryStore: Not enough space to cache rdd_23_16 in memory! (computed 20.9 MiB so far)\n",
      "23/03/26 08:11:29 WARN MemoryStore: Failed to reserve initial memory threshold of 1024.0 KiB for computing block rdd_175_16 in memory.\n",
      "23/03/26 08:11:29 WARN MemoryStore: Not enough space to cache rdd_175_16 in memory! (computed 384.0 B so far)\n",
      "23/03/26 08:11:29 WARN MemoryStore: Failed to reserve initial memory threshold of 1024.0 KiB for computing block rdd_197_16 in memory.\n",
      "23/03/26 08:11:29 WARN MemoryStore: Not enough space to cache rdd_197_16 in memory! (computed 384.0 B so far)\n",
      "23/03/26 08:11:29 WARN BlockManager: Persisting block rdd_197_16 to disk instead.\n",
      "23/03/26 08:11:29 WARN MemoryStore: Not enough space to cache rdd_23_17 in memory! (computed 47.4 MiB so far)\n",
      "23/03/26 08:11:29 WARN MemoryStore: Not enough space to cache rdd_23_17 in memory! (computed 20.9 MiB so far)\n",
      "23/03/26 08:11:29 WARN MemoryStore: Failed to reserve initial memory threshold of 1024.0 KiB for computing block rdd_175_17 in memory.\n",
      "23/03/26 08:11:29 WARN MemoryStore: Not enough space to cache rdd_175_17 in memory! (computed 384.0 B so far)\n",
      "23/03/26 08:11:29 WARN MemoryStore: Failed to reserve initial memory threshold of 1024.0 KiB for computing block rdd_197_17 in memory.\n",
      "23/03/26 08:11:29 WARN MemoryStore: Not enough space to cache rdd_197_17 in memory! (computed 384.0 B so far)\n",
      "23/03/26 08:11:29 WARN BlockManager: Persisting block rdd_197_17 to disk instead.\n"
     ]
    },
    {
     "name": "stderr",
     "output_type": "stream",
     "text": [
      "[Stage 86:==============================>                         (11 + 8) / 20]\r"
     ]
    },
    {
     "name": "stdout",
     "output_type": "stream",
     "text": [
      "23/03/26 08:11:30 WARN MemoryStore: Not enough space to cache rdd_23_18 in memory! (computed 112.4 MiB so far)\n",
      "23/03/26 08:11:31 WARN MemoryStore: Not enough space to cache rdd_23_18 in memory! (computed 3.5 MiB so far)\n",
      "23/03/26 08:11:31 WARN MemoryStore: Failed to reserve initial memory threshold of 1024.0 KiB for computing block rdd_23_18 in memory.\n",
      "23/03/26 08:11:31 WARN MemoryStore: Not enough space to cache rdd_23_18 in memory! (computed 384.0 B so far)\n",
      "23/03/26 08:11:31 WARN MemoryStore: Failed to reserve initial memory threshold of 1024.0 KiB for computing block rdd_175_18 in memory.\n",
      "23/03/26 08:11:31 WARN MemoryStore: Not enough space to cache rdd_175_18 in memory! (computed 384.0 B so far)\n",
      "23/03/26 08:11:31 WARN MemoryStore: Failed to reserve initial memory threshold of 1024.0 KiB for computing block rdd_197_18 in memory.\n",
      "23/03/26 08:11:31 WARN MemoryStore: Not enough space to cache rdd_197_18 in memory! (computed 384.0 B so far)\n",
      "23/03/26 08:11:31 WARN BlockManager: Persisting block rdd_197_18 to disk instead.\n",
      "23/03/26 08:11:31 WARN MemoryStore: Not enough space to cache rdd_200_9 in memory! (computed 10.8 MiB so far)\n",
      "23/03/26 08:11:31 WARN MemoryStore: Failed to reserve initial memory threshold of 1024.0 KiB for computing block rdd_200_11 in memory.\n",
      "23/03/26 08:11:31 WARN MemoryStore: Not enough space to cache rdd_200_11 in memory! (computed 384.0 B so far)\n",
      "23/03/26 08:11:32 WARN MemoryStore: Not enough space to cache rdd_200_15 in memory! (computed 10.8 MiB so far)\n",
      "23/03/26 08:11:32 WARN MemoryStore: Failed to reserve initial memory threshold of 1024.0 KiB for computing block rdd_200_10 in memory.\n",
      "23/03/26 08:11:32 WARN MemoryStore: Not enough space to cache rdd_200_10 in memory! (computed 384.0 B so far)\n"
     ]
    },
    {
     "name": "stderr",
     "output_type": "stream",
     "text": [
      "[Stage 86:============================================>           (16 + 4) / 20]\r"
     ]
    },
    {
     "name": "stdout",
     "output_type": "stream",
     "text": [
      "23/03/26 08:12:22 WARN MemoryStore: Not enough space to cache rdd_23_19 in memory! (computed 6.9 GiB so far)\n",
      "23/03/26 08:12:26 WARN MemoryStore: Not enough space to cache rdd_23_19 in memory! (computed 2046.8 MiB so far)\n",
      "23/03/26 08:12:26 WARN MemoryStore: Not enough space to cache rdd_23_19 in memory! (computed 73.6 MiB so far)\n",
      "23/03/26 08:12:26 WARN MemoryStore: Not enough space to cache rdd_175_19 in memory! (computed 29.2 MiB so far)\n",
      "23/03/26 08:12:34 WARN MemoryStore: Not enough space to cache rdd_197_19 in memory! (computed 104.0 MiB so far)\n",
      "23/03/26 08:12:34 WARN BlockManager: Persisting block rdd_197_19 to disk instead.\n"
     ]
    },
    {
     "name": "stderr",
     "output_type": "stream",
     "text": [
      "[Stage 88:>                                                        (0 + 8) / 20]\r"
     ]
    },
    {
     "name": "stdout",
     "output_type": "stream",
     "text": [
      "23/03/26 08:13:02 WARN MemoryStore: Not enough space to cache rdd_23_5 in memory! (computed 1364.5 MiB so far)\n",
      "23/03/26 08:13:02 WARN MemoryStore: Not enough space to cache rdd_23_1 in memory! (computed 1364.5 MiB so far)\n",
      "23/03/26 08:13:02 WARN MemoryStore: Not enough space to cache rdd_23_7 in memory! (computed 1364.5 MiB so far)\n",
      "23/03/26 08:13:02 WARN MemoryStore: Not enough space to cache rdd_23_2 in memory! (computed 1364.5 MiB so far)\n",
      "23/03/26 08:13:02 WARN MemoryStore: Not enough space to cache rdd_23_4 in memory! (computed 909.7 MiB so far)\n",
      "23/03/26 08:13:02 WARN MemoryStore: Not enough space to cache rdd_23_0 in memory! (computed 909.7 MiB so far)\n",
      "23/03/26 08:13:02 WARN MemoryStore: Not enough space to cache rdd_23_3 in memory! (computed 909.7 MiB so far)\n",
      "23/03/26 08:13:02 WARN MemoryStore: Not enough space to cache rdd_200_5 in memory! (computed 6.2 MiB so far)\n",
      "23/03/26 08:13:02 WARN MemoryStore: Not enough space to cache rdd_200_4 in memory! (computed 6.2 MiB so far)\n",
      "23/03/26 08:13:02 WARN MemoryStore: Not enough space to cache rdd_200_1 in memory! (computed 6.2 MiB so far)\n",
      "23/03/26 08:13:02 WARN MemoryStore: Not enough space to cache rdd_200_3 in memory! (computed 6.2 MiB so far)\n",
      "23/03/26 08:13:02 WARN MemoryStore: Not enough space to cache rdd_200_2 in memory! (computed 6.2 MiB so far)\n",
      "23/03/26 08:13:02 WARN MemoryStore: Not enough space to cache rdd_200_7 in memory! (computed 10.8 MiB so far)\n",
      "23/03/26 08:13:02 WARN MemoryStore: Not enough space to cache rdd_200_0 in memory! (computed 10.8 MiB so far)\n",
      "23/03/26 08:13:03 WARN MemoryStore: Not enough space to cache rdd_23_6 in memory! (computed 1364.5 MiB so far)\n",
      "23/03/26 08:13:04 WARN MemoryStore: Not enough space to cache rdd_200_6 in memory! (computed 43.2 MiB so far)\n"
     ]
    },
    {
     "name": "stderr",
     "output_type": "stream",
     "text": [
      "[Stage 88:======================>                                  (8 + 8) / 20]\r"
     ]
    },
    {
     "name": "stdout",
     "output_type": "stream",
     "text": [
      "23/03/26 08:13:48 WARN MemoryStore: Not enough space to cache rdd_23_12 in memory! (computed 909.7 MiB so far)\n",
      "23/03/26 08:13:48 WARN MemoryStore: Not enough space to cache rdd_23_9 in memory! (computed 1364.5 MiB so far)\n",
      "23/03/26 08:13:48 WARN MemoryStore: Not enough space to cache rdd_23_13 in memory! (computed 909.7 MiB so far)\n",
      "23/03/26 08:13:48 WARN MemoryStore: Not enough space to cache rdd_23_15 in memory! (computed 589.3 MiB so far)\n",
      "23/03/26 08:13:49 WARN MemoryStore: Not enough space to cache rdd_23_10 in memory! (computed 1364.5 MiB so far)\n",
      "23/03/26 08:13:49 WARN MemoryStore: Not enough space to cache rdd_23_14 in memory! (computed 909.7 MiB so far)\n",
      "23/03/26 08:13:49 WARN MemoryStore: Not enough space to cache rdd_23_11 in memory! (computed 1364.5 MiB so far)\n",
      "23/03/26 08:13:49 WARN MemoryStore: Not enough space to cache rdd_200_13 in memory! (computed 24.3 MiB so far)\n",
      "23/03/26 08:13:49 WARN MemoryStore: Not enough space to cache rdd_200_15 in memory! (computed 24.3 MiB so far)\n",
      "23/03/26 08:13:49 WARN MemoryStore: Not enough space to cache rdd_200_10 in memory! (computed 16.2 MiB so far)\n",
      "23/03/26 08:13:49 WARN MemoryStore: Not enough space to cache rdd_200_12 in memory! (computed 43.2 MiB so far)\n",
      "23/03/26 08:13:49 WARN MemoryStore: Not enough space to cache rdd_200_14 in memory! (computed 16.2 MiB so far)\n",
      "23/03/26 08:13:49 WARN MemoryStore: Not enough space to cache rdd_200_9 in memory! (computed 43.2 MiB so far)\n",
      "23/03/26 08:13:49 WARN MemoryStore: Not enough space to cache rdd_200_11 in memory! (computed 6.2 MiB so far)\n",
      "23/03/26 08:13:50 WARN MemoryStore: Not enough space to cache rdd_23_8 in memory! (computed 2046.8 MiB so far)\n",
      "23/03/26 08:13:50 WARN MemoryStore: Not enough space to cache rdd_200_8 in memory! (computed 6.2 MiB so far)\n"
     ]
    },
    {
     "name": "stderr",
     "output_type": "stream",
     "text": [
      "[Stage 88:==============================>                         (11 + 8) / 20]\r"
     ]
    },
    {
     "name": "stdout",
     "output_type": "stream",
     "text": [
      "23/03/26 08:14:20 WARN MemoryStore: Not enough space to cache rdd_23_16 in memory! (computed 3.0 GiB so far)\n",
      "23/03/26 08:14:21 WARN MemoryStore: Not enough space to cache rdd_23_17 in memory! (computed 3.0 GiB so far)\n",
      "23/03/26 08:14:21 WARN MemoryStore: Not enough space to cache rdd_23_18 in memory! (computed 3.0 GiB so far)\n",
      "23/03/26 08:14:23 WARN MemoryStore: Not enough space to cache rdd_200_18 in memory! (computed 64.8 MiB so far)\n",
      "23/03/26 08:14:24 WARN MemoryStore: Not enough space to cache rdd_200_17 in memory! (computed 99.2 MiB so far)\n",
      "23/03/26 08:14:24 WARN MemoryStore: Not enough space to cache rdd_200_16 in memory! (computed 172.8 MiB so far)\n"
     ]
    },
    {
     "name": "stderr",
     "output_type": "stream",
     "text": [
      "[Stage 88:============================================>           (16 + 4) / 20]\r"
     ]
    },
    {
     "name": "stdout",
     "output_type": "stream",
     "text": [
      "23/03/26 08:14:43 WARN MemoryStore: Not enough space to cache rdd_23_19 in memory! (computed 6.9 GiB so far)\n"
     ]
    },
    {
     "name": "stderr",
     "output_type": "stream",
     "text": [
      "[Stage 90:>                                                        (0 + 8) / 20]\r"
     ]
    },
    {
     "name": "stdout",
     "output_type": "stream",
     "text": [
      "23/03/26 08:14:53 WARN MemoryStore: Not enough space to cache rdd_23_1 in memory! (computed 909.7 MiB so far)\n",
      "23/03/26 08:14:53 WARN MemoryStore: Not enough space to cache rdd_23_0 in memory! (computed 909.7 MiB so far)\n",
      "23/03/26 08:14:53 WARN MemoryStore: Not enough space to cache rdd_23_3 in memory! (computed 909.7 MiB so far)\n",
      "23/03/26 08:14:54 WARN MemoryStore: Not enough space to cache rdd_200_1 in memory! (computed 16.2 MiB so far)\n",
      "23/03/26 08:14:54 WARN MemoryStore: Not enough space to cache rdd_200_0 in memory! (computed 16.2 MiB so far)\n",
      "23/03/26 08:14:54 WARN MemoryStore: Not enough space to cache rdd_200_3 in memory! (computed 16.2 MiB so far)\n",
      "23/03/26 08:14:54 WARN MemoryStore: Not enough space to cache rdd_23_5 in memory! (computed 1364.5 MiB so far)\n",
      "23/03/26 08:14:54 WARN MemoryStore: Not enough space to cache rdd_200_5 in memory! (computed 1024.6 KiB so far)\n",
      "23/03/26 08:14:54 WARN MemoryStore: Not enough space to cache rdd_23_7 in memory! (computed 1364.5 MiB so far)\n",
      "23/03/26 08:14:54 WARN MemoryStore: Not enough space to cache rdd_23_6 in memory! (computed 1364.5 MiB so far)\n",
      "23/03/26 08:14:54 WARN MemoryStore: Failed to reserve initial memory threshold of 1024.0 KiB for computing block rdd_200_6 in memory.\n",
      "23/03/26 08:14:54 WARN MemoryStore: Not enough space to cache rdd_200_6 in memory! (computed 384.0 B so far)\n",
      "23/03/26 08:14:55 WARN MemoryStore: Not enough space to cache rdd_200_7 in memory! (computed 1024.6 KiB so far)\n",
      "23/03/26 08:14:55 WARN MemoryStore: Not enough space to cache rdd_23_4 in memory! (computed 1364.5 MiB so far)\n",
      "23/03/26 08:14:55 WARN MemoryStore: Not enough space to cache rdd_23_2 in memory! (computed 1364.5 MiB so far)\n",
      "23/03/26 08:14:55 WARN MemoryStore: Failed to reserve initial memory threshold of 1024.0 KiB for computing block rdd_200_2 in memory.\n",
      "23/03/26 08:14:55 WARN MemoryStore: Not enough space to cache rdd_200_2 in memory! (computed 384.0 B so far)\n",
      "23/03/26 08:14:55 WARN MemoryStore: Not enough space to cache rdd_200_4 in memory! (computed 1024.6 KiB so far)\n"
     ]
    },
    {
     "name": "stderr",
     "output_type": "stream",
     "text": [
      "[Stage 90:======================>                                  (8 + 8) / 20]\r"
     ]
    },
    {
     "name": "stdout",
     "output_type": "stream",
     "text": [
      "23/03/26 08:15:41 WARN MemoryStore: Not enough space to cache rdd_23_9 in memory! (computed 1364.5 MiB so far)\n",
      "23/03/26 08:15:42 WARN MemoryStore: Not enough space to cache rdd_23_8 in memory! (computed 2046.8 MiB so far)\n",
      "23/03/26 08:15:42 WARN MemoryStore: Not enough space to cache rdd_23_14 in memory! (computed 589.3 MiB so far)\n",
      "23/03/26 08:15:42 WARN MemoryStore: Not enough space to cache rdd_23_15 in memory! (computed 589.3 MiB so far)\n",
      "23/03/26 08:15:42 WARN MemoryStore: Not enough space to cache rdd_23_12 in memory! (computed 909.7 MiB so far)\n",
      "23/03/26 08:15:42 WARN MemoryStore: Not enough space to cache rdd_23_11 in memory! (computed 1364.5 MiB so far)\n",
      "23/03/26 08:15:42 WARN MemoryStore: Not enough space to cache rdd_23_10 in memory! (computed 1364.5 MiB so far)\n",
      "23/03/26 08:15:43 WARN MemoryStore: Not enough space to cache rdd_200_9 in memory! (computed 16.2 MiB so far)\n",
      "23/03/26 08:15:43 WARN MemoryStore: Not enough space to cache rdd_200_10 in memory! (computed 16.2 MiB so far)\n",
      "23/03/26 08:15:43 WARN MemoryStore: Not enough space to cache rdd_200_8 in memory! (computed 16.2 MiB so far)\n",
      "23/03/26 08:15:43 WARN MemoryStore: Not enough space to cache rdd_200_11 in memory! (computed 16.2 MiB so far)\n",
      "23/03/26 08:15:43 WARN MemoryStore: Not enough space to cache rdd_200_15 in memory! (computed 16.2 MiB so far)\n",
      "23/03/26 08:15:43 WARN MemoryStore: Not enough space to cache rdd_200_14 in memory! (computed 16.2 MiB so far)\n",
      "23/03/26 08:15:43 WARN MemoryStore: Not enough space to cache rdd_200_12 in memory! (computed 16.2 MiB so far)\n",
      "23/03/26 08:15:43 WARN MemoryStore: Not enough space to cache rdd_23_13 in memory! (computed 1364.5 MiB so far)\n",
      "23/03/26 08:15:44 WARN MemoryStore: Not enough space to cache rdd_200_13 in memory! (computed 6.2 MiB so far)\n"
     ]
    },
    {
     "name": "stderr",
     "output_type": "stream",
     "text": [
      "[Stage 90:==============================>                         (11 + 8) / 20]\r"
     ]
    },
    {
     "name": "stdout",
     "output_type": "stream",
     "text": [
      "23/03/26 08:16:13 WARN MemoryStore: Not enough space to cache rdd_23_16 in memory! (computed 3.0 GiB so far)\n",
      "23/03/26 08:16:15 WARN MemoryStore: Not enough space to cache rdd_23_17 in memory! (computed 3.0 GiB so far)\n",
      "23/03/26 08:16:16 WARN MemoryStore: Not enough space to cache rdd_23_18 in memory! (computed 3.0 GiB so far)\n",
      "23/03/26 08:16:17 WARN MemoryStore: Not enough space to cache rdd_200_16 in memory! (computed 172.8 MiB so far)\n",
      "23/03/26 08:16:19 WARN MemoryStore: Not enough space to cache rdd_200_18 in memory! (computed 99.2 MiB so far)\n"
     ]
    },
    {
     "name": "stderr",
     "output_type": "stream",
     "text": [
      "[Stage 90:============================================>           (16 + 4) / 20]\r"
     ]
    },
    {
     "name": "stdout",
     "output_type": "stream",
     "text": [
      "23/03/26 08:16:35 WARN MemoryStore: Not enough space to cache rdd_23_19 in memory! (computed 6.9 GiB so far)\n"
     ]
    },
    {
     "name": "stderr",
     "output_type": "stream",
     "text": [
      "[Stage 92:>                                                        (0 + 8) / 20]\r"
     ]
    },
    {
     "name": "stdout",
     "output_type": "stream",
     "text": [
      "23/03/26 08:16:47 WARN MemoryStore: Not enough space to cache rdd_23_5 in memory! (computed 909.7 MiB so far)\n",
      "23/03/26 08:16:47 WARN MemoryStore: Not enough space to cache rdd_23_4 in memory! (computed 909.7 MiB so far)\n",
      "23/03/26 08:16:47 WARN MemoryStore: Not enough space to cache rdd_23_7 in memory! (computed 909.7 MiB so far)\n",
      "23/03/26 08:16:48 WARN MemoryStore: Not enough space to cache rdd_200_5 in memory! (computed 16.2 MiB so far)\n",
      "23/03/26 08:16:48 WARN MemoryStore: Not enough space to cache rdd_200_4 in memory! (computed 16.2 MiB so far)\n",
      "23/03/26 08:16:48 WARN MemoryStore: Not enough space to cache rdd_200_7 in memory! (computed 16.2 MiB so far)\n",
      "23/03/26 08:16:48 WARN MemoryStore: Not enough space to cache rdd_23_6 in memory! (computed 1364.5 MiB so far)\n",
      "23/03/26 08:16:48 WARN MemoryStore: Not enough space to cache rdd_23_3 in memory! (computed 1364.5 MiB so far)\n",
      "23/03/26 08:16:48 WARN MemoryStore: Failed to reserve initial memory threshold of 1024.0 KiB for computing block rdd_200_3 in memory.\n",
      "23/03/26 08:16:48 WARN MemoryStore: Not enough space to cache rdd_200_3 in memory! (computed 384.0 B so far)\n",
      "23/03/26 08:16:48 WARN MemoryStore: Not enough space to cache rdd_200_6 in memory! (computed 1024.6 KiB so far)\n",
      "23/03/26 08:16:48 WARN MemoryStore: Not enough space to cache rdd_23_2 in memory! (computed 1364.5 MiB so far)\n",
      "23/03/26 08:16:48 WARN MemoryStore: Not enough space to cache rdd_23_0 in memory! (computed 1364.5 MiB so far)\n",
      "23/03/26 08:16:48 WARN MemoryStore: Failed to reserve initial memory threshold of 1024.0 KiB for computing block rdd_200_0 in memory.\n",
      "23/03/26 08:16:48 WARN MemoryStore: Not enough space to cache rdd_200_0 in memory! (computed 384.0 B so far)\n",
      "23/03/26 08:16:48 WARN MemoryStore: Not enough space to cache rdd_200_2 in memory! (computed 1024.6 KiB so far)\n",
      "23/03/26 08:16:49 WARN MemoryStore: Not enough space to cache rdd_23_1 in memory! (computed 1364.5 MiB so far)\n",
      "23/03/26 08:16:49 WARN MemoryStore: Not enough space to cache rdd_200_1 in memory! (computed 1024.6 KiB so far)\n"
     ]
    },
    {
     "name": "stderr",
     "output_type": "stream",
     "text": [
      "[Stage 92:======================>                                  (8 + 8) / 20]\r"
     ]
    },
    {
     "name": "stdout",
     "output_type": "stream",
     "text": [
      "23/03/26 08:17:33 WARN MemoryStore: Not enough space to cache rdd_23_14 in memory! (computed 380.1 MiB so far)\n",
      "23/03/26 08:17:33 WARN MemoryStore: Not enough space to cache rdd_23_9 in memory! (computed 1364.5 MiB so far)\n",
      "23/03/26 08:17:33 WARN MemoryStore: Not enough space to cache rdd_23_11 in memory! (computed 1364.5 MiB so far)\n",
      "23/03/26 08:17:33 WARN MemoryStore: Not enough space to cache rdd_23_10 in memory! (computed 1364.5 MiB so far)\n",
      "23/03/26 08:17:33 WARN MemoryStore: Not enough space to cache rdd_23_12 in memory! (computed 1364.5 MiB so far)\n",
      "23/03/26 08:17:33 WARN MemoryStore: Not enough space to cache rdd_200_9 in memory! (computed 6.2 MiB so far)\n",
      "23/03/26 08:17:33 WARN MemoryStore: Not enough space to cache rdd_200_12 in memory! (computed 1537.3 KiB so far)\n",
      "23/03/26 08:17:34 WARN MemoryStore: Not enough space to cache rdd_200_10 in memory! (computed 2.7 MiB so far)\n",
      "23/03/26 08:17:34 WARN MemoryStore: Not enough space to cache rdd_200_11 in memory! (computed 6.2 MiB so far)\n",
      "23/03/26 08:17:34 WARN MemoryStore: Not enough space to cache rdd_200_14 in memory! (computed 6.2 MiB so far)\n",
      "23/03/26 08:17:34 WARN MemoryStore: Not enough space to cache rdd_23_15 in memory! (computed 380.1 MiB so far)\n",
      "23/03/26 08:17:34 WARN MemoryStore: Failed to reserve initial memory threshold of 1024.0 KiB for computing block rdd_200_15 in memory.\n",
      "23/03/26 08:17:34 WARN MemoryStore: Not enough space to cache rdd_200_15 in memory! (computed 384.0 B so far)\n",
      "23/03/26 08:17:34 WARN MemoryStore: Not enough space to cache rdd_23_13 in memory! (computed 1364.5 MiB so far)\n",
      "23/03/26 08:17:34 WARN MemoryStore: Not enough space to cache rdd_23_8 in memory! (computed 2046.8 MiB so far)\n"
     ]
    },
    {
     "name": "stderr",
     "output_type": "stream",
     "text": [
      "[Stage 92:==============================>                         (11 + 8) / 20]\r"
     ]
    },
    {
     "name": "stdout",
     "output_type": "stream",
     "text": [
      "23/03/26 08:18:03 WARN MemoryStore: Not enough space to cache rdd_23_16 in memory! (computed 3.0 GiB so far)\n",
      "23/03/26 08:18:04 WARN MemoryStore: Not enough space to cache rdd_23_17 in memory! (computed 3.0 GiB so far)\n",
      "23/03/26 08:18:05 WARN MemoryStore: Not enough space to cache rdd_23_18 in memory! (computed 3.0 GiB so far)\n",
      "23/03/26 08:18:05 WARN MemoryStore: Not enough space to cache rdd_200_16 in memory! (computed 99.2 MiB so far)\n",
      "23/03/26 08:18:05 WARN MemoryStore: Not enough space to cache rdd_200_18 in memory! (computed 4.0 MiB so far)\n",
      "23/03/26 08:18:06 WARN MemoryStore: Not enough space to cache rdd_200_17 in memory! (computed 64.8 MiB so far)\n"
     ]
    },
    {
     "name": "stderr",
     "output_type": "stream",
     "text": [
      "[Stage 92:============================================>           (16 + 4) / 20]\r"
     ]
    },
    {
     "name": "stdout",
     "output_type": "stream",
     "text": [
      "23/03/26 08:18:25 WARN MemoryStore: Not enough space to cache rdd_23_19 in memory! (computed 6.9 GiB so far)\n"
     ]
    },
    {
     "name": "stderr",
     "output_type": "stream",
     "text": [
      "[Stage 94:>                                                        (0 + 8) / 20]\r"
     ]
    },
    {
     "name": "stdout",
     "output_type": "stream",
     "text": [
      "23/03/26 08:18:38 WARN MemoryStore: Not enough space to cache rdd_23_5 in memory! (computed 909.7 MiB so far)\n",
      "23/03/26 08:18:38 WARN MemoryStore: Not enough space to cache rdd_23_7 in memory! (computed 909.7 MiB so far)\n",
      "23/03/26 08:18:38 WARN MemoryStore: Not enough space to cache rdd_23_6 in memory! (computed 909.7 MiB so far)\n",
      "23/03/26 08:18:38 WARN MemoryStore: Not enough space to cache rdd_23_0 in memory! (computed 1364.5 MiB so far)\n",
      "23/03/26 08:18:38 WARN MemoryStore: Not enough space to cache rdd_23_4 in memory! (computed 1364.5 MiB so far)\n",
      "23/03/26 08:18:38 WARN MemoryStore: Not enough space to cache rdd_23_2 in memory! (computed 1364.5 MiB so far)\n",
      "23/03/26 08:18:38 WARN MemoryStore: Not enough space to cache rdd_200_0 in memory! (computed 4.0 MiB so far)\n",
      "23/03/26 08:18:38 WARN MemoryStore: Not enough space to cache rdd_200_4 in memory! (computed 2.7 MiB so far)\n",
      "23/03/26 08:18:38 WARN MemoryStore: Not enough space to cache rdd_200_6 in memory! (computed 16.2 MiB so far)\n",
      "23/03/26 08:18:38 WARN MemoryStore: Not enough space to cache rdd_200_5 in memory! (computed 10.8 MiB so far)\n",
      "23/03/26 08:18:38 WARN MemoryStore: Not enough space to cache rdd_200_2 in memory! (computed 1537.3 KiB so far)\n",
      "23/03/26 08:18:38 WARN MemoryStore: Not enough space to cache rdd_200_7 in memory! (computed 16.2 MiB so far)\n",
      "23/03/26 08:18:39 WARN MemoryStore: Not enough space to cache rdd_23_3 in memory! (computed 1364.5 MiB so far)\n",
      "23/03/26 08:18:39 WARN MemoryStore: Not enough space to cache rdd_200_3 in memory! (computed 4.0 MiB so far)\n",
      "23/03/26 08:18:39 WARN MemoryStore: Not enough space to cache rdd_23_1 in memory! (computed 1364.5 MiB so far)\n",
      "23/03/26 08:18:39 WARN MemoryStore: Not enough space to cache rdd_200_1 in memory! (computed 4.0 MiB so far)\n"
     ]
    },
    {
     "name": "stderr",
     "output_type": "stream",
     "text": [
      "[Stage 94:======================>                                  (8 + 8) / 20]\r"
     ]
    },
    {
     "name": "stdout",
     "output_type": "stream",
     "text": [
      "23/03/26 08:19:24 WARN MemoryStore: Not enough space to cache rdd_23_13 in memory! (computed 589.3 MiB so far)\n",
      "23/03/26 08:19:24 WARN MemoryStore: Not enough space to cache rdd_23_10 in memory! (computed 1364.5 MiB so far)\n",
      "23/03/26 08:19:24 WARN MemoryStore: Not enough space to cache rdd_23_14 in memory! (computed 380.1 MiB so far)\n",
      "23/03/26 08:19:24 WARN MemoryStore: Not enough space to cache rdd_200_10 in memory! (computed 2.7 MiB so far)\n",
      "23/03/26 08:19:24 WARN MemoryStore: Not enough space to cache rdd_200_14 in memory! (computed 2.7 MiB so far)\n",
      "23/03/26 08:19:24 WARN MemoryStore: Not enough space to cache rdd_200_13 in memory! (computed 4.0 MiB so far)\n",
      "23/03/26 08:19:25 WARN MemoryStore: Not enough space to cache rdd_23_8 in memory! (computed 2046.8 MiB so far)\n",
      "23/03/26 08:19:25 WARN MemoryStore: Failed to reserve initial memory threshold of 1024.0 KiB for computing block rdd_200_8 in memory.\n",
      "23/03/26 08:19:25 WARN MemoryStore: Not enough space to cache rdd_200_8 in memory! (computed 384.0 B so far)\n",
      "23/03/26 08:19:25 WARN MemoryStore: Not enough space to cache rdd_23_15 in memory! (computed 380.1 MiB so far)\n",
      "23/03/26 08:19:25 WARN MemoryStore: Failed to reserve initial memory threshold of 1024.0 KiB for computing block rdd_200_15 in memory.\n",
      "23/03/26 08:19:25 WARN MemoryStore: Not enough space to cache rdd_200_15 in memory! (computed 384.0 B so far)\n",
      "23/03/26 08:19:25 WARN MemoryStore: Not enough space to cache rdd_23_11 in memory! (computed 1364.5 MiB so far)\n",
      "23/03/26 08:19:25 WARN MemoryStore: Not enough space to cache rdd_200_11 in memory! (computed 4.0 MiB so far)\n",
      "23/03/26 08:19:25 WARN MemoryStore: Not enough space to cache rdd_23_12 in memory! (computed 1364.5 MiB so far)\n",
      "23/03/26 08:19:25 WARN MemoryStore: Failed to reserve initial memory threshold of 1024.0 KiB for computing block rdd_200_12 in memory.\n",
      "23/03/26 08:19:25 WARN MemoryStore: Not enough space to cache rdd_200_12 in memory! (computed 384.0 B so far)\n",
      "23/03/26 08:19:26 WARN MemoryStore: Not enough space to cache rdd_23_9 in memory! (computed 2046.8 MiB so far)\n"
     ]
    },
    {
     "name": "stderr",
     "output_type": "stream",
     "text": [
      "[Stage 94:==============================>                         (11 + 8) / 20]\r"
     ]
    },
    {
     "name": "stdout",
     "output_type": "stream",
     "text": [
      "23/03/26 08:19:56 WARN MemoryStore: Not enough space to cache rdd_23_17 in memory! (computed 3.0 GiB so far)\n",
      "23/03/26 08:19:56 WARN MemoryStore: Not enough space to cache rdd_23_18 in memory! (computed 3.0 GiB so far)\n",
      "23/03/26 08:19:56 WARN MemoryStore: Not enough space to cache rdd_23_16 in memory! (computed 3.0 GiB so far)\n",
      "23/03/26 08:19:57 WARN MemoryStore: Not enough space to cache rdd_200_16 in memory! (computed 43.2 MiB so far)\n",
      "23/03/26 08:19:58 WARN MemoryStore: Not enough space to cache rdd_200_18 in memory! (computed 43.2 MiB so far)\n",
      "23/03/26 08:19:58 WARN MemoryStore: Not enough space to cache rdd_200_17 in memory! (computed 64.8 MiB so far)\n"
     ]
    },
    {
     "name": "stderr",
     "output_type": "stream",
     "text": [
      "[Stage 94:============================================>           (16 + 4) / 20]\r"
     ]
    },
    {
     "name": "stdout",
     "output_type": "stream",
     "text": [
      "23/03/26 08:20:18 WARN MemoryStore: Not enough space to cache rdd_23_19 in memory! (computed 6.9 GiB so far)\n"
     ]
    },
    {
     "name": "stderr",
     "output_type": "stream",
     "text": [
      "[Stage 96:>                                                        (0 + 8) / 20]\r"
     ]
    },
    {
     "name": "stdout",
     "output_type": "stream",
     "text": [
      "23/03/26 08:20:29 WARN MemoryStore: Not enough space to cache rdd_23_6 in memory! (computed 909.7 MiB so far)\n",
      "23/03/26 08:20:29 WARN MemoryStore: Not enough space to cache rdd_23_7 in memory! (computed 909.7 MiB so far)\n",
      "23/03/26 08:20:29 WARN MemoryStore: Not enough space to cache rdd_23_3 in memory! (computed 909.7 MiB so far)\n",
      "23/03/26 08:20:29 WARN MemoryStore: Not enough space to cache rdd_23_6 in memory! (computed 112.4 MiB so far)\n",
      "23/03/26 08:20:29 WARN MemoryStore: Not enough space to cache rdd_23_6 in memory! (computed 9.1 MiB so far)\n",
      "23/03/26 08:20:29 WARN MemoryStore: Not enough space to cache rdd_23_3 in memory! (computed 9.1 MiB so far)\n",
      "23/03/26 08:20:29 WARN MemoryStore: Not enough space to cache rdd_23_3 in memory! (computed 1025.7 KiB so far)\n",
      "23/03/26 08:20:29 WARN MemoryStore: Failed to reserve initial memory threshold of 1024.0 KiB for computing block rdd_197_3 in memory.\n",
      "23/03/26 08:20:29 WARN MemoryStore: Not enough space to cache rdd_197_3 in memory! (computed 384.0 B so far)\n",
      "23/03/26 08:20:29 WARN MemoryStore: Failed to reserve initial memory threshold of 1024.0 KiB for computing block rdd_219_3 in memory.\n",
      "23/03/26 08:20:29 WARN MemoryStore: Not enough space to cache rdd_219_3 in memory! (computed 384.0 B so far)\n",
      "23/03/26 08:20:29 WARN BlockManager: Persisting block rdd_219_3 to disk instead.\n",
      "23/03/26 08:20:29 WARN MemoryStore: Not enough space to cache rdd_23_7 in memory! (computed 47.4 MiB so far)\n",
      "23/03/26 08:20:29 WARN MemoryStore: Not enough space to cache rdd_197_6 in memory! (computed 1035.4 KiB so far)\n",
      "23/03/26 08:20:29 WARN MemoryStore: Failed to reserve initial memory threshold of 1024.0 KiB for computing block rdd_219_6 in memory.\n",
      "23/03/26 08:20:29 WARN MemoryStore: Not enough space to cache rdd_219_6 in memory! (computed 384.0 B so far)\n",
      "23/03/26 08:20:29 WARN BlockManager: Persisting block rdd_219_6 to disk instead.\n",
      "23/03/26 08:20:29 WARN MemoryStore: Not enough space to cache rdd_23_7 in memory! (computed 1025.7 KiB so far)\n",
      "23/03/26 08:20:29 WARN MemoryStore: Failed to reserve initial memory threshold of 1024.0 KiB for computing block rdd_197_7 in memory.\n",
      "23/03/26 08:20:29 WARN MemoryStore: Not enough space to cache rdd_197_7 in memory! (computed 384.0 B so far)\n",
      "23/03/26 08:20:29 WARN MemoryStore: Failed to reserve initial memory threshold of 1024.0 KiB for computing block rdd_219_7 in memory.\n",
      "23/03/26 08:20:29 WARN MemoryStore: Not enough space to cache rdd_219_7 in memory! (computed 384.0 B so far)\n",
      "23/03/26 08:20:29 WARN BlockManager: Persisting block rdd_219_7 to disk instead.\n",
      "23/03/26 08:20:30 WARN MemoryStore: Not enough space to cache rdd_23_4 in memory! (computed 1364.5 MiB so far)\n",
      "23/03/26 08:20:30 WARN MemoryStore: Not enough space to cache rdd_23_1 in memory! (computed 1364.5 MiB so far)\n",
      "23/03/26 08:20:30 WARN MemoryStore: Not enough space to cache rdd_23_5 in memory! (computed 1364.5 MiB so far)\n",
      "23/03/26 08:20:30 WARN MemoryStore: Not enough space to cache rdd_23_1 in memory! (computed 3.5 MiB so far)\n",
      "23/03/26 08:20:30 WARN MemoryStore: Not enough space to cache rdd_23_4 in memory! (computed 3.5 MiB so far)\n",
      "23/03/26 08:20:30 WARN MemoryStore: Not enough space to cache rdd_23_5 in memory! (computed 2.3 MiB so far)\n",
      "23/03/26 08:20:30 WARN MemoryStore: Failed to reserve initial memory threshold of 1024.0 KiB for computing block rdd_23_5 in memory.\n",
      "23/03/26 08:20:30 WARN MemoryStore: Not enough space to cache rdd_23_5 in memory! (computed 384.0 B so far)\n",
      "23/03/26 08:20:30 WARN MemoryStore: Failed to reserve initial memory threshold of 1024.0 KiB for computing block rdd_197_5 in memory.\n",
      "23/03/26 08:20:30 WARN MemoryStore: Not enough space to cache rdd_197_5 in memory! (computed 384.0 B so far)\n",
      "23/03/26 08:20:30 WARN MemoryStore: Failed to reserve initial memory threshold of 1024.0 KiB for computing block rdd_219_5 in memory.\n",
      "23/03/26 08:20:30 WARN MemoryStore: Not enough space to cache rdd_219_5 in memory! (computed 384.0 B so far)\n",
      "23/03/26 08:20:30 WARN BlockManager: Persisting block rdd_219_5 to disk instead.\n",
      "23/03/26 08:20:30 WARN MemoryStore: Not enough space to cache rdd_23_4 in memory! (computed 1025.7 KiB so far)\n",
      "23/03/26 08:20:30 WARN MemoryStore: Failed to reserve initial memory threshold of 1024.0 KiB for computing block rdd_23_1 in memory.\n",
      "23/03/26 08:20:30 WARN MemoryStore: Not enough space to cache rdd_23_1 in memory! (computed 384.0 B so far)\n",
      "23/03/26 08:20:30 WARN MemoryStore: Failed to reserve initial memory threshold of 1024.0 KiB for computing block rdd_197_1 in memory.\n",
      "23/03/26 08:20:30 WARN MemoryStore: Not enough space to cache rdd_197_1 in memory! (computed 384.0 B so far)\n",
      "23/03/26 08:20:30 WARN MemoryStore: Failed to reserve initial memory threshold of 1024.0 KiB for computing block rdd_219_1 in memory.\n",
      "23/03/26 08:20:30 WARN MemoryStore: Not enough space to cache rdd_219_1 in memory! (computed 384.0 B so far)\n",
      "23/03/26 08:20:30 WARN BlockManager: Persisting block rdd_219_1 to disk instead.\n",
      "23/03/26 08:20:30 WARN MemoryStore: Not enough space to cache rdd_23_0 in memory! (computed 1364.5 MiB so far)\n",
      "23/03/26 08:20:30 WARN MemoryStore: Failed to reserve initial memory threshold of 1024.0 KiB for computing block rdd_23_0 in memory.\n",
      "23/03/26 08:20:30 WARN MemoryStore: Not enough space to cache rdd_23_0 in memory! (computed 384.0 B so far)\n",
      "23/03/26 08:20:30 WARN MemoryStore: Failed to reserve initial memory threshold of 1024.0 KiB for computing block rdd_23_0 in memory.\n",
      "23/03/26 08:20:30 WARN MemoryStore: Not enough space to cache rdd_23_0 in memory! (computed 384.0 B so far)\n",
      "23/03/26 08:20:30 WARN MemoryStore: Failed to reserve initial memory threshold of 1024.0 KiB for computing block rdd_197_0 in memory.\n",
      "23/03/26 08:20:30 WARN MemoryStore: Not enough space to cache rdd_197_0 in memory! (computed 384.0 B so far)\n",
      "23/03/26 08:20:30 WARN MemoryStore: Failed to reserve initial memory threshold of 1024.0 KiB for computing block rdd_219_0 in memory.\n",
      "23/03/26 08:20:30 WARN MemoryStore: Not enough space to cache rdd_219_0 in memory! (computed 384.0 B so far)\n",
      "23/03/26 08:20:30 WARN BlockManager: Persisting block rdd_219_0 to disk instead.\n",
      "23/03/26 08:20:30 WARN MemoryStore: Failed to reserve initial memory threshold of 1024.0 KiB for computing block rdd_197_4 in memory.\n",
      "23/03/26 08:20:30 WARN MemoryStore: Not enough space to cache rdd_197_4 in memory! (computed 384.0 B so far)\n",
      "23/03/26 08:20:30 WARN MemoryStore: Failed to reserve initial memory threshold of 1024.0 KiB for computing block rdd_219_4 in memory.\n",
      "23/03/26 08:20:30 WARN MemoryStore: Not enough space to cache rdd_219_4 in memory! (computed 384.0 B so far)\n",
      "23/03/26 08:20:30 WARN BlockManager: Persisting block rdd_219_4 to disk instead.\n",
      "23/03/26 08:20:30 WARN MemoryStore: Not enough space to cache rdd_23_2 in memory! (computed 1364.5 MiB so far)\n",
      "23/03/26 08:20:30 WARN MemoryStore: Not enough space to cache rdd_23_2 in memory! (computed 1025.7 KiB so far)\n",
      "23/03/26 08:20:30 WARN MemoryStore: Failed to reserve initial memory threshold of 1024.0 KiB for computing block rdd_23_2 in memory.\n",
      "23/03/26 08:20:30 WARN MemoryStore: Not enough space to cache rdd_23_2 in memory! (computed 384.0 B so far)\n",
      "23/03/26 08:20:30 WARN MemoryStore: Failed to reserve initial memory threshold of 1024.0 KiB for computing block rdd_197_2 in memory.\n",
      "23/03/26 08:20:30 WARN MemoryStore: Not enough space to cache rdd_197_2 in memory! (computed 384.0 B so far)\n",
      "23/03/26 08:20:30 WARN MemoryStore: Failed to reserve initial memory threshold of 1024.0 KiB for computing block rdd_219_2 in memory.\n",
      "23/03/26 08:20:30 WARN MemoryStore: Not enough space to cache rdd_219_2 in memory! (computed 384.0 B so far)\n",
      "23/03/26 08:20:30 WARN BlockManager: Persisting block rdd_219_2 to disk instead.\n",
      "23/03/26 08:20:58 WARN MemoryStore: Failed to reserve initial memory threshold of 1024.0 KiB for computing block rdd_219_7 in memory.\n",
      "23/03/26 08:20:58 WARN MemoryStore: Not enough space to cache rdd_219_7 in memory! (computed 384.0 B so far)\n",
      "23/03/26 08:20:58 WARN MemoryStore: Failed to reserve initial memory threshold of 1024.0 KiB for computing block rdd_222_7 in memory.\n",
      "23/03/26 08:20:58 WARN MemoryStore: Not enough space to cache rdd_222_7 in memory! (computed 384.0 B so far)\n",
      "23/03/26 08:20:58 WARN BlockManager: Persisting block rdd_222_7 to disk instead.\n",
      "23/03/26 08:21:00 WARN MemoryStore: Not enough space to cache rdd_219_1 in memory! (computed 13.0 MiB so far)\n",
      "23/03/26 08:21:00 WARN MemoryStore: Not enough space to cache rdd_219_0 in memory! (computed 2.4 MiB so far)\n",
      "23/03/26 08:21:00 WARN MemoryStore: Not enough space to cache rdd_219_6 in memory! (computed 8.2 MiB so far)\n",
      "23/03/26 08:21:00 WARN MemoryStore: Not enough space to cache rdd_219_5 in memory! (computed 3.7 MiB so far)\n",
      "23/03/26 08:21:01 WARN MemoryStore: Not enough space to cache rdd_219_2 in memory! (computed 19.5 MiB so far)\n",
      "23/03/26 08:21:01 WARN MemoryStore: Not enough space to cache rdd_222_5 in memory! (computed 6.2 MiB so far)\n",
      "23/03/26 08:21:01 WARN BlockManager: Persisting block rdd_222_5 to disk instead.\n",
      "23/03/26 08:21:01 WARN MemoryStore: Not enough space to cache rdd_219_3 in memory! (computed 29.2 MiB so far)\n",
      "23/03/26 08:21:01 WARN MemoryStore: Not enough space to cache rdd_222_2 in memory! (computed 1537.3 KiB so far)\n",
      "23/03/26 08:21:01 WARN BlockManager: Persisting block rdd_222_2 to disk instead.\n",
      "23/03/26 08:21:01 WARN MemoryStore: Not enough space to cache rdd_219_4 in memory! (computed 65.8 MiB so far)\n",
      "23/03/26 08:21:01 WARN MemoryStore: Failed to reserve initial memory threshold of 1024.0 KiB for computing block rdd_222_4 in memory.\n",
      "23/03/26 08:21:01 WARN MemoryStore: Not enough space to cache rdd_222_4 in memory! (computed 384.0 B so far)\n",
      "23/03/26 08:21:01 WARN BlockManager: Persisting block rdd_222_4 to disk instead.\n",
      "23/03/26 08:21:02 WARN MemoryStore: Not enough space to cache rdd_222_0 in memory! (computed 16.2 MiB so far)\n",
      "23/03/26 08:21:02 WARN BlockManager: Persisting block rdd_222_0 to disk instead.\n",
      "23/03/26 08:21:02 WARN MemoryStore: Not enough space to cache rdd_222_3 in memory! (computed 10.8 MiB so far)\n",
      "23/03/26 08:21:02 WARN BlockManager: Persisting block rdd_222_3 to disk instead.\n",
      "23/03/26 08:21:02 WARN MemoryStore: Not enough space to cache rdd_222_6 in memory! (computed 16.2 MiB so far)\n",
      "23/03/26 08:21:02 WARN BlockManager: Persisting block rdd_222_6 to disk instead.\n",
      "23/03/26 08:21:02 WARN MemoryStore: Not enough space to cache rdd_222_1 in memory! (computed 16.2 MiB so far)\n",
      "23/03/26 08:21:02 WARN BlockManager: Persisting block rdd_222_1 to disk instead.\n"
     ]
    },
    {
     "name": "stderr",
     "output_type": "stream",
     "text": [
      "[Stage 96:>                                                        (0 + 8) / 20]\r"
     ]
    },
    {
     "name": "stdout",
     "output_type": "stream",
     "text": [
      "23/03/26 08:21:29 WARN MemoryStore: Not enough space to cache rdd_222_7 in memory! (computed 99.2 MiB so far)\n",
      "23/03/26 08:21:29 WARN MemoryStore: Not enough space to cache rdd_222_0 in memory! (computed 4.0 MiB so far)\n",
      "23/03/26 08:21:29 WARN MemoryStore: Not enough space to cache rdd_222_1 in memory! (computed 10.8 MiB so far)\n",
      "23/03/26 08:21:30 WARN MemoryStore: Failed to reserve initial memory threshold of 1024.0 KiB for computing block rdd_222_6 in memory.\n",
      "23/03/26 08:21:30 WARN MemoryStore: Not enough space to cache rdd_222_6 in memory! (computed 384.0 B so far)\n",
      "23/03/26 08:21:30 WARN MemoryStore: Not enough space to cache rdd_222_4 in memory! (computed 64.8 MiB so far)\n"
     ]
    },
    {
     "name": "stderr",
     "output_type": "stream",
     "text": [
      "[Stage 96:==============>                                          (5 + 8) / 20]\r"
     ]
    },
    {
     "name": "stdout",
     "output_type": "stream",
     "text": [
      "23/03/26 08:22:13 WARN MemoryStore: Not enough space to cache rdd_23_9 in memory! (computed 2046.8 MiB so far)\n",
      "23/03/26 08:22:13 WARN MemoryStore: Not enough space to cache rdd_23_10 in memory! (computed 1364.5 MiB so far)\n",
      "23/03/26 08:22:14 WARN MemoryStore: Not enough space to cache rdd_23_11 in memory! (computed 1364.5 MiB so far)\n"
     ]
    },
    {
     "name": "stderr",
     "output_type": "stream",
     "text": [
      "[Stage 96:=================>                                       (6 + 8) / 20]\r"
     ]
    },
    {
     "name": "stdout",
     "output_type": "stream",
     "text": [
      "23/03/26 08:22:14 WARN MemoryStore: Not enough space to cache rdd_23_9 in memory! (computed 380.1 MiB so far)\n",
      "23/03/26 08:22:14 WARN MemoryStore: Not enough space to cache rdd_23_12 in memory! (computed 589.3 MiB so far)\n",
      "23/03/26 08:22:14 WARN MemoryStore: Not enough space to cache rdd_23_13 in memory! (computed 47.4 MiB so far)\n",
      "23/03/26 08:22:14 WARN MemoryStore: Failed to reserve initial memory threshold of 1024.0 KiB for computing block rdd_23_13 in memory.\n",
      "23/03/26 08:22:14 WARN MemoryStore: Not enough space to cache rdd_23_13 in memory! (computed 384.0 B so far)\n",
      "23/03/26 08:22:14 WARN MemoryStore: Failed to reserve initial memory threshold of 1024.0 KiB for computing block rdd_23_13 in memory.\n",
      "23/03/26 08:22:14 WARN MemoryStore: Not enough space to cache rdd_23_13 in memory! (computed 384.0 B so far)\n",
      "23/03/26 08:22:14 WARN MemoryStore: Failed to reserve initial memory threshold of 1024.0 KiB for computing block rdd_197_13 in memory.\n",
      "23/03/26 08:22:14 WARN MemoryStore: Not enough space to cache rdd_197_13 in memory! (computed 384.0 B so far)\n",
      "23/03/26 08:22:14 WARN MemoryStore: Failed to reserve initial memory threshold of 1024.0 KiB for computing block rdd_219_13 in memory.\n",
      "23/03/26 08:22:14 WARN MemoryStore: Not enough space to cache rdd_219_13 in memory! (computed 384.0 B so far)\n",
      "23/03/26 08:22:14 WARN BlockManager: Persisting block rdd_219_13 to disk instead.\n",
      "23/03/26 08:22:14 WARN MemoryStore: Not enough space to cache rdd_23_9 in memory! (computed 13.9 MiB so far)\n",
      "23/03/26 08:22:14 WARN MemoryStore: Failed to reserve initial memory threshold of 1024.0 KiB for computing block rdd_197_9 in memory.\n",
      "23/03/26 08:22:14 WARN MemoryStore: Not enough space to cache rdd_197_9 in memory! (computed 384.0 B so far)\n",
      "23/03/26 08:22:14 WARN MemoryStore: Failed to reserve initial memory threshold of 1024.0 KiB for computing block rdd_219_9 in memory.\n",
      "23/03/26 08:22:14 WARN MemoryStore: Not enough space to cache rdd_219_9 in memory! (computed 384.0 B so far)\n",
      "23/03/26 08:22:14 WARN BlockManager: Persisting block rdd_219_9 to disk instead.\n",
      "23/03/26 08:22:14 WARN MemoryStore: Not enough space to cache rdd_23_12 in memory! (computed 9.1 MiB so far)\n",
      "23/03/26 08:22:14 WARN MemoryStore: Failed to reserve initial memory threshold of 1024.0 KiB for computing block rdd_23_12 in memory.\n",
      "23/03/26 08:22:14 WARN MemoryStore: Not enough space to cache rdd_23_12 in memory! (computed 384.0 B so far)\n",
      "23/03/26 08:22:14 WARN MemoryStore: Failed to reserve initial memory threshold of 1024.0 KiB for computing block rdd_197_12 in memory.\n",
      "23/03/26 08:22:14 WARN MemoryStore: Not enough space to cache rdd_197_12 in memory! (computed 384.0 B so far)\n",
      "23/03/26 08:22:14 WARN MemoryStore: Failed to reserve initial memory threshold of 1024.0 KiB for computing block rdd_219_12 in memory.\n",
      "23/03/26 08:22:14 WARN MemoryStore: Not enough space to cache rdd_219_12 in memory! (computed 384.0 B so far)\n",
      "23/03/26 08:22:14 WARN BlockManager: Persisting block rdd_219_12 to disk instead.\n",
      "23/03/26 08:22:14 WARN MemoryStore: Not enough space to cache rdd_23_10 in memory! (computed 168.6 MiB so far)\n",
      "23/03/26 08:22:14 WARN MemoryStore: Not enough space to cache rdd_23_11 in memory! (computed 252.9 MiB so far)\n",
      "23/03/26 08:22:14 WARN MemoryStore: Not enough space to cache rdd_23_10 in memory! (computed 9.1 MiB so far)\n",
      "23/03/26 08:22:14 WARN MemoryStore: Not enough space to cache rdd_23_11 in memory! (computed 5.3 MiB so far)\n",
      "23/03/26 08:22:14 WARN MemoryStore: Failed to reserve initial memory threshold of 1024.0 KiB for computing block rdd_197_11 in memory.\n",
      "23/03/26 08:22:14 WARN MemoryStore: Not enough space to cache rdd_197_11 in memory! (computed 384.0 B so far)\n",
      "23/03/26 08:22:14 WARN MemoryStore: Failed to reserve initial memory threshold of 1024.0 KiB for computing block rdd_219_11 in memory.\n",
      "23/03/26 08:22:14 WARN MemoryStore: Not enough space to cache rdd_219_11 in memory! (computed 384.0 B so far)\n",
      "23/03/26 08:22:14 WARN BlockManager: Persisting block rdd_219_11 to disk instead.\n",
      "23/03/26 08:22:14 WARN MemoryStore: Not enough space to cache rdd_23_8 in memory! (computed 3.0 GiB so far)\n",
      "23/03/26 08:22:14 WARN MemoryStore: Not enough space to cache rdd_197_10 in memory! (computed 3.7 MiB so far)\n",
      "23/03/26 08:22:14 WARN MemoryStore: Failed to reserve initial memory threshold of 1024.0 KiB for computing block rdd_219_10 in memory.\n",
      "23/03/26 08:22:14 WARN MemoryStore: Not enough space to cache rdd_219_10 in memory! (computed 384.0 B so far)\n",
      "23/03/26 08:22:14 WARN BlockManager: Persisting block rdd_219_10 to disk instead.\n",
      "23/03/26 08:22:14 WARN MemoryStore: Not enough space to cache rdd_23_8 in memory! (computed 2.3 MiB so far)\n",
      "23/03/26 08:22:14 WARN MemoryStore: Failed to reserve initial memory threshold of 1024.0 KiB for computing block rdd_23_8 in memory.\n",
      "23/03/26 08:22:14 WARN MemoryStore: Not enough space to cache rdd_23_8 in memory! (computed 384.0 B so far)\n"
     ]
    },
    {
     "name": "stderr",
     "output_type": "stream",
     "text": [
      "[Stage 96:======================>                                  (8 + 8) / 20]\r"
     ]
    },
    {
     "name": "stdout",
     "output_type": "stream",
     "text": [
      "23/03/26 08:22:16 WARN MemoryStore: Not enough space to cache rdd_23_15 in memory! (computed 73.6 MiB so far)\n",
      "23/03/26 08:22:16 WARN MemoryStore: Not enough space to cache rdd_23_15 in memory! (computed 20.9 MiB so far)\n",
      "23/03/26 08:22:16 WARN MemoryStore: Not enough space to cache rdd_23_15 in memory! (computed 1557.2 KiB so far)\n",
      "23/03/26 08:22:16 WARN MemoryStore: Failed to reserve initial memory threshold of 1024.0 KiB for computing block rdd_197_15 in memory.\n",
      "23/03/26 08:22:16 WARN MemoryStore: Not enough space to cache rdd_197_15 in memory! (computed 384.0 B so far)\n",
      "23/03/26 08:22:16 WARN MemoryStore: Failed to reserve initial memory threshold of 1024.0 KiB for computing block rdd_219_15 in memory.\n",
      "23/03/26 08:22:16 WARN MemoryStore: Not enough space to cache rdd_219_15 in memory! (computed 384.0 B so far)\n",
      "23/03/26 08:22:16 WARN BlockManager: Persisting block rdd_219_15 to disk instead.\n",
      "23/03/26 08:22:16 WARN MemoryStore: Not enough space to cache rdd_197_8 in memory! (computed 29.2 MiB so far)\n",
      "23/03/26 08:22:16 WARN MemoryStore: Not enough space to cache rdd_23_14 in memory! (computed 252.9 MiB so far)\n",
      "23/03/26 08:22:16 WARN MemoryStore: Failed to reserve initial memory threshold of 1024.0 KiB for computing block rdd_23_14 in memory.\n",
      "23/03/26 08:22:16 WARN MemoryStore: Not enough space to cache rdd_23_14 in memory! (computed 384.0 B so far)\n",
      "23/03/26 08:22:16 WARN MemoryStore: Failed to reserve initial memory threshold of 1024.0 KiB for computing block rdd_23_14 in memory.\n",
      "23/03/26 08:22:16 WARN MemoryStore: Not enough space to cache rdd_23_14 in memory! (computed 384.0 B so far)\n",
      "23/03/26 08:22:16 WARN MemoryStore: Failed to reserve initial memory threshold of 1024.0 KiB for computing block rdd_197_14 in memory.\n",
      "23/03/26 08:22:16 WARN MemoryStore: Not enough space to cache rdd_197_14 in memory! (computed 384.0 B so far)\n",
      "23/03/26 08:22:16 WARN MemoryStore: Failed to reserve initial memory threshold of 1024.0 KiB for computing block rdd_219_14 in memory.\n",
      "23/03/26 08:22:16 WARN MemoryStore: Not enough space to cache rdd_219_14 in memory! (computed 384.0 B so far)\n",
      "23/03/26 08:22:16 WARN BlockManager: Persisting block rdd_219_14 to disk instead.\n",
      "23/03/26 08:22:16 WARN MemoryStore: Not enough space to cache rdd_219_8 in memory! (computed 1663.4 KiB so far)\n",
      "23/03/26 08:22:16 WARN BlockManager: Persisting block rdd_219_8 to disk instead.\n",
      "23/03/26 08:22:31 WARN MemoryStore: Not enough space to cache rdd_219_13 in memory! (computed 29.2 MiB so far)\n",
      "23/03/26 08:22:31 WARN MemoryStore: Not enough space to cache rdd_222_13 in memory! (computed 1537.3 KiB so far)\n",
      "23/03/26 08:22:31 WARN BlockManager: Persisting block rdd_222_13 to disk instead.\n",
      "23/03/26 08:22:31 WARN MemoryStore: Not enough space to cache rdd_219_12 in memory! (computed 1663.4 KiB so far)\n",
      "23/03/26 08:22:31 WARN MemoryStore: Failed to reserve initial memory threshold of 1024.0 KiB for computing block rdd_222_12 in memory.\n",
      "23/03/26 08:22:31 WARN MemoryStore: Not enough space to cache rdd_222_12 in memory! (computed 384.0 B so far)\n",
      "23/03/26 08:22:31 WARN BlockManager: Persisting block rdd_222_12 to disk instead.\n",
      "23/03/26 08:22:33 WARN MemoryStore: Not enough space to cache rdd_219_14 in memory! (computed 8.2 MiB so far)\n",
      "23/03/26 08:22:33 WARN MemoryStore: Not enough space to cache rdd_222_14 in memory! (computed 1537.3 KiB so far)\n",
      "23/03/26 08:22:33 WARN BlockManager: Persisting block rdd_222_14 to disk instead.\n",
      "23/03/26 08:22:44 WARN MemoryStore: Not enough space to cache rdd_219_9 in memory! (computed 19.5 MiB so far)\n",
      "23/03/26 08:22:44 WARN MemoryStore: Not enough space to cache rdd_219_10 in memory! (computed 13.0 MiB so far)\n",
      "23/03/26 08:22:44 WARN MemoryStore: Not enough space to cache rdd_222_10 in memory! (computed 1024.6 KiB so far)\n",
      "23/03/26 08:22:44 WARN BlockManager: Persisting block rdd_222_10 to disk instead.\n",
      "23/03/26 08:22:44 WARN MemoryStore: Not enough space to cache rdd_222_9 in memory! (computed 2.7 MiB so far)\n",
      "23/03/26 08:22:44 WARN BlockManager: Persisting block rdd_222_9 to disk instead.\n",
      "23/03/26 08:22:44 WARN MemoryStore: Not enough space to cache rdd_219_11 in memory! (computed 3.7 MiB so far)\n",
      "23/03/26 08:22:44 WARN MemoryStore: Failed to reserve initial memory threshold of 1024.0 KiB for computing block rdd_222_11 in memory.\n",
      "23/03/26 08:22:44 WARN MemoryStore: Not enough space to cache rdd_222_11 in memory! (computed 384.0 B so far)\n",
      "23/03/26 08:22:44 WARN BlockManager: Persisting block rdd_222_11 to disk instead.\n"
     ]
    },
    {
     "name": "stderr",
     "output_type": "stream",
     "text": [
      "[Stage 96:=========================>                               (9 + 8) / 20]\r"
     ]
    },
    {
     "name": "stdout",
     "output_type": "stream",
     "text": [
      "23/03/26 08:23:13 WARN MemoryStore: Not enough space to cache rdd_23_16 in memory! (computed 589.3 MiB so far)\n",
      "23/03/26 08:23:13 WARN MemoryStore: Not enough space to cache rdd_23_16 in memory! (computed 9.1 MiB so far)\n",
      "23/03/26 08:23:13 WARN MemoryStore: Not enough space to cache rdd_23_16 in memory! (computed 1557.2 KiB so far)\n",
      "23/03/26 08:23:13 WARN MemoryStore: Failed to reserve initial memory threshold of 1024.0 KiB for computing block rdd_197_16 in memory.\n",
      "23/03/26 08:23:13 WARN MemoryStore: Not enough space to cache rdd_197_16 in memory! (computed 384.0 B so far)\n",
      "23/03/26 08:23:13 WARN MemoryStore: Failed to reserve initial memory threshold of 1024.0 KiB for computing block rdd_219_16 in memory.\n",
      "23/03/26 08:23:13 WARN MemoryStore: Not enough space to cache rdd_219_16 in memory! (computed 384.0 B so far)\n",
      "23/03/26 08:23:13 WARN BlockManager: Persisting block rdd_219_16 to disk instead.\n"
     ]
    },
    {
     "name": "stderr",
     "output_type": "stream",
     "text": [
      "[Stage 96:============================>                           (10 + 8) / 20]\r"
     ]
    },
    {
     "name": "stdout",
     "output_type": "stream",
     "text": [
      "23/03/26 08:23:15 WARN MemoryStore: Not enough space to cache rdd_23_17 in memory! (computed 73.6 MiB so far)\n",
      "23/03/26 08:23:15 WARN MemoryStore: Not enough space to cache rdd_23_17 in memory! (computed 20.9 MiB so far)\n",
      "23/03/26 08:23:15 WARN MemoryStore: Not enough space to cache rdd_23_17 in memory! (computed 5.3 MiB so far)\n",
      "23/03/26 08:23:15 WARN MemoryStore: Not enough space to cache rdd_197_17 in memory! (computed 1663.4 KiB so far)\n",
      "23/03/26 08:23:15 WARN MemoryStore: Failed to reserve initial memory threshold of 1024.0 KiB for computing block rdd_219_17 in memory.\n",
      "23/03/26 08:23:15 WARN MemoryStore: Not enough space to cache rdd_219_17 in memory! (computed 384.0 B so far)\n",
      "23/03/26 08:23:15 WARN BlockManager: Persisting block rdd_219_17 to disk instead.\n"
     ]
    },
    {
     "name": "stderr",
     "output_type": "stream",
     "text": [
      "[Stage 96:==============================>                         (11 + 8) / 20]\r"
     ]
    },
    {
     "name": "stdout",
     "output_type": "stream",
     "text": [
      "23/03/26 08:23:17 WARN MemoryStore: Not enough space to cache rdd_23_18 in memory! (computed 589.3 MiB so far)\n",
      "23/03/26 08:23:18 WARN MemoryStore: Not enough space to cache rdd_23_18 in memory! (computed 112.4 MiB so far)\n",
      "23/03/26 08:23:18 WARN MemoryStore: Failed to reserve initial memory threshold of 1024.0 KiB for computing block rdd_23_18 in memory.\n",
      "23/03/26 08:23:18 WARN MemoryStore: Not enough space to cache rdd_23_18 in memory! (computed 384.0 B so far)\n",
      "23/03/26 08:23:18 WARN MemoryStore: Failed to reserve initial memory threshold of 1024.0 KiB for computing block rdd_197_18 in memory.\n",
      "23/03/26 08:23:18 WARN MemoryStore: Not enough space to cache rdd_197_18 in memory! (computed 384.0 B so far)\n",
      "23/03/26 08:23:18 WARN MemoryStore: Failed to reserve initial memory threshold of 1024.0 KiB for computing block rdd_219_18 in memory.\n",
      "23/03/26 08:23:18 WARN MemoryStore: Not enough space to cache rdd_219_18 in memory! (computed 384.0 B so far)\n",
      "23/03/26 08:23:18 WARN BlockManager: Persisting block rdd_219_18 to disk instead.\n",
      "23/03/26 08:23:18 WARN MemoryStore: Not enough space to cache rdd_222_10 in memory! (computed 24.3 MiB so far)\n",
      "23/03/26 08:23:18 WARN MemoryStore: Not enough space to cache rdd_222_9 in memory! (computed 43.2 MiB so far)\n",
      "23/03/26 08:23:18 WARN MemoryStore: Not enough space to cache rdd_222_11 in memory! (computed 43.2 MiB so far)\n"
     ]
    },
    {
     "name": "stderr",
     "output_type": "stream",
     "text": [
      "[Stage 96:============================================>           (16 + 4) / 20]\r"
     ]
    },
    {
     "name": "stdout",
     "output_type": "stream",
     "text": [
      "23/03/26 08:24:02 WARN MemoryStore: Not enough space to cache rdd_23_19 in memory! (computed 6.9 GiB so far)\n",
      "23/03/26 08:24:10 WARN MemoryStore: Not enough space to cache rdd_23_19 in memory! (computed 2046.8 MiB so far)\n",
      "23/03/26 08:24:10 WARN MemoryStore: Not enough space to cache rdd_23_19 in memory! (computed 73.6 MiB so far)\n",
      "23/03/26 08:24:10 WARN MemoryStore: Not enough space to cache rdd_197_19 in memory! (computed 29.2 MiB so far)\n"
     ]
    },
    {
     "name": "stderr",
     "output_type": "stream",
     "text": [
      "[Stage 98:>                                                        (0 + 8) / 20]\r"
     ]
    },
    {
     "name": "stdout",
     "output_type": "stream",
     "text": [
      "23/03/26 08:24:44 WARN MemoryStore: Not enough space to cache rdd_23_4 in memory! (computed 1364.5 MiB so far)\n",
      "23/03/26 08:24:44 WARN MemoryStore: Not enough space to cache rdd_23_6 in memory! (computed 1364.5 MiB so far)\n",
      "23/03/26 08:24:44 WARN MemoryStore: Not enough space to cache rdd_23_3 in memory! (computed 1364.5 MiB so far)\n",
      "23/03/26 08:24:44 WARN MemoryStore: Not enough space to cache rdd_23_7 in memory! (computed 1364.5 MiB so far)\n",
      "23/03/26 08:24:44 WARN MemoryStore: Not enough space to cache rdd_23_1 in memory! (computed 909.7 MiB so far)\n",
      "23/03/26 08:24:44 WARN MemoryStore: Not enough space to cache rdd_23_2 in memory! (computed 909.7 MiB so far)\n",
      "23/03/26 08:24:44 WARN MemoryStore: Not enough space to cache rdd_23_5 in memory! (computed 909.7 MiB so far)\n",
      "23/03/26 08:24:44 WARN MemoryStore: Not enough space to cache rdd_222_6 in memory! (computed 6.2 MiB so far)\n",
      "23/03/26 08:24:44 WARN MemoryStore: Not enough space to cache rdd_222_3 in memory! (computed 6.2 MiB so far)\n",
      "23/03/26 08:24:44 WARN MemoryStore: Not enough space to cache rdd_222_5 in memory! (computed 6.2 MiB so far)\n",
      "23/03/26 08:24:44 WARN MemoryStore: Not enough space to cache rdd_222_4 in memory! (computed 6.2 MiB so far)\n",
      "23/03/26 08:24:44 WARN MemoryStore: Not enough space to cache rdd_222_2 in memory! (computed 6.2 MiB so far)\n",
      "23/03/26 08:24:44 WARN MemoryStore: Not enough space to cache rdd_222_1 in memory! (computed 10.8 MiB so far)\n",
      "23/03/26 08:24:44 WARN MemoryStore: Not enough space to cache rdd_222_7 in memory! (computed 10.8 MiB so far)\n",
      "23/03/26 08:24:45 WARN MemoryStore: Not enough space to cache rdd_23_0 in memory! (computed 1364.5 MiB so far)\n"
     ]
    },
    {
     "name": "stderr",
     "output_type": "stream",
     "text": [
      "[Stage 98:===================>                                     (7 + 8) / 20]\r"
     ]
    },
    {
     "name": "stdout",
     "output_type": "stream",
     "text": [
      "23/03/26 08:25:30 WARN MemoryStore: Not enough space to cache rdd_23_10 in memory! (computed 1364.5 MiB so far)\n",
      "23/03/26 08:25:30 WARN MemoryStore: Not enough space to cache rdd_23_9 in memory! (computed 2046.8 MiB so far)\n",
      "23/03/26 08:25:30 WARN MemoryStore: Not enough space to cache rdd_23_8 in memory! (computed 2046.8 MiB so far)\n",
      "23/03/26 08:25:30 WARN MemoryStore: Not enough space to cache rdd_23_11 in memory! (computed 1364.5 MiB so far)\n",
      "23/03/26 08:25:30 WARN MemoryStore: Not enough space to cache rdd_23_13 in memory! (computed 909.7 MiB so far)\n",
      "23/03/26 08:25:31 WARN MemoryStore: Not enough space to cache rdd_23_15 in memory! (computed 3.5 MiB so far)\n",
      "23/03/26 08:25:31 WARN MemoryStore: Failed to reserve initial memory threshold of 1024.0 KiB for computing block rdd_222_15 in memory.\n",
      "23/03/26 08:25:31 WARN MemoryStore: Not enough space to cache rdd_222_15 in memory! (computed 384.0 B so far)\n",
      "23/03/26 08:25:31 WARN MemoryStore: Not enough space to cache rdd_222_13 in memory! (computed 1537.3 KiB so far)\n",
      "23/03/26 08:25:31 WARN MemoryStore: Not enough space to cache rdd_222_9 in memory! (computed 1537.3 KiB so far)\n",
      "23/03/26 08:25:31 WARN MemoryStore: Not enough space to cache rdd_222_10 in memory! (computed 1537.3 KiB so far)\n",
      "23/03/26 08:25:31 WARN MemoryStore: Not enough space to cache rdd_222_8 in memory! (computed 2.7 MiB so far)\n",
      "23/03/26 08:25:31 WARN MemoryStore: Not enough space to cache rdd_222_11 in memory! (computed 2.7 MiB so far)\n"
     ]
    },
    {
     "name": "stderr",
     "output_type": "stream",
     "text": [
      "[Stage 98:======================>                                  (8 + 8) / 20]\r"
     ]
    },
    {
     "name": "stdout",
     "output_type": "stream",
     "text": [
      "23/03/26 08:25:31 WARN MemoryStore: Not enough space to cache rdd_23_14 in memory! (computed 589.3 MiB so far)\n",
      "23/03/26 08:25:31 WARN MemoryStore: Not enough space to cache rdd_222_14 in memory! (computed 6.2 MiB so far)\n",
      "23/03/26 08:25:31 WARN MemoryStore: Not enough space to cache rdd_23_12 in memory! (computed 1364.5 MiB so far)\n",
      "23/03/26 08:25:31 WARN MemoryStore: Not enough space to cache rdd_222_12 in memory! (computed 2.7 MiB so far)\n"
     ]
    },
    {
     "name": "stderr",
     "output_type": "stream",
     "text": [
      "[Stage 98:==============================>                         (11 + 8) / 20]\r"
     ]
    },
    {
     "name": "stdout",
     "output_type": "stream",
     "text": [
      "23/03/26 08:26:01 WARN MemoryStore: Not enough space to cache rdd_23_16 in memory! (computed 3.0 GiB so far)\n",
      "23/03/26 08:26:03 WARN MemoryStore: Not enough space to cache rdd_23_17 in memory! (computed 3.0 GiB so far)\n",
      "23/03/26 08:26:03 WARN MemoryStore: Not enough space to cache rdd_23_18 in memory! (computed 3.0 GiB so far)\n",
      "23/03/26 08:26:06 WARN MemoryStore: Not enough space to cache rdd_222_16 in memory! (computed 172.8 MiB so far)\n",
      "23/03/26 08:26:06 WARN MemoryStore: Not enough space to cache rdd_222_18 in memory! (computed 99.2 MiB so far)\n"
     ]
    },
    {
     "name": "stderr",
     "output_type": "stream",
     "text": [
      "[Stage 98:============================================>           (16 + 4) / 20]\r"
     ]
    },
    {
     "name": "stdout",
     "output_type": "stream",
     "text": [
      "23/03/26 08:26:22 WARN MemoryStore: Not enough space to cache rdd_23_19 in memory! (computed 6.9 GiB so far)\n"
     ]
    },
    {
     "name": "stderr",
     "output_type": "stream",
     "text": [
      "[Stage 100:>                                                       (0 + 8) / 20]\r"
     ]
    },
    {
     "name": "stdout",
     "output_type": "stream",
     "text": [
      "23/03/26 08:26:34 WARN MemoryStore: Not enough space to cache rdd_23_5 in memory! (computed 909.7 MiB so far)\n",
      "23/03/26 08:26:34 WARN MemoryStore: Not enough space to cache rdd_23_3 in memory! (computed 909.7 MiB so far)\n",
      "23/03/26 08:26:34 WARN MemoryStore: Not enough space to cache rdd_23_0 in memory! (computed 909.7 MiB so far)\n",
      "23/03/26 08:26:35 WARN MemoryStore: Not enough space to cache rdd_23_7 in memory! (computed 1364.5 MiB so far)\n",
      "23/03/26 08:26:35 WARN MemoryStore: Not enough space to cache rdd_222_0 in memory! (computed 10.8 MiB so far)\n",
      "23/03/26 08:26:35 WARN MemoryStore: Not enough space to cache rdd_222_5 in memory! (computed 16.2 MiB so far)\n",
      "23/03/26 08:26:35 WARN MemoryStore: Not enough space to cache rdd_23_6 in memory! (computed 1364.5 MiB so far)\n",
      "23/03/26 08:26:35 WARN MemoryStore: Not enough space to cache rdd_222_7 in memory! (computed 6.2 MiB so far)\n",
      "23/03/26 08:26:35 WARN MemoryStore: Not enough space to cache rdd_222_3 in memory! (computed 16.2 MiB so far)\n",
      "23/03/26 08:26:35 WARN MemoryStore: Not enough space to cache rdd_23_4 in memory! (computed 1364.5 MiB so far)\n",
      "23/03/26 08:26:35 WARN MemoryStore: Not enough space to cache rdd_222_6 in memory! (computed 2.7 MiB so far)\n",
      "23/03/26 08:26:35 WARN MemoryStore: Failed to reserve initial memory threshold of 1024.0 KiB for computing block rdd_222_4 in memory.\n",
      "23/03/26 08:26:35 WARN MemoryStore: Not enough space to cache rdd_222_4 in memory! (computed 384.0 B so far)\n",
      "23/03/26 08:26:35 WARN MemoryStore: Not enough space to cache rdd_23_2 in memory! (computed 1364.5 MiB so far)\n",
      "23/03/26 08:26:35 WARN MemoryStore: Failed to reserve initial memory threshold of 1024.0 KiB for computing block rdd_222_2 in memory.\n",
      "23/03/26 08:26:35 WARN MemoryStore: Not enough space to cache rdd_222_2 in memory! (computed 384.0 B so far)\n",
      "23/03/26 08:26:35 WARN MemoryStore: Not enough space to cache rdd_23_1 in memory! (computed 1364.5 MiB so far)\n",
      "23/03/26 08:26:35 WARN MemoryStore: Failed to reserve initial memory threshold of 1024.0 KiB for computing block rdd_222_1 in memory.\n",
      "23/03/26 08:26:35 WARN MemoryStore: Not enough space to cache rdd_222_1 in memory! (computed 384.0 B so far)\n"
     ]
    },
    {
     "name": "stderr",
     "output_type": "stream",
     "text": [
      "[Stage 100:======================>                                 (8 + 8) / 20]\r"
     ]
    },
    {
     "name": "stdout",
     "output_type": "stream",
     "text": [
      "23/03/26 08:27:20 WARN MemoryStore: Not enough space to cache rdd_23_13 in memory! (computed 909.7 MiB so far)\n",
      "23/03/26 08:27:20 WARN MemoryStore: Not enough space to cache rdd_23_12 in memory! (computed 909.7 MiB so far)\n",
      "23/03/26 08:27:20 WARN MemoryStore: Not enough space to cache rdd_23_8 in memory! (computed 2046.8 MiB so far)\n",
      "23/03/26 08:27:20 WARN MemoryStore: Not enough space to cache rdd_23_15 in memory! (computed 112.4 MiB so far)\n",
      "23/03/26 08:27:21 WARN MemoryStore: Not enough space to cache rdd_23_10 in memory! (computed 1364.5 MiB so far)\n",
      "23/03/26 08:27:21 WARN MemoryStore: Not enough space to cache rdd_23_11 in memory! (computed 1364.5 MiB so far)\n",
      "23/03/26 08:27:21 WARN MemoryStore: Not enough space to cache rdd_23_14 in memory! (computed 909.7 MiB so far)\n",
      "23/03/26 08:27:21 WARN MemoryStore: Not enough space to cache rdd_222_15 in memory! (computed 6.2 MiB so far)\n",
      "23/03/26 08:27:21 WARN MemoryStore: Not enough space to cache rdd_222_13 in memory! (computed 10.8 MiB so far)\n",
      "23/03/26 08:27:21 WARN MemoryStore: Not enough space to cache rdd_222_14 in memory! (computed 2.7 MiB so far)\n",
      "23/03/26 08:27:21 WARN MemoryStore: Not enough space to cache rdd_222_10 in memory! (computed 6.2 MiB so far)\n",
      "23/03/26 08:27:21 WARN MemoryStore: Not enough space to cache rdd_222_11 in memory! (computed 10.8 MiB so far)\n",
      "23/03/26 08:27:21 WARN MemoryStore: Not enough space to cache rdd_222_8 in memory! (computed 16.2 MiB so far)\n",
      "23/03/26 08:27:21 WARN MemoryStore: Not enough space to cache rdd_222_12 in memory! (computed 16.2 MiB so far)\n",
      "23/03/26 08:27:21 WARN MemoryStore: Not enough space to cache rdd_23_9 in memory! (computed 2046.8 MiB so far)\n"
     ]
    },
    {
     "name": "stderr",
     "output_type": "stream",
     "text": [
      "[Stage 100:==============================>                        (11 + 8) / 20]\r"
     ]
    },
    {
     "name": "stdout",
     "output_type": "stream",
     "text": [
      "23/03/26 08:27:51 WARN MemoryStore: Not enough space to cache rdd_23_16 in memory! (computed 3.0 GiB so far)\n",
      "23/03/26 08:27:51 WARN MemoryStore: Not enough space to cache rdd_23_17 in memory! (computed 3.0 GiB so far)\n",
      "23/03/26 08:27:53 WARN MemoryStore: Not enough space to cache rdd_23_18 in memory! (computed 3.0 GiB so far)\n",
      "23/03/26 08:27:54 WARN MemoryStore: Not enough space to cache rdd_222_16 in memory! (computed 99.2 MiB so far)\n",
      "23/03/26 08:27:55 WARN MemoryStore: Not enough space to cache rdd_222_17 in memory! (computed 99.2 MiB so far)\n",
      "23/03/26 08:27:55 WARN MemoryStore: Not enough space to cache rdd_222_18 in memory! (computed 64.8 MiB so far)\n"
     ]
    },
    {
     "name": "stderr",
     "output_type": "stream",
     "text": [
      "[Stage 100:============================================>          (16 + 4) / 20]\r"
     ]
    },
    {
     "name": "stdout",
     "output_type": "stream",
     "text": [
      "23/03/26 08:28:14 WARN MemoryStore: Not enough space to cache rdd_23_19 in memory! (computed 6.9 GiB so far)\n"
     ]
    },
    {
     "name": "stderr",
     "output_type": "stream",
     "text": [
      "[Stage 102:>                                                       (0 + 8) / 20]\r"
     ]
    },
    {
     "name": "stdout",
     "output_type": "stream",
     "text": [
      "23/03/26 08:28:26 WARN MemoryStore: Not enough space to cache rdd_23_2 in memory! (computed 909.7 MiB so far)\n",
      "23/03/26 08:28:26 WARN MemoryStore: Not enough space to cache rdd_23_3 in memory! (computed 909.7 MiB so far)\n",
      "23/03/26 08:28:26 WARN MemoryStore: Not enough space to cache rdd_23_0 in memory! (computed 909.7 MiB so far)\n",
      "23/03/26 08:28:27 WARN MemoryStore: Not enough space to cache rdd_23_7 in memory! (computed 1364.5 MiB so far)\n",
      "23/03/26 08:28:27 WARN MemoryStore: Not enough space to cache rdd_222_3 in memory! (computed 16.2 MiB so far)\n",
      "23/03/26 08:28:27 WARN MemoryStore: Not enough space to cache rdd_222_2 in memory! (computed 16.2 MiB so far)\n",
      "23/03/26 08:28:27 WARN MemoryStore: Not enough space to cache rdd_222_7 in memory! (computed 1024.6 KiB so far)\n",
      "23/03/26 08:28:27 WARN MemoryStore: Not enough space to cache rdd_222_0 in memory! (computed 16.2 MiB so far)\n",
      "23/03/26 08:28:27 WARN MemoryStore: Not enough space to cache rdd_23_4 in memory! (computed 1364.5 MiB so far)\n",
      "23/03/26 08:28:27 WARN MemoryStore: Failed to reserve initial memory threshold of 1024.0 KiB for computing block rdd_222_4 in memory.\n",
      "23/03/26 08:28:27 WARN MemoryStore: Not enough space to cache rdd_222_4 in memory! (computed 384.0 B so far)\n",
      "23/03/26 08:28:27 WARN MemoryStore: Not enough space to cache rdd_23_1 in memory! (computed 1364.5 MiB so far)\n",
      "23/03/26 08:28:27 WARN MemoryStore: Failed to reserve initial memory threshold of 1024.0 KiB for computing block rdd_222_1 in memory.\n",
      "23/03/26 08:28:27 WARN MemoryStore: Not enough space to cache rdd_222_1 in memory! (computed 384.0 B so far)\n",
      "23/03/26 08:28:27 WARN MemoryStore: Not enough space to cache rdd_23_6 in memory! (computed 1364.5 MiB so far)\n",
      "23/03/26 08:28:27 WARN MemoryStore: Not enough space to cache rdd_222_6 in memory! (computed 1024.6 KiB so far)\n",
      "23/03/26 08:28:27 WARN MemoryStore: Not enough space to cache rdd_23_5 in memory! (computed 1364.5 MiB so far)\n",
      "23/03/26 08:28:27 WARN MemoryStore: Failed to reserve initial memory threshold of 1024.0 KiB for computing block rdd_222_5 in memory.\n",
      "23/03/26 08:28:27 WARN MemoryStore: Not enough space to cache rdd_222_5 in memory! (computed 384.0 B so far)\n"
     ]
    },
    {
     "name": "stderr",
     "output_type": "stream",
     "text": [
      "[Stage 102:======================>                                 (8 + 8) / 20]\r"
     ]
    },
    {
     "name": "stdout",
     "output_type": "stream",
     "text": [
      "23/03/26 08:29:13 WARN MemoryStore: Not enough space to cache rdd_23_9 in memory! (computed 1364.5 MiB so far)\n",
      "23/03/26 08:29:13 WARN MemoryStore: Not enough space to cache rdd_23_10 in memory! (computed 1364.5 MiB so far)\n",
      "23/03/26 08:29:13 WARN MemoryStore: Not enough space to cache rdd_23_13 in memory! (computed 909.7 MiB so far)\n",
      "23/03/26 08:29:13 WARN MemoryStore: Not enough space to cache rdd_23_8 in memory! (computed 2046.8 MiB so far)\n",
      "23/03/26 08:29:13 WARN MemoryStore: Not enough space to cache rdd_23_14 in memory! (computed 909.7 MiB so far)\n",
      "23/03/26 08:29:13 WARN MemoryStore: Not enough space to cache rdd_23_11 in memory! (computed 1364.5 MiB so far)\n",
      "23/03/26 08:29:13 WARN MemoryStore: Not enough space to cache rdd_23_15 in memory! (computed 252.9 MiB so far)\n",
      "23/03/26 08:29:13 WARN MemoryStore: Not enough space to cache rdd_23_12 in memory! (computed 1364.5 MiB so far)\n",
      "23/03/26 08:29:13 WARN MemoryStore: Not enough space to cache rdd_222_15 in memory! (computed 6.2 MiB so far)\n",
      "23/03/26 08:29:14 WARN MemoryStore: Not enough space to cache rdd_222_14 in memory! (computed 16.2 MiB so far)\n",
      "23/03/26 08:29:14 WARN MemoryStore: Not enough space to cache rdd_222_8 in memory! (computed 16.2 MiB so far)\n",
      "23/03/26 08:29:14 WARN MemoryStore: Not enough space to cache rdd_222_12 in memory! (computed 6.2 MiB so far)\n",
      "23/03/26 08:29:14 WARN MemoryStore: Not enough space to cache rdd_222_11 in memory! (computed 6.2 MiB so far)\n",
      "23/03/26 08:29:14 WARN MemoryStore: Not enough space to cache rdd_222_10 in memory! (computed 24.3 MiB so far)\n",
      "23/03/26 08:29:14 WARN MemoryStore: Not enough space to cache rdd_222_13 in memory! (computed 24.3 MiB so far)\n",
      "23/03/26 08:29:14 WARN MemoryStore: Not enough space to cache rdd_222_9 in memory! (computed 24.3 MiB so far)\n"
     ]
    },
    {
     "name": "stderr",
     "output_type": "stream",
     "text": [
      "[Stage 102:==============================>                        (11 + 8) / 20]\r"
     ]
    },
    {
     "name": "stdout",
     "output_type": "stream",
     "text": [
      "23/03/26 08:29:44 WARN MemoryStore: Not enough space to cache rdd_23_16 in memory! (computed 3.0 GiB so far)\n",
      "23/03/26 08:29:44 WARN MemoryStore: Not enough space to cache rdd_23_17 in memory! (computed 3.0 GiB so far)\n",
      "23/03/26 08:29:46 WARN MemoryStore: Not enough space to cache rdd_23_18 in memory! (computed 3.0 GiB so far)\n",
      "23/03/26 08:29:48 WARN MemoryStore: Not enough space to cache rdd_222_16 in memory! (computed 172.8 MiB so far)\n",
      "23/03/26 08:29:49 WARN MemoryStore: Not enough space to cache rdd_222_18 in memory! (computed 99.2 MiB so far)\n"
     ]
    },
    {
     "name": "stderr",
     "output_type": "stream",
     "text": [
      "[Stage 102:============================================>          (16 + 4) / 20]\r"
     ]
    },
    {
     "name": "stdout",
     "output_type": "stream",
     "text": [
      "23/03/26 08:30:08 WARN MemoryStore: Not enough space to cache rdd_23_19 in memory! (computed 6.9 GiB so far)\n"
     ]
    },
    {
     "name": "stderr",
     "output_type": "stream",
     "text": [
      "[Stage 104:>                                                       (0 + 8) / 20]\r"
     ]
    },
    {
     "name": "stdout",
     "output_type": "stream",
     "text": [
      "23/03/26 08:30:20 WARN MemoryStore: Not enough space to cache rdd_23_3 in memory! (computed 909.7 MiB so far)\n",
      "23/03/26 08:30:20 WARN MemoryStore: Not enough space to cache rdd_23_1 in memory! (computed 909.7 MiB so far)\n",
      "23/03/26 08:30:20 WARN MemoryStore: Not enough space to cache rdd_23_4 in memory! (computed 909.7 MiB so far)\n",
      "23/03/26 08:30:20 WARN MemoryStore: Not enough space to cache rdd_222_1 in memory! (computed 16.2 MiB so far)\n",
      "23/03/26 08:30:20 WARN MemoryStore: Not enough space to cache rdd_222_3 in memory! (computed 16.2 MiB so far)\n",
      "23/03/26 08:30:20 WARN MemoryStore: Not enough space to cache rdd_222_4 in memory! (computed 16.2 MiB so far)\n",
      "23/03/26 08:30:21 WARN MemoryStore: Not enough space to cache rdd_23_2 in memory! (computed 1364.5 MiB so far)\n",
      "23/03/26 08:30:21 WARN MemoryStore: Not enough space to cache rdd_222_2 in memory! (computed 1024.6 KiB so far)\n",
      "23/03/26 08:30:21 WARN MemoryStore: Not enough space to cache rdd_23_6 in memory! (computed 1364.5 MiB so far)\n",
      "23/03/26 08:30:21 WARN MemoryStore: Failed to reserve initial memory threshold of 1024.0 KiB for computing block rdd_222_6 in memory.\n",
      "23/03/26 08:30:21 WARN MemoryStore: Not enough space to cache rdd_222_6 in memory! (computed 384.0 B so far)\n",
      "23/03/26 08:30:21 WARN MemoryStore: Not enough space to cache rdd_23_7 in memory! (computed 1364.5 MiB so far)\n",
      "23/03/26 08:30:21 WARN MemoryStore: Not enough space to cache rdd_23_5 in memory! (computed 1364.5 MiB so far)\n",
      "23/03/26 08:30:21 WARN MemoryStore: Failed to reserve initial memory threshold of 1024.0 KiB for computing block rdd_222_5 in memory.\n",
      "23/03/26 08:30:21 WARN MemoryStore: Not enough space to cache rdd_222_5 in memory! (computed 384.0 B so far)\n",
      "23/03/26 08:30:21 WARN MemoryStore: Not enough space to cache rdd_222_7 in memory! (computed 1024.6 KiB so far)\n",
      "23/03/26 08:30:21 WARN MemoryStore: Not enough space to cache rdd_23_0 in memory! (computed 1364.5 MiB so far)\n",
      "23/03/26 08:30:21 WARN MemoryStore: Not enough space to cache rdd_222_0 in memory! (computed 1024.6 KiB so far)\n"
     ]
    },
    {
     "name": "stderr",
     "output_type": "stream",
     "text": [
      "[Stage 104:======================>                                 (8 + 8) / 20]\r"
     ]
    },
    {
     "name": "stdout",
     "output_type": "stream",
     "text": [
      "23/03/26 08:31:07 WARN MemoryStore: Not enough space to cache rdd_23_9 in memory! (computed 1364.5 MiB so far)\n",
      "23/03/26 08:31:07 WARN MemoryStore: Not enough space to cache rdd_23_12 in memory! (computed 909.7 MiB so far)\n",
      "23/03/26 08:31:07 WARN MemoryStore: Not enough space to cache rdd_23_13 in memory! (computed 909.7 MiB so far)\n",
      "23/03/26 08:31:07 WARN MemoryStore: Not enough space to cache rdd_23_14 in memory! (computed 909.7 MiB so far)\n",
      "23/03/26 08:31:07 WARN MemoryStore: Not enough space to cache rdd_23_15 in memory! (computed 589.3 MiB so far)\n",
      "23/03/26 08:31:08 WARN MemoryStore: Not enough space to cache rdd_23_11 in memory! (computed 1364.5 MiB so far)\n",
      "23/03/26 08:31:08 WARN MemoryStore: Not enough space to cache rdd_23_8 in memory! (computed 2046.8 MiB so far)\n",
      "23/03/26 08:31:08 WARN MemoryStore: Not enough space to cache rdd_222_9 in memory! (computed 43.2 MiB so far)\n",
      "23/03/26 08:31:08 WARN MemoryStore: Not enough space to cache rdd_23_10 in memory! (computed 1364.5 MiB so far)\n",
      "23/03/26 08:31:08 WARN MemoryStore: Not enough space to cache rdd_222_10 in memory! (computed 1024.6 KiB so far)\n",
      "23/03/26 08:31:08 WARN MemoryStore: Not enough space to cache rdd_222_14 in memory! (computed 24.3 MiB so far)\n",
      "23/03/26 08:31:08 WARN MemoryStore: Not enough space to cache rdd_222_8 in memory! (computed 6.2 MiB so far)\n",
      "23/03/26 08:31:08 WARN MemoryStore: Not enough space to cache rdd_222_11 in memory! (computed 10.8 MiB so far)\n",
      "23/03/26 08:31:08 WARN MemoryStore: Not enough space to cache rdd_222_12 in memory! (computed 43.2 MiB so far)\n",
      "23/03/26 08:31:08 WARN MemoryStore: Not enough space to cache rdd_222_13 in memory! (computed 24.3 MiB so far)\n",
      "23/03/26 08:31:08 WARN MemoryStore: Not enough space to cache rdd_222_15 in memory! (computed 24.3 MiB so far)\n"
     ]
    }
   ],
   "source": [
    "from pyspark.ml.regression import GBTRegressor\n",
    "gbt = GBTRegressor(featuresCol = 'features', labelCol = 'log_ridership_number', maxIter=10)\n",
    "gbt_model = gbt.fit(processed_train_df)\n",
    "gbt_predictions = gbt_model.transform(processed_test_df)"
   ]
  },
  {
   "cell_type": "code",
   "execution_count": 15,
   "id": "01df8512-d364-4b20-beb0-443f54c65e8a",
   "metadata": {},
   "outputs": [
    {
     "name": "stderr",
     "output_type": "stream",
     "text": [
      "                                                                                \r"
     ]
    }
   ],
   "source": [
    "gbt_evaluator = RegressionEvaluator(\n",
    "    labelCol=\"log_ridership_number\", predictionCol=\"prediction\", metricName=\"rmse\")\n",
    "rmse_gbt = gbt_evaluator.evaluate(gbt_predictions)\n",
    "\n",
    "gbt_evaluator = RegressionEvaluator(\n",
    "    labelCol=\"log_ridership_number\", predictionCol=\"prediction\", metricName=\"r2\")\n",
    "r2_gbt = gbt_evaluator.evaluate(gbt_predictions)\n",
    "\n",
    "gbt_evaluator = RegressionEvaluator(\n",
    "    labelCol=\"log_ridership_number\", predictionCol=\"prediction\", metricName=\"mae\")\n",
    "mae_gbt = gbt_evaluator.evaluate(gbt_predictions)"
   ]
  },
  {
   "cell_type": "code",
   "execution_count": 18,
   "id": "76eb522d-1576-4d0b-aa85-3cf9325a0dfd",
   "metadata": {},
   "outputs": [
    {
     "name": "stdout",
     "output_type": "stream",
     "text": [
      "RMSE: 0.27966298405490797\n",
      "r2: 0.5873672117663772\n",
      "mae: 0.2276378709295658\n"
     ]
    }
   ],
   "source": [
    "print(f\"RMSE: {rmse_gbt}\")\n",
    "print(f\"r2: {r2_gbt}\")\n",
    "print(f\"mae: {mae_gbt}\")"
   ]
  },
  {
   "cell_type": "code",
   "execution_count": null,
   "id": "3e87e82a-56f8-4b70-a0fe-fbc8b1705ec2",
   "metadata": {},
   "outputs": [],
   "source": []
  },
  {
   "cell_type": "code",
   "execution_count": null,
   "id": "42ece25e-94ce-429a-a2d5-76e7c14a5f43",
   "metadata": {},
   "outputs": [],
   "source": []
  }
 ],
 "metadata": {
  "kernelspec": {
   "display_name": "Python 3 (ipykernel)",
   "language": "python",
   "name": "python3"
  },
  "language_info": {
   "codemirror_mode": {
    "name": "ipython",
    "version": 3
   },
   "file_extension": ".py",
   "mimetype": "text/x-python",
   "name": "python",
   "nbconvert_exporter": "python",
   "pygments_lexer": "ipython3",
   "version": "3.9.13"
  }
 },
 "nbformat": 4,
 "nbformat_minor": 5
}
